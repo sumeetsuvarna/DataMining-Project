{
<<<<<<< HEAD
 "cells": [
  {
   "cell_type": "markdown",
   "metadata": {},
   "source": [
    "# INTEGRATED JOB POST VERIFICATION AND PERSONALIZED JOB RECOMMENDATION SYSTEM"
   ]
  },
  {
   "cell_type": "markdown",
   "metadata": {
    "id": "2uBF2tZiYMVd"
   },
   "source": [
    "## STEP-1 Starting with Data Preprocessing and EDA"
   ]
  },
  {
   "cell_type": "code",
   "execution_count": 25,
   "metadata": {
    "id": "dxZ0KePtKrL7"
   },
   "outputs": [],
   "source": [
    "#importing the modules\n",
    "import pandas as pd\n",
    "import numpy as np\n",
    "import seaborn as sns\n",
    "import matplotlib.pyplot as plt"
   ]
  },
  {
   "cell_type": "code",
   "execution_count": 26,
   "metadata": {
    "id": "3vaeV4zw8INP"
   },
   "outputs": [],
   "source": [
    "job_data = pd.read_csv(\"fake_job_postings.csv\")"
   ]
  },
  {
   "cell_type": "code",
   "execution_count": 27,
   "metadata": {
    "colab": {
     "base_uri": "https://localhost:8080/"
    },
    "id": "zSV9qaGr8NfR",
    "outputId": "804acd54-198d-4c28-dcea-cc6bd272505f"
   },
   "outputs": [
    {
     "name": "stdout",
     "output_type": "stream",
     "text": [
      "<class 'pandas.core.frame.DataFrame'>\n",
      "RangeIndex: 17880 entries, 0 to 17879\n",
      "Data columns (total 18 columns):\n",
      " #   Column               Non-Null Count  Dtype \n",
      "---  ------               --------------  ----- \n",
      " 0   job_id               17880 non-null  int64 \n",
      " 1   title                17880 non-null  object\n",
      " 2   location             17534 non-null  object\n",
      " 3   department           6333 non-null   object\n",
      " 4   salary_range         2868 non-null   object\n",
      " 5   company_profile      14572 non-null  object\n",
      " 6   description          17879 non-null  object\n",
      " 7   requirements         15185 non-null  object\n",
      " 8   benefits             10670 non-null  object\n",
      " 9   telecommuting        17880 non-null  int64 \n",
      " 10  has_company_logo     17880 non-null  int64 \n",
      " 11  has_questions        17880 non-null  int64 \n",
      " 12  employment_type      14409 non-null  object\n",
      " 13  required_experience  10830 non-null  object\n",
      " 14  required_education   9775 non-null   object\n",
      " 15  industry             12977 non-null  object\n",
      " 16  function             11425 non-null  object\n",
      " 17  fraudulent           17880 non-null  int64 \n",
      "dtypes: int64(5), object(13)\n",
      "memory usage: 2.5+ MB\n"
     ]
    }
   ],
   "source": [
    "job_data.info()"
   ]
  },
  {
   "cell_type": "code",
   "execution_count": 28,
   "metadata": {
    "colab": {
     "base_uri": "https://localhost:8080/"
    },
    "id": "h7TeA9IyvtCx",
    "outputId": "9d8b7c5e-721e-4fa1-ee19-3e5d05bef9e4"
   },
   "outputs": [
    {
     "name": "stdout",
     "output_type": "stream",
     "text": [
      "             job_id  telecommuting  has_company_logo  has_questions  \\\n",
      "count  17880.000000   17880.000000      17880.000000   17880.000000   \n",
      "mean    8940.500000       0.042897          0.795302       0.491723   \n",
      "std     5161.655742       0.202631          0.403492       0.499945   \n",
      "min        1.000000       0.000000          0.000000       0.000000   \n",
      "25%     4470.750000       0.000000          1.000000       0.000000   \n",
      "50%     8940.500000       0.000000          1.000000       0.000000   \n",
      "75%    13410.250000       0.000000          1.000000       1.000000   \n",
      "max    17880.000000       1.000000          1.000000       1.000000   \n",
      "\n",
      "         fraudulent  \n",
      "count  17880.000000  \n",
      "mean       0.048434  \n",
      "std        0.214688  \n",
      "min        0.000000  \n",
      "25%        0.000000  \n",
      "50%        0.000000  \n",
      "75%        0.000000  \n",
      "max        1.000000  \n"
     ]
    }
   ],
   "source": [
    "# Display summary statistics for numerical columns\n",
    "print(job_data.describe())"
   ]
  },
  {
   "cell_type": "code",
   "execution_count": 23,
   "metadata": {
    "colab": {
     "base_uri": "https://localhost:8080/"
    },
    "id": "SBK6bBef91do",
    "outputId": "f5a4b6ec-2b90-4927-d897-22af9f21281e"
   },
   "outputs": [
    {
     "data": {
      "text/plain": [
       "(17881, 18)"
      ]
     },
     "execution_count": 23,
     "metadata": {},
     "output_type": "execute_result"
    }
   ],
   "source": [
    "job_data.shape"
   ]
  },
  {
   "cell_type": "code",
   "execution_count": 24,
   "metadata": {
    "colab": {
     "base_uri": "https://localhost:8080/",
     "height": 556
    },
    "id": "-CT2Ckcx8uMr",
    "outputId": "8bc32460-dccf-44c5-b564-d393b764fe21"
   },
   "outputs": [
    {
     "data": {
      "text/html": [
       "<div>\n",
       "<style scoped>\n",
       "    .dataframe tbody tr th:only-of-type {\n",
       "        vertical-align: middle;\n",
       "    }\n",
       "\n",
       "    .dataframe tbody tr th {\n",
       "        vertical-align: top;\n",
       "    }\n",
       "\n",
       "    .dataframe thead th {\n",
       "        text-align: right;\n",
       "    }\n",
       "</style>\n",
       "<table border=\"1\" class=\"dataframe\">\n",
       "  <thead>\n",
       "    <tr style=\"text-align: right;\">\n",
       "      <th></th>\n",
       "      <th>job_id</th>\n",
       "      <th>title</th>\n",
       "      <th>location</th>\n",
       "      <th>department</th>\n",
       "      <th>salary_range</th>\n",
       "      <th>company_profile</th>\n",
       "      <th>description</th>\n",
       "      <th>requirements</th>\n",
       "      <th>benefits</th>\n",
       "      <th>telecommuting</th>\n",
       "      <th>has_company_logo</th>\n",
       "      <th>has_questions</th>\n",
       "      <th>employment_type</th>\n",
       "      <th>required_experience</th>\n",
       "      <th>required_education</th>\n",
       "      <th>industry</th>\n",
       "      <th>function</th>\n",
       "      <th>fraudulent</th>\n",
       "    </tr>\n",
       "  </thead>\n",
       "  <tbody>\n",
       "    <tr>\n",
       "      <th>0</th>\n",
       "      <td>1.0</td>\n",
       "      <td>Marketing Intern</td>\n",
       "      <td>US, NY, New York</td>\n",
       "      <td>Marketing</td>\n",
       "      <td>60000-70000</td>\n",
       "      <td>We're Food52, and we've created a groundbreaki...</td>\n",
       "      <td>Food52, a fast-growing, James Beard Award-winn...</td>\n",
       "      <td>Experience with content management systems a m...</td>\n",
       "      <td>NaN</td>\n",
       "      <td>0.0</td>\n",
       "      <td>1.0</td>\n",
       "      <td>0.0</td>\n",
       "      <td>Other</td>\n",
       "      <td>Internship</td>\n",
       "      <td>NaN</td>\n",
       "      <td>NaN</td>\n",
       "      <td>Marketing</td>\n",
       "      <td>0.0</td>\n",
       "    </tr>\n",
       "    <tr>\n",
       "      <th>1</th>\n",
       "      <td>2.0</td>\n",
       "      <td>Customer Service - Cloud Video Production</td>\n",
       "      <td>NZ, , Auckland</td>\n",
       "      <td>Success</td>\n",
       "      <td>90000-100000</td>\n",
       "      <td>90 Seconds, the worlds Cloud Video Production ...</td>\n",
       "      <td>Organised - Focused - Vibrant - Awesome!Do you...</td>\n",
       "      <td>What we expect from you:Your key responsibilit...</td>\n",
       "      <td>What you will get from usThrough being part of...</td>\n",
       "      <td>0.0</td>\n",
       "      <td>1.0</td>\n",
       "      <td>0.0</td>\n",
       "      <td>Full-time</td>\n",
       "      <td>Not Applicable</td>\n",
       "      <td>NaN</td>\n",
       "      <td>Marketing and Advertising</td>\n",
       "      <td>Customer Service</td>\n",
       "      <td>0.0</td>\n",
       "    </tr>\n",
       "    <tr>\n",
       "      <th>2</th>\n",
       "      <td>3.0</td>\n",
       "      <td>Commissioning Machinery Assistant (CMA)</td>\n",
       "      <td>US, IA, Wever</td>\n",
       "      <td>Operations</td>\n",
       "      <td>70000-80000</td>\n",
       "      <td>Valor Services provides Workforce Solutions th...</td>\n",
       "      <td>Our client, located in Houston, is actively se...</td>\n",
       "      <td>Implement pre-commissioning and commissioning ...</td>\n",
       "      <td>NaN</td>\n",
       "      <td>0.0</td>\n",
       "      <td>1.0</td>\n",
       "      <td>0.0</td>\n",
       "      <td>NaN</td>\n",
       "      <td>NaN</td>\n",
       "      <td>NaN</td>\n",
       "      <td>NaN</td>\n",
       "      <td>NaN</td>\n",
       "      <td>0.0</td>\n",
       "    </tr>\n",
       "    <tr>\n",
       "      <th>3</th>\n",
       "      <td>4.0</td>\n",
       "      <td>Account Executive - Washington DC</td>\n",
       "      <td>US, DC, Washington</td>\n",
       "      <td>Sales</td>\n",
       "      <td>50000-60000</td>\n",
       "      <td>Our passion for improving quality of life thro...</td>\n",
       "      <td>THE COMPANY: ESRI – Environmental Systems Rese...</td>\n",
       "      <td>EDUCATION: Bachelor’s or Master’s in GIS, busi...</td>\n",
       "      <td>Our culture is anything but corporate—we have ...</td>\n",
       "      <td>0.0</td>\n",
       "      <td>1.0</td>\n",
       "      <td>0.0</td>\n",
       "      <td>Full-time</td>\n",
       "      <td>Mid-Senior level</td>\n",
       "      <td>Bachelor's Degree</td>\n",
       "      <td>Computer Software</td>\n",
       "      <td>Sales</td>\n",
       "      <td>0.0</td>\n",
       "    </tr>\n",
       "    <tr>\n",
       "      <th>4</th>\n",
       "      <td>5.0</td>\n",
       "      <td>Bill Review Manager</td>\n",
       "      <td>US, FL, Fort Worth</td>\n",
       "      <td>IT</td>\n",
       "      <td>80000-90000</td>\n",
       "      <td>SpotSource Solutions LLC is a Global Human Cap...</td>\n",
       "      <td>JOB TITLE: Itemization Review ManagerLOCATION:...</td>\n",
       "      <td>QUALIFICATIONS:RN license in the State of Texa...</td>\n",
       "      <td>Full Benefits Offered</td>\n",
       "      <td>0.0</td>\n",
       "      <td>1.0</td>\n",
       "      <td>1.0</td>\n",
       "      <td>Full-time</td>\n",
       "      <td>Mid-Senior level</td>\n",
       "      <td>Bachelor's Degree</td>\n",
       "      <td>Hospital &amp; Health Care</td>\n",
       "      <td>Health Care Provider</td>\n",
       "      <td>0.0</td>\n",
       "    </tr>\n",
       "  </tbody>\n",
       "</table>\n",
       "</div>"
      ],
      "text/plain": [
       "   job_id                                      title            location  \\\n",
       "0     1.0                           Marketing Intern    US, NY, New York   \n",
       "1     2.0  Customer Service - Cloud Video Production      NZ, , Auckland   \n",
       "2     3.0    Commissioning Machinery Assistant (CMA)       US, IA, Wever   \n",
       "3     4.0          Account Executive - Washington DC  US, DC, Washington   \n",
       "4     5.0                        Bill Review Manager  US, FL, Fort Worth   \n",
       "\n",
       "   department  salary_range  \\\n",
       "0   Marketing   60000-70000   \n",
       "1     Success  90000-100000   \n",
       "2  Operations   70000-80000   \n",
       "3       Sales   50000-60000   \n",
       "4          IT   80000-90000   \n",
       "\n",
       "                                     company_profile  \\\n",
       "0  We're Food52, and we've created a groundbreaki...   \n",
       "1  90 Seconds, the worlds Cloud Video Production ...   \n",
       "2  Valor Services provides Workforce Solutions th...   \n",
       "3  Our passion for improving quality of life thro...   \n",
       "4  SpotSource Solutions LLC is a Global Human Cap...   \n",
       "\n",
       "                                         description  \\\n",
       "0  Food52, a fast-growing, James Beard Award-winn...   \n",
       "1  Organised - Focused - Vibrant - Awesome!Do you...   \n",
       "2  Our client, located in Houston, is actively se...   \n",
       "3  THE COMPANY: ESRI – Environmental Systems Rese...   \n",
       "4  JOB TITLE: Itemization Review ManagerLOCATION:...   \n",
       "\n",
       "                                        requirements  \\\n",
       "0  Experience with content management systems a m...   \n",
       "1  What we expect from you:Your key responsibilit...   \n",
       "2  Implement pre-commissioning and commissioning ...   \n",
       "3  EDUCATION: Bachelor’s or Master’s in GIS, busi...   \n",
       "4  QUALIFICATIONS:RN license in the State of Texa...   \n",
       "\n",
       "                                            benefits  telecommuting  \\\n",
       "0                                                NaN            0.0   \n",
       "1  What you will get from usThrough being part of...            0.0   \n",
       "2                                                NaN            0.0   \n",
       "3  Our culture is anything but corporate—we have ...            0.0   \n",
       "4                              Full Benefits Offered            0.0   \n",
       "\n",
       "   has_company_logo  has_questions employment_type required_experience  \\\n",
       "0               1.0            0.0           Other          Internship   \n",
       "1               1.0            0.0       Full-time      Not Applicable   \n",
       "2               1.0            0.0             NaN                 NaN   \n",
       "3               1.0            0.0       Full-time    Mid-Senior level   \n",
       "4               1.0            1.0       Full-time    Mid-Senior level   \n",
       "\n",
       "  required_education                   industry              function  \\\n",
       "0                NaN                        NaN             Marketing   \n",
       "1                NaN  Marketing and Advertising      Customer Service   \n",
       "2                NaN                        NaN                   NaN   \n",
       "3  Bachelor's Degree          Computer Software                 Sales   \n",
       "4  Bachelor's Degree     Hospital & Health Care  Health Care Provider   \n",
       "\n",
       "   fraudulent  \n",
       "0         0.0  \n",
       "1         0.0  \n",
       "2         0.0  \n",
       "3         0.0  \n",
       "4         0.0  "
      ]
     },
     "execution_count": 24,
     "metadata": {},
     "output_type": "execute_result"
    }
   ],
   "source": [
    "job_data.head()"
   ]
  },
  {
   "cell_type": "code",
   "execution_count": 9,
   "metadata": {
    "colab": {
     "base_uri": "https://localhost:8080/"
=======
  "cells": [
    {
      "cell_type": "markdown",
      "source": [
        "#STEP-1 Starting with Data Preprocessing and EDA"
      ],
      "metadata": {
        "id": "2uBF2tZiYMVd"
      }
    },
    {
      "cell_type": "code",
      "execution_count": 1,
      "metadata": {
        "id": "dxZ0KePtKrL7"
      },
      "outputs": [],
      "source": [
        "#importing the modules\n",
        "import pandas as pd\n",
        "import numpy as np\n",
        "import seaborn as sns\n",
        "import matplotlib.pyplot as plt"
      ]
>>>>>>> 42d2bee3be0fce1053d0d402fd5b04845789fd6e
    },
    {
<<<<<<< HEAD
     "name": "stdout",
     "output_type": "stream",
     "text": [
      "The number of Nan values in each column is as follows:\n",
      "\n",
      "job_id                    1\n",
      "title                     1\n",
      "location                347\n",
      "department                2\n",
      "salary_range              1\n",
      "company_profile        3309\n",
      "description               2\n",
      "requirements           2696\n",
      "benefits               7211\n",
      "telecommuting             1\n",
      "has_company_logo          1\n",
      "has_questions             1\n",
      "employment_type        3472\n",
      "required_experience    7051\n",
      "required_education     8106\n",
      "industry               4904\n",
      "function               6456\n",
      "fraudulent                1\n",
      "dtype: int64\n"
     ]
    }
   ],
   "source": [
    "# We can see nan values, lets count there number for each columns\n",
    "\n",
    "print(\"The number of Nan values in each column is as follows:\\n\")\n",
    "nan_count_per_column = job_data.isna().sum()\n",
    "\n",
    "print(nan_count_per_column)"
   ]
  },
  {
   "cell_type": "code",
   "execution_count": 10,
   "metadata": {
    "colab": {
     "base_uri": "https://localhost:8080/",
     "height": 472
    },
    "id": "MeSgZoe_wENW",
    "outputId": "939ae736-7229-465e-9954-9faaee2ce316"
   },
   "outputs": [
    {
     "data": {
      "image/png": "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\n",
      "text/plain": [
       "<Figure size 432x288 with 1 Axes>"
      ]
     },
     "metadata": {
      "needs_background": "light"
     },
     "output_type": "display_data"
    }
   ],
   "source": [
    "# Visualize the distribution of the target variable (fraudulent)\n",
    "sns.countplot(x='fraudulent', data=job_data)\n",
    "plt.title('Distribution of Fraudulent vs. Non-Fraudulent Job Descriptions')\n",
    "plt.show()"
   ]
  },
  {
   "cell_type": "markdown",
   "metadata": {
    "id": "8-YcRlZ3we4h"
   },
   "source": [
    "This code uses seaborn to create a count plot of the target variable (fraudulent). It helps visualize the balance or imbalance between fraudulent and non-fraudulent job descriptions."
   ]
  },
  {
   "cell_type": "markdown",
   "metadata": {
    "id": "0EoU1sFsw38d"
   },
   "source": [
    "### **Let's Explore Some Categorical Variables**"
   ]
  },
  {
   "cell_type": "markdown",
   "metadata": {
    "id": "SycriHi72C38"
   },
   "source": [
    "This code provides insights into the unique values and their counts for each categorical column."
   ]
  },
  {
   "cell_type": "code",
   "execution_count": 11,
   "metadata": {
    "colab": {
     "base_uri": "https://localhost:8080/"
=======
      "cell_type": "code",
      "execution_count": 2,
      "metadata": {
        "id": "3vaeV4zw8INP"
      },
      "outputs": [],
      "source": [
        "job_data = pd.read_csv(\"fake_job_postings.csv\")"
      ]
>>>>>>> 42d2bee3be0fce1053d0d402fd5b04845789fd6e
    },
    {
<<<<<<< HEAD
     "name": "stdout",
     "output_type": "stream",
     "text": [
      "Unique values in title: ['Marketing Intern' 'Customer Service - Cloud Video Production'\n",
      " 'Commissioning Machinery Assistant (CMA)' ...\n",
      " 'Account Director - Distribution '\n",
      " 'Project Cost Control Staff Engineer - Cost Control Exp - TX' nan]\n",
      "\n",
      "Value counts in title:\n",
      "English Teacher Abroad                                         311\n",
      "Customer Service Associate                                     146\n",
      "Graduates: English Teacher Abroad (Conversational)             144\n",
      "English Teacher Abroad                                          95\n",
      "Software Engineer                                               86\n",
      "                                                              ... \n",
      "West Coast Regional Channel Manager (RCM)                        1\n",
      "BI Practice Manager                                              1\n",
      "Community Coordinator- Ambassador Programme                      1\n",
      "Senior Traffic Engineer                                          1\n",
      "Project Cost Control Staff Engineer - Cost Control Exp - TX      1\n",
      "Name: title, Length: 11231, dtype: int64\n",
      "\n",
      "\n",
      "\n",
      "Unique values in location: ['US, NY, New York' 'NZ, , Auckland' 'US, IA, Wever' ...\n",
      " 'US, CA, los Angeles' 'CA, , Ottawa' 'GB, WSX, Chichester']\n",
      "\n",
      "Value counts in location:\n",
      "GB, LND, London          718\n",
      "US, NY, New York         658\n",
      "US, CA, San Francisco    472\n",
      "GR, I, Athens            464\n",
      "US, ,                    339\n",
      "                        ... \n",
      "GB, SFK, Leiston           1\n",
      "GB, LND, Hammersmith       1\n",
      "US, WA, Seattle            1\n",
      "BE                         1\n",
      "GB, WSX, Chichester        1\n",
      "Name: location, Length: 3105, dtype: int64\n",
      "\n",
      "\n",
      "\n",
      "Unique values in department: ['Marketing' 'Success' 'Operations' ... 'Administrative Dept'\n",
      " 'Hospitality' '`']\n",
      "\n",
      "Value counts in department:\n",
      "Engineering                   2008\n",
      "Sales                         1942\n",
      "Marketing                     1872\n",
      "Operations                    1671\n",
      "IT                            1659\n",
      "                              ... \n",
      "I9 Manufacturing (345)           1\n",
      "Organisational Development       1\n",
      "DSD                              1\n",
      "Program                          1\n",
      "`                                1\n",
      "Name: department, Length: 1330, dtype: int64\n",
      "\n",
      "\n",
      "\n",
      "Unique values in employment_type: ['Other' 'Full-time' nan 'Part-time' 'Contract' 'Temporary']\n",
      "\n",
      "Value counts in employment_type:\n",
      "Full-time    11620\n",
      "Contract      1524\n",
      "Part-time      797\n",
      "Temporary      241\n",
      "Other          227\n",
      "Name: employment_type, dtype: int64\n",
      "\n",
      "\n",
      "\n",
      "Unique values in required_experience: ['Internship' 'Not Applicable' nan 'Mid-Senior level' 'Associate'\n",
      " 'Entry level' 'Executive' 'Director']\n",
      "\n",
      "Value counts in required_experience:\n",
      "Mid-Senior level    3809\n",
      "Entry level         2697\n",
      "Associate           2297\n",
      "Not Applicable      1116\n",
      "Director             389\n",
      "Internship           381\n",
      "Executive            141\n",
      "Name: required_experience, dtype: int64\n",
      "\n",
      "\n",
      "\n",
      "Unique values in required_education: [nan \"Bachelor's Degree\" \"Master's Degree\" 'High School or equivalent'\n",
      " 'Unspecified' 'Some College Coursework Completed' 'Vocational'\n",
      " 'Certification' 'Associate Degree' 'Professional' 'Doctorate'\n",
      " 'Some High School Coursework' 'Vocational - Degree'\n",
      " 'Vocational - HS Diploma']\n",
      "\n",
      "Value counts in required_education:\n",
      "Bachelor's Degree                    5145\n",
      "High School or equivalent            2080\n",
      "Unspecified                          1397\n",
      "Master's Degree                       416\n",
      "Associate Degree                      274\n",
      "Certification                         170\n",
      "Some College Coursework Completed     102\n",
      "Professional                           74\n",
      "Vocational                             49\n",
      "Some High School Coursework            27\n",
      "Doctorate                              26\n",
      "Vocational - HS Diploma                 9\n",
      "Vocational - Degree                     6\n",
      "Name: required_education, dtype: int64\n",
      "\n",
      "\n",
      "\n",
      "Unique values in industry: [nan 'Marketing and Advertising' 'Computer Software'\n",
      " 'Hospital & Health Care' 'Online Media'\n",
      " 'Information Technology and Services' 'Financial Services'\n",
      " 'Management Consulting' 'Events Services' 'Internet'\n",
      " 'Facilities Services' 'Consumer Electronics' 'Telecommunications'\n",
      " 'Consumer Services' 'Construction' 'Oil & Energy' 'Education Management'\n",
      " 'Building Materials' 'Banking' 'Food & Beverages' 'Food Production'\n",
      " 'Health, Wellness and Fitness' 'Insurance' 'E-Learning' 'Cosmetics'\n",
      " 'Staffing and Recruiting' 'Venture Capital & Private Equity'\n",
      " 'Leisure, Travel & Tourism' 'Human Resources' 'Pharmaceuticals' 'Farming'\n",
      " 'Legal Services' 'Luxury Goods & Jewelry' 'Machinery' 'Real Estate'\n",
      " 'Mechanical or Industrial Engineering'\n",
      " 'Public Relations and Communications' 'Consumer Goods' 'Medical Practice'\n",
      " 'Electrical/Electronic Manufacturing' 'Hospitality' 'Music'\n",
      " 'Market Research' 'Automotive' 'Philanthropy' 'Utilities'\n",
      " 'Primary/Secondary Education' 'Logistics and Supply Chain' 'Design'\n",
      " 'Gambling & Casinos' 'Accounting' 'Environmental Services'\n",
      " 'Mental Health Care' 'Investment Management' 'Apparel & Fashion'\n",
      " 'Media Production' 'Publishing' 'Medical Devices' 'Information Services'\n",
      " 'Retail' 'Sports' 'Computer Games' 'Chemicals' 'Aviation & Aerospace'\n",
      " 'Business Supplies and Equipment' 'Program Development'\n",
      " 'Computer Networking' 'Biotechnology' 'Civic & Social Organization'\n",
      " 'Religious Institutions' 'Warehousing' 'Airlines/Aviation'\n",
      " 'Writing and Editing' 'Restaurants' 'Outsourcing/Offshoring'\n",
      " 'Transportation/Trucking/Railroad' 'Wireless' 'Investment Banking'\n",
      " 'Nonprofit Organization Management' 'Libraries' 'Computer Hardware'\n",
      " 'Broadcast Media' 'Printing' 'Graphic Design' 'Entertainment' 'Wholesale'\n",
      " 'Research' 'Animation' 'Government Administration' 'Capital Markets'\n",
      " 'Computer & Network Security' 'Semiconductors'\n",
      " 'Security and Investigations' 'Architecture & Planning' 'Maritime'\n",
      " 'Fund-Raising' 'Higher Education' 'Renewables & Environment'\n",
      " 'Motion Pictures and Film' 'Law Practice' 'Government Relations'\n",
      " 'Packaging and Containers' 'Sporting Goods' 'Mining & Metals'\n",
      " 'Import and Export' 'International Trade and Development'\n",
      " 'Professional Training & Coaching' 'Textiles' 'Commercial Real Estate'\n",
      " 'Law Enforcement' 'Package/Freight Delivery'\n",
      " 'Translation and Localization' 'Photography' 'Industrial Automation'\n",
      " 'Wine and Spirits' 'Public Safety' 'Civil Engineering' 'Military'\n",
      " 'Defense & Space' 'Veterinary' 'Executive Office' 'Performing Arts'\n",
      " 'Individual & Family Services' 'Public Policy' 'Nanotechnology'\n",
      " 'Museums and Institutions' 'Fishery' 'Plastics' 'Furniture'\n",
      " 'Shipbuilding' 'Alternative Dispute Resolution' 'Ranching']\n",
      "\n",
      "Value counts in industry:\n",
      "Information Technology and Services    1734\n",
      "Computer Software                      1376\n",
      "Internet                               1062\n",
      "Marketing and Advertising               828\n",
      "Education Management                    822\n",
      "                                       ... \n",
      "Shipbuilding                              1\n",
      "Sporting Goods                            1\n",
      "Museums and Institutions                  1\n",
      "Wine and Spirits                          1\n",
      "Ranching                                  1\n",
      "Name: industry, Length: 131, dtype: int64\n",
      "\n",
      "\n",
      "\n",
      "Unique values in function: ['Marketing' 'Customer Service' nan 'Sales' 'Health Care Provider'\n",
      " 'Management' 'Information Technology' 'Other' 'Engineering'\n",
      " 'Administrative' 'Design' 'Production' 'Education' 'Supply Chain'\n",
      " 'Business Development' 'Product Management' 'Financial Analyst'\n",
      " 'Consulting' 'Human Resources' 'Project Management' 'Manufacturing'\n",
      " 'Public Relations' 'Strategy/Planning' 'Advertising' 'Finance'\n",
      " 'General Business' 'Research' 'Accounting/Auditing' 'Art/Creative'\n",
      " 'Quality Assurance' 'Data Analyst' 'Business Analyst' 'Writing/Editing'\n",
      " 'Distribution' 'Science' 'Training' 'Purchasing' 'Legal']\n",
      "\n",
      "Value counts in function:\n",
      "Information Technology    1749\n",
      "Sales                     1468\n",
      "Engineering               1348\n",
      "Customer Service          1229\n",
      "Marketing                  830\n",
      "Administrative             630\n",
      "Design                     340\n",
      "Health Care Provider       338\n",
      "Other                      325\n",
      "Education                  325\n",
      "Management                 317\n",
      "Business Development       228\n",
      "Accounting/Auditing        212\n",
      "Human Resources            205\n",
      "Project Management         183\n",
      "Finance                    172\n",
      "Consulting                 144\n",
      "Writing/Editing            132\n",
      "Art/Creative               132\n",
      "Production                 116\n",
      "Product Management         114\n",
      "Quality Assurance          111\n",
      "Advertising                 90\n",
      "Business Analyst            84\n",
      "Data Analyst                82\n",
      "Public Relations            76\n",
      "Manufacturing               74\n",
      "General Business            68\n",
      "Research                    50\n",
      "Legal                       47\n",
      "Strategy/Planning           46\n",
      "Training                    38\n",
      "Supply Chain                36\n",
      "Financial Analyst           33\n",
      "Distribution                24\n",
      "Purchasing                  15\n",
      "Science                     14\n",
      "Name: function, dtype: int64\n",
      "\n",
      "\n",
      "\n"
     ]
    }
   ],
   "source": [
    "# Explore unique values in categorical columns\n",
    "categorical_columns = ['title', 'location','department', 'employment_type', 'required_experience', 'required_education', 'industry', 'function']\n",
    "\n",
    "for col in categorical_columns:\n",
    "    print(f\"Unique values in {col}: {job_data[col].unique()}\\n\")\n",
    "    print(f\"Value counts in {col}:\\n{job_data[col].value_counts()}\\n\")\n",
    "    print(\"\\n\")\n"
   ]
  },
  {
   "cell_type": "code",
   "execution_count": 12,
   "metadata": {
    "colab": {
     "base_uri": "https://localhost:8080/",
     "height": 472
    },
    "id": "8-HwYxnP3D-T",
    "outputId": "99acc4eb-8ac8-4ccd-cc01-0ba83ae5c7db"
   },
   "outputs": [
    {
     "data": {
      "image/png": "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\n",
      "text/plain": [
       "<Figure size 432x288 with 1 Axes>"
      ]
     },
     "metadata": {
      "needs_background": "light"
     },
     "output_type": "display_data"
    }
   ],
   "source": [
    "# Visualize the relationship between employment_type and fraudulent\n",
    "sns.countplot(x='employment_type', hue='fraudulent', data=job_data)\n",
    "plt.title('Relationship between Employment Type and Fraudulent Job Descriptions')\n",
    "plt.show()\n",
    "\n",
    "\n"
   ]
  },
  {
   "cell_type": "code",
   "execution_count": 13,
   "metadata": {
    "colab": {
     "base_uri": "https://localhost:8080/",
     "height": 718
    },
    "id": "M-S7ha2c3OHd",
    "outputId": "237a62ef-0608-4c10-c808-fce75377d461"
   },
   "outputs": [
    {
     "data": {
      "image/png": "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\n",
      "text/plain": [
       "<Figure size 864x576 with 1 Axes>"
      ]
     },
     "metadata": {
      "needs_background": "light"
     },
     "output_type": "display_data"
    }
   ],
   "source": [
    "# Visualize the relationship between required_experience and fraudulent\n",
    "plt.figure(figsize=(12, 8))  # Set the width and height of the figure\n",
    "sns.countplot(x='required_experience', hue='fraudulent', data=job_data)\n",
    "plt.title('Relationship between Required Experience and Fraudulent Job Descriptions')\n",
    "plt.show()"
   ]
  },
  {
   "cell_type": "code",
   "execution_count": 14,
   "metadata": {
    "colab": {
     "base_uri": "https://localhost:8080/",
     "height": 900
    },
    "id": "WvkxmEdVBWEI",
    "outputId": "ee909124-e4b0-4aeb-8bd7-3f43fe1005ac"
   },
   "outputs": [
    {
     "data": {
      "image/png": "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\n",
      "text/plain": [
       "<Figure size 864x576 with 1 Axes>"
      ]
     },
     "metadata": {
      "needs_background": "light"
     },
     "output_type": "display_data"
    }
   ],
   "source": [
    "# Set the width and height of the figure\n",
    "plt.figure(figsize=(12, 8))\n",
    "\n",
    "# Visualize the relationship between required_education and fraudulent\n",
    "ax = sns.countplot(x='required_education', hue='fraudulent', data=job_data)\n",
    "\n",
    "# Rotate x-axis labels for better visibility\n",
    "ax.set_xticklabels(ax.get_xticklabels(), rotation=45, ha='right')\n",
    "\n",
    "plt.title('Relationship between Required Education and Fraudulent Job Descriptions')\n",
    "plt.show()\n"
   ]
  },
  {
   "cell_type": "code",
   "execution_count": 15,
   "metadata": {
    "colab": {
     "base_uri": "https://localhost:8080/"
    },
    "id": "30Nssk69Ul6D",
    "outputId": "ac25e9fe-80a8-41f2-8060-43e1e17ae315"
   },
   "outputs": [
    {
     "name": "stdout",
     "output_type": "stream",
     "text": [
      "Columns with missing values: Index(['job_id', 'title', 'location', 'department', 'salary_range',\n",
      "       'company_profile', 'description', 'requirements', 'benefits',\n",
      "       'telecommuting', 'has_company_logo', 'has_questions', 'employment_type',\n",
      "       'required_experience', 'required_education', 'industry', 'function',\n",
      "       'fraudulent'],\n",
      "      dtype='object')\n",
      "\n",
      "\n",
      "job_id                    1\n",
      "title                     1\n",
      "location                347\n",
      "department                2\n",
      "salary_range              1\n",
      "company_profile        3309\n",
      "description               2\n",
      "requirements           2696\n",
      "benefits               7211\n",
      "telecommuting             1\n",
      "has_company_logo          1\n",
      "has_questions             1\n",
      "employment_type        3472\n",
      "required_experience    7051\n",
      "required_education     8106\n",
      "industry               4904\n",
      "function               6456\n",
      "fraudulent                1\n",
      "dtype: int64\n"
     ]
    }
   ],
   "source": [
    "# Check for missing values in each column\n",
    "missing_values = job_data.isnull().sum()\n",
    "\n",
    "# Display columns with missing values\n",
    "columns_with_missing_values = missing_values[missing_values > 0].index\n",
    "print(\"Columns with missing values:\", columns_with_missing_values)\n",
    "\n",
    "print(\"\\n\")\n",
    "\n",
    "print(missing_values)"
   ]
  },
  {
   "cell_type": "code",
   "execution_count": 29,
   "metadata": {
    "id": "xLhaWiwGXZq3"
   },
   "outputs": [],
   "source": [
    "# Fill missing values in the necessary columns with an empty string\n",
    "job_data['location'].fillna('', inplace=True)\n",
    "\n",
    "job_data['description'].fillna('', inplace=True)\n",
    "\n",
    "job_data['company_profile'].fillna('', inplace=True)\n",
    "\n",
    "job_data['requirements'].fillna('', inplace=True)\n",
    "\n",
    "job_data['benefits'].fillna('', inplace=True)"
   ]
  },
  {
   "cell_type": "code",
   "execution_count": 30,
   "metadata": {
    "colab": {
     "base_uri": "https://localhost:8080/"
    },
    "id": "UyZyp74UnjKo",
    "outputId": "3ab9da00-e060-4557-d972-8b4445a01ba5"
   },
   "outputs": [
    {
     "data": {
      "text/plain": [
       "0            US, NY, New York\n",
       "1              NZ, , Auckland\n",
       "2               US, IA, Wever\n",
       "3          US, DC, Washington\n",
       "4          US, FL, Fort Worth\n",
       "                 ...         \n",
       "17875         CA, ON, Toronto\n",
       "17876    US, PA, Philadelphia\n",
       "17877         US, TX, Houston\n",
       "17878           NG, LA, Lagos\n",
       "17879       NZ, N, Wellington\n",
       "Name: location, Length: 17880, dtype: object"
      ]
     },
     "execution_count": 30,
     "metadata": {},
     "output_type": "execute_result"
    }
   ],
   "source": [
    "job_data['location']"
   ]
  },
  {
   "cell_type": "code",
   "execution_count": 31,
   "metadata": {
    "colab": {
     "base_uri": "https://localhost:8080/"
    },
    "id": "nZqoCFwu88qX",
    "outputId": "d78eab10-06d1-44d0-b999-4a0e5e5c465f"
   },
   "outputs": [
    {
     "name": "stdout",
     "output_type": "stream",
     "text": [
      "['title', 'location', 'department', 'salary_range', 'company_profile', 'description', 'requirements', 'benefits', 'employment_type', 'required_experience', 'required_education', 'industry', 'function']\n"
     ]
    }
   ],
   "source": [
    "#Extracting only those columns which have datatype as object\n",
    "\n",
    "# Get column names with data type 'object'\n",
    "columns_text_data = job_data.select_dtypes(include='object').columns.tolist()\n",
    "\n",
    "# Print the resulting list of column names\n",
    "print(columns_text_data)"
   ]
  },
  {
   "cell_type": "code",
   "execution_count": 32,
   "metadata": {
    "id": "XOH6TV1x88qX"
   },
   "outputs": [],
   "source": [
    "job_data[columns_text_data] = job_data[columns_text_data].fillna(' ')\n"
   ]
  },
  {
   "cell_type": "code",
   "execution_count": 33,
   "metadata": {
    "colab": {
     "base_uri": "https://localhost:8080/",
     "height": 556
    },
    "id": "eb4Nw5Q188qX",
    "outputId": "ef55a280-b497-4070-bd2a-026fd9c7b43f"
   },
   "outputs": [
    {
     "data": {
      "text/html": [
       "<div>\n",
       "<style scoped>\n",
       "    .dataframe tbody tr th:only-of-type {\n",
       "        vertical-align: middle;\n",
       "    }\n",
       "\n",
       "    .dataframe tbody tr th {\n",
       "        vertical-align: top;\n",
       "    }\n",
       "\n",
       "    .dataframe thead th {\n",
       "        text-align: right;\n",
       "    }\n",
       "</style>\n",
       "<table border=\"1\" class=\"dataframe\">\n",
       "  <thead>\n",
       "    <tr style=\"text-align: right;\">\n",
       "      <th></th>\n",
       "      <th>job_id</th>\n",
       "      <th>title</th>\n",
       "      <th>location</th>\n",
       "      <th>department</th>\n",
       "      <th>salary_range</th>\n",
       "      <th>company_profile</th>\n",
       "      <th>description</th>\n",
       "      <th>requirements</th>\n",
       "      <th>benefits</th>\n",
       "      <th>telecommuting</th>\n",
       "      <th>has_company_logo</th>\n",
       "      <th>has_questions</th>\n",
       "      <th>employment_type</th>\n",
       "      <th>required_experience</th>\n",
       "      <th>required_education</th>\n",
       "      <th>industry</th>\n",
       "      <th>function</th>\n",
       "      <th>fraudulent</th>\n",
       "    </tr>\n",
       "  </thead>\n",
       "  <tbody>\n",
       "    <tr>\n",
       "      <th>0</th>\n",
       "      <td>1</td>\n",
       "      <td>Marketing Intern</td>\n",
       "      <td>US, NY, New York</td>\n",
       "      <td>Marketing</td>\n",
       "      <td></td>\n",
       "      <td>We're Food52, and we've created a groundbreaki...</td>\n",
       "      <td>Food52, a fast-growing, James Beard Award-winn...</td>\n",
       "      <td>Experience with content management systems a m...</td>\n",
       "      <td></td>\n",
       "      <td>0</td>\n",
       "      <td>1</td>\n",
       "      <td>0</td>\n",
       "      <td>Other</td>\n",
       "      <td>Internship</td>\n",
       "      <td></td>\n",
       "      <td></td>\n",
       "      <td>Marketing</td>\n",
       "      <td>0</td>\n",
       "    </tr>\n",
       "    <tr>\n",
       "      <th>1</th>\n",
       "      <td>2</td>\n",
       "      <td>Customer Service - Cloud Video Production</td>\n",
       "      <td>NZ, , Auckland</td>\n",
       "      <td>Success</td>\n",
       "      <td></td>\n",
       "      <td>90 Seconds, the worlds Cloud Video Production ...</td>\n",
       "      <td>Organised - Focused - Vibrant - Awesome!Do you...</td>\n",
       "      <td>What we expect from you:Your key responsibilit...</td>\n",
       "      <td>What you will get from usThrough being part of...</td>\n",
       "      <td>0</td>\n",
       "      <td>1</td>\n",
       "      <td>0</td>\n",
       "      <td>Full-time</td>\n",
       "      <td>Not Applicable</td>\n",
       "      <td></td>\n",
       "      <td>Marketing and Advertising</td>\n",
       "      <td>Customer Service</td>\n",
       "      <td>0</td>\n",
       "    </tr>\n",
       "    <tr>\n",
       "      <th>2</th>\n",
       "      <td>3</td>\n",
       "      <td>Commissioning Machinery Assistant (CMA)</td>\n",
       "      <td>US, IA, Wever</td>\n",
       "      <td></td>\n",
       "      <td></td>\n",
       "      <td>Valor Services provides Workforce Solutions th...</td>\n",
       "      <td>Our client, located in Houston, is actively se...</td>\n",
       "      <td>Implement pre-commissioning and commissioning ...</td>\n",
       "      <td></td>\n",
       "      <td>0</td>\n",
       "      <td>1</td>\n",
       "      <td>0</td>\n",
       "      <td></td>\n",
       "      <td></td>\n",
       "      <td></td>\n",
       "      <td></td>\n",
       "      <td></td>\n",
       "      <td>0</td>\n",
       "    </tr>\n",
       "    <tr>\n",
       "      <th>3</th>\n",
       "      <td>4</td>\n",
       "      <td>Account Executive - Washington DC</td>\n",
       "      <td>US, DC, Washington</td>\n",
       "      <td>Sales</td>\n",
       "      <td></td>\n",
       "      <td>Our passion for improving quality of life thro...</td>\n",
       "      <td>THE COMPANY: ESRI – Environmental Systems Rese...</td>\n",
       "      <td>EDUCATION: Bachelor’s or Master’s in GIS, busi...</td>\n",
       "      <td>Our culture is anything but corporate—we have ...</td>\n",
       "      <td>0</td>\n",
       "      <td>1</td>\n",
       "      <td>0</td>\n",
       "      <td>Full-time</td>\n",
       "      <td>Mid-Senior level</td>\n",
       "      <td>Bachelor's Degree</td>\n",
       "      <td>Computer Software</td>\n",
       "      <td>Sales</td>\n",
       "      <td>0</td>\n",
       "    </tr>\n",
       "    <tr>\n",
       "      <th>4</th>\n",
       "      <td>5</td>\n",
       "      <td>Bill Review Manager</td>\n",
       "      <td>US, FL, Fort Worth</td>\n",
       "      <td></td>\n",
       "      <td></td>\n",
       "      <td>SpotSource Solutions LLC is a Global Human Cap...</td>\n",
       "      <td>JOB TITLE: Itemization Review ManagerLOCATION:...</td>\n",
       "      <td>QUALIFICATIONS:RN license in the State of Texa...</td>\n",
       "      <td>Full Benefits Offered</td>\n",
       "      <td>0</td>\n",
       "      <td>1</td>\n",
       "      <td>1</td>\n",
       "      <td>Full-time</td>\n",
       "      <td>Mid-Senior level</td>\n",
       "      <td>Bachelor's Degree</td>\n",
       "      <td>Hospital &amp; Health Care</td>\n",
       "      <td>Health Care Provider</td>\n",
       "      <td>0</td>\n",
       "    </tr>\n",
       "  </tbody>\n",
       "</table>\n",
       "</div>"
=======
      "cell_type": "code",
      "execution_count": 3,
      "metadata": {
        "colab": {
          "base_uri": "https://localhost:8080/"
        },
        "id": "zSV9qaGr8NfR",
        "outputId": "7cc8fa90-2aa5-4749-dd14-cb357f7ef63d"
      },
      "outputs": [
        {
          "output_type": "stream",
          "name": "stdout",
          "text": [
            "<class 'pandas.core.frame.DataFrame'>\n",
            "RangeIndex: 17880 entries, 0 to 17879\n",
            "Data columns (total 18 columns):\n",
            " #   Column               Non-Null Count  Dtype \n",
            "---  ------               --------------  ----- \n",
            " 0   job_id               17880 non-null  int64 \n",
            " 1   title                17880 non-null  object\n",
            " 2   location             17534 non-null  object\n",
            " 3   department           6333 non-null   object\n",
            " 4   salary_range         2868 non-null   object\n",
            " 5   company_profile      14572 non-null  object\n",
            " 6   description          17879 non-null  object\n",
            " 7   requirements         15185 non-null  object\n",
            " 8   benefits             10670 non-null  object\n",
            " 9   telecommuting        17880 non-null  int64 \n",
            " 10  has_company_logo     17880 non-null  int64 \n",
            " 11  has_questions        17880 non-null  int64 \n",
            " 12  employment_type      14409 non-null  object\n",
            " 13  required_experience  10830 non-null  object\n",
            " 14  required_education   9775 non-null   object\n",
            " 15  industry             12977 non-null  object\n",
            " 16  function             11425 non-null  object\n",
            " 17  fraudulent           17880 non-null  int64 \n",
            "dtypes: int64(5), object(13)\n",
            "memory usage: 2.5+ MB\n"
          ]
        }
>>>>>>> 42d2bee3be0fce1053d0d402fd5b04845789fd6e
      ],
      "source": [
        "job_data.info()"
      ]
<<<<<<< HEAD
     },
     "execution_count": 33,
     "metadata": {},
     "output_type": "execute_result"
    }
   ],
   "source": [
    "job_data.head()"
   ]
  },
  {
   "cell_type": "code",
   "execution_count": 34,
   "metadata": {
    "colab": {
     "base_uri": "https://localhost:8080/",
     "height": 556
=======
>>>>>>> 42d2bee3be0fce1053d0d402fd5b04845789fd6e
    },
    {
<<<<<<< HEAD
     "data": {
      "text/html": [
       "<div>\n",
       "<style scoped>\n",
       "    .dataframe tbody tr th:only-of-type {\n",
       "        vertical-align: middle;\n",
       "    }\n",
       "\n",
       "    .dataframe tbody tr th {\n",
       "        vertical-align: top;\n",
       "    }\n",
       "\n",
       "    .dataframe thead th {\n",
       "        text-align: right;\n",
       "    }\n",
       "</style>\n",
       "<table border=\"1\" class=\"dataframe\">\n",
       "  <thead>\n",
       "    <tr style=\"text-align: right;\">\n",
       "      <th></th>\n",
       "      <th>job_id</th>\n",
       "      <th>title</th>\n",
       "      <th>location</th>\n",
       "      <th>department</th>\n",
       "      <th>salary_range</th>\n",
       "      <th>company_profile</th>\n",
       "      <th>description</th>\n",
       "      <th>requirements</th>\n",
       "      <th>benefits</th>\n",
       "      <th>telecommuting</th>\n",
       "      <th>has_company_logo</th>\n",
       "      <th>has_questions</th>\n",
       "      <th>employment_type</th>\n",
       "      <th>required_experience</th>\n",
       "      <th>required_education</th>\n",
       "      <th>industry</th>\n",
       "      <th>function</th>\n",
       "      <th>fraudulent</th>\n",
       "      <th>country</th>\n",
       "    </tr>\n",
       "  </thead>\n",
       "  <tbody>\n",
       "    <tr>\n",
       "      <th>0</th>\n",
       "      <td>1</td>\n",
       "      <td>Marketing Intern</td>\n",
       "      <td>US, NY, New York</td>\n",
       "      <td>Marketing</td>\n",
       "      <td></td>\n",
       "      <td>We're Food52, and we've created a groundbreaki...</td>\n",
       "      <td>Food52, a fast-growing, James Beard Award-winn...</td>\n",
       "      <td>Experience with content management systems a m...</td>\n",
       "      <td></td>\n",
       "      <td>0</td>\n",
       "      <td>1</td>\n",
       "      <td>0</td>\n",
       "      <td>Other</td>\n",
       "      <td>Internship</td>\n",
       "      <td></td>\n",
       "      <td></td>\n",
       "      <td>Marketing</td>\n",
       "      <td>0</td>\n",
       "      <td>US</td>\n",
       "    </tr>\n",
       "    <tr>\n",
       "      <th>1</th>\n",
       "      <td>2</td>\n",
       "      <td>Customer Service - Cloud Video Production</td>\n",
       "      <td>NZ, , Auckland</td>\n",
       "      <td>Success</td>\n",
       "      <td></td>\n",
       "      <td>90 Seconds, the worlds Cloud Video Production ...</td>\n",
       "      <td>Organised - Focused - Vibrant - Awesome!Do you...</td>\n",
       "      <td>What we expect from you:Your key responsibilit...</td>\n",
       "      <td>What you will get from usThrough being part of...</td>\n",
       "      <td>0</td>\n",
       "      <td>1</td>\n",
       "      <td>0</td>\n",
       "      <td>Full-time</td>\n",
       "      <td>Not Applicable</td>\n",
       "      <td></td>\n",
       "      <td>Marketing and Advertising</td>\n",
       "      <td>Customer Service</td>\n",
       "      <td>0</td>\n",
       "      <td>NZ</td>\n",
       "    </tr>\n",
       "    <tr>\n",
       "      <th>2</th>\n",
       "      <td>3</td>\n",
       "      <td>Commissioning Machinery Assistant (CMA)</td>\n",
       "      <td>US, IA, Wever</td>\n",
       "      <td></td>\n",
       "      <td></td>\n",
       "      <td>Valor Services provides Workforce Solutions th...</td>\n",
       "      <td>Our client, located in Houston, is actively se...</td>\n",
       "      <td>Implement pre-commissioning and commissioning ...</td>\n",
       "      <td></td>\n",
       "      <td>0</td>\n",
       "      <td>1</td>\n",
       "      <td>0</td>\n",
       "      <td></td>\n",
       "      <td></td>\n",
       "      <td></td>\n",
       "      <td></td>\n",
       "      <td></td>\n",
       "      <td>0</td>\n",
       "      <td>US</td>\n",
       "    </tr>\n",
       "    <tr>\n",
       "      <th>3</th>\n",
       "      <td>4</td>\n",
       "      <td>Account Executive - Washington DC</td>\n",
       "      <td>US, DC, Washington</td>\n",
       "      <td>Sales</td>\n",
       "      <td></td>\n",
       "      <td>Our passion for improving quality of life thro...</td>\n",
       "      <td>THE COMPANY: ESRI – Environmental Systems Rese...</td>\n",
       "      <td>EDUCATION: Bachelor’s or Master’s in GIS, busi...</td>\n",
       "      <td>Our culture is anything but corporate—we have ...</td>\n",
       "      <td>0</td>\n",
       "      <td>1</td>\n",
       "      <td>0</td>\n",
       "      <td>Full-time</td>\n",
       "      <td>Mid-Senior level</td>\n",
       "      <td>Bachelor's Degree</td>\n",
       "      <td>Computer Software</td>\n",
       "      <td>Sales</td>\n",
       "      <td>0</td>\n",
       "      <td>US</td>\n",
       "    </tr>\n",
       "    <tr>\n",
       "      <th>4</th>\n",
       "      <td>5</td>\n",
       "      <td>Bill Review Manager</td>\n",
       "      <td>US, FL, Fort Worth</td>\n",
       "      <td></td>\n",
       "      <td></td>\n",
       "      <td>SpotSource Solutions LLC is a Global Human Cap...</td>\n",
       "      <td>JOB TITLE: Itemization Review ManagerLOCATION:...</td>\n",
       "      <td>QUALIFICATIONS:RN license in the State of Texa...</td>\n",
       "      <td>Full Benefits Offered</td>\n",
       "      <td>0</td>\n",
       "      <td>1</td>\n",
       "      <td>1</td>\n",
       "      <td>Full-time</td>\n",
       "      <td>Mid-Senior level</td>\n",
       "      <td>Bachelor's Degree</td>\n",
       "      <td>Hospital &amp; Health Care</td>\n",
       "      <td>Health Care Provider</td>\n",
       "      <td>0</td>\n",
       "      <td>US</td>\n",
       "    </tr>\n",
       "  </tbody>\n",
       "</table>\n",
       "</div>"
=======
      "cell_type": "code",
      "execution_count": 4,
      "metadata": {
        "colab": {
          "base_uri": "https://localhost:8080/"
        },
        "id": "h7TeA9IyvtCx",
        "outputId": "cce97789-33c7-454c-ef6a-7013cfda4ec0"
      },
      "outputs": [
        {
          "output_type": "stream",
          "name": "stdout",
          "text": [
            "             job_id  telecommuting  has_company_logo  has_questions  \\\n",
            "count  17880.000000   17880.000000      17880.000000   17880.000000   \n",
            "mean    8940.500000       0.042897          0.795302       0.491723   \n",
            "std     5161.655742       0.202631          0.403492       0.499945   \n",
            "min        1.000000       0.000000          0.000000       0.000000   \n",
            "25%     4470.750000       0.000000          1.000000       0.000000   \n",
            "50%     8940.500000       0.000000          1.000000       0.000000   \n",
            "75%    13410.250000       0.000000          1.000000       1.000000   \n",
            "max    17880.000000       1.000000          1.000000       1.000000   \n",
            "\n",
            "         fraudulent  \n",
            "count  17880.000000  \n",
            "mean       0.048434  \n",
            "std        0.214688  \n",
            "min        0.000000  \n",
            "25%        0.000000  \n",
            "50%        0.000000  \n",
            "75%        0.000000  \n",
            "max        1.000000  \n"
          ]
        }
>>>>>>> 42d2bee3be0fce1053d0d402fd5b04845789fd6e
      ],
      "source": [
        "# Display summary statistics for numerical columns\n",
        "print(job_data.describe())"
      ]
<<<<<<< HEAD
     },
     "execution_count": 34,
     "metadata": {},
     "output_type": "execute_result"
    }
   ],
   "source": [
    "#we can see location have country, state. We will only consider country\n",
    "\n",
    "# Spliting the location column to extract only the country\n",
    "job_data['country'] = job_data['location'].str.split(',').str[0]\n",
    "\n",
    "#printing the result\n",
    "job_data.head()"
   ]
  },
  {
   "cell_type": "code",
   "execution_count": 35,
   "metadata": {
    "colab": {
     "base_uri": "https://localhost:8080/",
     "height": 549
=======
>>>>>>> 42d2bee3be0fce1053d0d402fd5b04845789fd6e
    },
    {
<<<<<<< HEAD
     "data": {
      "image/png": "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\n",
      "text/plain": [
       "<Figure size 1440x720 with 1 Axes>"
      ]
     },
     "metadata": {
      "needs_background": "light"
     },
     "output_type": "display_data"
    }
   ],
   "source": [
    "#counting number of jobs in each country\n",
    "count_job_per_country = job_data['country'].value_counts()[:10]\n",
    "\n",
    "#creating the bar chart\n",
    "plt.figure(figsize=(20, 10))\n",
    "count_job_per_country.plot(kind='bar', color='skyblue')\n",
    "plt.title('Number of Jobs by Country')\n",
    "plt.xlabel('Country')\n",
    "plt.ylabel('Number of Jobs')\n",
    "plt.show()"
   ]
  },
  {
   "cell_type": "markdown",
   "metadata": {
    "id": "a4K50HmE88qg"
   },
   "source": [
    "### Applying Various Modules on our Dataset\n",
    "\n",
    "#### MODEL- 1 LOGISTIC REGRESSION"
   ]
  },
  {
   "cell_type": "code",
   "execution_count": 105,
   "metadata": {
    "id": "Lw9ZKytVZK2J"
   },
   "outputs": [],
   "source": [
    "from sklearn.model_selection import train_test_split\n",
    "from sklearn.linear_model import LogisticRegression\n",
    "from sklearn.metrics import classification_report, confusion_matrix\n",
    "from sklearn.feature_extraction.text import TfidfVectorizer\n",
    "from sklearn.model_selection import train_test_split\n",
    "from sklearn.metrics import accuracy_score\n",
    "from sklearn.metrics import confusion_matrix\n",
    "from sklearn.metrics import classification_report\n",
    "from sklearn.metrics import roc_auc_score\n"
   ]
  },
  {
   "cell_type": "code",
   "execution_count": 106,
   "metadata": {},
   "outputs": [],
   "source": [
    "#job_data_new = job_data.drop(['description'], axis=1)\n",
    "\n",
    "job_data_new = job_data.drop(['job_id','requirements','benefits','description','location','country'], axis=1)\n"
   ]
  },
  {
   "cell_type": "code",
   "execution_count": 107,
   "metadata": {},
   "outputs": [],
   "source": [
    "def convert_to_average(salary_range):\n",
    "    try:\n",
    "        min_salary, max_salary = map(int, salary_range.split('-'))\n",
    "        return (min_salary + max_salary) / 2\n",
    "    except:\n",
    "        return np.nan  # Return NaN for invalid or missing values\n",
    "\n",
    "job_data_new['salary_range'] = job_data_new['salary_range'].apply(convert_to_average)"
   ]
  },
  {
   "cell_type": "markdown",
   "metadata": {},
   "source": [
    "#### Performing Feature Engineering required for Logistic Regression approach"
   ]
  },
  {
   "cell_type": "code",
   "execution_count": 108,
   "metadata": {},
   "outputs": [],
   "source": [
    "# Example for 'company_profile'\n",
    "tfidf_vectorizer = TfidfVectorizer(max_features=5000)  # You can tune 'max_features'\n",
    "company_profile_tfidf = tfidf_vectorizer.fit_transform(job_data['company_profile'])\n",
    "\n",
    "# Convert to DataFrame (optional, depends on how you'll handle concatenation later)\n",
    "company_profile_df = pd.DataFrame(company_profile_tfidf.toarray(), columns=tfidf_vectorizer.get_feature_names_out())\n"
   ]
  },
  {
   "cell_type": "code",
   "execution_count": 109,
   "metadata": {},
   "outputs": [],
   "source": [
    "categorical_cols = ['title','department','employment_type', 'required_experience', 'industry']\n",
    "\n",
    "# Apply one-hot encoding\n",
    "features = pd.get_dummies(job_data_new, columns=categorical_cols)\n"
   ]
  },
  {
   "cell_type": "code",
   "execution_count": 110,
   "metadata": {},
   "outputs": [],
   "source": [
    "# Assuming 'features' is your initial set of numeric features\n",
    "features = job_data_new.drop(['title','department','salary_range','company_profile', 'employment_type', 'required_experience', 'required_education', 'industry', 'function'], axis=1)\n",
    "\n"
   ]
  },
  {
   "cell_type": "code",
   "execution_count": 111,
   "metadata": {},
   "outputs": [
    {
     "data": {
      "text/html": [
       "<div>\n",
       "<style scoped>\n",
       "    .dataframe tbody tr th:only-of-type {\n",
       "        vertical-align: middle;\n",
       "    }\n",
       "\n",
       "    .dataframe tbody tr th {\n",
       "        vertical-align: top;\n",
       "    }\n",
       "\n",
       "    .dataframe thead th {\n",
       "        text-align: right;\n",
       "    }\n",
       "</style>\n",
       "<table border=\"1\" class=\"dataframe\">\n",
       "  <thead>\n",
       "    <tr style=\"text-align: right;\">\n",
       "      <th></th>\n",
       "      <th>telecommuting</th>\n",
       "      <th>has_company_logo</th>\n",
       "      <th>has_questions</th>\n",
       "      <th>fraudulent</th>\n",
       "    </tr>\n",
       "  </thead>\n",
       "  <tbody>\n",
       "    <tr>\n",
       "      <th>0</th>\n",
       "      <td>0</td>\n",
       "      <td>1</td>\n",
       "      <td>0</td>\n",
       "      <td>0</td>\n",
       "    </tr>\n",
       "    <tr>\n",
       "      <th>1</th>\n",
       "      <td>0</td>\n",
       "      <td>1</td>\n",
       "      <td>0</td>\n",
       "      <td>0</td>\n",
       "    </tr>\n",
       "    <tr>\n",
       "      <th>2</th>\n",
       "      <td>0</td>\n",
       "      <td>1</td>\n",
       "      <td>0</td>\n",
       "      <td>0</td>\n",
       "    </tr>\n",
       "    <tr>\n",
       "      <th>3</th>\n",
       "      <td>0</td>\n",
       "      <td>1</td>\n",
       "      <td>0</td>\n",
       "      <td>0</td>\n",
       "    </tr>\n",
       "    <tr>\n",
       "      <th>4</th>\n",
       "      <td>0</td>\n",
       "      <td>1</td>\n",
       "      <td>1</td>\n",
       "      <td>0</td>\n",
       "    </tr>\n",
       "    <tr>\n",
       "      <th>...</th>\n",
       "      <td>...</td>\n",
       "      <td>...</td>\n",
       "      <td>...</td>\n",
       "      <td>...</td>\n",
       "    </tr>\n",
       "    <tr>\n",
       "      <th>17875</th>\n",
       "      <td>0</td>\n",
       "      <td>1</td>\n",
       "      <td>1</td>\n",
       "      <td>0</td>\n",
       "    </tr>\n",
       "    <tr>\n",
       "      <th>17876</th>\n",
       "      <td>0</td>\n",
       "      <td>1</td>\n",
       "      <td>1</td>\n",
       "      <td>0</td>\n",
       "    </tr>\n",
       "    <tr>\n",
       "      <th>17877</th>\n",
       "      <td>0</td>\n",
       "      <td>0</td>\n",
       "      <td>0</td>\n",
       "      <td>0</td>\n",
       "    </tr>\n",
       "    <tr>\n",
       "      <th>17878</th>\n",
       "      <td>0</td>\n",
       "      <td>0</td>\n",
       "      <td>1</td>\n",
       "      <td>0</td>\n",
       "    </tr>\n",
       "    <tr>\n",
       "      <th>17879</th>\n",
       "      <td>0</td>\n",
       "      <td>1</td>\n",
       "      <td>1</td>\n",
       "      <td>0</td>\n",
       "    </tr>\n",
       "  </tbody>\n",
       "</table>\n",
       "<p>17880 rows × 4 columns</p>\n",
       "</div>"
      ],
      "text/plain": [
       "       telecommuting  has_company_logo  has_questions  fraudulent\n",
       "0                  0                 1              0           0\n",
       "1                  0                 1              0           0\n",
       "2                  0                 1              0           0\n",
       "3                  0                 1              0           0\n",
       "4                  0                 1              1           0\n",
       "...              ...               ...            ...         ...\n",
       "17875              0                 1              1           0\n",
       "17876              0                 1              1           0\n",
       "17877              0                 0              0           0\n",
       "17878              0                 0              1           0\n",
       "17879              0                 1              1           0\n",
       "\n",
       "[17880 rows x 4 columns]"
      ]
     },
     "execution_count": 111,
     "metadata": {},
     "output_type": "execute_result"
    }
   ],
   "source": [
    "features"
   ]
  },
  {
   "cell_type": "code",
   "execution_count": 112,
   "metadata": {},
   "outputs": [],
   "source": [
    "# Concatenate the TF-IDF features and one-hot encoded features\n",
    "final_features = pd.concat([features, company_profile_df], axis=1)\n"
   ]
  },
  {
   "cell_type": "code",
   "execution_count": 113,
   "metadata": {},
   "outputs": [],
   "source": [
    "#final_features"
   ]
  },
  {
   "cell_type": "code",
   "execution_count": 114,
   "metadata": {},
   "outputs": [],
   "source": [
    "# Split the data into features and target label\n",
    "features = final_features.drop('fraudulent', axis=1)\n",
    "target = final_features['fraudulent']"
   ]
  },
  {
   "cell_type": "code",
   "execution_count": 115,
   "metadata": {},
   "outputs": [
    {
     "data": {
      "text/plain": [
       "LogisticRegression()"
      ]
     },
     "execution_count": 115,
     "metadata": {},
     "output_type": "execute_result"
    }
   ],
   "source": [
    "X_train, X_test, y_train, y_test = train_test_split(features, target, test_size=0.2, random_state=42)\n",
    "\n",
    "model = LogisticRegression()\n",
    "model.fit(X_train, y_train)"
   ]
  },
  {
   "cell_type": "code",
   "execution_count": 116,
   "metadata": {},
   "outputs": [],
   "source": [
    "y_pred = model.predict(X_test)\n"
   ]
  },
  {
   "cell_type": "code",
   "execution_count": 117,
   "metadata": {},
   "outputs": [
    {
     "name": "stdout",
     "output_type": "stream",
     "text": [
      "Accuracy: 0.9608501118568232\n"
     ]
    }
   ],
   "source": [
    "accuracy = accuracy_score(y_test, y_pred)\n",
    "print(f\"Accuracy: {accuracy}\")\n"
   ]
  },
  {
   "cell_type": "code",
   "execution_count": 118,
   "metadata": {},
   "outputs": [
    {
     "name": "stdout",
     "output_type": "stream",
     "text": [
      "Confusion Matrix:\n",
      "[[3395    0]\n",
      " [ 140   41]]\n"
     ]
    }
   ],
   "source": [
    "conf_matrix = confusion_matrix(y_test, y_pred)\n",
    "print(\"Confusion Matrix:\")\n",
    "print(conf_matrix)\n"
   ]
  },
  {
   "cell_type": "code",
   "execution_count": 119,
   "metadata": {},
   "outputs": [
    {
     "name": "stdout",
     "output_type": "stream",
     "text": [
      "Classification Report:\n",
      "              precision    recall  f1-score   support\n",
      "\n",
      "           0       0.96      1.00      0.98      3395\n",
      "           1       1.00      0.23      0.37       181\n",
      "\n",
      "    accuracy                           0.96      3576\n",
      "   macro avg       0.98      0.61      0.67      3576\n",
      "weighted avg       0.96      0.96      0.95      3576\n",
      "\n"
     ]
    }
   ],
   "source": [
    "class_report = classification_report(y_test, y_pred)\n",
    "print(\"Classification Report:\")\n",
    "print(class_report)\n"
   ]
  },
  {
   "cell_type": "code",
   "execution_count": 120,
   "metadata": {},
   "outputs": [
    {
     "name": "stdout",
     "output_type": "stream",
     "text": [
      "ROC AUC Score: 0.9546432436390857\n"
     ]
    }
   ],
   "source": [
    "roc_auc = roc_auc_score(y_test, model.predict_proba(X_test)[:, 1])\n",
    "print(f\"ROC AUC Score: {roc_auc}\")\n"
   ]
  },
  {
   "cell_type": "markdown",
   "metadata": {
    "id": "X5ViR8JKZu0e"
   },
   "source": [
    "#### MODEL - 2 KNN\n"
   ]
  },
  {
   "cell_type": "code",
   "execution_count": null,
   "metadata": {
    "id": "ggFlf4fG88qg"
   },
   "outputs": [],
   "source": [
    "from sklearn.model_selection import train_test_split\n",
    "from sklearn.ensemble import RandomForestClassifier\n",
    "from sklearn.neighbors import KNeighborsClassifier\n",
    "from sklearn.metrics import accuracy_score, classification_report, confusion_matrix\n",
    "from sklearn.preprocessing import LabelEncoder\n",
    "from sklearn.model_selection import cross_val_score\n",
    "from sklearn.metrics import roc_auc_score"
   ]
  },
  {
   "cell_type": "code",
   "execution_count": null,
   "metadata": {
    "id": "bM1cU_Oj88qg"
   },
   "outputs": [],
   "source": [
    "feature_vars = job_data.drop(['fraudulent'], axis=1)\n",
    "target_vars = job_data['fraudulent']"
   ]
  },
  {
   "cell_type": "code",
   "execution_count": null,
   "metadata": {
    "id": "FE65xC_K88qh"
   },
   "outputs": [],
   "source": [
    "le = LabelEncoder()\n",
    "for col in ['location', 'department', 'company_profile', 'description', 'requirements', 'benefits', 'industry', 'function']:\n",
    "    feature_vars[col] = le.fit_transform(feature_vars[col])"
   ]
  },
  {
   "cell_type": "code",
   "execution_count": null,
   "metadata": {
    "id": "xmMR5liR88qh"
   },
   "outputs": [],
   "source": [
    "job_data_dummy = pd.get_dummies(feature_vars)"
   ]
  },
  {
   "cell_type": "code",
   "execution_count": null,
   "metadata": {
    "id": "CPMjgKci88qh"
   },
   "outputs": [],
   "source": [
    "X_train, X_test, y_train, y_test = train_test_split(job_data_dummy, target_vars, test_size=0.2, random_state=42)"
   ]
  },
  {
   "cell_type": "code",
   "execution_count": null,
   "metadata": {
    "colab": {
     "base_uri": "https://localhost:8080/",
     "height": 75
    },
    "id": "nvqbiTlSTS-9",
    "outputId": "2bc0217f-3122-4128-a017-4eb0104f8c6c"
   },
   "outputs": [],
   "source": [
    "knn_cls = KNeighborsClassifier(n_neighbors=5)\n",
    "knn_cls.fit(X_train, y_train)"
   ]
  },
  {
   "cell_type": "code",
   "execution_count": null,
   "metadata": {
    "id": "jce99hbUTV0-"
   },
   "outputs": [],
   "source": [
    "knn_preds = knn_cls.predict(X_test)"
   ]
  },
  {
   "cell_type": "code",
   "execution_count": null,
   "metadata": {
    "colab": {
     "base_uri": "https://localhost:8080/"
    },
    "id": "-88sIQaaTXhk",
    "outputId": "7e63b0ea-dbd0-4144-8541-db2fc82915ab"
   },
   "outputs": [],
   "source": [
    "accuracy_score_knn = accuracy_score(y_test, knn_preds)\n",
    "print(\"Accuracy Score of KNN Classifier:\", accuracy_score_knn)"
   ]
  },
  {
   "cell_type": "code",
   "execution_count": null,
   "metadata": {
    "colab": {
     "base_uri": "https://localhost:8080/"
    },
    "id": "9cgifx9ATbGu",
    "outputId": "7e908e20-c775-472d-d390-99b4b1a9e608"
   },
   "outputs": [],
   "source": [
    "confusion_matrix_knn = confusion_matrix(y_test, knn_preds)\n",
    "print(\"Confusion Matrix of KNN Classifier:\",confusion_matrix_knn)"
   ]
  },
  {
   "cell_type": "code",
   "execution_count": null,
   "metadata": {
    "colab": {
     "base_uri": "https://localhost:8080/"
    },
    "id": "LyMQwr3cTbxs",
    "outputId": "366a2d2a-7df5-4f31-eb2b-5e4f214f9174"
   },
   "outputs": [],
   "source": [
    "classification_report_knn = classification_report(y_test, knn_preds)\n",
    "print(\"Classification Report of KNN Classifier:\",classification_report_knn)"
   ]
  },
  {
   "cell_type": "code",
   "execution_count": null,
   "metadata": {
    "colab": {
     "base_uri": "https://localhost:8080/"
    },
    "id": "Iq7zm1jUTgh2",
    "outputId": "eaa347df-33d0-4abb-e7ec-9d03da054e46"
   },
   "outputs": [],
   "source": [
    "roc_auc_knn = roc_auc_score(y_test, knn_preds)\n",
    "print(\"ROC-AUC Score for KNN Classifier::\", roc_auc_knn)"
   ]
  },
  {
   "cell_type": "markdown",
   "metadata": {
    "id": "n7o0clcUZL1d"
   },
   "source": [
    "#### MODEL - 3 RANDOM FOREST"
   ]
  },
  {
   "cell_type": "code",
   "execution_count": null,
   "metadata": {
    "colab": {
     "base_uri": "https://localhost:8080/",
     "height": 75
    },
    "id": "fljn2E2f88qh",
    "outputId": "09b85e8a-3f45-497c-cbbd-09d9e63ad151"
   },
   "outputs": [],
   "source": [
    "random_forest_cls = RandomForestClassifier(n_estimators=100, random_state=42)\n",
    "random_forest_cls.fit(X_train, y_train)"
   ]
  },
  {
   "cell_type": "code",
   "execution_count": null,
   "metadata": {
    "id": "Xf26Y68m88qh"
   },
   "outputs": [],
   "source": [
    "random_forest_preds = random_forest_cls.predict(X_test)"
   ]
  },
  {
   "cell_type": "code",
   "execution_count": null,
   "metadata": {
    "colab": {
     "base_uri": "https://localhost:8080/"
    },
    "id": "hCh8J2lp88qh",
    "outputId": "bc3f83d4-2d2e-4430-843e-39cc6266189b"
   },
   "outputs": [],
   "source": [
    "accuracy_score_rf = accuracy_score(y_test, random_forest_preds)\n",
    "print(\"Accuracy Score of Random Forest Classifier:\", accuracy_score_rf)"
   ]
  },
  {
   "cell_type": "code",
   "execution_count": null,
   "metadata": {
    "colab": {
     "base_uri": "https://localhost:8080/"
    },
    "id": "y6dAjS-C88qh",
    "outputId": "7c48e174-47df-4a32-e306-6eb135f810a3"
   },
   "outputs": [],
   "source": [
    "confusion_matrix_rf = confusion_matrix(y_test, random_forest_preds)\n",
    "print(\"Confusion Matrix of Random Forest Classifier:\",confusion_matrix_rf)"
   ]
  },
  {
   "cell_type": "code",
   "execution_count": null,
   "metadata": {
    "colab": {
     "base_uri": "https://localhost:8080/"
    },
    "id": "sZb-15Tl88qh",
    "outputId": "e7cfe296-d948-426e-afa5-a1bf777b020a"
   },
   "outputs": [],
   "source": [
    "classification_report_rf = classification_report(y_test, random_forest_preds)\n",
    "print(\"Classification Report of Random Forest Classifier:\",classification_report_rf)"
   ]
  },
  {
   "cell_type": "code",
   "execution_count": null,
   "metadata": {
    "colab": {
     "base_uri": "https://localhost:8080/"
    },
    "id": "ijJCcG0vCw7C",
    "outputId": "e784e052-38d6-439f-d08d-fb1c9afbfd0b"
   },
   "outputs": [],
   "source": [
    "# Assuming y_test and random_forest_preds are your true labels and predicted labels, respectively\n",
    "roc_score_rf = roc_auc_score(y_test, random_forest_preds)\n",
    "print(\"ROC-AUC Score of Random Forest Classifier:\", roc_score_rf)\n"
   ]
  },
  {
   "cell_type": "markdown",
   "metadata": {
    "id": "6hkPAdD2ntlq"
   },
   "source": [
    "~ We tried 3 different models.\n",
    "* So we will move forward with more complex model (DEEP LEARNING).\n",
    "* AS we can that the dataset columns which have textual information so first we will do Text Preprocessing using NLP\n",
    "* After that we will implement Deep Learning model\n",
    "\n",
    "\n",
    "### Text Preprocessing\n",
    "\n"
   ]
  },
  {
   "cell_type": "markdown",
   "metadata": {
    "id": "H6NrVeR_88qY"
   },
   "source": [
    "~ We will be doing text processing on description column so first check number of null values for discription"
   ]
  },
  {
   "cell_type": "code",
   "execution_count": null,
   "metadata": {
    "colab": {
     "base_uri": "https://localhost:8080/",
     "height": 118
    },
    "id": "f6TTyv-288qY",
    "outputId": "062bd905-a0b6-4647-8517-78e32b5c954d"
   },
   "outputs": [],
   "source": [
    "empty_description = job_data['description'] == \" \"\n",
    "\n",
    "# Print rows where 'description' is an empty string\n",
    "job_data[empty_description]"
   ]
  },
  {
   "cell_type": "markdown",
   "metadata": {
    "id": "HXb9A7uE88qY"
   },
   "source": [
    "~as there is only one row so we will remove that row"
   ]
  },
  {
   "cell_type": "code",
   "execution_count": null,
   "metadata": {
    "colab": {
     "base_uri": "https://localhost:8080/"
    },
    "id": "xNYKc-9088qY",
    "outputId": "4bf89a7a-e516-4e3e-edae-71cbd9ef85cc"
   },
   "outputs": [],
   "source": [
    "job_data = job_data[~empty_description]\n",
    "\n",
    "job_data.shape"
   ]
  },
  {
   "cell_type": "code",
   "execution_count": null,
   "metadata": {
    "colab": {
     "base_uri": "https://localhost:8080/",
     "height": 681
    },
    "id": "92G-gaZo88qY",
    "outputId": "1925b1ba-8e9b-4105-f9dd-a0355280bc19"
   },
   "outputs": [],
   "source": [
    "# for query search and  text preprocessing we will be combining the description and title column\n",
    "\n",
    "job_data['job_text_info'] = job_data['title'] + ' ' + job_data['description']\n",
    "\n",
    "# Drop the 'job_title' and 'description' columns if needed\n",
    "# df = df.drop(['job_title', 'description'], axis=1)\n",
    "\n",
    "# Print the resulting DataFrame\n",
    "job_data.head()"
   ]
  },
  {
   "cell_type": "code",
   "execution_count": null,
   "metadata": {
    "colab": {
     "base_uri": "https://localhost:8080/"
    },
    "id": "hMxX_gmW88qY",
    "outputId": "365d939f-651b-4f8c-c60c-087d52acdcd2"
   },
   "outputs": [],
   "source": [
    "##LowerCasing\n",
    "\n",
    "job_data['job_text_info'] = job_data['job_text_info'].str.lower()\n"
   ]
  },
  {
   "cell_type": "code",
   "execution_count": null,
   "metadata": {
    "id": "P2I6Vofn88qY"
   },
   "outputs": [],
   "source": [
    "#removing punctuations\n",
    "# import string\n",
    "\n",
    "# job_data['job_text_info'] = job_data['job_text_info'].str.translate(str.maketrans('', '', string.punctuation))\n",
    "\n",
    "\n",
    "import string\n",
    "\n",
    "# Convert 'job_text_info' column to strings\n",
    "job_data['job_text_info'] = job_data['job_text_info'].astype(str)\n",
    "\n",
    "# Remove punctuations\n",
    "job_data['job_text_info'] = job_data['job_text_info'].str.translate(str.maketrans('', '', string.punctuation))\n",
    "\n"
   ]
  },
  {
   "cell_type": "code",
   "execution_count": null,
   "metadata": {
    "colab": {
     "base_uri": "https://localhost:8080/"
    },
    "id": "Dp2dGYZv88qY",
    "outputId": "2fe23bb6-e847-4da1-e8a3-d2b0f2ea7965"
   },
   "outputs": [],
   "source": [
    "#tokenization\n",
    "import nltk\n",
    "nltk.download('punkt')\n",
    "from nltk.tokenize import word_tokenize\n",
    "\n",
    "job_data['job_text_info'] = job_data['job_text_info'].apply(word_tokenize)\n"
   ]
  },
  {
   "cell_type": "code",
   "execution_count": null,
   "metadata": {
    "colab": {
     "base_uri": "https://localhost:8080/"
    },
    "id": "vcrDSZCg88qe",
    "outputId": "ac62fdf9-8bcb-45ca-e4f8-4e5829d0d70d"
   },
   "outputs": [],
   "source": [
    "#remove stop words\n",
    "import nltk\n",
    "nltk.download('stopwords')\n",
    "from nltk.corpus import stopwords\n",
    "\n",
    "stop_words = set(stopwords.words('english'))\n",
    "job_data['job_text_info'] = job_data['job_text_info'].apply(lambda x: [word for word in x if word not in stop_words])\n"
   ]
  },
  {
   "cell_type": "code",
   "execution_count": null,
   "metadata": {
    "colab": {
     "base_uri": "https://localhost:8080/"
    },
    "id": "QO2xYJp288qe",
    "outputId": "eb254a9d-8923-41bd-d210-91c092b79035"
   },
   "outputs": [],
   "source": [
    "nltk.download('omw-1.4')"
   ]
  },
  {
   "cell_type": "code",
   "execution_count": null,
   "metadata": {
    "colab": {
     "base_uri": "https://localhost:8080/"
    },
    "id": "GHVrmjFr88qf",
    "outputId": "44102994-1310-4a92-9ef3-540ff96819e9"
   },
   "outputs": [],
   "source": [
    "#lemmatization\n",
    "import nltk\n",
    "nltk.download('wordnet')\n",
    "from nltk.stem import WordNetLemmatizer\n",
    "\n",
    "lemmatizer = WordNetLemmatizer()\n",
    "job_data['job_text_info'] = job_data['job_text_info'].apply(lambda x: [lemmatizer.lemmatize(word) for word in x])\n"
   ]
  },
  {
   "cell_type": "code",
   "execution_count": null,
   "metadata": {
    "id": "ffnUSs4188qf"
   },
   "outputs": [],
   "source": [
    "#joining back to text\n",
    "job_data['job_text_info'] = job_data['job_text_info'].apply(lambda x: ' '.join(x))"
   ]
  },
  {
   "cell_type": "code",
   "execution_count": null,
   "metadata": {
    "colab": {
     "base_uri": "https://localhost:8080/"
    },
    "id": "43fAUu0pFYaN",
    "outputId": "e61b5fb7-b08a-447b-8783-d15837d331f4"
   },
   "outputs": [],
   "source": [
    "job_data['job_text_info'].head(5)"
   ]
  },
  {
   "cell_type": "code",
   "execution_count": null,
   "metadata": {
    "id": "DQ0GzuM588qf"
   },
   "outputs": [],
   "source": [
    "from sklearn.feature_extraction.text import TfidfVectorizer\n",
    "\n",
    "# Use TfidfVectorizer on the modified column\n",
    "vectorizer = TfidfVectorizer(max_features=5000)  # Adjust max_features as needed\n",
    "X = vectorizer.fit_transform(job_data['job_text_info'])\n"
   ]
  },
  {
   "cell_type": "code",
   "execution_count": null,
   "metadata": {
    "id": "O03a_qic88qf"
   },
   "outputs": [],
   "source": [
    "from sklearn.model_selection import train_test_split\n",
    "\n",
    "X_train, X_test, y_train, y_test = train_test_split(X, job_data['fraudulent'], test_size=0.2, random_state=42)\n"
   ]
  },
  {
   "cell_type": "code",
   "execution_count": null,
   "metadata": {
    "colab": {
     "base_uri": "https://localhost:8080/"
    },
    "id": "1Btf5g9A88qf",
    "outputId": "b02db957-0d20-4ef2-c550-93a537df3d65"
   },
   "outputs": [],
   "source": [
    "# Assuming you have X_train, X_test, y_train, and y_test\n",
    "\n",
    "# Print shape and data type of X_train\n",
    "print(\"X_train Shape:\", X_train.shape)\n",
    "print(\"X_train Data Type:\", type(X_train))\n",
    "\n",
    "# Print shape and data type of X_test\n",
    "print(\"\\nX_test Shape:\", X_test.shape)\n",
    "print(\"X_test Data Type:\", type(X_test))\n",
    "\n",
    "# Print shape and data type of y_train\n",
    "print(\"\\ny_train Shape:\", y_train.shape)\n",
    "print(\"y_train Data Type:\", type(y_train))\n",
    "\n",
    "# Print shape and data type of y_test\n",
    "print(\"\\ny_test Shape:\", y_test.shape)\n",
    "print(\"y_test Data Type:\", type(y_test))\n"
   ]
  },
  {
   "cell_type": "markdown",
   "metadata": {
    "id": "eSorABCtbYfQ"
   },
   "source": [
    "#### MODEL - 4 Neural Network"
   ]
  },
  {
   "cell_type": "code",
   "execution_count": null,
   "metadata": {
    "id": "Bw5jKqMg88qg"
   },
   "outputs": [],
   "source": [
    "from sklearn.neural_network import MLPClassifier\n",
    "\n",
    "from sklearn.metrics import accuracy_score\n",
    "from sklearn.metrics import confusion_matrix\n",
    "from sklearn.metrics import classification_report\n",
    "from sklearn.metrics import roc_auc_score"
   ]
  },
  {
   "cell_type": "code",
   "execution_count": null,
   "metadata": {
    "id": "MKyfETVg88qg"
   },
   "outputs": [],
   "source": [
    "# #Instatiatie our MLPClassifier\n",
    "mlp = MLPClassifier(solver='adam',\n",
    "                    activation = 'relu',\n",
    "                   hidden_layer_sizes = (100,50,30),\n",
    "                    max_iter = 1000)"
   ]
  },
  {
   "cell_type": "code",
   "execution_count": null,
   "metadata": {
    "colab": {
     "base_uri": "https://localhost:8080/",
     "height": 75
    },
    "id": "VuVzH-7V88qg",
    "outputId": "468a7262-d9b9-42f0-e7aa-c884d4c5c15c",
    "scrolled": false
   },
   "outputs": [],
   "source": [
    "mlp.fit(X_train, y_train)"
   ]
  },
  {
   "cell_type": "code",
   "execution_count": null,
   "metadata": {
    "colab": {
     "base_uri": "https://localhost:8080/"
    },
    "id": "W-v08Tl788qg",
    "outputId": "4ac316a5-d32a-4125-8e0d-032a032d36cd"
   },
   "outputs": [],
   "source": [
    "mlp_pred = mlp.predict(X_test)\n",
    "\n",
    "#Printing out our evaluation metrics\n",
    "print(roc_auc_score(y_test, mlp_pred))\n",
    "print(classification_report(y_test, mlp_pred))"
   ]
  },
  {
   "cell_type": "code",
   "execution_count": null,
   "metadata": {
    "colab": {
     "base_uri": "https://localhost:8080/"
    },
    "id": "wJbeml5UCNEk",
    "outputId": "13d2949f-43a5-435f-a277-34d45b0bd3a5"
   },
   "outputs": [],
   "source": [
    "accuracy = accuracy_score(y_test, mlp_pred)\n",
    "\n",
    "print(f'Accuracy: {accuracy:.2%}')"
   ]
  }
 ],
 "metadata": {
  "accelerator": "GPU",
  "colab": {
   "gpuType": "T4",
   "provenance": []
=======
      "cell_type": "code",
      "execution_count": 5,
      "metadata": {
        "colab": {
          "base_uri": "https://localhost:8080/"
        },
        "id": "SBK6bBef91do",
        "outputId": "2e059bdf-3732-4dad-e79e-5d53458a79a2"
      },
      "outputs": [
        {
          "output_type": "execute_result",
          "data": {
            "text/plain": [
              "(17880, 18)"
            ]
          },
          "metadata": {},
          "execution_count": 5
        }
      ],
      "source": [
        "job_data.shape"
      ]
    },
    {
      "cell_type": "code",
      "execution_count": 6,
      "metadata": {
        "colab": {
          "base_uri": "https://localhost:8080/",
          "height": 556
        },
        "id": "-CT2Ckcx8uMr",
        "outputId": "f4bb36b1-6c49-46cf-b1b2-f4ba952c2ecb"
      },
      "outputs": [
        {
          "output_type": "execute_result",
          "data": {
            "text/plain": [
              "   job_id                                      title            location  \\\n",
              "0       1                           Marketing Intern    US, NY, New York   \n",
              "1       2  Customer Service - Cloud Video Production      NZ, , Auckland   \n",
              "2       3    Commissioning Machinery Assistant (CMA)       US, IA, Wever   \n",
              "3       4          Account Executive - Washington DC  US, DC, Washington   \n",
              "4       5                        Bill Review Manager  US, FL, Fort Worth   \n",
              "\n",
              "  department salary_range                                    company_profile  \\\n",
              "0  Marketing          NaN  We're Food52, and we've created a groundbreaki...   \n",
              "1    Success          NaN  90 Seconds, the worlds Cloud Video Production ...   \n",
              "2        NaN          NaN  Valor Services provides Workforce Solutions th...   \n",
              "3      Sales          NaN  Our passion for improving quality of life thro...   \n",
              "4        NaN          NaN  SpotSource Solutions LLC is a Global Human Cap...   \n",
              "\n",
              "                                         description  \\\n",
              "0  Food52, a fast-growing, James Beard Award-winn...   \n",
              "1  Organised - Focused - Vibrant - Awesome!Do you...   \n",
              "2  Our client, located in Houston, is actively se...   \n",
              "3  THE COMPANY: ESRI – Environmental Systems Rese...   \n",
              "4  JOB TITLE: Itemization Review ManagerLOCATION:...   \n",
              "\n",
              "                                        requirements  \\\n",
              "0  Experience with content management systems a m...   \n",
              "1  What we expect from you:Your key responsibilit...   \n",
              "2  Implement pre-commissioning and commissioning ...   \n",
              "3  EDUCATION: Bachelor’s or Master’s in GIS, busi...   \n",
              "4  QUALIFICATIONS:RN license in the State of Texa...   \n",
              "\n",
              "                                            benefits  telecommuting  \\\n",
              "0                                                NaN              0   \n",
              "1  What you will get from usThrough being part of...              0   \n",
              "2                                                NaN              0   \n",
              "3  Our culture is anything but corporate—we have ...              0   \n",
              "4                              Full Benefits Offered              0   \n",
              "\n",
              "   has_company_logo  has_questions employment_type required_experience  \\\n",
              "0                 1              0           Other          Internship   \n",
              "1                 1              0       Full-time      Not Applicable   \n",
              "2                 1              0             NaN                 NaN   \n",
              "3                 1              0       Full-time    Mid-Senior level   \n",
              "4                 1              1       Full-time    Mid-Senior level   \n",
              "\n",
              "  required_education                   industry              function  \\\n",
              "0                NaN                        NaN             Marketing   \n",
              "1                NaN  Marketing and Advertising      Customer Service   \n",
              "2                NaN                        NaN                   NaN   \n",
              "3  Bachelor's Degree          Computer Software                 Sales   \n",
              "4  Bachelor's Degree     Hospital & Health Care  Health Care Provider   \n",
              "\n",
              "   fraudulent  \n",
              "0           0  \n",
              "1           0  \n",
              "2           0  \n",
              "3           0  \n",
              "4           0  "
            ],
            "text/html": [
              "\n",
              "  <div id=\"df-e5a9c773-c85b-47dc-acae-1a751ebcca94\" class=\"colab-df-container\">\n",
              "    <div>\n",
              "<style scoped>\n",
              "    .dataframe tbody tr th:only-of-type {\n",
              "        vertical-align: middle;\n",
              "    }\n",
              "\n",
              "    .dataframe tbody tr th {\n",
              "        vertical-align: top;\n",
              "    }\n",
              "\n",
              "    .dataframe thead th {\n",
              "        text-align: right;\n",
              "    }\n",
              "</style>\n",
              "<table border=\"1\" class=\"dataframe\">\n",
              "  <thead>\n",
              "    <tr style=\"text-align: right;\">\n",
              "      <th></th>\n",
              "      <th>job_id</th>\n",
              "      <th>title</th>\n",
              "      <th>location</th>\n",
              "      <th>department</th>\n",
              "      <th>salary_range</th>\n",
              "      <th>company_profile</th>\n",
              "      <th>description</th>\n",
              "      <th>requirements</th>\n",
              "      <th>benefits</th>\n",
              "      <th>telecommuting</th>\n",
              "      <th>has_company_logo</th>\n",
              "      <th>has_questions</th>\n",
              "      <th>employment_type</th>\n",
              "      <th>required_experience</th>\n",
              "      <th>required_education</th>\n",
              "      <th>industry</th>\n",
              "      <th>function</th>\n",
              "      <th>fraudulent</th>\n",
              "    </tr>\n",
              "  </thead>\n",
              "  <tbody>\n",
              "    <tr>\n",
              "      <th>0</th>\n",
              "      <td>1</td>\n",
              "      <td>Marketing Intern</td>\n",
              "      <td>US, NY, New York</td>\n",
              "      <td>Marketing</td>\n",
              "      <td>NaN</td>\n",
              "      <td>We're Food52, and we've created a groundbreaki...</td>\n",
              "      <td>Food52, a fast-growing, James Beard Award-winn...</td>\n",
              "      <td>Experience with content management systems a m...</td>\n",
              "      <td>NaN</td>\n",
              "      <td>0</td>\n",
              "      <td>1</td>\n",
              "      <td>0</td>\n",
              "      <td>Other</td>\n",
              "      <td>Internship</td>\n",
              "      <td>NaN</td>\n",
              "      <td>NaN</td>\n",
              "      <td>Marketing</td>\n",
              "      <td>0</td>\n",
              "    </tr>\n",
              "    <tr>\n",
              "      <th>1</th>\n",
              "      <td>2</td>\n",
              "      <td>Customer Service - Cloud Video Production</td>\n",
              "      <td>NZ, , Auckland</td>\n",
              "      <td>Success</td>\n",
              "      <td>NaN</td>\n",
              "      <td>90 Seconds, the worlds Cloud Video Production ...</td>\n",
              "      <td>Organised - Focused - Vibrant - Awesome!Do you...</td>\n",
              "      <td>What we expect from you:Your key responsibilit...</td>\n",
              "      <td>What you will get from usThrough being part of...</td>\n",
              "      <td>0</td>\n",
              "      <td>1</td>\n",
              "      <td>0</td>\n",
              "      <td>Full-time</td>\n",
              "      <td>Not Applicable</td>\n",
              "      <td>NaN</td>\n",
              "      <td>Marketing and Advertising</td>\n",
              "      <td>Customer Service</td>\n",
              "      <td>0</td>\n",
              "    </tr>\n",
              "    <tr>\n",
              "      <th>2</th>\n",
              "      <td>3</td>\n",
              "      <td>Commissioning Machinery Assistant (CMA)</td>\n",
              "      <td>US, IA, Wever</td>\n",
              "      <td>NaN</td>\n",
              "      <td>NaN</td>\n",
              "      <td>Valor Services provides Workforce Solutions th...</td>\n",
              "      <td>Our client, located in Houston, is actively se...</td>\n",
              "      <td>Implement pre-commissioning and commissioning ...</td>\n",
              "      <td>NaN</td>\n",
              "      <td>0</td>\n",
              "      <td>1</td>\n",
              "      <td>0</td>\n",
              "      <td>NaN</td>\n",
              "      <td>NaN</td>\n",
              "      <td>NaN</td>\n",
              "      <td>NaN</td>\n",
              "      <td>NaN</td>\n",
              "      <td>0</td>\n",
              "    </tr>\n",
              "    <tr>\n",
              "      <th>3</th>\n",
              "      <td>4</td>\n",
              "      <td>Account Executive - Washington DC</td>\n",
              "      <td>US, DC, Washington</td>\n",
              "      <td>Sales</td>\n",
              "      <td>NaN</td>\n",
              "      <td>Our passion for improving quality of life thro...</td>\n",
              "      <td>THE COMPANY: ESRI – Environmental Systems Rese...</td>\n",
              "      <td>EDUCATION: Bachelor’s or Master’s in GIS, busi...</td>\n",
              "      <td>Our culture is anything but corporate—we have ...</td>\n",
              "      <td>0</td>\n",
              "      <td>1</td>\n",
              "      <td>0</td>\n",
              "      <td>Full-time</td>\n",
              "      <td>Mid-Senior level</td>\n",
              "      <td>Bachelor's Degree</td>\n",
              "      <td>Computer Software</td>\n",
              "      <td>Sales</td>\n",
              "      <td>0</td>\n",
              "    </tr>\n",
              "    <tr>\n",
              "      <th>4</th>\n",
              "      <td>5</td>\n",
              "      <td>Bill Review Manager</td>\n",
              "      <td>US, FL, Fort Worth</td>\n",
              "      <td>NaN</td>\n",
              "      <td>NaN</td>\n",
              "      <td>SpotSource Solutions LLC is a Global Human Cap...</td>\n",
              "      <td>JOB TITLE: Itemization Review ManagerLOCATION:...</td>\n",
              "      <td>QUALIFICATIONS:RN license in the State of Texa...</td>\n",
              "      <td>Full Benefits Offered</td>\n",
              "      <td>0</td>\n",
              "      <td>1</td>\n",
              "      <td>1</td>\n",
              "      <td>Full-time</td>\n",
              "      <td>Mid-Senior level</td>\n",
              "      <td>Bachelor's Degree</td>\n",
              "      <td>Hospital &amp; Health Care</td>\n",
              "      <td>Health Care Provider</td>\n",
              "      <td>0</td>\n",
              "    </tr>\n",
              "  </tbody>\n",
              "</table>\n",
              "</div>\n",
              "    <div class=\"colab-df-buttons\">\n",
              "\n",
              "  <div class=\"colab-df-container\">\n",
              "    <button class=\"colab-df-convert\" onclick=\"convertToInteractive('df-e5a9c773-c85b-47dc-acae-1a751ebcca94')\"\n",
              "            title=\"Convert this dataframe to an interactive table.\"\n",
              "            style=\"display:none;\">\n",
              "\n",
              "  <svg xmlns=\"http://www.w3.org/2000/svg\" height=\"24px\" viewBox=\"0 -960 960 960\">\n",
              "    <path d=\"M120-120v-720h720v720H120Zm60-500h600v-160H180v160Zm220 220h160v-160H400v160Zm0 220h160v-160H400v160ZM180-400h160v-160H180v160Zm440 0h160v-160H620v160ZM180-180h160v-160H180v160Zm440 0h160v-160H620v160Z\"/>\n",
              "  </svg>\n",
              "    </button>\n",
              "\n",
              "  <style>\n",
              "    .colab-df-container {\n",
              "      display:flex;\n",
              "      gap: 12px;\n",
              "    }\n",
              "\n",
              "    .colab-df-convert {\n",
              "      background-color: #E8F0FE;\n",
              "      border: none;\n",
              "      border-radius: 50%;\n",
              "      cursor: pointer;\n",
              "      display: none;\n",
              "      fill: #1967D2;\n",
              "      height: 32px;\n",
              "      padding: 0 0 0 0;\n",
              "      width: 32px;\n",
              "    }\n",
              "\n",
              "    .colab-df-convert:hover {\n",
              "      background-color: #E2EBFA;\n",
              "      box-shadow: 0px 1px 2px rgba(60, 64, 67, 0.3), 0px 1px 3px 1px rgba(60, 64, 67, 0.15);\n",
              "      fill: #174EA6;\n",
              "    }\n",
              "\n",
              "    .colab-df-buttons div {\n",
              "      margin-bottom: 4px;\n",
              "    }\n",
              "\n",
              "    [theme=dark] .colab-df-convert {\n",
              "      background-color: #3B4455;\n",
              "      fill: #D2E3FC;\n",
              "    }\n",
              "\n",
              "    [theme=dark] .colab-df-convert:hover {\n",
              "      background-color: #434B5C;\n",
              "      box-shadow: 0px 1px 3px 1px rgba(0, 0, 0, 0.15);\n",
              "      filter: drop-shadow(0px 1px 2px rgba(0, 0, 0, 0.3));\n",
              "      fill: #FFFFFF;\n",
              "    }\n",
              "  </style>\n",
              "\n",
              "    <script>\n",
              "      const buttonEl =\n",
              "        document.querySelector('#df-e5a9c773-c85b-47dc-acae-1a751ebcca94 button.colab-df-convert');\n",
              "      buttonEl.style.display =\n",
              "        google.colab.kernel.accessAllowed ? 'block' : 'none';\n",
              "\n",
              "      async function convertToInteractive(key) {\n",
              "        const element = document.querySelector('#df-e5a9c773-c85b-47dc-acae-1a751ebcca94');\n",
              "        const dataTable =\n",
              "          await google.colab.kernel.invokeFunction('convertToInteractive',\n",
              "                                                    [key], {});\n",
              "        if (!dataTable) return;\n",
              "\n",
              "        const docLinkHtml = 'Like what you see? Visit the ' +\n",
              "          '<a target=\"_blank\" href=https://colab.research.google.com/notebooks/data_table.ipynb>data table notebook</a>'\n",
              "          + ' to learn more about interactive tables.';\n",
              "        element.innerHTML = '';\n",
              "        dataTable['output_type'] = 'display_data';\n",
              "        await google.colab.output.renderOutput(dataTable, element);\n",
              "        const docLink = document.createElement('div');\n",
              "        docLink.innerHTML = docLinkHtml;\n",
              "        element.appendChild(docLink);\n",
              "      }\n",
              "    </script>\n",
              "  </div>\n",
              "\n",
              "\n",
              "<div id=\"df-bf98248b-c6b8-438f-8cdb-6944b529654a\">\n",
              "  <button class=\"colab-df-quickchart\" onclick=\"quickchart('df-bf98248b-c6b8-438f-8cdb-6944b529654a')\"\n",
              "            title=\"Suggest charts\"\n",
              "            style=\"display:none;\">\n",
              "\n",
              "<svg xmlns=\"http://www.w3.org/2000/svg\" height=\"24px\"viewBox=\"0 0 24 24\"\n",
              "     width=\"24px\">\n",
              "    <g>\n",
              "        <path d=\"M19 3H5c-1.1 0-2 .9-2 2v14c0 1.1.9 2 2 2h14c1.1 0 2-.9 2-2V5c0-1.1-.9-2-2-2zM9 17H7v-7h2v7zm4 0h-2V7h2v10zm4 0h-2v-4h2v4z\"/>\n",
              "    </g>\n",
              "</svg>\n",
              "  </button>\n",
              "\n",
              "<style>\n",
              "  .colab-df-quickchart {\n",
              "      --bg-color: #E8F0FE;\n",
              "      --fill-color: #1967D2;\n",
              "      --hover-bg-color: #E2EBFA;\n",
              "      --hover-fill-color: #174EA6;\n",
              "      --disabled-fill-color: #AAA;\n",
              "      --disabled-bg-color: #DDD;\n",
              "  }\n",
              "\n",
              "  [theme=dark] .colab-df-quickchart {\n",
              "      --bg-color: #3B4455;\n",
              "      --fill-color: #D2E3FC;\n",
              "      --hover-bg-color: #434B5C;\n",
              "      --hover-fill-color: #FFFFFF;\n",
              "      --disabled-bg-color: #3B4455;\n",
              "      --disabled-fill-color: #666;\n",
              "  }\n",
              "\n",
              "  .colab-df-quickchart {\n",
              "    background-color: var(--bg-color);\n",
              "    border: none;\n",
              "    border-radius: 50%;\n",
              "    cursor: pointer;\n",
              "    display: none;\n",
              "    fill: var(--fill-color);\n",
              "    height: 32px;\n",
              "    padding: 0;\n",
              "    width: 32px;\n",
              "  }\n",
              "\n",
              "  .colab-df-quickchart:hover {\n",
              "    background-color: var(--hover-bg-color);\n",
              "    box-shadow: 0 1px 2px rgba(60, 64, 67, 0.3), 0 1px 3px 1px rgba(60, 64, 67, 0.15);\n",
              "    fill: var(--button-hover-fill-color);\n",
              "  }\n",
              "\n",
              "  .colab-df-quickchart-complete:disabled,\n",
              "  .colab-df-quickchart-complete:disabled:hover {\n",
              "    background-color: var(--disabled-bg-color);\n",
              "    fill: var(--disabled-fill-color);\n",
              "    box-shadow: none;\n",
              "  }\n",
              "\n",
              "  .colab-df-spinner {\n",
              "    border: 2px solid var(--fill-color);\n",
              "    border-color: transparent;\n",
              "    border-bottom-color: var(--fill-color);\n",
              "    animation:\n",
              "      spin 1s steps(1) infinite;\n",
              "  }\n",
              "\n",
              "  @keyframes spin {\n",
              "    0% {\n",
              "      border-color: transparent;\n",
              "      border-bottom-color: var(--fill-color);\n",
              "      border-left-color: var(--fill-color);\n",
              "    }\n",
              "    20% {\n",
              "      border-color: transparent;\n",
              "      border-left-color: var(--fill-color);\n",
              "      border-top-color: var(--fill-color);\n",
              "    }\n",
              "    30% {\n",
              "      border-color: transparent;\n",
              "      border-left-color: var(--fill-color);\n",
              "      border-top-color: var(--fill-color);\n",
              "      border-right-color: var(--fill-color);\n",
              "    }\n",
              "    40% {\n",
              "      border-color: transparent;\n",
              "      border-right-color: var(--fill-color);\n",
              "      border-top-color: var(--fill-color);\n",
              "    }\n",
              "    60% {\n",
              "      border-color: transparent;\n",
              "      border-right-color: var(--fill-color);\n",
              "    }\n",
              "    80% {\n",
              "      border-color: transparent;\n",
              "      border-right-color: var(--fill-color);\n",
              "      border-bottom-color: var(--fill-color);\n",
              "    }\n",
              "    90% {\n",
              "      border-color: transparent;\n",
              "      border-bottom-color: var(--fill-color);\n",
              "    }\n",
              "  }\n",
              "</style>\n",
              "\n",
              "  <script>\n",
              "    async function quickchart(key) {\n",
              "      const quickchartButtonEl =\n",
              "        document.querySelector('#' + key + ' button');\n",
              "      quickchartButtonEl.disabled = true;  // To prevent multiple clicks.\n",
              "      quickchartButtonEl.classList.add('colab-df-spinner');\n",
              "      try {\n",
              "        const charts = await google.colab.kernel.invokeFunction(\n",
              "            'suggestCharts', [key], {});\n",
              "      } catch (error) {\n",
              "        console.error('Error during call to suggestCharts:', error);\n",
              "      }\n",
              "      quickchartButtonEl.classList.remove('colab-df-spinner');\n",
              "      quickchartButtonEl.classList.add('colab-df-quickchart-complete');\n",
              "    }\n",
              "    (() => {\n",
              "      let quickchartButtonEl =\n",
              "        document.querySelector('#df-bf98248b-c6b8-438f-8cdb-6944b529654a button');\n",
              "      quickchartButtonEl.style.display =\n",
              "        google.colab.kernel.accessAllowed ? 'block' : 'none';\n",
              "    })();\n",
              "  </script>\n",
              "</div>\n",
              "    </div>\n",
              "  </div>\n"
            ]
          },
          "metadata": {},
          "execution_count": 6
        }
      ],
      "source": [
        "job_data.head()"
      ]
    },
    {
      "cell_type": "code",
      "execution_count": 7,
      "metadata": {
        "colab": {
          "base_uri": "https://localhost:8080/"
        },
        "id": "DpU7IE_i8-e-",
        "outputId": "fc38dc49-1d99-4039-9d22-58c4e0652ae5"
      },
      "outputs": [
        {
          "output_type": "stream",
          "name": "stdout",
          "text": [
            "job_id                     0\n",
            "title                      0\n",
            "location                 346\n",
            "department             11547\n",
            "salary_range           15012\n",
            "company_profile         3308\n",
            "description                1\n",
            "requirements            2695\n",
            "benefits                7210\n",
            "telecommuting              0\n",
            "has_company_logo           0\n",
            "has_questions              0\n",
            "employment_type         3471\n",
            "required_experience     7050\n",
            "required_education      8105\n",
            "industry                4903\n",
            "function                6455\n",
            "fraudulent                 0\n",
            "dtype: int64\n"
          ]
        }
      ],
      "source": [
        "#we can see nan values, lets count there number for each columns\n",
        "# Assuming df is your DataFrame\n",
        "# Assuming df is your DataFrame\n",
        "nan_count_per_column = job_data.isna().sum()\n",
        "# or df.isnull().sum()\n",
        "\n",
        "print(nan_count_per_column)"
      ]
    },
    {
      "cell_type": "code",
      "execution_count": 8,
      "metadata": {
        "colab": {
          "base_uri": "https://localhost:8080/",
          "height": 472
        },
        "id": "MeSgZoe_wENW",
        "outputId": "736d6e19-e08f-4afb-c289-82561ab70398"
      },
      "outputs": [
        {
          "output_type": "display_data",
          "data": {
            "text/plain": [
              "<Figure size 640x480 with 1 Axes>"
            ],
            "image/png": "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\n"
          },
          "metadata": {}
        }
      ],
      "source": [
        "# Visualize the distribution of the target variable (fraudulent)\n",
        "sns.countplot(x='fraudulent', data=job_data)\n",
        "plt.title('Distribution of Fraudulent vs. Non-Fraudulent Job Descriptions')\n",
        "plt.show()"
      ]
    },
    {
      "cell_type": "markdown",
      "metadata": {
        "id": "8-YcRlZ3we4h"
      },
      "source": [
        "This code uses seaborn to create a count plot of the target variable (fraudulent). It helps visualize the balance or imbalance between fraudulent and non-fraudulent job descriptions."
      ]
    },
    {
      "cell_type": "markdown",
      "metadata": {
        "id": "hKDS7OunxJLj"
      },
      "source": [
        "title                17880 non-null  object\n",
        " 2   location             17534 non-null  object\n",
        " 3   department           6333 non-null   object\n",
        " 4   salary_range         2868 non-null   object\n",
        " 5   company_profile      14572 non-null  object\n",
        " 6   description          17879 non-null  object\n",
        " 7   requirements         15185 non-null  object\n",
        " 8   benefits             10670 non-null  object\n",
        " 9   telecommuting        17880 non-null  int64\n",
        " 10  has_company_logo     17880 non-null  int64\n",
        " 11  has_questions        17880 non-null  int64\n",
        " 12  employment_type      14409 non-null  object\n",
        " 13  required_experience  10830 non-null  object\n",
        " 14  required_education   9775 non-null   object\n",
        " 15  industry             12977 non-null  object\n",
        " 16  function             11425 non-null  object"
      ]
    },
    {
      "cell_type": "markdown",
      "metadata": {
        "id": "0EoU1sFsw38d"
      },
      "source": [
        "### **Let's Explore Some Categorical Variables**"
      ]
    },
    {
      "cell_type": "markdown",
      "metadata": {
        "id": "SycriHi72C38"
      },
      "source": [
        "This code provides insights into the unique values and their counts for each categorical column."
      ]
    },
    {
      "cell_type": "code",
      "execution_count": 9,
      "metadata": {
        "colab": {
          "base_uri": "https://localhost:8080/"
        },
        "id": "bgi3E0J6wVUv",
        "outputId": "0064bc3e-ff20-46a9-b28a-16fc84cdd96c"
      },
      "outputs": [
        {
          "output_type": "stream",
          "name": "stdout",
          "text": [
            "Unique values in title: ['Marketing Intern' 'Customer Service - Cloud Video Production'\n",
            " 'Commissioning Machinery Assistant (CMA)' ...\n",
            " 'Senior Financial Analyst (Retail) ' 'Account Director - Distribution '\n",
            " 'Project Cost Control Staff Engineer - Cost Control Exp - TX']\n",
            "\n",
            "Value counts in title:\n",
            "English Teacher Abroad                                         311\n",
            "Customer Service Associate                                     146\n",
            "Graduates: English Teacher Abroad (Conversational)             144\n",
            "English Teacher Abroad                                          95\n",
            "Software Engineer                                               86\n",
            "                                                              ... \n",
            "West Coast Regional Channel Manager (RCM)                        1\n",
            "BI Practice Manager                                              1\n",
            "Community Coordinator- Ambassador Programme                      1\n",
            "Senior Traffic Engineer                                          1\n",
            "Project Cost Control Staff Engineer - Cost Control Exp - TX      1\n",
            "Name: title, Length: 11231, dtype: int64\n",
            "\n",
            "\n",
            "\n",
            "Unique values in location: ['US, NY, New York' 'NZ, , Auckland' 'US, IA, Wever' ...\n",
            " 'US, CA, los Angeles' 'CA, , Ottawa' 'GB, WSX, Chichester']\n",
            "\n",
            "Value counts in location:\n",
            "GB, LND, London          718\n",
            "US, NY, New York         658\n",
            "US, CA, San Francisco    472\n",
            "GR, I, Athens            464\n",
            "US, ,                    339\n",
            "                        ... \n",
            "GB, SFK, Leiston           1\n",
            "GB, LND, Hammersmith       1\n",
            "US, WA, Seattle            1\n",
            "BE                         1\n",
            "GB, WSX, Chichester        1\n",
            "Name: location, Length: 3105, dtype: int64\n",
            "\n",
            "\n",
            "\n",
            "Unique values in department: ['Marketing' 'Success' nan ... 'Admin - Clerical' 'Administrative Dept'\n",
            " 'Hospitality']\n",
            "\n",
            "Value counts in department:\n",
            "Sales                                          551\n",
            "Engineering                                    487\n",
            "Marketing                                      401\n",
            "Operations                                     270\n",
            "IT                                             225\n",
            "                                              ... \n",
            "Commercial Management / Contract Management      1\n",
            "Exec                                             1\n",
            "Marcomm                                          1\n",
            "CRM                                              1\n",
            "Hospitality                                      1\n",
            "Name: department, Length: 1337, dtype: int64\n",
            "\n",
            "\n",
            "\n",
            "Unique values in employment_type: ['Other' 'Full-time' nan 'Part-time' 'Contract' 'Temporary']\n",
            "\n",
            "Value counts in employment_type:\n",
            "Full-time    11620\n",
            "Contract      1524\n",
            "Part-time      797\n",
            "Temporary      241\n",
            "Other          227\n",
            "Name: employment_type, dtype: int64\n",
            "\n",
            "\n",
            "\n",
            "Unique values in required_experience: ['Internship' 'Not Applicable' nan 'Mid-Senior level' 'Associate'\n",
            " 'Entry level' 'Executive' 'Director']\n",
            "\n",
            "Value counts in required_experience:\n",
            "Mid-Senior level    3809\n",
            "Entry level         2697\n",
            "Associate           2297\n",
            "Not Applicable      1116\n",
            "Director             389\n",
            "Internship           381\n",
            "Executive            141\n",
            "Name: required_experience, dtype: int64\n",
            "\n",
            "\n",
            "\n",
            "Unique values in required_education: [nan \"Bachelor's Degree\" \"Master's Degree\" 'High School or equivalent'\n",
            " 'Unspecified' 'Some College Coursework Completed' 'Vocational'\n",
            " 'Certification' 'Associate Degree' 'Professional' 'Doctorate'\n",
            " 'Some High School Coursework' 'Vocational - Degree'\n",
            " 'Vocational - HS Diploma']\n",
            "\n",
            "Value counts in required_education:\n",
            "Bachelor's Degree                    5145\n",
            "High School or equivalent            2080\n",
            "Unspecified                          1397\n",
            "Master's Degree                       416\n",
            "Associate Degree                      274\n",
            "Certification                         170\n",
            "Some College Coursework Completed     102\n",
            "Professional                           74\n",
            "Vocational                             49\n",
            "Some High School Coursework            27\n",
            "Doctorate                              26\n",
            "Vocational - HS Diploma                 9\n",
            "Vocational - Degree                     6\n",
            "Name: required_education, dtype: int64\n",
            "\n",
            "\n",
            "\n",
            "Unique values in industry: [nan 'Marketing and Advertising' 'Computer Software'\n",
            " 'Hospital & Health Care' 'Online Media'\n",
            " 'Information Technology and Services' 'Financial Services'\n",
            " 'Management Consulting' 'Events Services' 'Internet'\n",
            " 'Facilities Services' 'Consumer Electronics' 'Telecommunications'\n",
            " 'Consumer Services' 'Construction' 'Oil & Energy' 'Education Management'\n",
            " 'Building Materials' 'Banking' 'Food & Beverages' 'Food Production'\n",
            " 'Health, Wellness and Fitness' 'Insurance' 'E-Learning' 'Cosmetics'\n",
            " 'Staffing and Recruiting' 'Venture Capital & Private Equity'\n",
            " 'Leisure, Travel & Tourism' 'Human Resources' 'Pharmaceuticals' 'Farming'\n",
            " 'Legal Services' 'Luxury Goods & Jewelry' 'Machinery' 'Real Estate'\n",
            " 'Mechanical or Industrial Engineering'\n",
            " 'Public Relations and Communications' 'Consumer Goods' 'Medical Practice'\n",
            " 'Electrical/Electronic Manufacturing' 'Hospitality' 'Music'\n",
            " 'Market Research' 'Automotive' 'Philanthropy' 'Utilities'\n",
            " 'Primary/Secondary Education' 'Logistics and Supply Chain' 'Design'\n",
            " 'Gambling & Casinos' 'Accounting' 'Environmental Services'\n",
            " 'Mental Health Care' 'Investment Management' 'Apparel & Fashion'\n",
            " 'Media Production' 'Publishing' 'Medical Devices' 'Information Services'\n",
            " 'Retail' 'Sports' 'Computer Games' 'Chemicals' 'Aviation & Aerospace'\n",
            " 'Business Supplies and Equipment' 'Program Development'\n",
            " 'Computer Networking' 'Biotechnology' 'Civic & Social Organization'\n",
            " 'Religious Institutions' 'Warehousing' 'Airlines/Aviation'\n",
            " 'Writing and Editing' 'Restaurants' 'Outsourcing/Offshoring'\n",
            " 'Transportation/Trucking/Railroad' 'Wireless' 'Investment Banking'\n",
            " 'Nonprofit Organization Management' 'Libraries' 'Computer Hardware'\n",
            " 'Broadcast Media' 'Printing' 'Graphic Design' 'Entertainment' 'Wholesale'\n",
            " 'Research' 'Animation' 'Government Administration' 'Capital Markets'\n",
            " 'Computer & Network Security' 'Semiconductors'\n",
            " 'Security and Investigations' 'Architecture & Planning' 'Maritime'\n",
            " 'Fund-Raising' 'Higher Education' 'Renewables & Environment'\n",
            " 'Motion Pictures and Film' 'Law Practice' 'Government Relations'\n",
            " 'Packaging and Containers' 'Sporting Goods' 'Mining & Metals'\n",
            " 'Import and Export' 'International Trade and Development'\n",
            " 'Professional Training & Coaching' 'Textiles' 'Commercial Real Estate'\n",
            " 'Law Enforcement' 'Package/Freight Delivery'\n",
            " 'Translation and Localization' 'Photography' 'Industrial Automation'\n",
            " 'Wine and Spirits' 'Public Safety' 'Civil Engineering' 'Military'\n",
            " 'Defense & Space' 'Veterinary' 'Executive Office' 'Performing Arts'\n",
            " 'Individual & Family Services' 'Public Policy' 'Nanotechnology'\n",
            " 'Museums and Institutions' 'Fishery' 'Plastics' 'Furniture'\n",
            " 'Shipbuilding' 'Alternative Dispute Resolution' 'Ranching']\n",
            "\n",
            "Value counts in industry:\n",
            "Information Technology and Services    1734\n",
            "Computer Software                      1376\n",
            "Internet                               1062\n",
            "Marketing and Advertising               828\n",
            "Education Management                    822\n",
            "                                       ... \n",
            "Shipbuilding                              1\n",
            "Sporting Goods                            1\n",
            "Museums and Institutions                  1\n",
            "Wine and Spirits                          1\n",
            "Ranching                                  1\n",
            "Name: industry, Length: 131, dtype: int64\n",
            "\n",
            "\n",
            "\n",
            "Unique values in function: ['Marketing' 'Customer Service' nan 'Sales' 'Health Care Provider'\n",
            " 'Management' 'Information Technology' 'Other' 'Engineering'\n",
            " 'Administrative' 'Design' 'Production' 'Education' 'Supply Chain'\n",
            " 'Business Development' 'Product Management' 'Financial Analyst'\n",
            " 'Consulting' 'Human Resources' 'Project Management' 'Manufacturing'\n",
            " 'Public Relations' 'Strategy/Planning' 'Advertising' 'Finance'\n",
            " 'General Business' 'Research' 'Accounting/Auditing' 'Art/Creative'\n",
            " 'Quality Assurance' 'Data Analyst' 'Business Analyst' 'Writing/Editing'\n",
            " 'Distribution' 'Science' 'Training' 'Purchasing' 'Legal']\n",
            "\n",
            "Value counts in function:\n",
            "Information Technology    1749\n",
            "Sales                     1468\n",
            "Engineering               1348\n",
            "Customer Service          1229\n",
            "Marketing                  830\n",
            "Administrative             630\n",
            "Design                     340\n",
            "Health Care Provider       338\n",
            "Other                      325\n",
            "Education                  325\n",
            "Management                 317\n",
            "Business Development       228\n",
            "Accounting/Auditing        212\n",
            "Human Resources            205\n",
            "Project Management         183\n",
            "Finance                    172\n",
            "Consulting                 144\n",
            "Writing/Editing            132\n",
            "Art/Creative               132\n",
            "Production                 116\n",
            "Product Management         114\n",
            "Quality Assurance          111\n",
            "Advertising                 90\n",
            "Business Analyst            84\n",
            "Data Analyst                82\n",
            "Public Relations            76\n",
            "Manufacturing               74\n",
            "General Business            68\n",
            "Research                    50\n",
            "Legal                       47\n",
            "Strategy/Planning           46\n",
            "Training                    38\n",
            "Supply Chain                36\n",
            "Financial Analyst           33\n",
            "Distribution                24\n",
            "Purchasing                  15\n",
            "Science                     14\n",
            "Name: function, dtype: int64\n",
            "\n",
            "\n",
            "\n"
          ]
        }
      ],
      "source": [
        "# Explore unique values in categorical columns\n",
        "categorical_columns = ['title', 'location','department', 'employment_type', 'required_experience', 'required_education', 'industry', 'function']\n",
        "\n",
        "for col in categorical_columns:\n",
        "    print(f\"Unique values in {col}: {job_data[col].unique()}\\n\")\n",
        "    print(f\"Value counts in {col}:\\n{job_data[col].value_counts()}\\n\")\n",
        "    print(\"\\n\")\n"
      ]
    },
    {
      "cell_type": "code",
      "execution_count": 10,
      "metadata": {
        "colab": {
          "base_uri": "https://localhost:8080/",
          "height": 472
        },
        "id": "8-HwYxnP3D-T",
        "outputId": "57e14c52-9895-46ad-a7db-072d2f8755ba"
      },
      "outputs": [
        {
          "output_type": "display_data",
          "data": {
            "text/plain": [
              "<Figure size 640x480 with 1 Axes>"
            ],
            "image/png": "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\n"
          },
          "metadata": {}
        }
      ],
      "source": [
        "# Visualize the relationship between employment_type and fraudulent\n",
        "sns.countplot(x='employment_type', hue='fraudulent', data=job_data)\n",
        "plt.title('Relationship between Employment Type and Fraudulent Job Descriptions')\n",
        "plt.show()\n",
        "\n",
        "\n"
      ]
    },
    {
      "cell_type": "code",
      "execution_count": 11,
      "metadata": {
        "colab": {
          "base_uri": "https://localhost:8080/",
          "height": 718
        },
        "id": "M-S7ha2c3OHd",
        "outputId": "21393fd2-2000-4e9d-8a68-2147c47e8af2"
      },
      "outputs": [
        {
          "output_type": "display_data",
          "data": {
            "text/plain": [
              "<Figure size 1200x800 with 1 Axes>"
            ],
            "image/png": "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\n"
          },
          "metadata": {}
        }
      ],
      "source": [
        "# Visualize the relationship between required_experience and fraudulent\n",
        "plt.figure(figsize=(12, 8))  # Set the width and height of the figure\n",
        "sns.countplot(x='required_experience', hue='fraudulent', data=job_data)\n",
        "plt.title('Relationship between Required Experience and Fraudulent Job Descriptions')\n",
        "plt.show()"
      ]
    },
    {
      "cell_type": "code",
      "execution_count": 12,
      "metadata": {
        "colab": {
          "base_uri": "https://localhost:8080/",
          "height": 900
        },
        "id": "WvkxmEdVBWEI",
        "outputId": "18aeeb66-ea0e-488f-d105-e27c71fa7713"
      },
      "outputs": [
        {
          "output_type": "display_data",
          "data": {
            "text/plain": [
              "<Figure size 1200x800 with 1 Axes>"
            ],
            "image/png": "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\n"
          },
          "metadata": {}
        }
      ],
      "source": [
        "# Set the width and height of the figure\n",
        "plt.figure(figsize=(12, 8))\n",
        "\n",
        "# Visualize the relationship between required_education and fraudulent\n",
        "ax = sns.countplot(x='required_education', hue='fraudulent', data=job_data)\n",
        "\n",
        "# Rotate x-axis labels for better visibility\n",
        "ax.set_xticklabels(ax.get_xticklabels(), rotation=45, ha='right')\n",
        "\n",
        "plt.title('Relationship between Required Education and Fraudulent Job Descriptions')\n",
        "plt.show()\n"
      ]
    },
    {
      "cell_type": "code",
      "execution_count": 13,
      "metadata": {
        "colab": {
          "base_uri": "https://localhost:8080/"
        },
        "id": "30Nssk69Ul6D",
        "outputId": "68c33d82-d7c1-4b6d-9cf5-545cc431b436"
      },
      "outputs": [
        {
          "output_type": "stream",
          "name": "stdout",
          "text": [
            "Columns with missing values: Index(['location', 'department', 'salary_range', 'company_profile',\n",
            "       'description', 'requirements', 'benefits', 'employment_type',\n",
            "       'required_experience', 'required_education', 'industry', 'function'],\n",
            "      dtype='object')\n",
            "\n",
            "\n",
            "job_id                     0\n",
            "title                      0\n",
            "location                 346\n",
            "department             11547\n",
            "salary_range           15012\n",
            "company_profile         3308\n",
            "description                1\n",
            "requirements            2695\n",
            "benefits                7210\n",
            "telecommuting              0\n",
            "has_company_logo           0\n",
            "has_questions              0\n",
            "employment_type         3471\n",
            "required_experience     7050\n",
            "required_education      8105\n",
            "industry                4903\n",
            "function                6455\n",
            "fraudulent                 0\n",
            "dtype: int64\n"
          ]
        }
      ],
      "source": [
        "# Check for missing values in each column\n",
        "missing_values = job_data.isnull().sum()\n",
        "\n",
        "# Display columns with missing values\n",
        "columns_with_missing_values = missing_values[missing_values > 0].index\n",
        "print(\"Columns with missing values:\", columns_with_missing_values)\n",
        "\n",
        "print(\"\\n\")\n",
        "\n",
        "print(missing_values)"
      ]
    },
    {
      "cell_type": "code",
      "execution_count": 14,
      "metadata": {
        "id": "xLhaWiwGXZq3"
      },
      "outputs": [],
      "source": [
        "# Fill missing values in the 'location' column with a specific value, for example, 'Unknown'\n",
        "job_data['location'].fillna('', inplace=True)"
      ]
    },
    {
      "cell_type": "code",
      "execution_count": 15,
      "metadata": {
        "id": "82WYuXS3hwBi"
      },
      "outputs": [],
      "source": [
        "job_data['company_profile'].fillna('', inplace=True)"
      ]
    },
    {
      "cell_type": "code",
      "execution_count": 16,
      "metadata": {
        "id": "Um3Bzbl_jgN2"
      },
      "outputs": [],
      "source": [
        "job_data['requirements'].fillna('', inplace=True)"
      ]
    },
    {
      "cell_type": "code",
      "execution_count": 17,
      "metadata": {
        "id": "7akGWOUgjsvB"
      },
      "outputs": [],
      "source": [
        "# text_columns = ['title', 'location', 'department', 'company_profile', 'description', 'requirements', 'benefits']\n",
        "\n",
        "# for col in text_columns:\n",
        "#     job_data[col] = job_data[col].str.lower()\n"
      ]
    },
    {
      "cell_type": "code",
      "execution_count": 18,
      "metadata": {
        "colab": {
          "base_uri": "https://localhost:8080/"
        },
        "id": "UyZyp74UnjKo",
        "outputId": "b05139fc-a0f4-40a6-99ae-da39f7dd5882"
      },
      "outputs": [
        {
          "output_type": "execute_result",
          "data": {
            "text/plain": [
              "0            US, NY, New York\n",
              "1              NZ, , Auckland\n",
              "2               US, IA, Wever\n",
              "3          US, DC, Washington\n",
              "4          US, FL, Fort Worth\n",
              "                 ...         \n",
              "17875         CA, ON, Toronto\n",
              "17876    US, PA, Philadelphia\n",
              "17877         US, TX, Houston\n",
              "17878           NG, LA, Lagos\n",
              "17879       NZ, N, Wellington\n",
              "Name: location, Length: 17880, dtype: object"
            ]
          },
          "metadata": {},
          "execution_count": 18
        }
      ],
      "source": [
        "job_data['location']"
      ]
    },
    {
      "cell_type": "code",
      "execution_count": 19,
      "metadata": {
        "colab": {
          "base_uri": "https://localhost:8080/"
        },
        "id": "nZqoCFwu88qX",
        "outputId": "aeed8322-4182-472e-824a-2d315cb367ff"
      },
      "outputs": [
        {
          "output_type": "stream",
          "name": "stdout",
          "text": [
            "['title', 'location', 'department', 'salary_range', 'company_profile', 'description', 'requirements', 'benefits', 'employment_type', 'required_experience', 'required_education', 'industry', 'function']\n"
          ]
        }
      ],
      "source": [
        "#Extracting only those columns which have datatype as object\n",
        "\n",
        "# Get column names with data type 'object'\n",
        "columns_text_data = job_data.select_dtypes(include='object').columns.tolist()\n",
        "\n",
        "# Print the resulting list of column names\n",
        "print(columns_text_data)"
      ]
    },
    {
      "cell_type": "code",
      "execution_count": 20,
      "metadata": {
        "id": "XOH6TV1x88qX"
      },
      "outputs": [],
      "source": [
        "job_data[columns_text_data] = job_data[columns_text_data].fillna(' ')\n"
      ]
    },
    {
      "cell_type": "code",
      "execution_count": 21,
      "metadata": {
        "colab": {
          "base_uri": "https://localhost:8080/",
          "height": 556
        },
        "id": "eb4Nw5Q188qX",
        "outputId": "3c8de2c4-ef4a-4649-aa77-e5fa48237952"
      },
      "outputs": [
        {
          "output_type": "execute_result",
          "data": {
            "text/plain": [
              "   job_id                                      title            location  \\\n",
              "0       1                           Marketing Intern    US, NY, New York   \n",
              "1       2  Customer Service - Cloud Video Production      NZ, , Auckland   \n",
              "2       3    Commissioning Machinery Assistant (CMA)       US, IA, Wever   \n",
              "3       4          Account Executive - Washington DC  US, DC, Washington   \n",
              "4       5                        Bill Review Manager  US, FL, Fort Worth   \n",
              "\n",
              "  department salary_range                                    company_profile  \\\n",
              "0  Marketing               We're Food52, and we've created a groundbreaki...   \n",
              "1    Success               90 Seconds, the worlds Cloud Video Production ...   \n",
              "2                          Valor Services provides Workforce Solutions th...   \n",
              "3      Sales               Our passion for improving quality of life thro...   \n",
              "4                          SpotSource Solutions LLC is a Global Human Cap...   \n",
              "\n",
              "                                         description  \\\n",
              "0  Food52, a fast-growing, James Beard Award-winn...   \n",
              "1  Organised - Focused - Vibrant - Awesome!Do you...   \n",
              "2  Our client, located in Houston, is actively se...   \n",
              "3  THE COMPANY: ESRI – Environmental Systems Rese...   \n",
              "4  JOB TITLE: Itemization Review ManagerLOCATION:...   \n",
              "\n",
              "                                        requirements  \\\n",
              "0  Experience with content management systems a m...   \n",
              "1  What we expect from you:Your key responsibilit...   \n",
              "2  Implement pre-commissioning and commissioning ...   \n",
              "3  EDUCATION: Bachelor’s or Master’s in GIS, busi...   \n",
              "4  QUALIFICATIONS:RN license in the State of Texa...   \n",
              "\n",
              "                                            benefits  telecommuting  \\\n",
              "0                                                                 0   \n",
              "1  What you will get from usThrough being part of...              0   \n",
              "2                                                                 0   \n",
              "3  Our culture is anything but corporate—we have ...              0   \n",
              "4                              Full Benefits Offered              0   \n",
              "\n",
              "   has_company_logo  has_questions employment_type required_experience  \\\n",
              "0                 1              0           Other          Internship   \n",
              "1                 1              0       Full-time      Not Applicable   \n",
              "2                 1              0                                       \n",
              "3                 1              0       Full-time    Mid-Senior level   \n",
              "4                 1              1       Full-time    Mid-Senior level   \n",
              "\n",
              "  required_education                   industry              function  \\\n",
              "0                                                           Marketing   \n",
              "1                     Marketing and Advertising      Customer Service   \n",
              "2                                                                       \n",
              "3  Bachelor's Degree          Computer Software                 Sales   \n",
              "4  Bachelor's Degree     Hospital & Health Care  Health Care Provider   \n",
              "\n",
              "   fraudulent  \n",
              "0           0  \n",
              "1           0  \n",
              "2           0  \n",
              "3           0  \n",
              "4           0  "
            ],
            "text/html": [
              "\n",
              "  <div id=\"df-367a10ca-59f6-4de4-a0c7-ea8da0e047f5\" class=\"colab-df-container\">\n",
              "    <div>\n",
              "<style scoped>\n",
              "    .dataframe tbody tr th:only-of-type {\n",
              "        vertical-align: middle;\n",
              "    }\n",
              "\n",
              "    .dataframe tbody tr th {\n",
              "        vertical-align: top;\n",
              "    }\n",
              "\n",
              "    .dataframe thead th {\n",
              "        text-align: right;\n",
              "    }\n",
              "</style>\n",
              "<table border=\"1\" class=\"dataframe\">\n",
              "  <thead>\n",
              "    <tr style=\"text-align: right;\">\n",
              "      <th></th>\n",
              "      <th>job_id</th>\n",
              "      <th>title</th>\n",
              "      <th>location</th>\n",
              "      <th>department</th>\n",
              "      <th>salary_range</th>\n",
              "      <th>company_profile</th>\n",
              "      <th>description</th>\n",
              "      <th>requirements</th>\n",
              "      <th>benefits</th>\n",
              "      <th>telecommuting</th>\n",
              "      <th>has_company_logo</th>\n",
              "      <th>has_questions</th>\n",
              "      <th>employment_type</th>\n",
              "      <th>required_experience</th>\n",
              "      <th>required_education</th>\n",
              "      <th>industry</th>\n",
              "      <th>function</th>\n",
              "      <th>fraudulent</th>\n",
              "    </tr>\n",
              "  </thead>\n",
              "  <tbody>\n",
              "    <tr>\n",
              "      <th>0</th>\n",
              "      <td>1</td>\n",
              "      <td>Marketing Intern</td>\n",
              "      <td>US, NY, New York</td>\n",
              "      <td>Marketing</td>\n",
              "      <td></td>\n",
              "      <td>We're Food52, and we've created a groundbreaki...</td>\n",
              "      <td>Food52, a fast-growing, James Beard Award-winn...</td>\n",
              "      <td>Experience with content management systems a m...</td>\n",
              "      <td></td>\n",
              "      <td>0</td>\n",
              "      <td>1</td>\n",
              "      <td>0</td>\n",
              "      <td>Other</td>\n",
              "      <td>Internship</td>\n",
              "      <td></td>\n",
              "      <td></td>\n",
              "      <td>Marketing</td>\n",
              "      <td>0</td>\n",
              "    </tr>\n",
              "    <tr>\n",
              "      <th>1</th>\n",
              "      <td>2</td>\n",
              "      <td>Customer Service - Cloud Video Production</td>\n",
              "      <td>NZ, , Auckland</td>\n",
              "      <td>Success</td>\n",
              "      <td></td>\n",
              "      <td>90 Seconds, the worlds Cloud Video Production ...</td>\n",
              "      <td>Organised - Focused - Vibrant - Awesome!Do you...</td>\n",
              "      <td>What we expect from you:Your key responsibilit...</td>\n",
              "      <td>What you will get from usThrough being part of...</td>\n",
              "      <td>0</td>\n",
              "      <td>1</td>\n",
              "      <td>0</td>\n",
              "      <td>Full-time</td>\n",
              "      <td>Not Applicable</td>\n",
              "      <td></td>\n",
              "      <td>Marketing and Advertising</td>\n",
              "      <td>Customer Service</td>\n",
              "      <td>0</td>\n",
              "    </tr>\n",
              "    <tr>\n",
              "      <th>2</th>\n",
              "      <td>3</td>\n",
              "      <td>Commissioning Machinery Assistant (CMA)</td>\n",
              "      <td>US, IA, Wever</td>\n",
              "      <td></td>\n",
              "      <td></td>\n",
              "      <td>Valor Services provides Workforce Solutions th...</td>\n",
              "      <td>Our client, located in Houston, is actively se...</td>\n",
              "      <td>Implement pre-commissioning and commissioning ...</td>\n",
              "      <td></td>\n",
              "      <td>0</td>\n",
              "      <td>1</td>\n",
              "      <td>0</td>\n",
              "      <td></td>\n",
              "      <td></td>\n",
              "      <td></td>\n",
              "      <td></td>\n",
              "      <td></td>\n",
              "      <td>0</td>\n",
              "    </tr>\n",
              "    <tr>\n",
              "      <th>3</th>\n",
              "      <td>4</td>\n",
              "      <td>Account Executive - Washington DC</td>\n",
              "      <td>US, DC, Washington</td>\n",
              "      <td>Sales</td>\n",
              "      <td></td>\n",
              "      <td>Our passion for improving quality of life thro...</td>\n",
              "      <td>THE COMPANY: ESRI – Environmental Systems Rese...</td>\n",
              "      <td>EDUCATION: Bachelor’s or Master’s in GIS, busi...</td>\n",
              "      <td>Our culture is anything but corporate—we have ...</td>\n",
              "      <td>0</td>\n",
              "      <td>1</td>\n",
              "      <td>0</td>\n",
              "      <td>Full-time</td>\n",
              "      <td>Mid-Senior level</td>\n",
              "      <td>Bachelor's Degree</td>\n",
              "      <td>Computer Software</td>\n",
              "      <td>Sales</td>\n",
              "      <td>0</td>\n",
              "    </tr>\n",
              "    <tr>\n",
              "      <th>4</th>\n",
              "      <td>5</td>\n",
              "      <td>Bill Review Manager</td>\n",
              "      <td>US, FL, Fort Worth</td>\n",
              "      <td></td>\n",
              "      <td></td>\n",
              "      <td>SpotSource Solutions LLC is a Global Human Cap...</td>\n",
              "      <td>JOB TITLE: Itemization Review ManagerLOCATION:...</td>\n",
              "      <td>QUALIFICATIONS:RN license in the State of Texa...</td>\n",
              "      <td>Full Benefits Offered</td>\n",
              "      <td>0</td>\n",
              "      <td>1</td>\n",
              "      <td>1</td>\n",
              "      <td>Full-time</td>\n",
              "      <td>Mid-Senior level</td>\n",
              "      <td>Bachelor's Degree</td>\n",
              "      <td>Hospital &amp; Health Care</td>\n",
              "      <td>Health Care Provider</td>\n",
              "      <td>0</td>\n",
              "    </tr>\n",
              "  </tbody>\n",
              "</table>\n",
              "</div>\n",
              "    <div class=\"colab-df-buttons\">\n",
              "\n",
              "  <div class=\"colab-df-container\">\n",
              "    <button class=\"colab-df-convert\" onclick=\"convertToInteractive('df-367a10ca-59f6-4de4-a0c7-ea8da0e047f5')\"\n",
              "            title=\"Convert this dataframe to an interactive table.\"\n",
              "            style=\"display:none;\">\n",
              "\n",
              "  <svg xmlns=\"http://www.w3.org/2000/svg\" height=\"24px\" viewBox=\"0 -960 960 960\">\n",
              "    <path d=\"M120-120v-720h720v720H120Zm60-500h600v-160H180v160Zm220 220h160v-160H400v160Zm0 220h160v-160H400v160ZM180-400h160v-160H180v160Zm440 0h160v-160H620v160ZM180-180h160v-160H180v160Zm440 0h160v-160H620v160Z\"/>\n",
              "  </svg>\n",
              "    </button>\n",
              "\n",
              "  <style>\n",
              "    .colab-df-container {\n",
              "      display:flex;\n",
              "      gap: 12px;\n",
              "    }\n",
              "\n",
              "    .colab-df-convert {\n",
              "      background-color: #E8F0FE;\n",
              "      border: none;\n",
              "      border-radius: 50%;\n",
              "      cursor: pointer;\n",
              "      display: none;\n",
              "      fill: #1967D2;\n",
              "      height: 32px;\n",
              "      padding: 0 0 0 0;\n",
              "      width: 32px;\n",
              "    }\n",
              "\n",
              "    .colab-df-convert:hover {\n",
              "      background-color: #E2EBFA;\n",
              "      box-shadow: 0px 1px 2px rgba(60, 64, 67, 0.3), 0px 1px 3px 1px rgba(60, 64, 67, 0.15);\n",
              "      fill: #174EA6;\n",
              "    }\n",
              "\n",
              "    .colab-df-buttons div {\n",
              "      margin-bottom: 4px;\n",
              "    }\n",
              "\n",
              "    [theme=dark] .colab-df-convert {\n",
              "      background-color: #3B4455;\n",
              "      fill: #D2E3FC;\n",
              "    }\n",
              "\n",
              "    [theme=dark] .colab-df-convert:hover {\n",
              "      background-color: #434B5C;\n",
              "      box-shadow: 0px 1px 3px 1px rgba(0, 0, 0, 0.15);\n",
              "      filter: drop-shadow(0px 1px 2px rgba(0, 0, 0, 0.3));\n",
              "      fill: #FFFFFF;\n",
              "    }\n",
              "  </style>\n",
              "\n",
              "    <script>\n",
              "      const buttonEl =\n",
              "        document.querySelector('#df-367a10ca-59f6-4de4-a0c7-ea8da0e047f5 button.colab-df-convert');\n",
              "      buttonEl.style.display =\n",
              "        google.colab.kernel.accessAllowed ? 'block' : 'none';\n",
              "\n",
              "      async function convertToInteractive(key) {\n",
              "        const element = document.querySelector('#df-367a10ca-59f6-4de4-a0c7-ea8da0e047f5');\n",
              "        const dataTable =\n",
              "          await google.colab.kernel.invokeFunction('convertToInteractive',\n",
              "                                                    [key], {});\n",
              "        if (!dataTable) return;\n",
              "\n",
              "        const docLinkHtml = 'Like what you see? Visit the ' +\n",
              "          '<a target=\"_blank\" href=https://colab.research.google.com/notebooks/data_table.ipynb>data table notebook</a>'\n",
              "          + ' to learn more about interactive tables.';\n",
              "        element.innerHTML = '';\n",
              "        dataTable['output_type'] = 'display_data';\n",
              "        await google.colab.output.renderOutput(dataTable, element);\n",
              "        const docLink = document.createElement('div');\n",
              "        docLink.innerHTML = docLinkHtml;\n",
              "        element.appendChild(docLink);\n",
              "      }\n",
              "    </script>\n",
              "  </div>\n",
              "\n",
              "\n",
              "<div id=\"df-c26ae40d-eede-4811-a2ab-0af4ad80ccc5\">\n",
              "  <button class=\"colab-df-quickchart\" onclick=\"quickchart('df-c26ae40d-eede-4811-a2ab-0af4ad80ccc5')\"\n",
              "            title=\"Suggest charts\"\n",
              "            style=\"display:none;\">\n",
              "\n",
              "<svg xmlns=\"http://www.w3.org/2000/svg\" height=\"24px\"viewBox=\"0 0 24 24\"\n",
              "     width=\"24px\">\n",
              "    <g>\n",
              "        <path d=\"M19 3H5c-1.1 0-2 .9-2 2v14c0 1.1.9 2 2 2h14c1.1 0 2-.9 2-2V5c0-1.1-.9-2-2-2zM9 17H7v-7h2v7zm4 0h-2V7h2v10zm4 0h-2v-4h2v4z\"/>\n",
              "    </g>\n",
              "</svg>\n",
              "  </button>\n",
              "\n",
              "<style>\n",
              "  .colab-df-quickchart {\n",
              "      --bg-color: #E8F0FE;\n",
              "      --fill-color: #1967D2;\n",
              "      --hover-bg-color: #E2EBFA;\n",
              "      --hover-fill-color: #174EA6;\n",
              "      --disabled-fill-color: #AAA;\n",
              "      --disabled-bg-color: #DDD;\n",
              "  }\n",
              "\n",
              "  [theme=dark] .colab-df-quickchart {\n",
              "      --bg-color: #3B4455;\n",
              "      --fill-color: #D2E3FC;\n",
              "      --hover-bg-color: #434B5C;\n",
              "      --hover-fill-color: #FFFFFF;\n",
              "      --disabled-bg-color: #3B4455;\n",
              "      --disabled-fill-color: #666;\n",
              "  }\n",
              "\n",
              "  .colab-df-quickchart {\n",
              "    background-color: var(--bg-color);\n",
              "    border: none;\n",
              "    border-radius: 50%;\n",
              "    cursor: pointer;\n",
              "    display: none;\n",
              "    fill: var(--fill-color);\n",
              "    height: 32px;\n",
              "    padding: 0;\n",
              "    width: 32px;\n",
              "  }\n",
              "\n",
              "  .colab-df-quickchart:hover {\n",
              "    background-color: var(--hover-bg-color);\n",
              "    box-shadow: 0 1px 2px rgba(60, 64, 67, 0.3), 0 1px 3px 1px rgba(60, 64, 67, 0.15);\n",
              "    fill: var(--button-hover-fill-color);\n",
              "  }\n",
              "\n",
              "  .colab-df-quickchart-complete:disabled,\n",
              "  .colab-df-quickchart-complete:disabled:hover {\n",
              "    background-color: var(--disabled-bg-color);\n",
              "    fill: var(--disabled-fill-color);\n",
              "    box-shadow: none;\n",
              "  }\n",
              "\n",
              "  .colab-df-spinner {\n",
              "    border: 2px solid var(--fill-color);\n",
              "    border-color: transparent;\n",
              "    border-bottom-color: var(--fill-color);\n",
              "    animation:\n",
              "      spin 1s steps(1) infinite;\n",
              "  }\n",
              "\n",
              "  @keyframes spin {\n",
              "    0% {\n",
              "      border-color: transparent;\n",
              "      border-bottom-color: var(--fill-color);\n",
              "      border-left-color: var(--fill-color);\n",
              "    }\n",
              "    20% {\n",
              "      border-color: transparent;\n",
              "      border-left-color: var(--fill-color);\n",
              "      border-top-color: var(--fill-color);\n",
              "    }\n",
              "    30% {\n",
              "      border-color: transparent;\n",
              "      border-left-color: var(--fill-color);\n",
              "      border-top-color: var(--fill-color);\n",
              "      border-right-color: var(--fill-color);\n",
              "    }\n",
              "    40% {\n",
              "      border-color: transparent;\n",
              "      border-right-color: var(--fill-color);\n",
              "      border-top-color: var(--fill-color);\n",
              "    }\n",
              "    60% {\n",
              "      border-color: transparent;\n",
              "      border-right-color: var(--fill-color);\n",
              "    }\n",
              "    80% {\n",
              "      border-color: transparent;\n",
              "      border-right-color: var(--fill-color);\n",
              "      border-bottom-color: var(--fill-color);\n",
              "    }\n",
              "    90% {\n",
              "      border-color: transparent;\n",
              "      border-bottom-color: var(--fill-color);\n",
              "    }\n",
              "  }\n",
              "</style>\n",
              "\n",
              "  <script>\n",
              "    async function quickchart(key) {\n",
              "      const quickchartButtonEl =\n",
              "        document.querySelector('#' + key + ' button');\n",
              "      quickchartButtonEl.disabled = true;  // To prevent multiple clicks.\n",
              "      quickchartButtonEl.classList.add('colab-df-spinner');\n",
              "      try {\n",
              "        const charts = await google.colab.kernel.invokeFunction(\n",
              "            'suggestCharts', [key], {});\n",
              "      } catch (error) {\n",
              "        console.error('Error during call to suggestCharts:', error);\n",
              "      }\n",
              "      quickchartButtonEl.classList.remove('colab-df-spinner');\n",
              "      quickchartButtonEl.classList.add('colab-df-quickchart-complete');\n",
              "    }\n",
              "    (() => {\n",
              "      let quickchartButtonEl =\n",
              "        document.querySelector('#df-c26ae40d-eede-4811-a2ab-0af4ad80ccc5 button');\n",
              "      quickchartButtonEl.style.display =\n",
              "        google.colab.kernel.accessAllowed ? 'block' : 'none';\n",
              "    })();\n",
              "  </script>\n",
              "</div>\n",
              "    </div>\n",
              "  </div>\n"
            ]
          },
          "metadata": {},
          "execution_count": 21
        }
      ],
      "source": [
        "job_data.head()"
      ]
    },
    {
      "cell_type": "code",
      "execution_count": 22,
      "metadata": {
        "colab": {
          "base_uri": "https://localhost:8080/",
          "height": 556
        },
        "id": "3JYACpFQ88qX",
        "outputId": "01e854d4-0a3b-47e5-a4ab-029c9fe71036"
      },
      "outputs": [
        {
          "output_type": "execute_result",
          "data": {
            "text/plain": [
              "   job_id                                      title            location  \\\n",
              "0       1                           Marketing Intern    US, NY, New York   \n",
              "1       2  Customer Service - Cloud Video Production      NZ, , Auckland   \n",
              "2       3    Commissioning Machinery Assistant (CMA)       US, IA, Wever   \n",
              "3       4          Account Executive - Washington DC  US, DC, Washington   \n",
              "4       5                        Bill Review Manager  US, FL, Fort Worth   \n",
              "\n",
              "  department salary_range                                    company_profile  \\\n",
              "0  Marketing               We're Food52, and we've created a groundbreaki...   \n",
              "1    Success               90 Seconds, the worlds Cloud Video Production ...   \n",
              "2                          Valor Services provides Workforce Solutions th...   \n",
              "3      Sales               Our passion for improving quality of life thro...   \n",
              "4                          SpotSource Solutions LLC is a Global Human Cap...   \n",
              "\n",
              "                                         description  \\\n",
              "0  Food52, a fast-growing, James Beard Award-winn...   \n",
              "1  Organised - Focused - Vibrant - Awesome!Do you...   \n",
              "2  Our client, located in Houston, is actively se...   \n",
              "3  THE COMPANY: ESRI – Environmental Systems Rese...   \n",
              "4  JOB TITLE: Itemization Review ManagerLOCATION:...   \n",
              "\n",
              "                                        requirements  \\\n",
              "0  Experience with content management systems a m...   \n",
              "1  What we expect from you:Your key responsibilit...   \n",
              "2  Implement pre-commissioning and commissioning ...   \n",
              "3  EDUCATION: Bachelor’s or Master’s in GIS, busi...   \n",
              "4  QUALIFICATIONS:RN license in the State of Texa...   \n",
              "\n",
              "                                            benefits  telecommuting  \\\n",
              "0                                                                 0   \n",
              "1  What you will get from usThrough being part of...              0   \n",
              "2                                                                 0   \n",
              "3  Our culture is anything but corporate—we have ...              0   \n",
              "4                              Full Benefits Offered              0   \n",
              "\n",
              "   has_company_logo  has_questions employment_type required_experience  \\\n",
              "0                 1              0           Other          Internship   \n",
              "1                 1              0       Full-time      Not Applicable   \n",
              "2                 1              0                                       \n",
              "3                 1              0       Full-time    Mid-Senior level   \n",
              "4                 1              1       Full-time    Mid-Senior level   \n",
              "\n",
              "  required_education                   industry              function  \\\n",
              "0                                                           Marketing   \n",
              "1                     Marketing and Advertising      Customer Service   \n",
              "2                                                                       \n",
              "3  Bachelor's Degree          Computer Software                 Sales   \n",
              "4  Bachelor's Degree     Hospital & Health Care  Health Care Provider   \n",
              "\n",
              "   fraudulent country  \n",
              "0           0      US  \n",
              "1           0      NZ  \n",
              "2           0      US  \n",
              "3           0      US  \n",
              "4           0      US  "
            ],
            "text/html": [
              "\n",
              "  <div id=\"df-7f209567-ffd1-42d9-9ba9-e0220a0d6951\" class=\"colab-df-container\">\n",
              "    <div>\n",
              "<style scoped>\n",
              "    .dataframe tbody tr th:only-of-type {\n",
              "        vertical-align: middle;\n",
              "    }\n",
              "\n",
              "    .dataframe tbody tr th {\n",
              "        vertical-align: top;\n",
              "    }\n",
              "\n",
              "    .dataframe thead th {\n",
              "        text-align: right;\n",
              "    }\n",
              "</style>\n",
              "<table border=\"1\" class=\"dataframe\">\n",
              "  <thead>\n",
              "    <tr style=\"text-align: right;\">\n",
              "      <th></th>\n",
              "      <th>job_id</th>\n",
              "      <th>title</th>\n",
              "      <th>location</th>\n",
              "      <th>department</th>\n",
              "      <th>salary_range</th>\n",
              "      <th>company_profile</th>\n",
              "      <th>description</th>\n",
              "      <th>requirements</th>\n",
              "      <th>benefits</th>\n",
              "      <th>telecommuting</th>\n",
              "      <th>has_company_logo</th>\n",
              "      <th>has_questions</th>\n",
              "      <th>employment_type</th>\n",
              "      <th>required_experience</th>\n",
              "      <th>required_education</th>\n",
              "      <th>industry</th>\n",
              "      <th>function</th>\n",
              "      <th>fraudulent</th>\n",
              "      <th>country</th>\n",
              "    </tr>\n",
              "  </thead>\n",
              "  <tbody>\n",
              "    <tr>\n",
              "      <th>0</th>\n",
              "      <td>1</td>\n",
              "      <td>Marketing Intern</td>\n",
              "      <td>US, NY, New York</td>\n",
              "      <td>Marketing</td>\n",
              "      <td></td>\n",
              "      <td>We're Food52, and we've created a groundbreaki...</td>\n",
              "      <td>Food52, a fast-growing, James Beard Award-winn...</td>\n",
              "      <td>Experience with content management systems a m...</td>\n",
              "      <td></td>\n",
              "      <td>0</td>\n",
              "      <td>1</td>\n",
              "      <td>0</td>\n",
              "      <td>Other</td>\n",
              "      <td>Internship</td>\n",
              "      <td></td>\n",
              "      <td></td>\n",
              "      <td>Marketing</td>\n",
              "      <td>0</td>\n",
              "      <td>US</td>\n",
              "    </tr>\n",
              "    <tr>\n",
              "      <th>1</th>\n",
              "      <td>2</td>\n",
              "      <td>Customer Service - Cloud Video Production</td>\n",
              "      <td>NZ, , Auckland</td>\n",
              "      <td>Success</td>\n",
              "      <td></td>\n",
              "      <td>90 Seconds, the worlds Cloud Video Production ...</td>\n",
              "      <td>Organised - Focused - Vibrant - Awesome!Do you...</td>\n",
              "      <td>What we expect from you:Your key responsibilit...</td>\n",
              "      <td>What you will get from usThrough being part of...</td>\n",
              "      <td>0</td>\n",
              "      <td>1</td>\n",
              "      <td>0</td>\n",
              "      <td>Full-time</td>\n",
              "      <td>Not Applicable</td>\n",
              "      <td></td>\n",
              "      <td>Marketing and Advertising</td>\n",
              "      <td>Customer Service</td>\n",
              "      <td>0</td>\n",
              "      <td>NZ</td>\n",
              "    </tr>\n",
              "    <tr>\n",
              "      <th>2</th>\n",
              "      <td>3</td>\n",
              "      <td>Commissioning Machinery Assistant (CMA)</td>\n",
              "      <td>US, IA, Wever</td>\n",
              "      <td></td>\n",
              "      <td></td>\n",
              "      <td>Valor Services provides Workforce Solutions th...</td>\n",
              "      <td>Our client, located in Houston, is actively se...</td>\n",
              "      <td>Implement pre-commissioning and commissioning ...</td>\n",
              "      <td></td>\n",
              "      <td>0</td>\n",
              "      <td>1</td>\n",
              "      <td>0</td>\n",
              "      <td></td>\n",
              "      <td></td>\n",
              "      <td></td>\n",
              "      <td></td>\n",
              "      <td></td>\n",
              "      <td>0</td>\n",
              "      <td>US</td>\n",
              "    </tr>\n",
              "    <tr>\n",
              "      <th>3</th>\n",
              "      <td>4</td>\n",
              "      <td>Account Executive - Washington DC</td>\n",
              "      <td>US, DC, Washington</td>\n",
              "      <td>Sales</td>\n",
              "      <td></td>\n",
              "      <td>Our passion for improving quality of life thro...</td>\n",
              "      <td>THE COMPANY: ESRI – Environmental Systems Rese...</td>\n",
              "      <td>EDUCATION: Bachelor’s or Master’s in GIS, busi...</td>\n",
              "      <td>Our culture is anything but corporate—we have ...</td>\n",
              "      <td>0</td>\n",
              "      <td>1</td>\n",
              "      <td>0</td>\n",
              "      <td>Full-time</td>\n",
              "      <td>Mid-Senior level</td>\n",
              "      <td>Bachelor's Degree</td>\n",
              "      <td>Computer Software</td>\n",
              "      <td>Sales</td>\n",
              "      <td>0</td>\n",
              "      <td>US</td>\n",
              "    </tr>\n",
              "    <tr>\n",
              "      <th>4</th>\n",
              "      <td>5</td>\n",
              "      <td>Bill Review Manager</td>\n",
              "      <td>US, FL, Fort Worth</td>\n",
              "      <td></td>\n",
              "      <td></td>\n",
              "      <td>SpotSource Solutions LLC is a Global Human Cap...</td>\n",
              "      <td>JOB TITLE: Itemization Review ManagerLOCATION:...</td>\n",
              "      <td>QUALIFICATIONS:RN license in the State of Texa...</td>\n",
              "      <td>Full Benefits Offered</td>\n",
              "      <td>0</td>\n",
              "      <td>1</td>\n",
              "      <td>1</td>\n",
              "      <td>Full-time</td>\n",
              "      <td>Mid-Senior level</td>\n",
              "      <td>Bachelor's Degree</td>\n",
              "      <td>Hospital &amp; Health Care</td>\n",
              "      <td>Health Care Provider</td>\n",
              "      <td>0</td>\n",
              "      <td>US</td>\n",
              "    </tr>\n",
              "  </tbody>\n",
              "</table>\n",
              "</div>\n",
              "    <div class=\"colab-df-buttons\">\n",
              "\n",
              "  <div class=\"colab-df-container\">\n",
              "    <button class=\"colab-df-convert\" onclick=\"convertToInteractive('df-7f209567-ffd1-42d9-9ba9-e0220a0d6951')\"\n",
              "            title=\"Convert this dataframe to an interactive table.\"\n",
              "            style=\"display:none;\">\n",
              "\n",
              "  <svg xmlns=\"http://www.w3.org/2000/svg\" height=\"24px\" viewBox=\"0 -960 960 960\">\n",
              "    <path d=\"M120-120v-720h720v720H120Zm60-500h600v-160H180v160Zm220 220h160v-160H400v160Zm0 220h160v-160H400v160ZM180-400h160v-160H180v160Zm440 0h160v-160H620v160ZM180-180h160v-160H180v160Zm440 0h160v-160H620v160Z\"/>\n",
              "  </svg>\n",
              "    </button>\n",
              "\n",
              "  <style>\n",
              "    .colab-df-container {\n",
              "      display:flex;\n",
              "      gap: 12px;\n",
              "    }\n",
              "\n",
              "    .colab-df-convert {\n",
              "      background-color: #E8F0FE;\n",
              "      border: none;\n",
              "      border-radius: 50%;\n",
              "      cursor: pointer;\n",
              "      display: none;\n",
              "      fill: #1967D2;\n",
              "      height: 32px;\n",
              "      padding: 0 0 0 0;\n",
              "      width: 32px;\n",
              "    }\n",
              "\n",
              "    .colab-df-convert:hover {\n",
              "      background-color: #E2EBFA;\n",
              "      box-shadow: 0px 1px 2px rgba(60, 64, 67, 0.3), 0px 1px 3px 1px rgba(60, 64, 67, 0.15);\n",
              "      fill: #174EA6;\n",
              "    }\n",
              "\n",
              "    .colab-df-buttons div {\n",
              "      margin-bottom: 4px;\n",
              "    }\n",
              "\n",
              "    [theme=dark] .colab-df-convert {\n",
              "      background-color: #3B4455;\n",
              "      fill: #D2E3FC;\n",
              "    }\n",
              "\n",
              "    [theme=dark] .colab-df-convert:hover {\n",
              "      background-color: #434B5C;\n",
              "      box-shadow: 0px 1px 3px 1px rgba(0, 0, 0, 0.15);\n",
              "      filter: drop-shadow(0px 1px 2px rgba(0, 0, 0, 0.3));\n",
              "      fill: #FFFFFF;\n",
              "    }\n",
              "  </style>\n",
              "\n",
              "    <script>\n",
              "      const buttonEl =\n",
              "        document.querySelector('#df-7f209567-ffd1-42d9-9ba9-e0220a0d6951 button.colab-df-convert');\n",
              "      buttonEl.style.display =\n",
              "        google.colab.kernel.accessAllowed ? 'block' : 'none';\n",
              "\n",
              "      async function convertToInteractive(key) {\n",
              "        const element = document.querySelector('#df-7f209567-ffd1-42d9-9ba9-e0220a0d6951');\n",
              "        const dataTable =\n",
              "          await google.colab.kernel.invokeFunction('convertToInteractive',\n",
              "                                                    [key], {});\n",
              "        if (!dataTable) return;\n",
              "\n",
              "        const docLinkHtml = 'Like what you see? Visit the ' +\n",
              "          '<a target=\"_blank\" href=https://colab.research.google.com/notebooks/data_table.ipynb>data table notebook</a>'\n",
              "          + ' to learn more about interactive tables.';\n",
              "        element.innerHTML = '';\n",
              "        dataTable['output_type'] = 'display_data';\n",
              "        await google.colab.output.renderOutput(dataTable, element);\n",
              "        const docLink = document.createElement('div');\n",
              "        docLink.innerHTML = docLinkHtml;\n",
              "        element.appendChild(docLink);\n",
              "      }\n",
              "    </script>\n",
              "  </div>\n",
              "\n",
              "\n",
              "<div id=\"df-5354ac8f-2361-4c8e-8d0b-439d454450a5\">\n",
              "  <button class=\"colab-df-quickchart\" onclick=\"quickchart('df-5354ac8f-2361-4c8e-8d0b-439d454450a5')\"\n",
              "            title=\"Suggest charts\"\n",
              "            style=\"display:none;\">\n",
              "\n",
              "<svg xmlns=\"http://www.w3.org/2000/svg\" height=\"24px\"viewBox=\"0 0 24 24\"\n",
              "     width=\"24px\">\n",
              "    <g>\n",
              "        <path d=\"M19 3H5c-1.1 0-2 .9-2 2v14c0 1.1.9 2 2 2h14c1.1 0 2-.9 2-2V5c0-1.1-.9-2-2-2zM9 17H7v-7h2v7zm4 0h-2V7h2v10zm4 0h-2v-4h2v4z\"/>\n",
              "    </g>\n",
              "</svg>\n",
              "  </button>\n",
              "\n",
              "<style>\n",
              "  .colab-df-quickchart {\n",
              "      --bg-color: #E8F0FE;\n",
              "      --fill-color: #1967D2;\n",
              "      --hover-bg-color: #E2EBFA;\n",
              "      --hover-fill-color: #174EA6;\n",
              "      --disabled-fill-color: #AAA;\n",
              "      --disabled-bg-color: #DDD;\n",
              "  }\n",
              "\n",
              "  [theme=dark] .colab-df-quickchart {\n",
              "      --bg-color: #3B4455;\n",
              "      --fill-color: #D2E3FC;\n",
              "      --hover-bg-color: #434B5C;\n",
              "      --hover-fill-color: #FFFFFF;\n",
              "      --disabled-bg-color: #3B4455;\n",
              "      --disabled-fill-color: #666;\n",
              "  }\n",
              "\n",
              "  .colab-df-quickchart {\n",
              "    background-color: var(--bg-color);\n",
              "    border: none;\n",
              "    border-radius: 50%;\n",
              "    cursor: pointer;\n",
              "    display: none;\n",
              "    fill: var(--fill-color);\n",
              "    height: 32px;\n",
              "    padding: 0;\n",
              "    width: 32px;\n",
              "  }\n",
              "\n",
              "  .colab-df-quickchart:hover {\n",
              "    background-color: var(--hover-bg-color);\n",
              "    box-shadow: 0 1px 2px rgba(60, 64, 67, 0.3), 0 1px 3px 1px rgba(60, 64, 67, 0.15);\n",
              "    fill: var(--button-hover-fill-color);\n",
              "  }\n",
              "\n",
              "  .colab-df-quickchart-complete:disabled,\n",
              "  .colab-df-quickchart-complete:disabled:hover {\n",
              "    background-color: var(--disabled-bg-color);\n",
              "    fill: var(--disabled-fill-color);\n",
              "    box-shadow: none;\n",
              "  }\n",
              "\n",
              "  .colab-df-spinner {\n",
              "    border: 2px solid var(--fill-color);\n",
              "    border-color: transparent;\n",
              "    border-bottom-color: var(--fill-color);\n",
              "    animation:\n",
              "      spin 1s steps(1) infinite;\n",
              "  }\n",
              "\n",
              "  @keyframes spin {\n",
              "    0% {\n",
              "      border-color: transparent;\n",
              "      border-bottom-color: var(--fill-color);\n",
              "      border-left-color: var(--fill-color);\n",
              "    }\n",
              "    20% {\n",
              "      border-color: transparent;\n",
              "      border-left-color: var(--fill-color);\n",
              "      border-top-color: var(--fill-color);\n",
              "    }\n",
              "    30% {\n",
              "      border-color: transparent;\n",
              "      border-left-color: var(--fill-color);\n",
              "      border-top-color: var(--fill-color);\n",
              "      border-right-color: var(--fill-color);\n",
              "    }\n",
              "    40% {\n",
              "      border-color: transparent;\n",
              "      border-right-color: var(--fill-color);\n",
              "      border-top-color: var(--fill-color);\n",
              "    }\n",
              "    60% {\n",
              "      border-color: transparent;\n",
              "      border-right-color: var(--fill-color);\n",
              "    }\n",
              "    80% {\n",
              "      border-color: transparent;\n",
              "      border-right-color: var(--fill-color);\n",
              "      border-bottom-color: var(--fill-color);\n",
              "    }\n",
              "    90% {\n",
              "      border-color: transparent;\n",
              "      border-bottom-color: var(--fill-color);\n",
              "    }\n",
              "  }\n",
              "</style>\n",
              "\n",
              "  <script>\n",
              "    async function quickchart(key) {\n",
              "      const quickchartButtonEl =\n",
              "        document.querySelector('#' + key + ' button');\n",
              "      quickchartButtonEl.disabled = true;  // To prevent multiple clicks.\n",
              "      quickchartButtonEl.classList.add('colab-df-spinner');\n",
              "      try {\n",
              "        const charts = await google.colab.kernel.invokeFunction(\n",
              "            'suggestCharts', [key], {});\n",
              "      } catch (error) {\n",
              "        console.error('Error during call to suggestCharts:', error);\n",
              "      }\n",
              "      quickchartButtonEl.classList.remove('colab-df-spinner');\n",
              "      quickchartButtonEl.classList.add('colab-df-quickchart-complete');\n",
              "    }\n",
              "    (() => {\n",
              "      let quickchartButtonEl =\n",
              "        document.querySelector('#df-5354ac8f-2361-4c8e-8d0b-439d454450a5 button');\n",
              "      quickchartButtonEl.style.display =\n",
              "        google.colab.kernel.accessAllowed ? 'block' : 'none';\n",
              "    })();\n",
              "  </script>\n",
              "</div>\n",
              "    </div>\n",
              "  </div>\n"
            ]
          },
          "metadata": {},
          "execution_count": 22
        }
      ],
      "source": [
        "#we can see location have country, state. We will only consider country\n",
        "\n",
        "# Spliting the location column to extract only the country\n",
        "job_data['country'] = job_data['location'].str.split(',').str[0]\n",
        "\n",
        "#printing the result\n",
        "job_data.head()"
      ]
    },
    {
      "cell_type": "code",
      "execution_count": 23,
      "metadata": {
        "colab": {
          "base_uri": "https://localhost:8080/",
          "height": 549
        },
        "id": "8Vs_cwVA88qY",
        "outputId": "ffafb85c-cef6-48de-c60b-73802832ba97"
      },
      "outputs": [
        {
          "output_type": "display_data",
          "data": {
            "text/plain": [
              "<Figure size 2000x1000 with 1 Axes>"
            ],
            "image/png": "iVBORw0KGgoAAAANSUhEUgAABmsAAANdCAYAAAB7wUhiAAAAOXRFWHRTb2Z0d2FyZQBNYXRwbG90bGliIHZlcnNpb24zLjcuMSwgaHR0cHM6Ly9tYXRwbG90bGliLm9yZy/bCgiHAAAACXBIWXMAAA9hAAAPYQGoP6dpAABjFUlEQVR4nOz9ebxWdb3//z83IIPK3oAKSKKSlopaDpwQcypRcij5ph0HHENpwBA0FSzRbGBwQjS1wcJSzzEtLfWIklqUEY4c56GixDxsNGBvxUSB6/dHH66fW9TYuuEN7Pv9dtu3uNZ6X+t6rb1Xf9TjttZVU6lUKgEAAAAAAKCINqUHAAAAAAAAaM3EGgAAAAAAgILEGgAAAAAAgILEGgAAAAAAgILEGgAAAAAAgILEGgAAAAAAgILEGgAAAAAAgILEGgAAAAAAgILEGgAAAAAAgILEGgAAoNl+85vfpKamJjfeeGPpUVZKfX19DjvssGy00UapqanJpEmTWvwz/vrXv6ampiYXXHBBix97ueOPPz4bbrjhKjs+AABQhlgDAABrqClTpqSmpiYdO3bM3//+9xX277PPPtlhhx0KTLb2GTVqVO64446MGTMmP/3pT/OpT33qHdfW1NTk5JNPXo3TrZmWLl2aH//4x9lnn33SrVu3dOjQIVtuuWVOOOGEPPDAA6XHS5I88cQTOffcc/PXv/619CgAAPC+iDUAALCGW7x4ccaPH196jLXa3XffnUMOOSRf/epXc/TRR2fbbbctPdIa7Z///GcOPvjgfP7zn0+lUslZZ52VK664Iscee2xmzJiRj33sY3n++edLj5knnngi3/jGN8QaAADWeu1KDwAAALy7nXbaKT/4wQ8yZsyY9OrVq/Q4q9WiRYuywQYbvO/jzJs3L126dHn/A7USp59+eqZOnZqLL744I0eObLLvnHPOycUXX1xmsPehUqnktddeS6dOnUqPAgAAK3BnDQAArOHOOuusLF269N/eXbP8O1OmTJmywr6ampqce+651dfnnntuampq8swzz+Too49OXV1dNtlkk5x99tmpVCqZM2dODjnkkNTW1qZnz5658MIL3/Yzly5dmrPOOis9e/bMBhtskM985jOZM2fOCutmzpyZT33qU6mrq8v666+fvffeO/fee2+TNctneuKJJ3LUUUela9eu2WOPPd71nP/yl7/kc5/7XLp165b1118/u+22W2677bbq/uWPkqtUKvnud7+bmpqa1NTUvOsx3868efMydOjQ9OjRIx07dsxHP/rRXH311e+4/uKLL84WW2yRTp06Ze+9985jjz3WZP/cuXNzwgknZLPNNkuHDh2y6aab5pBDDlnpO0T+8pe/ZNCgQdlggw3Sq1evnHfeealUKkn+FSW23HLLHHLIISu877XXXktdXV2+8IUvvOOxn3/++Xzve9/Lfvvtt0KoSZK2bdvmq1/9ajbbbLPqtocffjgHHHBAamtrs+GGG2bffffNH//4xybvW/73favlf6M3n/uWW26Zgw8+OL///e/zsY99LB07dswHP/jB/OQnP2nyvs997nNJkk984hPVv+1vfvObJse444470q9fv3Tq1Cnf+973svfee+ejH/3o2577Nttsk0GDBr3j7wYAAFYVsQYAANZwffr0ybHHHpsf/OAHeeGFF1r02IcffniWLVuW8ePHp3///vnWt76VSZMmZb/99ssHPvCBTJgwIVtvvXW++tWvZvr06Su8/9vf/nZuu+22nHnmmRkxYkSmTZuWgQMH5p///Gd1zd1335299torjY2NOeecc/Kd73wnCxcuzCc/+cncd999Kxzzc5/7XF599dV85zvfyUknnfSOs9fX12f33XfPHXfckS9/+cv59re/nddeey2f+cxnctNNNyVJ9tprr/z0pz9Nkuy333756U9/Wn29sv75z39mn332yU9/+tMMGTIk559/furq6nL88cfnkksuWWH9T37yk0yePDnDhw/PmDFj8thjj+WTn/xk6uvrq2sOPfTQ3HTTTTnhhBNy+eWXZ8SIEXn55Zfz3HPP/dt5li5dmk996lPp0aNHJk6cmF133TXnnHNOzjnnnCT/CnNHH310br/99syfP7/Je2+55ZY0Njbm6KOPfsfj33777VmyZEmOOeaYlfr9PP7449lzzz3zv//7vznjjDNy9tlnZ/bs2dlnn30yc+bMlTrG2/nTn/6Uww47LPvtt18uvPDCdO3aNccff3wef/zxJP/6244YMSLJv4Lm8r/tdtttVz3G008/nSOPPDL77bdfLrnkkuy000455phj8sgjj6wQ0O6///5qvAQAgNWuAgAArJF+/OMfV5JU7r///sqf//znSrt27SojRoyo7t97770r22+/ffX17NmzK0kqP/7xj1c4VpLKOeecU319zjnnVJJUhg0bVt22ZMmSymabbVapqampjB8/vrp9wYIFlU6dOlWOO+646rZ77rmnkqTygQ98oNLY2Fjd/rOf/aySpHLJJZdUKpVKZdmyZZUPfehDlUGDBlWWLVtWXffqq69W+vTpU9lvv/1WmOnII49cqd/PyJEjK0kqv/vd76rbXn755UqfPn0qW265ZWXp0qVNzn/48OErddy3rp00aVIlSeWaa66pbnv99dcrAwYMqGy44YbV81/+++/UqVPl+eefr66dOXNmJUll1KhRlUrlX7/PJJXzzz9/peZ5s+OOO66SpPKVr3ylum3ZsmWVgw46qNK+ffvKiy++WKlUKpWnn366kqRyxRVXNHn/Zz7zmcqWW27Z5G/xVqNGjaokqTz88MMrNdPgwYMr7du3r/z5z3+ubnvhhRcqnTt3ruy1117Vbcv/vm+1/DqfPXt2ddsWW2xRSVKZPn16ddu8efMqHTp0qJx22mnVbTfccEMlSeWee+5Z4bjLjzF16tQm2xcuXFjp2LFj5cwzz2yyfcSIEZUNNtig8sorr6zUeQMAQEtyZw0AAKwFPvjBD+aYY47J97///fzf//1fix33xBNPrP67bdu26devXyqVSoYOHVrd3qVLl2yzzTb5y1/+ssL7jz322HTu3Ln6+rDDDsumm26a//mf/0mSzJo1K88++2yOOuqo/OMf/8hLL72Ul156KYsWLcq+++6b6dOnZ9myZU2O+cUvfnGlZv+f//mffOxjH2vyqLQNN9www4YNy1//+tc88cQTK/dLWInP6dmzZ4488sjqtvXWWy8jRozIK6+8kt/+9rdN1g8ePDgf+MAHqq8/9rGPpX///tXfSadOndK+ffv85je/yYIFC97TTCeffHL13zU1NTn55JPz+uuv59e//nWS5MMf/nD69++fa6+9trpu/vz5uf322zNkyJB3fRRcY2NjkjT5u76TpUuX5s4778zgwYPzwQ9+sLp90003zVFHHZXf//731eM1V9++fbPnnntWX2+yySbveB2+kz59+qzwWLO6uroccsgh+a//+q/qo+OWLl2a66+/PoMHD26R70gCAIDmEmsAAGAt8fWvfz1Lliz5t99d0xybb755k9d1dXXp2LFjNt544xW2v11Y+NCHPtTkdU1NTbbeeuvq9488++yzSZLjjjsum2yySZOfH/7wh1m8eHEaGhqaHKNPnz4rNfvf/va3bLPNNitsX/4YrL/97W8rdZyV+ZwPfehDadOm6f98eqfPeevvJPlXPFn+O+nQoUMmTJiQ22+/PT169Mhee+2ViRMnZu7cuSs1T5s2bZqEkeXHT9Lke1+OPfbY3HvvvdX5brjhhrzxxhv/9vFmtbW1SZKXX375387y4osv5tVXX33Hv8OyZcve9juMVsZbr80k6dq1a7MC1ztdS8cee2yee+65/O53v0uS/PrXv059ff1KP/oNAABamlgDAABriQ9+8IM5+uij3/Humne6W2Lp0qXveMy2bduu1LYk1bsQmmP5XTPnn39+pk2b9rY/G264YZP3dOrUqdmfs7YZOXJknnnmmYwbNy4dO3bM2Wefne222y4PP/xwi33GEUcckfXWW696d80111yTfv36vW1YebNtt902SfLoo4+22CxJ86/PlrgO3+laGjRoUHr06JFrrrkmyb9+Nz179szAgQNX+tgAANCSxBoAAFiLLL+7ZsKECSvs69q1a5Jk4cKFTba31B0mb2f5nTPLVSqV/OlPf8qWW26ZJNlqq62S/OtujYEDB77tz3rrrfeePnuLLbbI008/vcL2p556qrq/JWyxxRZ59tlnV3hc2zt9zlt/J0nyzDPPVH8ny2211VY57bTTcuedd+axxx7L66+/ngsvvPDfzrNs2bIVHgX2zDPPJEmTz+jWrVsOOuigXHvttfnb3/6We++9d6XuHDnggAPStm3bash4N5tssknWX3/9d/w7tGnTJr17906yaq7Pd3uc27tp27ZtjjrqqNx4441ZsGBBbr755hx55JHvGIgAAGBVE2sAAGAtstVWW+Xoo4/O9773vRUem1VbW5uNN94406dPb7L98ssvX2Xz/OQnP2nyuKwbb7wx//d//5cDDjggSbLrrrtmq622ygUXXJBXXnllhfe/+OKL7/mzDzzwwNx3332ZMWNGdduiRYvy/e9/P1tuuWX69u37no/91s+ZO3durr/++uq2JUuW5NJLL82GG26Yvffeu8n6m2++OX//+9+rr++7777MnDmz+jt59dVX89prrzV5z1ZbbZXOnTtn8eLFKzXTZZddVv13pVLJZZddlvXWWy/77rtvk3XHHHNMnnjiiZx++ulp27ZtjjjiiH977N69e+ekk07KnXfemUsvvXSF/cuWLcuFF16Y559/Pm3bts3++++fX/7yl00ewVZfX5/rrrsue+yxR/WxasvD3Zuvz0WLFuXqq69eqXN+O8u/X+atAWhlHHPMMVmwYEG+8IUv5JVXXsnRRx/9nucAAID3q13pAQAAgOb52te+lp/+9Kd5+umns/322zfZd+KJJ2b8+PE58cQT069fv0yfPr1618Wq0K1bt+yxxx454YQTUl9fn0mTJmXrrbfOSSedlORf36/ywx/+MAcccEC23377nHDCCfnABz6Qv//977nnnntSW1ubW2655T199ujRo/Nf//VfOeCAAzJixIh069YtV199dWbPnp2f//znK3zHzHs1bNiwfO9738vxxx+fBx98MFtuuWVuvPHG3HvvvZk0aVI6d+7cZP3WW2+dPfbYI1/60peyePHiTJo0KRtttFHOOOOMJP+6C2bffffNf/7nf6Zv375p165dbrrpptTX169UTOnYsWOmTp2a4447Lv3798/tt9+e2267LWeddVY22WSTJmsPOuigbLTRRrnhhhtywAEHpHv37it1zhdeeGH+/Oc/Z8SIEfnFL36Rgw8+OF27ds1zzz2XG264IU899VR11m9961uZNm1a9thjj3z5y19Ou3bt8r3vfS+LFy/OxIkTq8fcf//9s/nmm2fo0KHVePSjH/0om2yySZ577rmVmuutdtppp7Rt2zYTJkxIQ0NDOnTokE9+8pMrdZ4777xzdthhh9xwww3Zbrvtsssuu7ynGQAAoCWINQAAsJbZeuutc/TRR7/tHQljx47Niy++mBtvvDE/+9nPcsABB+T2229f6f+TvrnOOuusPPLIIxk3blxefvnl7Lvvvrn88suz/vrrV9fss88+mTFjRr75zW/msssuyyuvvJKePXumf//++cIXvvCeP7tHjx75wx/+kDPPPDOXXnppXnvttXzkIx/JLbfckoMOOug9HXP596G8+XFYnTp1ym9+85uMHj06V199dRobG7PNNtvkxz/+cY4//vgVjnHsscemTZs2mTRpUubNm5ePfexjueyyy7Lpppsm+dedK0ceeWTuuuuu/PSnP027du2y7bbb5mc/+1kOPfTQfztj27ZtM3Xq1HzpS1/K6aefns6dO+ecc87J2LFjV1jbvn37HH744bn88stX6hFoy62//vq5/fbbM2XKlFx99dX55je/mVdffTW9evXKJz/5yVx77bX5wAc+kCTZfvvt87vf/S5jxozJuHHjsmzZsvTv3z/XXHNN+vfvXz3meuutl5tuuilf/vKXc/bZZ6dnz54ZOXJkunbtmhNOOGGlZ3uznj175sorr8y4ceMydOjQLF26NPfcc89KX+/HHntszjjjjGb9bgAAYFWoqbyXbwkFAABYBzU2Nqauri5f//rX881vfrP0OC1i1KhRueqqqzJ37twmEY3kkksuyahRo/LXv/41m2++eelxAABoxXxnDQAAwP9z//33J0mLfd9Naa+99lquueaaHHrooULNW1QqlVx11VXZe++9hRoAAIrzGDQAAKDVe+SRR/LrX/86F110UTbaaKP3/Bi1NcW8efPy61//OjfeeGP+8Y9/5JRTTik90hpj0aJF+dWvfpV77rknjz76aH75y1+WHgkAAMQaAACAX/ziFxk/fnz69euXiy++OLW1taVHel+eeOKJDBkyJN27d8/kyZOz0047lR5pjfHiiy/mqKOOSpcuXXLWWWflM5/5TOmRAADAd9YAAAAAAACU5DtrAAAAAAAACvIYtBaybNmyvPDCC+ncuXNqampKjwMAAAAAABRUqVTy8ssvp1evXmnT5t3vnRFrWsgLL7yQ3r17lx4DAAAAAABYg8yZMyebbbbZu64Ra1pI586dk/zrl762fxkpAAAAAADw/jQ2NqZ3797VfvBuxJoWsvzRZ7W1tWINAAAAAACQJCv11Snv/pA0AAAAAAAAVimxBgAAAAAAoCCxBgAAAAAAoCCxBgAAAAAAoCCxBgAAAAAAoCCxBgAAAAAAoCCxBgAAAAAAoCCxBgAAAAAAoCCxBgAAAAAAoCCxBgAAAAAAoCCxBgAAAAAAoCCxBgAAAAAAoCCxBgAAAAAAoCCxBgAAAAAAoCCxBgAAAAAAoCCxBgAAAAAAoCCxBgAAAAAAoCCxBgAAAAAAoCCxBgAAAAAAoCCxBgAAAAAAoCCxBgAAAAAAoCCxBgAAAAAAoCCxBgAAAAAAoCCxBgAAAAAAoCCxBgAAAAAAoCCxBgAAAAAAoCCxBgAAAAAAoCCxBgAAAAAAoCCxBgAAAAAAoCCxBgAAAAAAoCCxBgAAAAAAoCCxBgAAAAAAoCCxBgAAAAAAoCCxBgAAAAAAoKB2pQdg9Rj/8EulR1jrjN5549IjAAAAAADQCrizBgAAAAAAoCCxBgAAAAAAoCCxBgAAAAAAoCCxBgAAAAAAoCCxBgAAAAAAoCCxBgAAAAAAoCCxBgAAAAAAoCCxBgAAAAAAoCCxBgAAAAAAoCCxBgAAAAAAoCCxBgAAAAAAoCCxBgAAAAAAoCCxBgAAAAAAoCCxBgAAAAAAoCCxBgAAAAAAoCCxBgAAAAAAoCCxBgAAAAAAoCCxBgAAAAAAoCCxBgAAAAAAoCCxBgAAAAAAoCCxBgAAAAAAoCCxBgAAAAAAoCCxBgAAAAAAoCCxBgAAAAAAoCCxBgAAAAAAoCCxBgAAAAAAoCCxBgAAAAAAoCCxBgAAAAAAoCCxBgAAAAAAoCCxBgAAAAAAoCCxBgAAAAAAoCCxBgAAAAAAoCCxBgAAAAAAoCCxBgAAAAAAoCCxBgAAAAAAoCCxBgAAAAAAoCCxBgAAAAAAoCCxBgAAAAAAoCCxBgAAAAAAoCCxBgAAAAAAoCCxBgAAAAAAoKCisWb69On59Kc/nV69eqWmpiY333xzk/2VSiVjx47Npptumk6dOmXgwIF59tlnm6yZP39+hgwZktra2nTp0iVDhw7NK6+80mTNI488kj333DMdO3ZM7969M3HixBVmueGGG7LtttumY8eO2XHHHfM///M/LX6+AAAAAAAAb1U01ixatCgf/ehH893vfvdt90+cODGTJ0/OlVdemZkzZ2aDDTbIoEGD8tprr1XXDBkyJI8//nimTZuWW2+9NdOnT8+wYcOq+xsbG7P//vtniy22yIMPPpjzzz8/5557br7//e9X1/zhD3/IkUcemaFDh+bhhx/O4MGDM3jw4Dz22GOr7uQBAAAAAACS1FQqlUrpIZKkpqYmN910UwYPHpzkX3fV9OrVK6eddlq++tWvJkkaGhrSo0ePTJkyJUcccUSefPLJ9O3bN/fff3/69euXJJk6dWoOPPDAPP/88+nVq1euuOKKfO1rX8vcuXPTvn37JMno0aNz880356mnnkqSHH744Vm0aFFuvfXW6jy77bZbdtppp1x55ZVvO+/ixYuzePHi6uvGxsb07t07DQ0Nqa2tbfHfz/s1/uGXSo+w1hm988alRwAAAAAAYC3V2NiYurq6leoGa+x31syePTtz587NwIEDq9vq6urSv3//zJgxI0kyY8aMdOnSpRpqkmTgwIFp06ZNZs6cWV2z1157VUNNkgwaNChPP/10FixYUF3z5s9Zvmb557ydcePGpa6urvrTu3fv93/SAAAAAABAq7PGxpq5c+cmSXr06NFke48ePar75s6dm+7duzfZ365du3Tr1q3Jmrc7xps/453WLN//dsaMGZOGhobqz5w5c5p7igAAAAAAAGlXeoC1VYcOHdKhQ4fSYwAAAAAAAGu5NfbOmp49eyZJ6uvrm2yvr6+v7uvZs2fmzZvXZP+SJUsyf/78Jmve7hhv/ox3WrN8PwAAAAAAwKqyxsaaPn36pGfPnrnrrruq2xobGzNz5swMGDAgSTJgwIAsXLgwDz74YHXN3XffnWXLlqV///7VNdOnT88bb7xRXTNt2rRss8026dq1a3XNmz9n+ZrlnwMAAAAAALCqFI01r7zySmbNmpVZs2YlSWbPnp1Zs2blueeeS01NTUaOHJlvfetb+dWvfpVHH300xx57bHr16pXBgwcnSbbbbrt86lOfykknnZT77rsv9957b04++eQcccQR6dWrV5LkqKOOSvv27TN06NA8/vjjuf7663PJJZfk1FNPrc5xyimnZOrUqbnwwgvz1FNP5dxzz80DDzyQk08+eXX/SgAAAAAAgFam6HfWPPDAA/nEJz5Rfb08oBx33HGZMmVKzjjjjCxatCjDhg3LwoULs8cee2Tq1Knp2LFj9T3XXnttTj755Oy7775p06ZNDj300EyePLm6v66uLnfeeWeGDx+eXXfdNRtvvHHGjh2bYcOGVdfsvvvuue666/L1r389Z511Vj70oQ/l5ptvzg477LAafgsAAAAAAEBrVlOpVCqlh1gXNDY2pq6uLg0NDamtrS09zgrGP/xS6RHWOqN33rj0CAAAAAAArKWa0w3W2O+sAQAAAAAAaA3EGgAAAAAAgILEGgAAAAAAgILEGgAAAAAAgILEGgAAAAAAgILEGgAAAAAAgILEGgAAAAAAgILEGgAAAAAAgILEGgAAAAAAgILEGgAAAAAAgILEGgAAAAAAgILEGgAAAAAAgILEGgAAAAAAgILEGgAAAAAAgILEGgAAAAAAgILEGgAAAAAAgILEGgAAAAAAgILEGgAAAAAAgILEGgAAAAAAgILEGgAAAAAAgILEGgAAAAAAgILEGgAAAAAAgILEGgAAAAAAgILEGgAAAAAAgILEGgAAAAAAgILEGgAAAAAAgILEGgAAAAAAgILEGgAAAAAAgILEGgAAAAAAgILEGgAAAAAAgILEGgAAAAAAgILEGgAAAAAAgILEGgAAAAAAgILEGgAAAAAAgILEGgAAAAAAgILEGgAAAAAAgILEGgAAAAAAgILEGgAAAAAAgILEGgAAAAAAgILEGgAAAAAAgILEGgAAAAAAgILEGgAAAAAAgILEGgAAAAAAgILEGgAAAAAAgILEGgAAAAAAgILEGgAAAAAAgILEGgAAAAAAgILEGgAAAAAAgILEGgAAAAAAgILEGgAAAAAAgILEGgAAAAAAgILEGgAAAAAAgILEGgAAAAAAgILEGgAAAAAAgILEGgAAAAAAgILEGgAAAAAAgILEGgAAAAAAgILEGgAAAAAAgILEGgAAAAAAgILEGgAAAAAAgILEGgAAAAAAgILEGgAAAAAAgILEGgAAAAAAgILEGgAAAAAAgILEGgAAAAAAgILEGgAAAAAAgILEGgAAAAAAgILEGgAAAAAAgILEGgAAAAAAgILEGgAAAAAAgILEGgAAAAAAgILEGgAAAAAAgILEGgAAAAAAgILEGgAAAAAAgILEGgAAAAAAgILEGgAAAAAAgILEGgAAAAAAgILEGgAAAAAAgILEGgAAAAAAgILEGgAAAAAAgILEGgAAAAAAgILEGgAAAAAAgILEGgAAAAAAgILEGgAAAAAAgILEGgAAAAAAgILEGgAAAAAAgILEGgAAAAAAgILEGgAAAAAAgILEGgAAAAAAgILEGgAAAAAAgILEGgAAAAAAgILEGgAAAAAAgILEGgAAAAAAgILEGgAAAAAAgILEGgAAAAAAgILEGgAAAAAAgILEGgAAAAAAgILEGgAAAAAAgILEGgAAAAAAgILEGgAAAAAAgILEGgAAAAAAgILEGgAAAAAAgILEGgAAAAAAgILEGgAAAAAAgILEGgAAAAAAgILEGgAAAAAAgILEGgAAAAAAgILEGgAAAAAAgILEGgAAAAAAgILEGgAAAAAAgILEGgAAAAAAgILEGgAAAAAAgILEGgAAAAAAgILEGgAAAAAAgILEGgAAAAAAgILEGgAAAAAAgILEGgAAAAAAgILEGgAAAAAAgILEGgAAAAAAgILEGgAAAAAAgILEGgAAAAAAgILEGgAAAAAAgILEGgAAAAAAgILEGgAAAAAAgILEGgAAAAAAgILEGgAAAAAAgILW6FizdOnSnH322enTp086deqUrbbaKt/85jdTqVSqayqVSsaOHZtNN900nTp1ysCBA/Pss882Oc78+fMzZMiQ1NbWpkuXLhk6dGheeeWVJmseeeSR7LnnnunYsWN69+6diRMnrpZzBAAAAAAAWrc1OtZMmDAhV1xxRS677LI8+eSTmTBhQiZOnJhLL720umbixImZPHlyrrzyysycOTMbbLBBBg0alNdee626ZsiQIXn88cczbdq03HrrrZk+fXqGDRtW3d/Y2Jj9998/W2yxRR588MGcf/75Offcc/P9739/tZ4vAAAAAADQ+tRU3nybyhrm4IMPTo8ePXLVVVdVtx166KHp1KlTrrnmmlQqlfTq1SunnXZavvrVryZJGhoa0qNHj0yZMiVHHHFEnnzyyfTt2zf3339/+vXrlySZOnVqDjzwwDz//PPp1atXrrjiinzta1/L3Llz0759+yTJ6NGjc/PNN+epp55aqVkbGxtTV1eXhoaG1NbWtvBv4v0b//BLpUdY64zeeePSIwAAAAAAsJZqTjdYo++s2X333XPXXXflmWeeSZL87//+b37/+9/ngAMOSJLMnj07c+fOzcCBA6vvqaurS//+/TNjxowkyYwZM9KlS5dqqEmSgQMHpk2bNpk5c2Z1zV577VUNNUkyaNCgPP3001mwYMHbzrZ48eI0NjY2+QEAAAAAAGiudqUHeDejR49OY2Njtt1227Rt2zZLly7Nt7/97QwZMiRJMnfu3CRJjx49mryvR48e1X1z585N9+7dm+xv165dunXr1mRNnz59VjjG8n1du3ZdYbZx48blG9/4RgucJQAAAAAA0Jqt0XfW/OxnP8u1116b6667Lg899FCuvvrqXHDBBbn66qtLj5YxY8akoaGh+jNnzpzSIwEAAAAAAGuhNfrOmtNPPz2jR4/OEUcckSTZcccd87e//S3jxo3Lcccdl549eyZJ6uvrs+mmm1bfV19fn5122ilJ0rNnz8ybN6/JcZcsWZL58+dX39+zZ8/U19c3WbP89fI1b9WhQ4d06NDh/Z8kAAAAAADQqq3Rd9a8+uqradOm6Yht27bNsmXLkiR9+vRJz549c9ddd1X3NzY2ZubMmRkwYECSZMCAAVm4cGEefPDB6pq77747y5YtS//+/atrpk+fnjfeeKO6Ztq0adlmm23e9hFoAAAAAAAALWWNjjWf/vSn8+1vfzu33XZb/vrXv+amm27KRRddlP/v//v/kiQ1NTUZOXJkvvWtb+VXv/pVHn300Rx77LHp1atXBg8enCTZbrvt8qlPfSonnXRS7rvvvtx77705+eSTc8QRR6RXr15JkqOOOirt27fP0KFD8/jjj+f666/PJZdcklNPPbXUqQMAAAAAAK3EGv0YtEsvvTRnn312vvzlL2fevHnp1atXvvCFL2Ts2LHVNWeccUYWLVqUYcOGZeHChdljjz0yderUdOzYsbrm2muvzcknn5x99903bdq0yaGHHprJkydX99fV1eXOO+/M8OHDs+uuu2bjjTfO2LFjM2zYsNV6vgAAAAAAQOtTU6lUKqWHWBc0Njamrq4uDQ0Nqa2tLT3OCsY//FLpEdY6o3feuPQIAAAAAACspZrTDdbox6ABAAAAAACs68QaAAAAAACAgsQaAAAAAACAgsQaAAAAAACAgsQaAAAAAACAgsQaAAAAAACAgsQaAAAAAACAgsQaAAAAAACAgsQaAAAAAACAgsQaAAAAAACAgsQaAAAAAACAgsQaAAAAAACAgsQaAAAAAACAgsQaAAAAAACAgsQaAAAAAACAgsQaAAAAAACAgsQaAAAAAACAgsQaAAAAAACAgsQaAAAAAACAgsQaAAAAAACAgsQaAAAAAACAgsQaAAAAAACAgsQaAAAAAACAgsQaAAAAAACAgsQaAAAAAACAgsQaAAAAAACAgsQaAAAAAACAgsQaAAAAAACAgsQaAAAAAACAgsQaAAAAAACAgsQaAAAAAACAgsQaAAAAAACAgsQaAAAAAACAgsQaAAAAAACAgsQaAAAAAACAgsQaAAAAAACAgsQaAAAAAACAgsQaAAAAAACAgsQaAAAAAACAgsQaAAAAAACAgsQaAAAAAACAgsQaAAAAAACAgsQaAAAAAACAgsQaAAAAAACAgsQaAAAAAACAgsQaAAAAAACAgsQaAAAAAACAgsQaAAAAAACAgsQaAAAAAACAgsQaAAAAAACAgsQaAAAAAACAgsQaAAAAAACAgsQaAAAAAACAgsQaAAAAAACAgsQaAAAAAACAgsQaAAAAAACAgsQaAAAAAACAgsQaAAAAAACAgsQaAAAAAACAgsQaAAAAAACAgsQaAAAAAACAgsQaAAAAAACAgsQaAAAAAACAgsQaAAAAAACAgsQaAAAAAACAgsQaAAAAAACAgsQaAAAAAACAgsQaAAAAAACAgsQaAAAAAACAgsQaAAAAAACAgsQaAAAAAACAgsQaAAAAAACAgsQaAAAAAACAgsQaAAAAAACAgsQaAAAAAACAgsQaAAAAAACAgsQaAAAAAACAgsQaAAAAAACAgsQaAAAAAACAgsQaAAAAAACAgsQaAAAAAACAgsQaAAAAAACAgsQaAAAAAACAgsQaAAAAAACAgsQaAAAAAACAgsQaAAAAAACAgsQaAAAAAACAgsQaAAAAAACAgsQaAAAAAACAgsQaAAAAAACAgsQaAAAAAACAgsQaAAAAAACAgsQaAAAAAACAgsQaAAAAAACAgsQaAAAAAACAgsQaAAAAAACAgsQaAAAAAACAgsQaAAAAAACAgsQaAAAAAACAgsQaAAAAAACAgsQaAAAAAACAgsQaAAAAAACAgsQaAAAAAACAgsQaAAAAAACAgsQaAAAAAACAgsQaAAAAAACAgsQaAAAAAACAgsQaAAAAAACAgpoda6ZOnZrf//731dff/e53s9NOO+Woo47KggULWnQ4AAAAAACAdV2zY83pp5+exsbGJMmjjz6a0047LQceeGBmz56dU089tcUHBAAAAAAAWJe1a+4bZs+enb59+yZJfv7zn+fggw/Od77znTz00EM58MADW3xAAAAAAACAdVmz76xp3759Xn311STJr3/96+y///5Jkm7dulXvuAEAAAAAAGDlNPvOmj322COnnnpqPv7xj+e+++7L9ddfnyR55plnstlmm7X4gAAAAAAAAOuyZt9Zc9lll6Vdu3a58cYbc8UVV+QDH/hAkuT222/Ppz71qRYfEAAAAAAAYF3W7DtrNt9889x6660rbL/44otbZCAAAAAAAIDWpNmxJkmWLl2am266KU8++WSSZLvttsvgwYPTrt17OhwAAAAAAECr1ey68vjjj+fTn/506uvrs8022yRJJkyYkE022SS33HJLdthhhxYfEgAAAAAAYF3V7O+sOfHEE7PDDjvk+eefz0MPPZSHHnooc+bMyUc+8pEMGzZsVcwIAAAAAACwzmr2nTWzZs3KAw88kK5du1a3de3aNd/+9rfzH//xHy06HAAAAAAAwLqu2XfWfPjDH059ff0K2+fNm5ett966RYYCAAAAAABoLVYq1jQ2NlZ/xo0blxEjRuTGG2/M888/n+effz433nhjRo4cmQkTJqzqeQEAAAAAANYpK/UYtC5duqSmpqb6ulKp5D//8z+r2yqVSpLk05/+dJYuXboKxgQAAAAAAFg3rVSsueeee1b1HAAAAAAAAK3SSsWavffee1XPAQAAAAAA0CqtVKx5q4ULF+aqq67Kk08+mSTZfvvt8/nPfz51dXUtOhwAAAAAAMC6rk1z3/DAAw9kq622ysUXX5z58+dn/vz5ueiii7LVVlvloYceWhUzAgAAAAAArLOafWfNqFGj8pnPfCY/+MEP0q7dv96+ZMmSnHjiiRk5cmSmT5/e4kMCAAAAAACsq97TnTVnnnlmNdQkSbt27XLGGWfkgQceaNHhkuTvf/97jj766Gy00Ubp1KlTdtxxxyafU6lUMnbs2Gy66abp1KlTBg4cmGeffbbJMebPn58hQ4aktrY2Xbp0ydChQ/PKK680WfPII49kzz33TMeOHdO7d+9MnDixxc8FAAAAAADgrZoda2pra/Pcc8+tsH3OnDnp3Llziwy13IIFC/Lxj3886623Xm6//fY88cQTufDCC9O1a9fqmokTJ2by5Mm58sorM3PmzGywwQYZNGhQXnvtteqaIUOG5PHHH8+0adNy6623Zvr06Rk2bFh1f2NjY/bff/9sscUWefDBB3P++efn3HPPzfe///0WPR8AAAAAAIC3avZj0A4//PAMHTo0F1xwQXbfffckyb333pvTTz89Rx55ZIsON2HChPTu3Ts//vGPq9v69OlT/XelUsmkSZPy9a9/PYccckiS5Cc/+Ul69OiRm2++OUcccUSefPLJTJ06Nffff3/69euXJLn00ktz4IEH5oILLkivXr1y7bXX5vXXX8+PfvSjtG/fPttvv31mzZqViy66qEnUebPFixdn8eLF1deNjY0teu4AAAAAAEDr0Ow7ay644IJ89rOfzbHHHpstt9wyW265ZY4//vgcdthhmTBhQosO96tf/Sr9+vXL5z73uXTv3j0777xzfvCDH1T3z549O3Pnzs3AgQOr2+rq6tK/f//MmDEjSTJjxox06dKlGmqSZODAgWnTpk1mzpxZXbPXXnulffv21TWDBg3K008/nQULFrztbOPGjUtdXV31p3fv3i167gAAAAAAQOvQ7FjTvn37XHLJJVmwYEFmzZqVWbNmZf78+bn44ovToUOHFh3uL3/5S6644op86EMfyh133JEvfelLGTFiRK6++uokydy5c5MkPXr0aPK+Hj16VPfNnTs33bt3b7K/Xbt26datW5M1b3eMN3/GW40ZMyYNDQ3Vnzlz5rzPswUAAAAAAFqjZj8Gbbn1118/O+64Y0vOsoJly5alX79++c53vpMk2XnnnfPYY4/lyiuvzHHHHbdKP/vf6dChQ4vHKQAAAAAAoPVZ6Vjz2c9+9t8frF279OzZM/vtt18+/elPv6/BkmTTTTdN3759m2zbbrvt8vOf/zxJ0rNnzyRJfX19Nt100+qa+vr67LTTTtU18+bNa3KMJUuWZP78+dX39+zZM/X19U3WLH+9fA0AAAAAAMCqsNKPQXvz97O800+nTp3y7LPP5vDDD8/YsWPf93Af//jH8/TTTzfZ9swzz2SLLbZIkvTp0yc9e/bMXXfdVd3f2NiYmTNnZsCAAUmSAQMGZOHChXnwwQera+6+++4sW7Ys/fv3r66ZPn163njjjeqaadOmZZtttknXrl3f93kAAAAAAAC8k5pKpVJp6YPeeuut+fKXv5znnnvufR3n/vvvz+67755vfOMb+c///M/cd999Oemkk/L9738/Q4YMSZJMmDAh48ePz9VXX50+ffrk7LPPziOPPJInnngiHTt2TJIccMABqa+vz5VXXpk33ngjJ5xwQvr165frrrsuSdLQ0JBtttkm+++/f84888w89thj+fznP5+LL744w4YNW6lZGxsbU1dXl4aGhtTW1r6v814Vxj/8UukR1jqjd9649AgAAAAAAKylmtMN3vN31rybPfbYI/369Xvfx/mP//iP3HTTTRkzZkzOO++89OnTJ5MmTaqGmiQ544wzsmjRogwbNiwLFy7MHnvskalTp1ZDTZJce+21Ofnkk7PvvvumTZs2OfTQQzN58uTq/rq6utx5550ZPnx4dt1112y88cYZO3bsSocaAAAAAACA92qV3FnTGrmzZt3jzhoAAAAAAN6r5nSDlf7OGgAAAAAAAFqeWAMAAAAAAFDQSsWaXXbZJQsWLEiSnHfeeXn11VdX6VAAAAAAAACtxUrFmieffDKLFi1KknzjG9/IK6+8skqHAgAAAAAAaC3arcyinXbaKSeccEL22GOPVCqVXHDBBdlwww3fdu3YsWNbdEAAAAAAAIB12UrFmilTpuScc87Jrbfempqamtx+++1p127Ft9bU1Ig1AAAAAAAAzbBSsWabbbbJf//3fydJ2rRpk7vuuivdu3dfpYMBAAAAAAC0BisVa95s2bJlq2IOAAAAAACAVqnZsSZJ/vznP2fSpEl58sknkyR9+/bNKaeckq222qpFhwMAAAAAAFjXtWnuG+6444707ds39913Xz7ykY/kIx/5SGbOnJntt98+06ZNWxUzAgAAAAAArLOafWfN6NGjM2rUqIwfP36F7WeeeWb222+/FhsOAAAAAABgXdfsO2uefPLJDB06dIXtn//85/PEE0+0yFAAAAAAAACtRbNjzSabbJJZs2atsH3WrFnp3r17S8wEAAAAAADQajT7MWgnnXRShg0blr/85S/ZfffdkyT33ntvJkyYkFNPPbXFBwQAAAAAAFiXNTvWnH322encuXMuvPDCjBkzJknSq1evnHvuuRkxYkSLDwgAAAAAALAua3asqampyahRozJq1Ki8/PLLSZLOnTu3+GAAAAAAAACtQbNjzZuJNAAAAAAAAO9Pm9IDAAAAAAAAtGZiDQAAAAAAQEFiDQAAAAAAQEHNijVvvPFG9t133zz77LOrah4AAAAAAIBWpVmxZr311ssjjzyyqmYBAAAAAABodZr9GLSjjz46V1111aqYBQAAAAAAoNVp19w3LFmyJD/60Y/y61//Orvuums22GCDJvsvuuiiFhsOAAAAAABgXdfsWPPYY49ll112SZI888wzTfbV1NS0zFQAAAAAAACtRLNjzT333LMq5gAAAAAAAGiVmv2dNcv96U9/yh133JF//vOfSZJKpdJiQwEAAAAAALQWzY41//jHP7Lvvvvmwx/+cA488MD83//9X5Jk6NChOe2001p8QAAAAAAAgHVZs2PNqFGjst566+W5557L+uuvX91++OGHZ+rUqS06HAAAAAAAwLqu2d9Zc+edd+aOO+7IZptt1mT7hz70ofztb39rscEAAAAAAABag2bfWbNo0aImd9QsN3/+/HTo0KFFhgIAAAAAAGgtmh1r9txzz/zkJz+pvq6pqcmyZcsyceLEfOITn2jR4QAAAAAAANZ1zX4M2sSJE7PvvvvmgQceyOuvv54zzjgjjz/+eObPn5977713VcwIAAAAAACwzmr2nTU77LBDnnnmmeyxxx455JBDsmjRonz2s5/Nww8/nK222mpVzAgAAAAAALDOavadNUlSV1eXr33tay09CwAAAAAAQKvznmLNggULctVVV+XJJ59MkvTt2zcnnHBCunXr1qLDAQAAAAAArOua/Ri06dOnZ8stt8zkyZOzYMGCLFiwIJMnT06fPn0yffr0VTEjAAAAAADAOqvZd9YMHz48hx9+eK644oq0bds2SbJ06dJ8+ctfzvDhw/Poo4+2+JAAAAAAAADrqmbfWfOnP/0pp512WjXUJEnbtm1z6qmn5k9/+lOLDgcAAAAAALCua3as2WWXXarfVfNmTz75ZD760Y+2yFAAAAAAAACtxUo9Bu2RRx6p/nvEiBE55ZRT8qc//Sm77bZbkuSPf/xjvvvd72b8+PGrZkoAAAAAAIB1VE2lUqn8u0Vt2rRJTU1N/t3SmpqaLF26tMWGW5s0Njamrq4uDQ0Nqa2tLT3OCsY//FLpEdY6o3feuPQIAAAAAACspZrTDVbqzprZs2e3yGAAAAAAAAA0tVKxZosttljVcwAAAAAAALRKKxVr3uqFF17I73//+8ybNy/Lli1rsm/EiBEtMhgAAAAAAEBr0OxYM2XKlHzhC19I+/bts9FGG6Wmpqa6r6amRqwBAAAAAABohmbHmrPPPjtjx47NmDFj0qZNm1UxEwAAAAAAQKvR7Nry6quv5ogjjhBqAAAAAAAAWkCzi8vQoUNzww03rIpZAAAAAAAAWp1mPwZt3LhxOfjggzN16tTsuOOOWW+99Zrsv+iii1psOAAAAAAAgHXde4o1d9xxR7bZZpskSU1NTXXfm/8NAAAAAADAv9fsWHPhhRfmRz/6UY4//vhVMA4AAAAAAEDr0uzvrOnQoUM+/vGPr4pZAAAAAAAAWp1mx5pTTjkll1566aqYBQAAAAAAoNVp9mPQ7rvvvtx999259dZbs/3222e99dZrsv8Xv/hFiw0HAAAAAACwrmt2rOnSpUs++9nPropZAAAAAAAAWp1mx5of//jHq2IOAAAAAACAVqnZ31kDAAAAAABAy2n2nTV9+vRJTU3NO+7/y1/+8r4GAgAAAAAAaE2aHWtGjhzZ5PUbb7yRhx9+OFOnTs3pp5/eUnMBAAAAAAC0Cs2ONaeccsrbbv/ud7+bBx544H0PBAAAAAAA0Jq02HfWHHDAAfn5z3/eUocDAAAAAABoFVos1tx4443p1q1bSx0OAAAAAACgVWj2Y9B23nnn1NTUVF9XKpXMnTs3L774Yi6//PIWHQ4AAAAAAGBd1+xYM3jw4Cav27Rpk0022ST77LNPtt1225aaCwAAAAAAoFVodqw555xzVsUcAAAAAAAArVKLfWcNAAAAAAAAzbfSd9a0adOmyXfVvJ2amposWbLkfQ8FAAAAAADQWqx0rLnpppvecd+MGTMyefLkLFu2rEWGAgAAAAAAaC1WOtYccsghK2x7+umnM3r06Nxyyy0ZMmRIzjvvvBYdDgAAAAAAYF33nr6z5oUXXshJJ52UHXfcMUuWLMmsWbNy9dVXZ4sttmjp+QAAAAAAANZpzYo1DQ0NOfPMM7P11lvn8ccfz1133ZVbbrklO+yww6qaDwAAAAAAYJ220o9BmzhxYiZMmJCePXvmv/7rv972sWgAAAAAAAA0T02lUqmszMI2bdqkU6dOGThwYNq2bfuO637xi1+02HBrk8bGxtTV1aWhoSG1tbWlx1nB+IdfKj3CWmf0zhuXHgEAAAAAgLVUc7rBSt9Zc+yxx6ampuZ9DwcAAAAAAMD/30rHmilTpqzCMQAAAAAAAFqnNqUHAAAAAAAAaM3EGgAAAAAAgILEGgAAAAAAgILEGgAAAAAAgILEGgAAAAAAgILEGgAAAAAAgILEGgAAAAAAgILEGgAAAAAAgILEGgAAAAAAgILEGgAAAAAAgILEGgAAAAAAgILEGgAAAAAAgILEGgAAAAAAgILEGgAAAAAAgILEGgAAAAAAgILEGgAAAAAAgILEGgAAAAAAgILEGgAAAAAAgILEGgAAAAAAgILEGgAAAAAAgILEGgAAAAAAgILEGgAAAAAAgILEGgAAAAAAgILEGgAAAAAAgILEGgAAAAAAgILEGgAAAAAAgILEGgAAAAAAgILEGgAAAAAAgILEGgAAAAAAgILEGgAAAAAAgILEGgAAAAAAgILEGgAAAAAAgILEGgAAAAAAgILEGgAAAAAAgILEGgAAAAAAgILEGgAAAAAAgILEGgAAAAAAgILEGgAAAAAAgILEGgAAAAAAgILEGgAAAAAAgILEGgAAAAAAgILEGgAAAAAAgILEGgAAAAAAgILEGgAAAAAAgILEGgAAAAAAgILEGgAAAAAAgILEGgAAAAAAgILEGgAAAAAAgILEGgAAAAAAgILEGgAAAAAAgILEGgAAAAAAgILWqlgzfvz41NTUZOTIkdVtr732WoYPH56NNtooG264YQ499NDU19c3ed9zzz2Xgw46KOuvv366d++e008/PUuWLGmy5je/+U122WWXdOjQIVtvvXWmTJmyGs4IAAAAAABo7daaWHP//ffne9/7Xj7ykY802T5q1KjccsstueGGG/Lb3/42L7zwQj772c9W9y9dujQHHXRQXn/99fzhD3/I1VdfnSlTpmTs2LHVNbNnz85BBx2UT3ziE5k1a1ZGjhyZE088MXfcccdqOz8AAAAAAKB1qqlUKpXSQ/w7r7zySnbZZZdcfvnl+da3vpWddtopkyZNSkNDQzbZZJNcd911Oeyww5IkTz31VLbbbrvMmDEju+22W26//fYcfPDBeeGFF9KjR48kyZVXXpkzzzwzL774Ytq3b58zzzwzt912Wx577LHqZx5xxBFZuHBhpk6d+rYzLV68OIsXL66+bmxsTO/evdPQ0JDa2tpV+Nt4b8Y//FLpEdY6o3feuPQIAAAAAACspRobG1NXV7dS3WCtuLNm+PDhOeiggzJw4MAm2x988MG88cYbTbZvu+222XzzzTNjxowkyYwZM7LjjjtWQ02SDBo0KI2NjXn88cera9567EGDBlWP8XbGjRuXurq66k/v3r3f93kCAAAAAACtzxofa/77v/87Dz30UMaNG7fCvrlz56Z9+/bp0qVLk+09evTI3Llzq2veHGqW71++793WNDY25p///OfbzjVmzJg0NDRUf+bMmfOezg8AAAAAAGjd2pUe4N3MmTMnp5xySqZNm5aOHTuWHqeJDh06pEOHDqXHAAAAAAAA1nJr9J01Dz74YObNm5dddtkl7dq1S7t27fLb3/42kydPTrt27dKjR4+8/vrrWbhwYZP31dfXp2fPnkmSnj17pr6+foX9y/e925ra2tp06tRpFZ0dAAAAAADAGh5r9t133zz66KOZNWtW9adfv34ZMmRI9d/rrbde7rrrrup7nn766Tz33HMZMGBAkmTAgAF59NFHM2/evOqaadOmpba2Nn379q2uefMxlq9ZfgwAAAAAAIBVZY1+DFrnzp2zww47NNm2wQYbZKONNqpuHzp0aE499dR069YttbW1+cpXvpIBAwZkt912S5Lsv//+6du3b4455phMnDgxc+fOzde//vUMHz68+hizL37xi7nssstyxhln5POf/3zuvvvu/OxnP8ttt922ek8YAAAAAABoddboWLMyLr744rRp0yaHHnpoFi9enEGDBuXyyy+v7m/btm1uvfXWfOlLX8qAAQOywQYb5Ljjjst5551XXdOnT5/cdtttGTVqVC655JJsttlm+eEPf5hBgwaVOCUAAAAAAKAVqalUKpXSQ6wLGhsbU1dXl4aGhtTW1pYeZwXjH36p9AhrndE7b1x6BAAAAAAA1lLN6QZr9HfWAAAAAAAArOvEGgAAAAAAgILEGgAAAAAAgILEGgAAAAAAgILEGgAAAAAAgILEGgAAAAAAgILEGgAAAAAAgILEGgAAAAAAgILEGgAAAAAAgILEGgAAAAAAgILEGgAAAAAAgILEGgAAAAAAgILEGgAAAAAAgILEGgAAAAAAgILEGgAAAAAAgILEGgAAAAAAgILEGgAAAAAAgILEGgAAAAAAgILEGgAAAAAAgILEGgAAAAAAgILEGgAAAAAAgILEGgAAAAAAgILEGgAAAAAAgILEGgAAAAAAgILEGgAAAAAAgILEGgAAAAAAgILEGgAAAAAAgILEGgAAAAAAgILEGgAAAAAAgILEGgAAAAAAgILEGgAAAAAAgILEGgAAAAAAgILEGgAAAAAAgILEGgAAAAAAgILEGgAAAAAAgILEGgAAAAAAgILEGgAAAAAAgILEGgAAAAAAgILEGgAAAAAAgILEGgAAAAAAgILEGgAAAAAAgILEGgAAAAAAgILEGgAAAAAAgILEGgAAAAAAgILEGgAAAAAAgILEGgAAAAAAgILEGgAAAAAAgILEGgAAAAAAgILEGgAAAAAAgILEGgAAAAAAgILEGgAAAAAAgILEGgAAAAAAgILEGgAAAAAAgILEGgAAAAAAgILEGgAAAAAAgILEGgAAAAAAgILEGgAAAAAAgILEGgAAAAAAgILEGgAAAAAAgILEGgAAAAAAgILEGgAAAAAAgILEGgAAAAAAgILEGgAAAAAAgILEGgAAAAAAgILEGgAAAAAAgILEGgAAAAAAgILEGgAAAAAAgILEGgAAAAAAgILEGgAAAAAAgILEGgAAAAAAgILEGgAAAAAAgILEGgAAAAAAgILEGgAAAAAAgILEGgAAAAAAgILEGgAAAAAAgILEGgAAAAAAgILEGgAAAAAAgILEGgAAAAAAgILEGgAAAAAAgILEGgAAAAAAgILEGgAAAAAAgILEGgAAAAAAgILEGgAAAAAAgILEGgAAAAAAgILEGgAAAAAAgILEGgAAAAAAgILEGgAAAAAAgILEGgAAAAAAgILEGgAAAAAAgILEGgAAAAAAgILEGgAAAAAAgILEGgAAAAAAgILEGgAAAAAAgILEGgAAAAAAgILEGgAAAAAAgILEGgAAAAAAgILEGgAAAAAAgILEGgAAAAAAgILEGgAAAAAAgILEGgAAAAAAgILEGgAAAAAAgILEGgAAAAAAgILEGgAAAAAAgILalR4AWLeMf/il0iOsdUbvvHHpEQAAAACAgtxZAwAAAAAAUJBYAwAAAAAAUJBYAwAAAAAAUJBYAwAAAAAAUJBYAwAAAAAAUJBYAwAAAAAAUJBYAwAAAAAAUJBYAwAAAAAAUJBYAwAAAAAAUJBYAwAAAAAAUJBYAwAAAAAAUJBYAwAAAAAAUJBYAwAAAAAAUJBYAwAAAAAAUJBYAwAAAAAAUJBYAwAAAAAAUJBYAwAAAAAAUJBYAwAAAAAAUJBYAwAAAAAAUJBYAwAAAAAAUJBYAwAAAAAAUJBYAwAAAAAAUNAaHWvGjRuX//iP/0jnzp3TvXv3DB48OE8//XSTNa+99lqGDx+ejTbaKBtuuGEOPfTQ1NfXN1nz3HPP5aCDDsr666+f7t275/TTT8+SJUuarPnNb36TXXbZJR06dMjWW2+dKVOmrOrTAwAAAAAAWLNjzW9/+9sMHz48f/zjHzNt2rS88cYb2X///bNo0aLqmlGjRuWWW27JDTfckN/+9rd54YUX8tnPfra6f+nSpTnooIPy+uuv5w9/+EOuvvrqTJkyJWPHjq2umT17dg466KB84hOfyKxZszJy5MiceOKJueOOO1br+QIAAAAAAK1PTaVSqZQeYmW9+OKL6d69e377299mr732SkNDQzbZZJNcd911Oeyww5IkTz31VLbbbrvMmDEju+22W26//fYcfPDBeeGFF9KjR48kyZVXXpkzzzwzL774Ytq3b58zzzwzt912Wx577LHqZx1xxBFZuHBhpk6dulKzNTY2pq6uLg0NDamtrW35k3+fxj/8UukR1jqjd9649AhrJdda87nWAAAAAGDd05xusEbfWfNWDQ0NSZJu3bolSR588MG88cYbGThwYHXNtttum8033zwzZsxIksyYMSM77rhjNdQkyaBBg9LY2JjHH3+8uubNx1i+Zvkx3s7ixYvT2NjY5AcAAAAAAKC51ppYs2zZsowcOTIf//jHs8MOOyRJ5s6dm/bt26dLly5N1vbo0SNz586trnlzqFm+f/m+d1vT2NiYf/7zn287z7hx41JXV1f96d279/s+RwAAAAAAoPVZa2LN8OHD89hjj+W///u/S4+SJBkzZkwaGhqqP3PmzCk9EgAAAAAAsBZqV3qAlXHyySfn1ltvzfTp07PZZptVt/fs2TOvv/56Fi5c2OTumvr6+vTs2bO65r777mtyvPr6+uq+5f+5fNub19TW1qZTp05vO1OHDh3SoUOH931uAAAAAABA67ZG31lTqVRy8skn56abbsrdd9+dPn36NNm/6667Zr311stdd91V3fb000/nueeey4ABA5IkAwYMyKOPPpp58+ZV10ybNi21tbXp27dvdc2bj7F8zfJjAAAAAAAArCpr9J01w4cPz3XXXZdf/vKX6dy5c/U7Zurq6tKpU6fU1dVl6NChOfXUU9OtW7fU1tbmK1/5SgYMGJDddtstSbL//vunb9++OeaYYzJx4sTMnTs3X//61zN8+PDqnTFf/OIXc9lll+WMM87I5z//+dx999352c9+lttuu63YuQMAAAAAAK3DGn1nzRVXXJGGhobss88+2XTTTas/119/fXXNxRdfnIMPPjiHHnpo9tprr/Ts2TO/+MUvqvvbtm2bW2+9NW3bts2AAQNy9NFH59hjj815551XXdOnT5/cdtttmTZtWj760Y/mwgsvzA9/+MMMGjRotZ4vAAAAAADQ+tRUKpVK6SHWBY2Njamrq0tDQ0Nqa2tLj7OC8Q+/VHqEtc7onTcuPcJaybXWfK41AAAAAFj3NKcbrNF31gAAAAAAAKzrxBoAAAAAAICCxBoAAAAAAICCxBoAAAAAAICCxBoAAAAAAICCxBoAAAAAAICCxBoAAAAAAICCxBoAAAAAAICCxBoAAAAAAICCxBoAAAAAAICCxBoAAAAAAICCxBoAAAAAAICCxBoAAAAAAICCxBoAAAAAAICCxBoAAAAAAICCxBoAAAAAAICCxBoAAAAAAICCxBoAAAAAAICCxBoAAAAAAICCxBoAAAAAAICCxBoAAAAAAICCxBoAAAAAAICCxBoAAAAAAICCxBoAAAAAAICCxBoAAAAAAICCxBoAAAAAAICCxBoAAAAAAICCxBoAAAAAAICCxBoAAAAAAICCxBoAAAAAAICCxBoAAAAAAICCxBoAAAAAAICCxBoAAAAAAICCxBoAAAAAAICCxBoAAAAAAICCxBoAAAAAAICCxBoAAAAAAICCxBoAAAAAAICCxBoAAAAAAICCxBoAAAAAAICCxBoAAAAAAICCxBoAAAAAAICCxBoAAAAAAICCxBoAAAAAAICCxBoAAAAAAICCxBoAAAAAAICCxBoAAAAAAICCxBoAAAAAAICCxBoAAAAAAICCxBoAAAAAAICCxBoAAAAAAICCxBoAAAAAAICCxBoAAAAAAICCxBoAAAAAAICCxBoAAAAAAICCxBoAAAAAAICCxBoAAAAAAICCxBoAAAAAAICCxBoAAAAAAICCxBoAAAAAAICCxBoAAAAAAICCxBoAAAAAAICCxBoAAAAAAICCxBoAAAAAAICCxBoAAAAAAICCxBoAAAAAAICC2pUeAADei/EPv1R6hLXO6J03Lj0CAAAAAG/DnTUAAAAAAAAFiTUAAAAAAAAFiTUAAAAAAAAFiTUAAAAAAAAFiTUAAAAAAAAFiTUAAAAAAAAFiTUAAAAAAAAFiTUAAAAAAAAFiTUAAAAAAAAFiTUAAAAAAAAFiTUAAAAAAAAFiTUAAAAAAAAFiTUAAAAAAAAFiTUAAAAAAAAFiTUAAAAAAAAFiTUAAAAAAAAFiTUAAAAAAAAFiTUAAAAAAAAFiTUAAAAAAAAFiTUAAAAAAAAFiTUAAAAAAAAFiTUAAAAAAAAFiTUAAAAAAAAFiTUAAAAAAAAFiTUAAAAAAAAFiTUAAAAAAAAFiTUAAAAAAAAFiTUAAAAAAAAFiTUAAAAAAAAFiTUAAAAAAAAFiTUAAAAAAAAFiTUAAAAAAAAFtSs9AADAmmz8wy+VHmGtM3rnjUuPAAAAAGsVd9YAAAAAAAAUJNYAAAAAAAAUJNYAAAAAAAAUJNYAAAAAAAAU1K70AAAAQDL+4ZdKj7DWGb3zxqVHAAAAaBHurAEAAAAAAChIrAEAAAAAACjIY9AAAABaEY/caz6P3HtvXGvN51oDgNbLnTUAAAAAAAAFiTUAAAAAAAAFiTUAAAAAAAAF+c4aAAAAANZavh+p+Xw/EsCax501AAAAAAAABYk1AAAAAAAABYk1AAAAAAAABYk1AAAAAAAABbUrPQAAAAAAwJpu/MMvlR5hrTN6541LjwBrDXfWAAAAAAAAFCTWAAAAAAAAFCTWAAAAAAAAFCTWAAAAAAAAFNSu9AAAAAAAAMC/jH/4pdIjrHVG77xx6RHeN3fWAAAAAAAAFCTWAAAAAAAAFCTWAAAAAAAAFCTWAAAAAAAAFCTWAAAAAAAAFCTWvMV3v/vdbLnllunYsWP69++f++67r/RIAAAAAADAOkyseZPrr78+p556as4555w89NBD+ehHP5pBgwZl3rx5pUcDAAAAAADWUe1KD7Amueiii3LSSSflhBNOSJJceeWVue222/KjH/0oo0ePbrJ28eLFWbx4cfV1Q0NDkqSxsXH1DdwMr73ycukR1jqNje1Lj7BWcq01n2vtvXGtNZ9r7b1xrTWfa+29ca01n2vtvXGtNZ9r7b1xrTWfa+29ca01n2vtvXGtNZ9r7b1xrTXfmnqtLe8FlUrl366tqazMqlbg9ddfz/rrr58bb7wxgwcPrm4/7rjjsnDhwvzyl79ssv7cc8/NN77xjdU8JQAAAAAAsDaZM2dONttss3dd486a/+ell17K0qVL06NHjybbe/TokaeeemqF9WPGjMmpp55afb1s2bLMnz8/G220UWpqalb5vOuKxsbG9O7dO3PmzEltbW3pcViHudZYXVxrrC6uNVYX1xqri2uN1cW1xuriWmN1ca2xurjWmq9SqeTll19Or169/u1aseY96tChQzp06NBkW5cuXcoMsw6ora31X3BWC9caq4trjdXFtcbq4lpjdXGtsbq41lhdXGusLq41VhfXWvPU1dWt1Lo2q3iOtcbGG2+ctm3bpr6+vsn2+vr69OzZs9BUAAAAAADAuk6s+X/at2+fXXfdNXfddVd127Jly3LXXXdlwIABBScDAAAAAADWZR6D9iannnpqjjvuuPTr1y8f+9jHMmnSpCxatCgnnHBC6dHWWR06dMg555yzwiPloKW51lhdXGusLq41VhfXGquLa43VxbXG6uJaY3VxrbG6uNZWrZpKpVIpPcSa5LLLLsv555+fuXPnZqeddsrkyZPTv3//0mMBAAAAAADrKLEGAAAAAACgIN9ZAwAAAAAAUJBYAwAAAAAAUJBYAwAAAAAAUJBYAwAAAAAAUJBYAwCwllu6dGnpEQAAAID3QawB1nmVSiV33313brvttixYsKD0OLQSDz30UA4++ODSY7COe+aZZ3LGGWdks802Kz0KAAAA8D60Kz0ALFmyJK+99lo23HDD0qOwDli4cGFOOeWUPPTQQ9ltt91y4YUX5sADD8wf/vCHJEn37t1z55135iMf+UjhSVkX3HHHHZk2bVrat2+fE088MR/84Afz1FNPZfTo0bnlllsyaNCg0iOyDnr11Vdz/fXX50c/+lFmzJiRfv365dRTTy09FgCskebMmZPevXu/4/433ngjM2bMyF577bUapwJ4byZPnvy22+vq6vLhD384AwYMWM0TAS2pplKpVEoPQetwyy235B//+EeOP/746rZvf/vb+eY3v5klS5bkk5/8ZK6//vp07dq13JCs9U488cRMnz49xx13XG655Za0adMmlUolkyZNSps2bXLGGWdkww03zC233FJ6VNZyV111VU466aR069YtCxYsyEYbbZSLLrooX/nKV3L44YfnlFNOyXbbbVd6TNYhf/zjH/PDH/4wN9xwQzbffPM8+eSTueeee7LnnnuWHo11yMSJE/OVr3wlnTp1SpLce++96devXzp06JAkefnll3PmmWfm8ssvLzkmwEpr27ZtPvOZz+Saa67JBhtssML++vr69OrVyyNFed/atGmTmpqad11TU1OTJUuWrKaJWBf16dPnbbcvXLgwDQ0N2X333fOrX/0q3bp1W82TsS56pzj4ViNGjFjFk7QeYg2rzSc+8YkcdthhGT58eJLkD3/4Q/bcc8+cd97/r707D6qqftw4/pwLuKTiUiYuCJJLiiiMaTlNuUHuSm5NuWY6jWlZmqKZS3zLRhxbyG1MEMllrCCVccvQNCfNLRAUTUZNU8GKRXIUhXu/fzje3+8qpn7Fe+Twfv13zudwzzPMZy6X85zzuZFq3ry5pk2bpu7du+uTTz4xOSnKsvr162vVqlXq0KGDzp49K19fX23btk0dO3aUJO3du1d9+vRRVlaWuUFR5rVq1UpDhw7VpEmTlJCQoIEDB+qZZ57R119/zZJUKFXz5s1TbGys8vPz9fLLL2vIkCFq3bq1vLy8lJqaqhYtWpgdERbi4eGh8+fP6/HHH5ckeXt7KyUlRQEBAZK4qAmg7LHZbKpXr55q1Kih9evXO9/PbsjOzlbdunVlt9tNSgirWLdu3W3Hdu/erejoaNntdl25csWNqVCenDhxQkOGDFFwcDA31qBU3FwOnjlzRnXr1pWn5/8t1mUYhk6cOOHuaJZFWQO3efzxx7VlyxaFhIRIkiZMmKAjR45o8+bNkqSNGzdq/PjxOn78uJkxUcZ5eno6/3hI0iOPPKK0tDQ98cQTkqSsrCzVr1+fi0y4b1WqVNHhw4fl7+8vh8OhihUravv27Xr22WfNjgaL8fT0VEREhCIjI+Xh4eHcT1mDB8FmsykrK8tZ1lSrVk2pqamUNQDKLA8PDx05ckTjx4/Xvn37tGbNGoWGhjrHeV/Dg3Ts2DHnEsmDBw9WZGSk/Pz8zI4FC9u5c6dGjhypzMxMs6PAgm7+3wClz2Z2AJQfBQUFevTRR53bu3btUpcuXZzbgYGBOnfunBnRYCF2u93lYqaHh4fLo+h3eiwduFuXL1/WI488Iun6vKpYsaKzJARK03/+8x998803atSokSIiIpSenm52JAAAygyHw6GaNWtq06ZNeu2119SjRw99+umnZseCxZ07d06jR49WUFCQioqKlJKSouXLl1PU4IFr2LAhK4kAZZjnnQ8BSkf9+vWVkZGhhg0b6p9//lFqaqrLh+S///7beeETuB9Lly5V1apVJUlFRUWKi4vTY489Jul6aQiUln+bazewdivu19SpUzV16lTt2LFDsbGxevrpp9W4cWM5HA7l5uaaHQ8AgDLBMAxFRUUpJCREo0aNUmpqqpYsWWJ2LFhMfn6+Zs+erS+++ELBwcFKTk7m+wXhVmlpaZSCQBnGMmhwm6lTp2rt2rV67733tHHjRv388886ceKE8ymIJUuWKD4+Xrt27TI5Kcoyf3//u3p65uTJk25IAyu7m7nG2q14EAoKCrRq1SrFxsbqwIEDateunQYMGKAJEyaYHQ0WYLPZ9OGHHzqL6IiICE2aNMnlpocZM2awXBCAMuPm5R0l6eDBg+rXr598fHy0cOFCtW3blvc13LeoqCjNmTNHPj4+mj17tvr27Wt2JFjQxYsXS9yfn5+vAwcOaOLEiRo+fLhmzJjh5mQoD1gG7cGjrIHbXL58Wa+//rqSkpLk4+OjJUuWuNxh0qlTJ3Xr1k0REREmpgQAoOxIT09XTEyMVq5cqQsXLpgdBxbATQ8ArKakskaS/vzzTw0YMEBpaWnKz8+nrMF9s9lsqly5skJDQ12W5r5ZYmKiG1PBamw2220/qxmGoVGjRik6OloVKlRwczJY0c3lYIMGDbRr1y75+/u77Pf29nZjKmujrAFgKVeuXNEPP/ygXr16Sbr+RFdhYaFz3NPTU5GRkapUqZJZEWERzDW4y7Zt2zRu3Djt2bPnlg/B+fn5at++vaKjo12+LBkAAFzXqFEj7d+/3+X7U28oKirS+PHjtWjRItntdhPSwUpGjBhxVzc8LFu2zA1pYFU7duwocb+3t7eaNGmiqlWrKj09XS1btnRzMljRzeWgw+EocZsbHkoPZQ3cpmbNmiV+cKlevbqaNm2qd999V2FhYSYkg5UsXrxYGzZsUFJSkqTrj2gGBgaqcuXKkqSjR49q0qRJLBeE+8Zcg7v06dNHnTp10jvvvFPieHR0tLZv367vvvvOzclgVXa7XXFxcUpMTNSpU6dkGIYCAgLUv39/DR069K4uRAEAAMB9CgoKtHr1asXExGj//v1cPEepuF05eLMOHTo84CTlB2UN3Gb58uUl7s/Ly9OBAwe0Zs0affvtt+rdu7ebk8FKnnvuOU2ePNk5j25eT3PFihVasGCBdu/ebWZMWABzDe7i5+enzZs3q3nz5iWOHz16VC+88IJOnz7t5mSwIofDoV69emnTpk1q3bq1nnzySTkcDmVkZCgtLU19+vTR2rVrzY4JAHft35YMusEwDBUVFbkpEayqX79+dzzGMAwlJCS4IQ3Ki507dyomJkYJCQmqV6+e+vXrp/79+6tt27ZmR4MF2O12zZ07V+vXr9fVq1fVpUsXzZw503mTKkqfp9kBUH4MHz78X8eDg4P18ccfU9bgvmRmZiooKMi5XalSJdlsNud2u3btNHbsWDOiwWKYa3CX7OxseXl53Xbc09NTf/75pxsTwcri4uL0008/KTk5WZ06dXIZ27Ztm8LDwxUfH69hw4aZlBAA7k1iYuJty5rdu3crOjqaJdBQKqpXr252BJQTWVlZiouLU0xMjC5evKhBgwapsLBQa9euVYsWLcyOBwv56KOPNGvWLIWGhqpy5cr6/PPPdeHCBcXGxpodzbIoa/DQ6NWrlz788EOzY6CMy8vLc/nekJsvYNrtdpdx4H/FXIO71K9fX+np6WrcuHGJ44cOHVLdunXdnApWtXr1ar333nu3FDWS1LlzZ02ZMkUrV66krAFQZoSHh9+y79ixY5oyZYqSkpI0ePBgRUZGuj8YLIfvooE79O7dWzt37lTPnj312WefqVu3bvLw8NDixYvNjgYLio+P18KFC/X6669Lkn744Qf17NlTS5cudblZFaWH3yoeGoWFhapQoYLZMVDGNWjQQOnp6bcdP3TokBo0aODGRLAq5hrcpUePHpo+fbquXLlyy9jly5c1c+ZM9erVy4RksKJDhw6pW7dutx3v3r27UlNT3ZgIAErPuXPnNHr0aAUFBamoqEgpKSlavny5/Pz8zI4GAHdl06ZNeu211/TBBx+oZ8+e8vDwMDsSLOz06dPq0aOHczs0NFSGYejcuXMmprI2yho8NGJiYhQcHGx2DJRxPXr00IwZM257UfPGBxrgfjHX4C7vv/++cnJy1LRpU0VFRWndunVat26d5syZo2bNmiknJ0fTpk0zOyYsIicnR3Xq1LnteJ06dZSbm+vGRABw//Lz8xUREaHGjRvr8OHDSk5OVlJSklq2bGl2NAC4J7t27VJBQYHatGmjp59+WvPnz9dff/1ldixYVFFRkSpVquSyz8vLS9euXTMpkfUZDofDYXYIlA8TJkwocX9+fr4OHjyo3377TTt37lSbNm3cnAxWkp2dreDgYFWoUEHjxo1T06ZNJV1f6mD+/PkqKirSr7/++q8XooC7wVyDO/3+++8aM2aMtmzZohsf3QzDUNeuXbVgwQI1atTI5ISwCg8PD2VlZal27doljmdnZ6tevXoqLi52czIA+N9ERUVpzpw58vHx0ezZs9W3b1+zIwHAfbt06ZLWrFmj2NhY7d27V8XFxfrkk080cuRIVatWzex4sAibzabu3burYsWKzn1JSUnq3LmzqlSp4tyXmJhoRjxLoqyB25S09rkkeXt7q1mzZhozZgwXm1AqTp48qTFjxmjr1q0uFzXDwsK0cOFCBQQEmJwQVsFcg7vl5uYqMzNTDodDTZo0Uc2aNc2OBIsp6R+y/6+wsFCbN2+mrAFQZthsNlWuXFmhoaH/ulwQF5oAlFXHjh1TTEyMvvrqK+Xl5SksLEzr1683OxYs4NVXX72r4/jOrtJDWQPAsnJycpSZmSlJaty4sWrVqmVyIlgVcw2AVfAPGQCrGTFihAzDuONxvK8BKOuKi4uVlJSk2NhYyhqgjKKsAQAAAAAAAAAAMJHN7AAAAAAAAAAAAADlGWUNAAAAAAAAAACAiShrAAAAAAAAAAAATERZAwAAAAAAAAAAYCLKGgAAAAAAAAAAABNR1gAAAAAoV7KysvTmm28qICBAFStWlK+vr3r37q3k5GS35jAMQ2vXrnXrOQEAAAA8nDzNDgAAAAAA7nLq1Ck9++yzqlGjhubOnaugoCBdu3ZNW7Zs0dixY3X06FGzI7q4evWqKlSoYHYMAAAAAA8YT9YAAAAAKDfeeOMNGYahvXv3qn///mratKkCAwM1YcIE7dmzR5J0+vRp9e3bV1WrVpW3t7cGDRqk7Oxs52uMGDFC4eHhLq/79ttvq2PHjs7tjh076q233tLkyZNVq1Yt+fj4aNasWc5xf39/SdKLL74owzCc27NmzVJwcLCWLl2qRo0aqVKlSoqPj9ejjz6qwsJCl3OGh4dr6NChpfa7AQAAAGAeyhoAAAAA5UJOTo42b96ssWPHqkqVKreM16hRQ3a7XX379lVOTo527NihrVu36sSJE3rppZfu+XzLly9XlSpV9MsvvygqKkqRkZHaunWrJGnfvn2SpGXLlun8+fPObUnKzMxUQkKCEhMTlZKSooEDB6q4uFjr1693HnPhwgVt2LBBI0eOvOdcAAAAAB4+LIMGAAAAoFzIzMyUw+HQk08+edtjkpOTlZaWppMnT8rX11eSFB8fr8DAQO3bt09t27a96/O1atVKM2fOlCQ1adJE8+fPV3JyssLCwlS7dm1J1wsiHx8fl5+7evWq4uPjncdI0iuvvKJly5Zp4MCBkqQVK1aoYcOGLk/zAAAAACi7eLIGAAAAQLngcDjueExGRoZ8fX2dRY0ktWjRQjVq1FBGRsY9na9Vq1Yu23Xr1tWFCxfu+HN+fn4uRY0kjR49Wt9//73Onj0rSYqLi9OIESNkGMY9ZQIAAADwcOLJGgAAAADlQpMmTWQYho4ePXpfr2Oz2W4pfq5du3bLcV5eXi7bhmHIbrff8fVLWqItJCRErVu3Vnx8vF544QUdPnxYGzZsuMfkAAAAAB5WPFkDAAAAoFyoVauWunbtqgULFujSpUu3jOfl5al58+Y6c+aMzpw549x/5MgR5eXlqUWLFpKk2rVr6/z58y4/m5KScs95vLy8VFxcfNfHjxo1SnFxcVq2bJlCQ0Ndnv4BAAAAULZR1gAAAAAoNxYsWKDi4mK1a9dOCQkJOn78uDIyMhQdHa327dsrNDRUQUFBGjx4sA4ePKi9e/dq2LBh6tChg5566ilJUufOnbV//37Fx8fr+PHjmjlzptLT0+85i7+/v5KTk5WVlaXc3Nw7Hv/KK6/ojz/+0JdffqmRI0fe8/kAAAAAPLwoawAAAACUGwEBATp48KA6deqkiRMnqmXLlgoLC1NycrIWLVokwzC0bt061axZU88//7xCQ0MVEBCgNWvWOF+ja9eumj59uiZPnqy2bduqoKBAw4YNu+cs8+bN09atW+Xr66uQkJA7Hl+9enX1799fVatWVXh4+D2fDwAAAMDDy3DczbdsAgAAAABM16VLFwUGBio6OtrsKAAAAABKEWUNAAAAADzkcnNz9eOPP2rAgAE6cuSImjVrZnYkAAAAAKXI0+wAAAAAAIB/FxISotzcXM2ZM4eiBgAAALAgnqwBAAAAAAAAAAAwkc3sAAAAAAAAAAAAAOUZZQ0AAAAAAAAAAICJKGsAAAAAAAAAAABMRFkDAAAAAAAAAABgIsoaAAAAAAAAAAAAE1HWAAAAAAAAAAAAmIiyBgAAAAAAAAAAwESUNQAAAAAAAAAAACb6L/4qN5Efxb90AAAAAElFTkSuQmCC\n"
          },
          "metadata": {}
        }
      ],
      "source": [
        "#counting number of jobs in each country\n",
        "count_job_per_country = job_data['country'].value_counts()[:10]\n",
        "\n",
        "#creating the bar chart\n",
        "plt.figure(figsize=(20, 10))\n",
        "count_job_per_country.plot(kind='bar', color='skyblue')\n",
        "plt.title('Number of Jobs by Country')\n",
        "plt.xlabel('Country')\n",
        "plt.ylabel('Number of Jobs')\n",
        "plt.show()"
      ]
    },
    {
      "cell_type": "markdown",
      "metadata": {
        "id": "a4K50HmE88qg"
      },
      "source": [
        "### Applying Various Modules on our Dataset\n",
        "\n",
        "#####MODEL- 1 LOGISTIC REGRESSION"
      ]
    },
    {
      "cell_type": "code",
      "source": [
        "from sklearn.model_selection import train_test_split\n",
        "from sklearn.linear_model import LogisticRegression\n",
        "from sklearn.metrics import classification_report, confusion_matrix\n"
      ],
      "metadata": {
        "id": "Lw9ZKytVZK2J"
      },
      "execution_count": 24,
      "outputs": []
    },
    {
      "cell_type": "code",
      "source": [
        "# Split the data into features and target label\n",
        "features = job_data.drop('fraudulent', axis=1)\n",
        "target = job_data['fraudulent']"
      ],
      "metadata": {
        "id": "xHokkgyUzvHh"
      },
      "execution_count": 25,
      "outputs": []
    },
    {
      "cell_type": "markdown",
      "source": [
        "#### Performing Feature Engineering required for Logistic Regression approach"
      ],
      "metadata": {
        "id": "Rn_3EsEZzxOt"
      }
    },
    {
      "cell_type": "code",
      "source": [
        "# Using TF-IDF for textual data\n",
        "from sklearn.feature_extraction.text import TfidfVectorizer\n",
        "\n",
        "# Create separate TfidfVectorizer instances for each text column\n",
        "tfidf_description = TfidfVectorizer(max_features=6000)\n",
        "tfidf_title = TfidfVectorizer(max_features=6000)\n",
        "tfidf_companyProfile = TfidfVectorizer(max_features=6000)\n",
        "tfidf_requirements = TfidfVectorizer(max_features=6000)\n",
        "tfidf_benefits = TfidfVectorizer(max_features=6000)\n",
        "\n",
        "# Apply TF-IDF transformation to each text column\n",
        "X_description_tfidf = tfidf_description.fit_transform(job_data['description'])\n",
        "X_title_tfidf = tfidf_title.fit_transform(job_data['title'])\n",
        "X_companyProfile_tfidf = tfidf_companyProfile.fit_transform(job_data['company_profile'])\n",
        "X_requirements_tfidf = tfidf_requirements.fit_transform(job_data['requirements'])\n",
        "X_benefits_tfidf = tfidf_benefits.fit_transform(job_data['benefits'])\n"
      ],
      "metadata": {
        "id": "GUmnfhHOz167"
      },
      "execution_count": 26,
      "outputs": []
    },
    {
      "cell_type": "code",
      "source": [
        "# Convert the TF-IDF sparse matrices to DataFrames\n",
        "X_description_df = pd.DataFrame(X_description_tfidf.toarray(), columns=tfidf_description.get_feature_names_out(), index=job_data.index)\n",
        "X_title_df = pd.DataFrame(X_title_tfidf.toarray(), columns=tfidf_title.get_feature_names_out(), index=job_data.index)\n",
        "X_companyProfile_df = pd.DataFrame(X_companyProfile_tfidf.toarray(), columns=tfidf_companyProfile.get_feature_names_out(), index=job_data.index)\n",
        "X_requirements_df = pd.DataFrame(X_requirements_tfidf.toarray(), columns=tfidf_requirements.get_feature_names_out(), index=job_data.index)\n",
        "X_benefits_df = pd.DataFrame(X_benefits_tfidf.toarray(), columns=tfidf_benefits.get_feature_names_out(), index=job_data.index)\n"
      ],
      "metadata": {
        "id": "36FOvydTz5sy"
      },
      "execution_count": 28,
      "outputs": []
    },
    {
      "cell_type": "code",
      "source": [
        "# Using one-hot encoding for categorical data which will create binary columns for each category.\n",
        "\n",
        "categorical_cols = ['location', 'department', 'employment_type', 'required_experience', 'required_education', 'industry', 'function']\n",
        "job_data_encoded_df = pd.get_dummies(job_data, columns=categorical_cols)\n"
      ],
      "metadata": {
        "id": "uZsYrhyZz76t"
      },
      "execution_count": 29,
      "outputs": []
    },
    {
      "cell_type": "code",
      "source": [
        "# Concatenate all the features\n",
        "final_df = pd.concat([job_data_encoded_df, X_description_df, X_title_df, X_companyProfile_df, X_requirements_df, X_benefits_df], axis=1)\n"
      ],
      "metadata": {
        "id": "5bH_FA5Qz_5-"
      },
      "execution_count": 30,
      "outputs": []
    },
    {
      "cell_type": "markdown",
      "source": [
        "#### MODEL - 2 KNN\n"
      ],
      "metadata": {
        "id": "X5ViR8JKZu0e"
      }
    },
    {
      "cell_type": "code",
      "execution_count": 31,
      "metadata": {
        "id": "ggFlf4fG88qg"
      },
      "outputs": [],
      "source": [
        "from sklearn.model_selection import train_test_split\n",
        "from sklearn.ensemble import RandomForestClassifier\n",
        "from sklearn.neighbors import KNeighborsClassifier\n",
        "from sklearn.metrics import accuracy_score, classification_report, confusion_matrix\n",
        "from sklearn.preprocessing import LabelEncoder\n",
        "from sklearn.model_selection import cross_val_score\n",
        "from sklearn.metrics import roc_auc_score"
      ]
    },
    {
      "cell_type": "code",
      "execution_count": 32,
      "metadata": {
        "id": "bM1cU_Oj88qg"
      },
      "outputs": [],
      "source": [
        "feature_vars = job_data.drop(['fraudulent'], axis=1)\n",
        "target_vars = job_data['fraudulent']"
      ]
    },
    {
      "cell_type": "code",
      "execution_count": 33,
      "metadata": {
        "id": "FE65xC_K88qh"
      },
      "outputs": [],
      "source": [
        "le = LabelEncoder()\n",
        "for col in ['location', 'department', 'company_profile', 'description', 'requirements', 'benefits', 'industry', 'function']:\n",
        "    feature_vars[col] = le.fit_transform(feature_vars[col])"
      ]
    },
    {
      "cell_type": "code",
      "execution_count": 34,
      "metadata": {
        "id": "xmMR5liR88qh"
      },
      "outputs": [],
      "source": [
        "job_data_dummy = pd.get_dummies(feature_vars)"
      ]
    },
    {
      "cell_type": "code",
      "execution_count": 35,
      "metadata": {
        "id": "CPMjgKci88qh"
      },
      "outputs": [],
      "source": [
        "X_train, X_test, y_train, y_test = train_test_split(job_data_dummy, target_vars, test_size=0.2, random_state=42)"
      ]
    },
    {
      "cell_type": "code",
      "source": [
        "knn_cls = KNeighborsClassifier(n_neighbors=5)\n",
        "knn_cls.fit(X_train, y_train)"
      ],
      "metadata": {
        "colab": {
          "base_uri": "https://localhost:8080/",
          "height": 75
        },
        "id": "nvqbiTlSTS-9",
        "outputId": "0abfebfa-41f7-468c-cc93-28f131a8429b"
      },
      "execution_count": 36,
      "outputs": [
        {
          "output_type": "execute_result",
          "data": {
            "text/plain": [
              "KNeighborsClassifier()"
            ],
            "text/html": [
              "<style>#sk-container-id-1 {color: black;background-color: white;}#sk-container-id-1 pre{padding: 0;}#sk-container-id-1 div.sk-toggleable {background-color: white;}#sk-container-id-1 label.sk-toggleable__label {cursor: pointer;display: block;width: 100%;margin-bottom: 0;padding: 0.3em;box-sizing: border-box;text-align: center;}#sk-container-id-1 label.sk-toggleable__label-arrow:before {content: \"▸\";float: left;margin-right: 0.25em;color: #696969;}#sk-container-id-1 label.sk-toggleable__label-arrow:hover:before {color: black;}#sk-container-id-1 div.sk-estimator:hover label.sk-toggleable__label-arrow:before {color: black;}#sk-container-id-1 div.sk-toggleable__content {max-height: 0;max-width: 0;overflow: hidden;text-align: left;background-color: #f0f8ff;}#sk-container-id-1 div.sk-toggleable__content pre {margin: 0.2em;color: black;border-radius: 0.25em;background-color: #f0f8ff;}#sk-container-id-1 input.sk-toggleable__control:checked~div.sk-toggleable__content {max-height: 200px;max-width: 100%;overflow: auto;}#sk-container-id-1 input.sk-toggleable__control:checked~label.sk-toggleable__label-arrow:before {content: \"▾\";}#sk-container-id-1 div.sk-estimator input.sk-toggleable__control:checked~label.sk-toggleable__label {background-color: #d4ebff;}#sk-container-id-1 div.sk-label input.sk-toggleable__control:checked~label.sk-toggleable__label {background-color: #d4ebff;}#sk-container-id-1 input.sk-hidden--visually {border: 0;clip: rect(1px 1px 1px 1px);clip: rect(1px, 1px, 1px, 1px);height: 1px;margin: -1px;overflow: hidden;padding: 0;position: absolute;width: 1px;}#sk-container-id-1 div.sk-estimator {font-family: monospace;background-color: #f0f8ff;border: 1px dotted black;border-radius: 0.25em;box-sizing: border-box;margin-bottom: 0.5em;}#sk-container-id-1 div.sk-estimator:hover {background-color: #d4ebff;}#sk-container-id-1 div.sk-parallel-item::after {content: \"\";width: 100%;border-bottom: 1px solid gray;flex-grow: 1;}#sk-container-id-1 div.sk-label:hover label.sk-toggleable__label {background-color: #d4ebff;}#sk-container-id-1 div.sk-serial::before {content: \"\";position: absolute;border-left: 1px solid gray;box-sizing: border-box;top: 0;bottom: 0;left: 50%;z-index: 0;}#sk-container-id-1 div.sk-serial {display: flex;flex-direction: column;align-items: center;background-color: white;padding-right: 0.2em;padding-left: 0.2em;position: relative;}#sk-container-id-1 div.sk-item {position: relative;z-index: 1;}#sk-container-id-1 div.sk-parallel {display: flex;align-items: stretch;justify-content: center;background-color: white;position: relative;}#sk-container-id-1 div.sk-item::before, #sk-container-id-1 div.sk-parallel-item::before {content: \"\";position: absolute;border-left: 1px solid gray;box-sizing: border-box;top: 0;bottom: 0;left: 50%;z-index: -1;}#sk-container-id-1 div.sk-parallel-item {display: flex;flex-direction: column;z-index: 1;position: relative;background-color: white;}#sk-container-id-1 div.sk-parallel-item:first-child::after {align-self: flex-end;width: 50%;}#sk-container-id-1 div.sk-parallel-item:last-child::after {align-self: flex-start;width: 50%;}#sk-container-id-1 div.sk-parallel-item:only-child::after {width: 0;}#sk-container-id-1 div.sk-dashed-wrapped {border: 1px dashed gray;margin: 0 0.4em 0.5em 0.4em;box-sizing: border-box;padding-bottom: 0.4em;background-color: white;}#sk-container-id-1 div.sk-label label {font-family: monospace;font-weight: bold;display: inline-block;line-height: 1.2em;}#sk-container-id-1 div.sk-label-container {text-align: center;}#sk-container-id-1 div.sk-container {/* jupyter's `normalize.less` sets `[hidden] { display: none; }` but bootstrap.min.css set `[hidden] { display: none !important; }` so we also need the `!important` here to be able to override the default hidden behavior on the sphinx rendered scikit-learn.org. See: https://github.com/scikit-learn/scikit-learn/issues/21755 */display: inline-block !important;position: relative;}#sk-container-id-1 div.sk-text-repr-fallback {display: none;}</style><div id=\"sk-container-id-1\" class=\"sk-top-container\"><div class=\"sk-text-repr-fallback\"><pre>KNeighborsClassifier()</pre><b>In a Jupyter environment, please rerun this cell to show the HTML representation or trust the notebook. <br />On GitHub, the HTML representation is unable to render, please try loading this page with nbviewer.org.</b></div><div class=\"sk-container\" hidden><div class=\"sk-item\"><div class=\"sk-estimator sk-toggleable\"><input class=\"sk-toggleable__control sk-hidden--visually\" id=\"sk-estimator-id-1\" type=\"checkbox\" checked><label for=\"sk-estimator-id-1\" class=\"sk-toggleable__label sk-toggleable__label-arrow\">KNeighborsClassifier</label><div class=\"sk-toggleable__content\"><pre>KNeighborsClassifier()</pre></div></div></div></div></div>"
            ]
          },
          "metadata": {},
          "execution_count": 36
        }
      ]
    },
    {
      "cell_type": "code",
      "source": [
        "knn_preds = knn_cls.predict(X_test)"
      ],
      "metadata": {
        "id": "jce99hbUTV0-"
      },
      "execution_count": 37,
      "outputs": []
    },
    {
      "cell_type": "code",
      "source": [
        "accuracy_score_knn = accuracy_score(y_test, knn_preds)\n",
        "print(\"Accuracy Score of KNN Classifier:\", accuracy_score_knn)"
      ],
      "metadata": {
        "colab": {
          "base_uri": "https://localhost:8080/"
        },
        "id": "-88sIQaaTXhk",
        "outputId": "d46dfb0f-fc10-475c-aa00-f76961b1827d"
      },
      "execution_count": 38,
      "outputs": [
        {
          "output_type": "stream",
          "name": "stdout",
          "text": [
            "Accuracy Score of KNN Classifier: 0.9630872483221476\n"
          ]
        }
      ]
    },
    {
      "cell_type": "code",
      "source": [
        "confusion_matrix_knn = confusion_matrix(y_test, knn_preds)\n",
        "print(\"Confusion Matrix of KNN Classifier:\",confusion_matrix_knn)"
      ],
      "metadata": {
        "colab": {
          "base_uri": "https://localhost:8080/"
        },
        "id": "9cgifx9ATbGu",
        "outputId": "2f93c0e5-2f7b-4b18-c281-a7d476585dc2"
      },
      "execution_count": 39,
      "outputs": [
        {
          "output_type": "stream",
          "name": "stdout",
          "text": [
            "Confusion Matrix of KNN Classifier: [[3364   31]\n",
            " [ 101   80]]\n"
          ]
        }
      ]
    },
    {
      "cell_type": "code",
      "source": [
        "classification_report_knn = classification_report(y_test, knn_preds)\n",
        "print(\"Classification Report of KNN Classifier:\",classification_report_knn)"
      ],
      "metadata": {
        "colab": {
          "base_uri": "https://localhost:8080/"
        },
        "id": "LyMQwr3cTbxs",
        "outputId": "031762bf-ada8-4fc9-da6b-c68c03a148a8"
      },
      "execution_count": 40,
      "outputs": [
        {
          "output_type": "stream",
          "name": "stdout",
          "text": [
            "Classification Report of KNN Classifier:               precision    recall  f1-score   support\n",
            "\n",
            "           0       0.97      0.99      0.98      3395\n",
            "           1       0.72      0.44      0.55       181\n",
            "\n",
            "    accuracy                           0.96      3576\n",
            "   macro avg       0.85      0.72      0.76      3576\n",
            "weighted avg       0.96      0.96      0.96      3576\n",
            "\n"
          ]
        }
      ]
    },
    {
      "cell_type": "code",
      "source": [
        "roc_auc_knn = roc_auc_score(y_test, knn_preds)\n",
        "print(\"ROC-AUC Score for KNN Classifier::\", roc_auc_knn)"
      ],
      "metadata": {
        "colab": {
          "base_uri": "https://localhost:8080/"
        },
        "id": "Iq7zm1jUTgh2",
        "outputId": "953605eb-d827-40f9-921b-1d0198d0f073"
      },
      "execution_count": 41,
      "outputs": [
        {
          "output_type": "stream",
          "name": "stdout",
          "text": [
            "ROC-AUC Score for KNN Classifier:: 0.7164289375828933\n"
          ]
        }
      ]
    },
    {
      "cell_type": "markdown",
      "source": [
        "#### MODEL - 3 RANDOM FOREST"
      ],
      "metadata": {
        "id": "n7o0clcUZL1d"
      }
    },
    {
      "cell_type": "code",
      "execution_count": 42,
      "metadata": {
        "colab": {
          "base_uri": "https://localhost:8080/",
          "height": 75
        },
        "id": "fljn2E2f88qh",
        "outputId": "90957642-4e7f-4008-cc6d-0422d576d589"
      },
      "outputs": [
        {
          "output_type": "execute_result",
          "data": {
            "text/plain": [
              "RandomForestClassifier(random_state=42)"
            ],
            "text/html": [
              "<style>#sk-container-id-2 {color: black;background-color: white;}#sk-container-id-2 pre{padding: 0;}#sk-container-id-2 div.sk-toggleable {background-color: white;}#sk-container-id-2 label.sk-toggleable__label {cursor: pointer;display: block;width: 100%;margin-bottom: 0;padding: 0.3em;box-sizing: border-box;text-align: center;}#sk-container-id-2 label.sk-toggleable__label-arrow:before {content: \"▸\";float: left;margin-right: 0.25em;color: #696969;}#sk-container-id-2 label.sk-toggleable__label-arrow:hover:before {color: black;}#sk-container-id-2 div.sk-estimator:hover label.sk-toggleable__label-arrow:before {color: black;}#sk-container-id-2 div.sk-toggleable__content {max-height: 0;max-width: 0;overflow: hidden;text-align: left;background-color: #f0f8ff;}#sk-container-id-2 div.sk-toggleable__content pre {margin: 0.2em;color: black;border-radius: 0.25em;background-color: #f0f8ff;}#sk-container-id-2 input.sk-toggleable__control:checked~div.sk-toggleable__content {max-height: 200px;max-width: 100%;overflow: auto;}#sk-container-id-2 input.sk-toggleable__control:checked~label.sk-toggleable__label-arrow:before {content: \"▾\";}#sk-container-id-2 div.sk-estimator input.sk-toggleable__control:checked~label.sk-toggleable__label {background-color: #d4ebff;}#sk-container-id-2 div.sk-label input.sk-toggleable__control:checked~label.sk-toggleable__label {background-color: #d4ebff;}#sk-container-id-2 input.sk-hidden--visually {border: 0;clip: rect(1px 1px 1px 1px);clip: rect(1px, 1px, 1px, 1px);height: 1px;margin: -1px;overflow: hidden;padding: 0;position: absolute;width: 1px;}#sk-container-id-2 div.sk-estimator {font-family: monospace;background-color: #f0f8ff;border: 1px dotted black;border-radius: 0.25em;box-sizing: border-box;margin-bottom: 0.5em;}#sk-container-id-2 div.sk-estimator:hover {background-color: #d4ebff;}#sk-container-id-2 div.sk-parallel-item::after {content: \"\";width: 100%;border-bottom: 1px solid gray;flex-grow: 1;}#sk-container-id-2 div.sk-label:hover label.sk-toggleable__label {background-color: #d4ebff;}#sk-container-id-2 div.sk-serial::before {content: \"\";position: absolute;border-left: 1px solid gray;box-sizing: border-box;top: 0;bottom: 0;left: 50%;z-index: 0;}#sk-container-id-2 div.sk-serial {display: flex;flex-direction: column;align-items: center;background-color: white;padding-right: 0.2em;padding-left: 0.2em;position: relative;}#sk-container-id-2 div.sk-item {position: relative;z-index: 1;}#sk-container-id-2 div.sk-parallel {display: flex;align-items: stretch;justify-content: center;background-color: white;position: relative;}#sk-container-id-2 div.sk-item::before, #sk-container-id-2 div.sk-parallel-item::before {content: \"\";position: absolute;border-left: 1px solid gray;box-sizing: border-box;top: 0;bottom: 0;left: 50%;z-index: -1;}#sk-container-id-2 div.sk-parallel-item {display: flex;flex-direction: column;z-index: 1;position: relative;background-color: white;}#sk-container-id-2 div.sk-parallel-item:first-child::after {align-self: flex-end;width: 50%;}#sk-container-id-2 div.sk-parallel-item:last-child::after {align-self: flex-start;width: 50%;}#sk-container-id-2 div.sk-parallel-item:only-child::after {width: 0;}#sk-container-id-2 div.sk-dashed-wrapped {border: 1px dashed gray;margin: 0 0.4em 0.5em 0.4em;box-sizing: border-box;padding-bottom: 0.4em;background-color: white;}#sk-container-id-2 div.sk-label label {font-family: monospace;font-weight: bold;display: inline-block;line-height: 1.2em;}#sk-container-id-2 div.sk-label-container {text-align: center;}#sk-container-id-2 div.sk-container {/* jupyter's `normalize.less` sets `[hidden] { display: none; }` but bootstrap.min.css set `[hidden] { display: none !important; }` so we also need the `!important` here to be able to override the default hidden behavior on the sphinx rendered scikit-learn.org. See: https://github.com/scikit-learn/scikit-learn/issues/21755 */display: inline-block !important;position: relative;}#sk-container-id-2 div.sk-text-repr-fallback {display: none;}</style><div id=\"sk-container-id-2\" class=\"sk-top-container\"><div class=\"sk-text-repr-fallback\"><pre>RandomForestClassifier(random_state=42)</pre><b>In a Jupyter environment, please rerun this cell to show the HTML representation or trust the notebook. <br />On GitHub, the HTML representation is unable to render, please try loading this page with nbviewer.org.</b></div><div class=\"sk-container\" hidden><div class=\"sk-item\"><div class=\"sk-estimator sk-toggleable\"><input class=\"sk-toggleable__control sk-hidden--visually\" id=\"sk-estimator-id-2\" type=\"checkbox\" checked><label for=\"sk-estimator-id-2\" class=\"sk-toggleable__label sk-toggleable__label-arrow\">RandomForestClassifier</label><div class=\"sk-toggleable__content\"><pre>RandomForestClassifier(random_state=42)</pre></div></div></div></div></div>"
            ]
          },
          "metadata": {},
          "execution_count": 42
        }
      ],
      "source": [
        "random_forest_cls = RandomForestClassifier(n_estimators=100, random_state=42)\n",
        "random_forest_cls.fit(X_train, y_train)"
      ]
    },
    {
      "cell_type": "code",
      "execution_count": 43,
      "metadata": {
        "id": "Xf26Y68m88qh"
      },
      "outputs": [],
      "source": [
        "random_forest_preds = random_forest_cls.predict(X_test)"
      ]
    },
    {
      "cell_type": "code",
      "execution_count": 44,
      "metadata": {
        "colab": {
          "base_uri": "https://localhost:8080/"
        },
        "id": "hCh8J2lp88qh",
        "outputId": "376ef1cf-0b22-4f5b-8a91-b824d8633cc0"
      },
      "outputs": [
        {
          "output_type": "stream",
          "name": "stdout",
          "text": [
            "Accuracy Score of Random Forest Classifier: 0.9832214765100671\n"
          ]
        }
      ],
      "source": [
        "accuracy_score_rf = accuracy_score(y_test, random_forest_preds)\n",
        "print(\"Accuracy Score of Random Forest Classifier:\", accuracy_score_rf)"
      ]
    },
    {
      "cell_type": "code",
      "execution_count": 45,
      "metadata": {
        "colab": {
          "base_uri": "https://localhost:8080/"
        },
        "id": "y6dAjS-C88qh",
        "outputId": "e4044928-dbaa-4125-ba02-b5c13d682af1"
      },
      "outputs": [
        {
          "output_type": "stream",
          "name": "stdout",
          "text": [
            "Confusion Matrix of Random Forest Classifier: [[3395    0]\n",
            " [  60  121]]\n"
          ]
        }
      ],
      "source": [
        "confusion_matrix_rf = confusion_matrix(y_test, random_forest_preds)\n",
        "print(\"Confusion Matrix of Random Forest Classifier:\",confusion_matrix_rf)"
      ]
    },
    {
      "cell_type": "code",
      "execution_count": 46,
      "metadata": {
        "colab": {
          "base_uri": "https://localhost:8080/"
        },
        "id": "sZb-15Tl88qh",
        "outputId": "a22cb7e9-0c7d-4df3-cffa-2b5d869b1de5"
      },
      "outputs": [
        {
          "output_type": "stream",
          "name": "stdout",
          "text": [
            "Classification Report of Random Forest Classifier:               precision    recall  f1-score   support\n",
            "\n",
            "           0       0.98      1.00      0.99      3395\n",
            "           1       1.00      0.67      0.80       181\n",
            "\n",
            "    accuracy                           0.98      3576\n",
            "   macro avg       0.99      0.83      0.90      3576\n",
            "weighted avg       0.98      0.98      0.98      3576\n",
            "\n"
          ]
        }
      ],
      "source": [
        "classification_report_rf = classification_report(y_test, random_forest_preds)\n",
        "print(\"Classification Report of Random Forest Classifier:\",classification_report_rf)"
      ]
    },
    {
      "cell_type": "code",
      "source": [
        "# Assuming y_test and random_forest_preds are your true labels and predicted labels, respectively\n",
        "roc_score_rf = roc_auc_score(y_test, random_forest_preds)\n",
        "print(\"ROC-AUC Score of Random Forest Classifier:\", roc_score_rf)\n"
      ],
      "metadata": {
        "colab": {
          "base_uri": "https://localhost:8080/"
        },
        "id": "ijJCcG0vCw7C",
        "outputId": "93476a80-7d0b-4714-9699-8ecf200bf364"
      },
      "execution_count": 47,
      "outputs": [
        {
          "output_type": "stream",
          "name": "stdout",
          "text": [
            "ROC-AUC Score of Random Forest Classifier: 0.8342541436464088\n"
          ]
        }
      ]
    },
    {
      "cell_type": "markdown",
      "metadata": {
        "id": "6hkPAdD2ntlq"
      },
      "source": [
        "~ We tried 3 different models.\n",
        "* So we will move forward with more complex model (DEEP LEARNING).\n",
        "* AS we can that the dataset columns which have textual information so first we will do Text Preprocessing using NLP\n",
        "* After that we will implement Deep Learning model\n",
        "\n",
        "\n",
        "### Text Preprocessing\n",
        "\n"
      ]
    },
    {
      "cell_type": "markdown",
      "metadata": {
        "id": "H6NrVeR_88qY"
      },
      "source": [
        "~ We will be doing text processing on description column so first check number of null values for discription"
      ]
    },
    {
      "cell_type": "code",
      "execution_count": 48,
      "metadata": {
        "colab": {
          "base_uri": "https://localhost:8080/",
          "height": 118
        },
        "id": "f6TTyv-288qY",
        "outputId": "27050d73-cf02-468a-eba4-012643f74c3d"
      },
      "outputs": [
        {
          "output_type": "execute_result",
          "data": {
            "text/plain": [
              "       job_id           title        location department salary_range  \\\n",
              "17513   17514  Office Manager  PL, MZ, Warsaw                           \n",
              "\n",
              "      company_profile description requirements benefits  telecommuting  \\\n",
              "17513                                                                0   \n",
              "\n",
              "       has_company_logo  has_questions employment_type required_experience  \\\n",
              "17513                 0              0                                       \n",
              "\n",
              "      required_education industry function  fraudulent country  \n",
              "17513                                                1      PL  "
            ],
            "text/html": [
              "\n",
              "  <div id=\"df-9c0246a6-95d7-4879-b31a-adae68b6701e\" class=\"colab-df-container\">\n",
              "    <div>\n",
              "<style scoped>\n",
              "    .dataframe tbody tr th:only-of-type {\n",
              "        vertical-align: middle;\n",
              "    }\n",
              "\n",
              "    .dataframe tbody tr th {\n",
              "        vertical-align: top;\n",
              "    }\n",
              "\n",
              "    .dataframe thead th {\n",
              "        text-align: right;\n",
              "    }\n",
              "</style>\n",
              "<table border=\"1\" class=\"dataframe\">\n",
              "  <thead>\n",
              "    <tr style=\"text-align: right;\">\n",
              "      <th></th>\n",
              "      <th>job_id</th>\n",
              "      <th>title</th>\n",
              "      <th>location</th>\n",
              "      <th>department</th>\n",
              "      <th>salary_range</th>\n",
              "      <th>company_profile</th>\n",
              "      <th>description</th>\n",
              "      <th>requirements</th>\n",
              "      <th>benefits</th>\n",
              "      <th>telecommuting</th>\n",
              "      <th>has_company_logo</th>\n",
              "      <th>has_questions</th>\n",
              "      <th>employment_type</th>\n",
              "      <th>required_experience</th>\n",
              "      <th>required_education</th>\n",
              "      <th>industry</th>\n",
              "      <th>function</th>\n",
              "      <th>fraudulent</th>\n",
              "      <th>country</th>\n",
              "    </tr>\n",
              "  </thead>\n",
              "  <tbody>\n",
              "    <tr>\n",
              "      <th>17513</th>\n",
              "      <td>17514</td>\n",
              "      <td>Office Manager</td>\n",
              "      <td>PL, MZ, Warsaw</td>\n",
              "      <td></td>\n",
              "      <td></td>\n",
              "      <td></td>\n",
              "      <td></td>\n",
              "      <td></td>\n",
              "      <td></td>\n",
              "      <td>0</td>\n",
              "      <td>0</td>\n",
              "      <td>0</td>\n",
              "      <td></td>\n",
              "      <td></td>\n",
              "      <td></td>\n",
              "      <td></td>\n",
              "      <td></td>\n",
              "      <td>1</td>\n",
              "      <td>PL</td>\n",
              "    </tr>\n",
              "  </tbody>\n",
              "</table>\n",
              "</div>\n",
              "    <div class=\"colab-df-buttons\">\n",
              "\n",
              "  <div class=\"colab-df-container\">\n",
              "    <button class=\"colab-df-convert\" onclick=\"convertToInteractive('df-9c0246a6-95d7-4879-b31a-adae68b6701e')\"\n",
              "            title=\"Convert this dataframe to an interactive table.\"\n",
              "            style=\"display:none;\">\n",
              "\n",
              "  <svg xmlns=\"http://www.w3.org/2000/svg\" height=\"24px\" viewBox=\"0 -960 960 960\">\n",
              "    <path d=\"M120-120v-720h720v720H120Zm60-500h600v-160H180v160Zm220 220h160v-160H400v160Zm0 220h160v-160H400v160ZM180-400h160v-160H180v160Zm440 0h160v-160H620v160ZM180-180h160v-160H180v160Zm440 0h160v-160H620v160Z\"/>\n",
              "  </svg>\n",
              "    </button>\n",
              "\n",
              "  <style>\n",
              "    .colab-df-container {\n",
              "      display:flex;\n",
              "      gap: 12px;\n",
              "    }\n",
              "\n",
              "    .colab-df-convert {\n",
              "      background-color: #E8F0FE;\n",
              "      border: none;\n",
              "      border-radius: 50%;\n",
              "      cursor: pointer;\n",
              "      display: none;\n",
              "      fill: #1967D2;\n",
              "      height: 32px;\n",
              "      padding: 0 0 0 0;\n",
              "      width: 32px;\n",
              "    }\n",
              "\n",
              "    .colab-df-convert:hover {\n",
              "      background-color: #E2EBFA;\n",
              "      box-shadow: 0px 1px 2px rgba(60, 64, 67, 0.3), 0px 1px 3px 1px rgba(60, 64, 67, 0.15);\n",
              "      fill: #174EA6;\n",
              "    }\n",
              "\n",
              "    .colab-df-buttons div {\n",
              "      margin-bottom: 4px;\n",
              "    }\n",
              "\n",
              "    [theme=dark] .colab-df-convert {\n",
              "      background-color: #3B4455;\n",
              "      fill: #D2E3FC;\n",
              "    }\n",
              "\n",
              "    [theme=dark] .colab-df-convert:hover {\n",
              "      background-color: #434B5C;\n",
              "      box-shadow: 0px 1px 3px 1px rgba(0, 0, 0, 0.15);\n",
              "      filter: drop-shadow(0px 1px 2px rgba(0, 0, 0, 0.3));\n",
              "      fill: #FFFFFF;\n",
              "    }\n",
              "  </style>\n",
              "\n",
              "    <script>\n",
              "      const buttonEl =\n",
              "        document.querySelector('#df-9c0246a6-95d7-4879-b31a-adae68b6701e button.colab-df-convert');\n",
              "      buttonEl.style.display =\n",
              "        google.colab.kernel.accessAllowed ? 'block' : 'none';\n",
              "\n",
              "      async function convertToInteractive(key) {\n",
              "        const element = document.querySelector('#df-9c0246a6-95d7-4879-b31a-adae68b6701e');\n",
              "        const dataTable =\n",
              "          await google.colab.kernel.invokeFunction('convertToInteractive',\n",
              "                                                    [key], {});\n",
              "        if (!dataTable) return;\n",
              "\n",
              "        const docLinkHtml = 'Like what you see? Visit the ' +\n",
              "          '<a target=\"_blank\" href=https://colab.research.google.com/notebooks/data_table.ipynb>data table notebook</a>'\n",
              "          + ' to learn more about interactive tables.';\n",
              "        element.innerHTML = '';\n",
              "        dataTable['output_type'] = 'display_data';\n",
              "        await google.colab.output.renderOutput(dataTable, element);\n",
              "        const docLink = document.createElement('div');\n",
              "        docLink.innerHTML = docLinkHtml;\n",
              "        element.appendChild(docLink);\n",
              "      }\n",
              "    </script>\n",
              "  </div>\n",
              "\n",
              "    </div>\n",
              "  </div>\n"
            ]
          },
          "metadata": {},
          "execution_count": 48
        }
      ],
      "source": [
        "empty_description = job_data['description'] == \" \"\n",
        "\n",
        "# Print rows where 'description' is an empty string\n",
        "job_data[empty_description]"
      ]
    },
    {
      "cell_type": "markdown",
      "metadata": {
        "id": "HXb9A7uE88qY"
      },
      "source": [
        "~as there is only one row so we will remove that row"
      ]
    },
    {
      "cell_type": "code",
      "execution_count": 49,
      "metadata": {
        "colab": {
          "base_uri": "https://localhost:8080/"
        },
        "id": "xNYKc-9088qY",
        "outputId": "a9af422f-e234-4a0d-b757-0438487fecd3"
      },
      "outputs": [
        {
          "output_type": "execute_result",
          "data": {
            "text/plain": [
              "(17879, 19)"
            ]
          },
          "metadata": {},
          "execution_count": 49
        }
      ],
      "source": [
        "job_data = job_data[~empty_description]\n",
        "\n",
        "job_data.shape"
      ]
    },
    {
      "cell_type": "code",
      "execution_count": 50,
      "metadata": {
        "colab": {
          "base_uri": "https://localhost:8080/",
          "height": 573
        },
        "id": "92G-gaZo88qY",
        "outputId": "cbfbf736-cd80-46e9-80aa-ef0de686d4a8"
      },
      "outputs": [
        {
          "output_type": "execute_result",
          "data": {
            "text/plain": [
              "   job_id                                      title            location  \\\n",
              "0       1                           Marketing Intern    US, NY, New York   \n",
              "1       2  Customer Service - Cloud Video Production      NZ, , Auckland   \n",
              "2       3    Commissioning Machinery Assistant (CMA)       US, IA, Wever   \n",
              "3       4          Account Executive - Washington DC  US, DC, Washington   \n",
              "4       5                        Bill Review Manager  US, FL, Fort Worth   \n",
              "\n",
              "  department salary_range                                    company_profile  \\\n",
              "0  Marketing               We're Food52, and we've created a groundbreaki...   \n",
              "1    Success               90 Seconds, the worlds Cloud Video Production ...   \n",
              "2                          Valor Services provides Workforce Solutions th...   \n",
              "3      Sales               Our passion for improving quality of life thro...   \n",
              "4                          SpotSource Solutions LLC is a Global Human Cap...   \n",
              "\n",
              "                                         description  \\\n",
              "0  Food52, a fast-growing, James Beard Award-winn...   \n",
              "1  Organised - Focused - Vibrant - Awesome!Do you...   \n",
              "2  Our client, located in Houston, is actively se...   \n",
              "3  THE COMPANY: ESRI – Environmental Systems Rese...   \n",
              "4  JOB TITLE: Itemization Review ManagerLOCATION:...   \n",
              "\n",
              "                                        requirements  \\\n",
              "0  Experience with content management systems a m...   \n",
              "1  What we expect from you:Your key responsibilit...   \n",
              "2  Implement pre-commissioning and commissioning ...   \n",
              "3  EDUCATION: Bachelor’s or Master’s in GIS, busi...   \n",
              "4  QUALIFICATIONS:RN license in the State of Texa...   \n",
              "\n",
              "                                            benefits  telecommuting  \\\n",
              "0                                                                 0   \n",
              "1  What you will get from usThrough being part of...              0   \n",
              "2                                                                 0   \n",
              "3  Our culture is anything but corporate—we have ...              0   \n",
              "4                              Full Benefits Offered              0   \n",
              "\n",
              "   has_company_logo  has_questions employment_type required_experience  \\\n",
              "0                 1              0           Other          Internship   \n",
              "1                 1              0       Full-time      Not Applicable   \n",
              "2                 1              0                                       \n",
              "3                 1              0       Full-time    Mid-Senior level   \n",
              "4                 1              1       Full-time    Mid-Senior level   \n",
              "\n",
              "  required_education                   industry              function  \\\n",
              "0                                                           Marketing   \n",
              "1                     Marketing and Advertising      Customer Service   \n",
              "2                                                                       \n",
              "3  Bachelor's Degree          Computer Software                 Sales   \n",
              "4  Bachelor's Degree     Hospital & Health Care  Health Care Provider   \n",
              "\n",
              "   fraudulent country                                      job_text_info  \n",
              "0           0      US  Marketing Intern Food52, a fast-growing, James...  \n",
              "1           0      NZ  Customer Service - Cloud Video Production Orga...  \n",
              "2           0      US  Commissioning Machinery Assistant (CMA) Our cl...  \n",
              "3           0      US  Account Executive - Washington DC THE COMPANY:...  \n",
              "4           0      US  Bill Review Manager JOB TITLE: Itemization Rev...  "
            ],
            "text/html": [
              "\n",
              "  <div id=\"df-166054a5-49cf-45a9-b266-cc8481bd4988\" class=\"colab-df-container\">\n",
              "    <div>\n",
              "<style scoped>\n",
              "    .dataframe tbody tr th:only-of-type {\n",
              "        vertical-align: middle;\n",
              "    }\n",
              "\n",
              "    .dataframe tbody tr th {\n",
              "        vertical-align: top;\n",
              "    }\n",
              "\n",
              "    .dataframe thead th {\n",
              "        text-align: right;\n",
              "    }\n",
              "</style>\n",
              "<table border=\"1\" class=\"dataframe\">\n",
              "  <thead>\n",
              "    <tr style=\"text-align: right;\">\n",
              "      <th></th>\n",
              "      <th>job_id</th>\n",
              "      <th>title</th>\n",
              "      <th>location</th>\n",
              "      <th>department</th>\n",
              "      <th>salary_range</th>\n",
              "      <th>company_profile</th>\n",
              "      <th>description</th>\n",
              "      <th>requirements</th>\n",
              "      <th>benefits</th>\n",
              "      <th>telecommuting</th>\n",
              "      <th>has_company_logo</th>\n",
              "      <th>has_questions</th>\n",
              "      <th>employment_type</th>\n",
              "      <th>required_experience</th>\n",
              "      <th>required_education</th>\n",
              "      <th>industry</th>\n",
              "      <th>function</th>\n",
              "      <th>fraudulent</th>\n",
              "      <th>country</th>\n",
              "      <th>job_text_info</th>\n",
              "    </tr>\n",
              "  </thead>\n",
              "  <tbody>\n",
              "    <tr>\n",
              "      <th>0</th>\n",
              "      <td>1</td>\n",
              "      <td>Marketing Intern</td>\n",
              "      <td>US, NY, New York</td>\n",
              "      <td>Marketing</td>\n",
              "      <td></td>\n",
              "      <td>We're Food52, and we've created a groundbreaki...</td>\n",
              "      <td>Food52, a fast-growing, James Beard Award-winn...</td>\n",
              "      <td>Experience with content management systems a m...</td>\n",
              "      <td></td>\n",
              "      <td>0</td>\n",
              "      <td>1</td>\n",
              "      <td>0</td>\n",
              "      <td>Other</td>\n",
              "      <td>Internship</td>\n",
              "      <td></td>\n",
              "      <td></td>\n",
              "      <td>Marketing</td>\n",
              "      <td>0</td>\n",
              "      <td>US</td>\n",
              "      <td>Marketing Intern Food52, a fast-growing, James...</td>\n",
              "    </tr>\n",
              "    <tr>\n",
              "      <th>1</th>\n",
              "      <td>2</td>\n",
              "      <td>Customer Service - Cloud Video Production</td>\n",
              "      <td>NZ, , Auckland</td>\n",
              "      <td>Success</td>\n",
              "      <td></td>\n",
              "      <td>90 Seconds, the worlds Cloud Video Production ...</td>\n",
              "      <td>Organised - Focused - Vibrant - Awesome!Do you...</td>\n",
              "      <td>What we expect from you:Your key responsibilit...</td>\n",
              "      <td>What you will get from usThrough being part of...</td>\n",
              "      <td>0</td>\n",
              "      <td>1</td>\n",
              "      <td>0</td>\n",
              "      <td>Full-time</td>\n",
              "      <td>Not Applicable</td>\n",
              "      <td></td>\n",
              "      <td>Marketing and Advertising</td>\n",
              "      <td>Customer Service</td>\n",
              "      <td>0</td>\n",
              "      <td>NZ</td>\n",
              "      <td>Customer Service - Cloud Video Production Orga...</td>\n",
              "    </tr>\n",
              "    <tr>\n",
              "      <th>2</th>\n",
              "      <td>3</td>\n",
              "      <td>Commissioning Machinery Assistant (CMA)</td>\n",
              "      <td>US, IA, Wever</td>\n",
              "      <td></td>\n",
              "      <td></td>\n",
              "      <td>Valor Services provides Workforce Solutions th...</td>\n",
              "      <td>Our client, located in Houston, is actively se...</td>\n",
              "      <td>Implement pre-commissioning and commissioning ...</td>\n",
              "      <td></td>\n",
              "      <td>0</td>\n",
              "      <td>1</td>\n",
              "      <td>0</td>\n",
              "      <td></td>\n",
              "      <td></td>\n",
              "      <td></td>\n",
              "      <td></td>\n",
              "      <td></td>\n",
              "      <td>0</td>\n",
              "      <td>US</td>\n",
              "      <td>Commissioning Machinery Assistant (CMA) Our cl...</td>\n",
              "    </tr>\n",
              "    <tr>\n",
              "      <th>3</th>\n",
              "      <td>4</td>\n",
              "      <td>Account Executive - Washington DC</td>\n",
              "      <td>US, DC, Washington</td>\n",
              "      <td>Sales</td>\n",
              "      <td></td>\n",
              "      <td>Our passion for improving quality of life thro...</td>\n",
              "      <td>THE COMPANY: ESRI – Environmental Systems Rese...</td>\n",
              "      <td>EDUCATION: Bachelor’s or Master’s in GIS, busi...</td>\n",
              "      <td>Our culture is anything but corporate—we have ...</td>\n",
              "      <td>0</td>\n",
              "      <td>1</td>\n",
              "      <td>0</td>\n",
              "      <td>Full-time</td>\n",
              "      <td>Mid-Senior level</td>\n",
              "      <td>Bachelor's Degree</td>\n",
              "      <td>Computer Software</td>\n",
              "      <td>Sales</td>\n",
              "      <td>0</td>\n",
              "      <td>US</td>\n",
              "      <td>Account Executive - Washington DC THE COMPANY:...</td>\n",
              "    </tr>\n",
              "    <tr>\n",
              "      <th>4</th>\n",
              "      <td>5</td>\n",
              "      <td>Bill Review Manager</td>\n",
              "      <td>US, FL, Fort Worth</td>\n",
              "      <td></td>\n",
              "      <td></td>\n",
              "      <td>SpotSource Solutions LLC is a Global Human Cap...</td>\n",
              "      <td>JOB TITLE: Itemization Review ManagerLOCATION:...</td>\n",
              "      <td>QUALIFICATIONS:RN license in the State of Texa...</td>\n",
              "      <td>Full Benefits Offered</td>\n",
              "      <td>0</td>\n",
              "      <td>1</td>\n",
              "      <td>1</td>\n",
              "      <td>Full-time</td>\n",
              "      <td>Mid-Senior level</td>\n",
              "      <td>Bachelor's Degree</td>\n",
              "      <td>Hospital &amp; Health Care</td>\n",
              "      <td>Health Care Provider</td>\n",
              "      <td>0</td>\n",
              "      <td>US</td>\n",
              "      <td>Bill Review Manager JOB TITLE: Itemization Rev...</td>\n",
              "    </tr>\n",
              "  </tbody>\n",
              "</table>\n",
              "</div>\n",
              "    <div class=\"colab-df-buttons\">\n",
              "\n",
              "  <div class=\"colab-df-container\">\n",
              "    <button class=\"colab-df-convert\" onclick=\"convertToInteractive('df-166054a5-49cf-45a9-b266-cc8481bd4988')\"\n",
              "            title=\"Convert this dataframe to an interactive table.\"\n",
              "            style=\"display:none;\">\n",
              "\n",
              "  <svg xmlns=\"http://www.w3.org/2000/svg\" height=\"24px\" viewBox=\"0 -960 960 960\">\n",
              "    <path d=\"M120-120v-720h720v720H120Zm60-500h600v-160H180v160Zm220 220h160v-160H400v160Zm0 220h160v-160H400v160ZM180-400h160v-160H180v160Zm440 0h160v-160H620v160ZM180-180h160v-160H180v160Zm440 0h160v-160H620v160Z\"/>\n",
              "  </svg>\n",
              "    </button>\n",
              "\n",
              "  <style>\n",
              "    .colab-df-container {\n",
              "      display:flex;\n",
              "      gap: 12px;\n",
              "    }\n",
              "\n",
              "    .colab-df-convert {\n",
              "      background-color: #E8F0FE;\n",
              "      border: none;\n",
              "      border-radius: 50%;\n",
              "      cursor: pointer;\n",
              "      display: none;\n",
              "      fill: #1967D2;\n",
              "      height: 32px;\n",
              "      padding: 0 0 0 0;\n",
              "      width: 32px;\n",
              "    }\n",
              "\n",
              "    .colab-df-convert:hover {\n",
              "      background-color: #E2EBFA;\n",
              "      box-shadow: 0px 1px 2px rgba(60, 64, 67, 0.3), 0px 1px 3px 1px rgba(60, 64, 67, 0.15);\n",
              "      fill: #174EA6;\n",
              "    }\n",
              "\n",
              "    .colab-df-buttons div {\n",
              "      margin-bottom: 4px;\n",
              "    }\n",
              "\n",
              "    [theme=dark] .colab-df-convert {\n",
              "      background-color: #3B4455;\n",
              "      fill: #D2E3FC;\n",
              "    }\n",
              "\n",
              "    [theme=dark] .colab-df-convert:hover {\n",
              "      background-color: #434B5C;\n",
              "      box-shadow: 0px 1px 3px 1px rgba(0, 0, 0, 0.15);\n",
              "      filter: drop-shadow(0px 1px 2px rgba(0, 0, 0, 0.3));\n",
              "      fill: #FFFFFF;\n",
              "    }\n",
              "  </style>\n",
              "\n",
              "    <script>\n",
              "      const buttonEl =\n",
              "        document.querySelector('#df-166054a5-49cf-45a9-b266-cc8481bd4988 button.colab-df-convert');\n",
              "      buttonEl.style.display =\n",
              "        google.colab.kernel.accessAllowed ? 'block' : 'none';\n",
              "\n",
              "      async function convertToInteractive(key) {\n",
              "        const element = document.querySelector('#df-166054a5-49cf-45a9-b266-cc8481bd4988');\n",
              "        const dataTable =\n",
              "          await google.colab.kernel.invokeFunction('convertToInteractive',\n",
              "                                                    [key], {});\n",
              "        if (!dataTable) return;\n",
              "\n",
              "        const docLinkHtml = 'Like what you see? Visit the ' +\n",
              "          '<a target=\"_blank\" href=https://colab.research.google.com/notebooks/data_table.ipynb>data table notebook</a>'\n",
              "          + ' to learn more about interactive tables.';\n",
              "        element.innerHTML = '';\n",
              "        dataTable['output_type'] = 'display_data';\n",
              "        await google.colab.output.renderOutput(dataTable, element);\n",
              "        const docLink = document.createElement('div');\n",
              "        docLink.innerHTML = docLinkHtml;\n",
              "        element.appendChild(docLink);\n",
              "      }\n",
              "    </script>\n",
              "  </div>\n",
              "\n",
              "\n",
              "<div id=\"df-e3138148-18e0-4c2e-9a5d-d48c56a61eb5\">\n",
              "  <button class=\"colab-df-quickchart\" onclick=\"quickchart('df-e3138148-18e0-4c2e-9a5d-d48c56a61eb5')\"\n",
              "            title=\"Suggest charts\"\n",
              "            style=\"display:none;\">\n",
              "\n",
              "<svg xmlns=\"http://www.w3.org/2000/svg\" height=\"24px\"viewBox=\"0 0 24 24\"\n",
              "     width=\"24px\">\n",
              "    <g>\n",
              "        <path d=\"M19 3H5c-1.1 0-2 .9-2 2v14c0 1.1.9 2 2 2h14c1.1 0 2-.9 2-2V5c0-1.1-.9-2-2-2zM9 17H7v-7h2v7zm4 0h-2V7h2v10zm4 0h-2v-4h2v4z\"/>\n",
              "    </g>\n",
              "</svg>\n",
              "  </button>\n",
              "\n",
              "<style>\n",
              "  .colab-df-quickchart {\n",
              "      --bg-color: #E8F0FE;\n",
              "      --fill-color: #1967D2;\n",
              "      --hover-bg-color: #E2EBFA;\n",
              "      --hover-fill-color: #174EA6;\n",
              "      --disabled-fill-color: #AAA;\n",
              "      --disabled-bg-color: #DDD;\n",
              "  }\n",
              "\n",
              "  [theme=dark] .colab-df-quickchart {\n",
              "      --bg-color: #3B4455;\n",
              "      --fill-color: #D2E3FC;\n",
              "      --hover-bg-color: #434B5C;\n",
              "      --hover-fill-color: #FFFFFF;\n",
              "      --disabled-bg-color: #3B4455;\n",
              "      --disabled-fill-color: #666;\n",
              "  }\n",
              "\n",
              "  .colab-df-quickchart {\n",
              "    background-color: var(--bg-color);\n",
              "    border: none;\n",
              "    border-radius: 50%;\n",
              "    cursor: pointer;\n",
              "    display: none;\n",
              "    fill: var(--fill-color);\n",
              "    height: 32px;\n",
              "    padding: 0;\n",
              "    width: 32px;\n",
              "  }\n",
              "\n",
              "  .colab-df-quickchart:hover {\n",
              "    background-color: var(--hover-bg-color);\n",
              "    box-shadow: 0 1px 2px rgba(60, 64, 67, 0.3), 0 1px 3px 1px rgba(60, 64, 67, 0.15);\n",
              "    fill: var(--button-hover-fill-color);\n",
              "  }\n",
              "\n",
              "  .colab-df-quickchart-complete:disabled,\n",
              "  .colab-df-quickchart-complete:disabled:hover {\n",
              "    background-color: var(--disabled-bg-color);\n",
              "    fill: var(--disabled-fill-color);\n",
              "    box-shadow: none;\n",
              "  }\n",
              "\n",
              "  .colab-df-spinner {\n",
              "    border: 2px solid var(--fill-color);\n",
              "    border-color: transparent;\n",
              "    border-bottom-color: var(--fill-color);\n",
              "    animation:\n",
              "      spin 1s steps(1) infinite;\n",
              "  }\n",
              "\n",
              "  @keyframes spin {\n",
              "    0% {\n",
              "      border-color: transparent;\n",
              "      border-bottom-color: var(--fill-color);\n",
              "      border-left-color: var(--fill-color);\n",
              "    }\n",
              "    20% {\n",
              "      border-color: transparent;\n",
              "      border-left-color: var(--fill-color);\n",
              "      border-top-color: var(--fill-color);\n",
              "    }\n",
              "    30% {\n",
              "      border-color: transparent;\n",
              "      border-left-color: var(--fill-color);\n",
              "      border-top-color: var(--fill-color);\n",
              "      border-right-color: var(--fill-color);\n",
              "    }\n",
              "    40% {\n",
              "      border-color: transparent;\n",
              "      border-right-color: var(--fill-color);\n",
              "      border-top-color: var(--fill-color);\n",
              "    }\n",
              "    60% {\n",
              "      border-color: transparent;\n",
              "      border-right-color: var(--fill-color);\n",
              "    }\n",
              "    80% {\n",
              "      border-color: transparent;\n",
              "      border-right-color: var(--fill-color);\n",
              "      border-bottom-color: var(--fill-color);\n",
              "    }\n",
              "    90% {\n",
              "      border-color: transparent;\n",
              "      border-bottom-color: var(--fill-color);\n",
              "    }\n",
              "  }\n",
              "</style>\n",
              "\n",
              "  <script>\n",
              "    async function quickchart(key) {\n",
              "      const quickchartButtonEl =\n",
              "        document.querySelector('#' + key + ' button');\n",
              "      quickchartButtonEl.disabled = true;  // To prevent multiple clicks.\n",
              "      quickchartButtonEl.classList.add('colab-df-spinner');\n",
              "      try {\n",
              "        const charts = await google.colab.kernel.invokeFunction(\n",
              "            'suggestCharts', [key], {});\n",
              "      } catch (error) {\n",
              "        console.error('Error during call to suggestCharts:', error);\n",
              "      }\n",
              "      quickchartButtonEl.classList.remove('colab-df-spinner');\n",
              "      quickchartButtonEl.classList.add('colab-df-quickchart-complete');\n",
              "    }\n",
              "    (() => {\n",
              "      let quickchartButtonEl =\n",
              "        document.querySelector('#df-e3138148-18e0-4c2e-9a5d-d48c56a61eb5 button');\n",
              "      quickchartButtonEl.style.display =\n",
              "        google.colab.kernel.accessAllowed ? 'block' : 'none';\n",
              "    })();\n",
              "  </script>\n",
              "</div>\n",
              "    </div>\n",
              "  </div>\n"
            ]
          },
          "metadata": {},
          "execution_count": 50
        }
      ],
      "source": [
        "# for query search and  text preprocessing we will be combining the description and title column\n",
        "\n",
        "job_data['job_text_info'] = job_data['title'] + ' ' + job_data['description'] + ' ' + job_data['company_profile']\n",
        "\n",
        "# Drop the 'job_title' and 'description' columns if needed\n",
        "# df = df.drop(['job_title', 'description'], axis=1)\n",
        "\n",
        "# Print the resulting DataFrame\n",
        "job_data.head()"
      ]
    },
    {
      "cell_type": "code",
      "execution_count": 51,
      "metadata": {
        "id": "hMxX_gmW88qY"
      },
      "outputs": [],
      "source": [
        "##LowerCasing\n",
        "\n",
        "job_data['job_text_info'] = job_data['job_text_info'].str.lower()\n"
      ]
    },
    {
      "cell_type": "code",
      "execution_count": 52,
      "metadata": {
        "id": "P2I6Vofn88qY"
      },
      "outputs": [],
      "source": [
        "#removing punctuations\n",
        "# import string\n",
        "\n",
        "# job_data['job_text_info'] = job_data['job_text_info'].str.translate(str.maketrans('', '', string.punctuation))\n",
        "\n",
        "\n",
        "import string\n",
        "\n",
        "# Convert 'job_text_info' column to strings\n",
        "job_data['job_text_info'] = job_data['job_text_info'].astype(str)\n",
        "\n",
        "# Remove punctuations\n",
        "job_data['job_text_info'] = job_data['job_text_info'].str.translate(str.maketrans('', '', string.punctuation))\n",
        "\n"
      ]
    },
    {
      "cell_type": "code",
      "execution_count": 53,
      "metadata": {
        "colab": {
          "base_uri": "https://localhost:8080/"
        },
        "id": "Dp2dGYZv88qY",
        "outputId": "fcf687b6-1fa7-4e9d-85c0-057a5823a246"
      },
      "outputs": [
        {
          "output_type": "stream",
          "name": "stderr",
          "text": [
            "[nltk_data] Downloading package punkt to /root/nltk_data...\n",
            "[nltk_data]   Unzipping tokenizers/punkt.zip.\n"
          ]
        }
      ],
      "source": [
        "#tokenization\n",
        "import nltk\n",
        "nltk.download('punkt')\n",
        "from nltk.tokenize import word_tokenize\n",
        "\n",
        "job_data['job_text_info'] = job_data['job_text_info'].apply(word_tokenize)\n"
      ]
    },
    {
      "cell_type": "code",
      "execution_count": 54,
      "metadata": {
        "colab": {
          "base_uri": "https://localhost:8080/"
        },
        "id": "vcrDSZCg88qe",
        "outputId": "730618fe-b1e7-4bea-90aa-48c32d79279e"
      },
      "outputs": [
        {
          "output_type": "stream",
          "name": "stderr",
          "text": [
            "[nltk_data] Downloading package stopwords to /root/nltk_data...\n",
            "[nltk_data]   Unzipping corpora/stopwords.zip.\n"
          ]
        }
      ],
      "source": [
        "#remove stop words\n",
        "import nltk\n",
        "nltk.download('stopwords')\n",
        "from nltk.corpus import stopwords\n",
        "\n",
        "stop_words = set(stopwords.words('english'))\n",
        "job_data['job_text_info'] = job_data['job_text_info'].apply(lambda x: [word for word in x if word not in stop_words])\n"
      ]
    },
    {
      "cell_type": "code",
      "execution_count": 56,
      "metadata": {
        "colab": {
          "base_uri": "https://localhost:8080/"
        },
        "id": "QO2xYJp288qe",
        "outputId": "a0729a8b-3b32-422f-ac66-cd561b174779"
      },
      "outputs": [
        {
          "output_type": "stream",
          "name": "stderr",
          "text": [
            "[nltk_data] Downloading package omw-1.4 to /root/nltk_data...\n"
          ]
        },
        {
          "output_type": "execute_result",
          "data": {
            "text/plain": [
              "True"
            ]
          },
          "metadata": {},
          "execution_count": 56
        }
      ],
      "source": [
        "nltk.download('omw-1.4')"
      ]
    },
    {
      "cell_type": "code",
      "execution_count": 55,
      "metadata": {
        "colab": {
          "base_uri": "https://localhost:8080/"
        },
        "id": "GHVrmjFr88qf",
        "outputId": "367b061d-197a-408f-99c3-f47de2e8713d"
      },
      "outputs": [
        {
          "output_type": "stream",
          "name": "stderr",
          "text": [
            "[nltk_data] Downloading package wordnet to /root/nltk_data...\n"
          ]
        }
      ],
      "source": [
        "#lemmatization\n",
        "import nltk\n",
        "nltk.download('wordnet')\n",
        "from nltk.stem import WordNetLemmatizer\n",
        "\n",
        "lemmatizer = WordNetLemmatizer()\n",
        "job_data['job_text_info'] = job_data['job_text_info'].apply(lambda x: [lemmatizer.lemmatize(word) for word in x])\n"
      ]
    },
    {
      "cell_type": "code",
      "execution_count": 57,
      "metadata": {
        "id": "ffnUSs4188qf"
      },
      "outputs": [],
      "source": [
        "#joining back to text\n",
        "job_data['job_text_info'] = job_data['job_text_info'].apply(lambda x: ' '.join(x))"
      ]
    },
    {
      "cell_type": "code",
      "source": [
        "job_data['job_text_info'].head(5)"
      ],
      "metadata": {
        "id": "43fAUu0pFYaN"
      },
      "execution_count": null,
      "outputs": []
    },
    {
      "cell_type": "code",
      "execution_count": 59,
      "metadata": {
        "id": "DQ0GzuM588qf"
      },
      "outputs": [],
      "source": [
        "from sklearn.feature_extraction.text import TfidfVectorizer\n",
        "\n",
        "# Use TfidfVectorizer on the modified column\n",
        "vectorizer = TfidfVectorizer(max_features=5000)  # Adjust max_features as needed\n",
        "X = vectorizer.fit_transform(job_data['job_text_info'])\n"
      ]
    },
    {
      "cell_type": "code",
      "execution_count": 60,
      "metadata": {
        "id": "O03a_qic88qf"
      },
      "outputs": [],
      "source": [
        "from sklearn.model_selection import train_test_split\n",
        "\n",
        "X_train, X_test, y_train, y_test = train_test_split(X, job_data['fraudulent'], test_size=0.2, random_state=42)\n"
      ]
    },
    {
      "cell_type": "code",
      "execution_count": 61,
      "metadata": {
        "colab": {
          "base_uri": "https://localhost:8080/"
        },
        "id": "1Btf5g9A88qf",
        "outputId": "18b9ac66-4bdb-4319-d4ad-6b21c692038a"
      },
      "outputs": [
        {
          "output_type": "stream",
          "name": "stdout",
          "text": [
            "X_train Shape: (14303, 5000)\n",
            "X_train Data Type: <class 'scipy.sparse._csr.csr_matrix'>\n",
            "\n",
            "X_test Shape: (3576, 5000)\n",
            "X_test Data Type: <class 'scipy.sparse._csr.csr_matrix'>\n",
            "\n",
            "y_train Shape: (14303,)\n",
            "y_train Data Type: <class 'pandas.core.series.Series'>\n",
            "\n",
            "y_test Shape: (3576,)\n",
            "y_test Data Type: <class 'pandas.core.series.Series'>\n"
          ]
        }
      ],
      "source": [
        "# Assuming you have X_train, X_test, y_train, and y_test\n",
        "\n",
        "# Print shape and data type of X_train\n",
        "print(\"X_train Shape:\", X_train.shape)\n",
        "print(\"X_train Data Type:\", type(X_train))\n",
        "\n",
        "# Print shape and data type of X_test\n",
        "print(\"\\nX_test Shape:\", X_test.shape)\n",
        "print(\"X_test Data Type:\", type(X_test))\n",
        "\n",
        "# Print shape and data type of y_train\n",
        "print(\"\\ny_train Shape:\", y_train.shape)\n",
        "print(\"y_train Data Type:\", type(y_train))\n",
        "\n",
        "# Print shape and data type of y_test\n",
        "print(\"\\ny_test Shape:\", y_test.shape)\n",
        "print(\"y_test Data Type:\", type(y_test))\n"
      ]
    },
    {
      "cell_type": "markdown",
      "source": [
        "#### MODEL - 4 Neural Network"
      ],
      "metadata": {
        "id": "eSorABCtbYfQ"
      }
    },
    {
      "cell_type": "code",
      "execution_count": 62,
      "metadata": {
        "id": "Bw5jKqMg88qg"
      },
      "outputs": [],
      "source": [
        "from sklearn.neural_network import MLPClassifier\n",
        "\n",
        "from sklearn.metrics import accuracy_score\n",
        "from sklearn.metrics import confusion_matrix\n",
        "from sklearn.metrics import classification_report\n",
        "from sklearn.metrics import roc_auc_score"
      ]
    },
    {
      "cell_type": "code",
      "execution_count": 63,
      "metadata": {
        "id": "MKyfETVg88qg"
      },
      "outputs": [],
      "source": [
        "# #Instatiatie our MLPClassifier\n",
        "mlp = MLPClassifier(solver='adam',\n",
        "                    activation = 'relu',\n",
        "                   hidden_layer_sizes = (100,50,30),\n",
        "                    max_iter = 1000)"
      ]
    },
    {
      "cell_type": "code",
      "execution_count": 64,
      "metadata": {
        "scrolled": false,
        "colab": {
          "base_uri": "https://localhost:8080/",
          "height": 75
        },
        "id": "VuVzH-7V88qg",
        "outputId": "3771e5d0-c360-4f6e-9244-8eba85cd7582"
      },
      "outputs": [
        {
          "output_type": "execute_result",
          "data": {
            "text/plain": [
              "MLPClassifier(hidden_layer_sizes=(100, 50, 30), max_iter=1000)"
            ],
            "text/html": [
              "<style>#sk-container-id-3 {color: black;background-color: white;}#sk-container-id-3 pre{padding: 0;}#sk-container-id-3 div.sk-toggleable {background-color: white;}#sk-container-id-3 label.sk-toggleable__label {cursor: pointer;display: block;width: 100%;margin-bottom: 0;padding: 0.3em;box-sizing: border-box;text-align: center;}#sk-container-id-3 label.sk-toggleable__label-arrow:before {content: \"▸\";float: left;margin-right: 0.25em;color: #696969;}#sk-container-id-3 label.sk-toggleable__label-arrow:hover:before {color: black;}#sk-container-id-3 div.sk-estimator:hover label.sk-toggleable__label-arrow:before {color: black;}#sk-container-id-3 div.sk-toggleable__content {max-height: 0;max-width: 0;overflow: hidden;text-align: left;background-color: #f0f8ff;}#sk-container-id-3 div.sk-toggleable__content pre {margin: 0.2em;color: black;border-radius: 0.25em;background-color: #f0f8ff;}#sk-container-id-3 input.sk-toggleable__control:checked~div.sk-toggleable__content {max-height: 200px;max-width: 100%;overflow: auto;}#sk-container-id-3 input.sk-toggleable__control:checked~label.sk-toggleable__label-arrow:before {content: \"▾\";}#sk-container-id-3 div.sk-estimator input.sk-toggleable__control:checked~label.sk-toggleable__label {background-color: #d4ebff;}#sk-container-id-3 div.sk-label input.sk-toggleable__control:checked~label.sk-toggleable__label {background-color: #d4ebff;}#sk-container-id-3 input.sk-hidden--visually {border: 0;clip: rect(1px 1px 1px 1px);clip: rect(1px, 1px, 1px, 1px);height: 1px;margin: -1px;overflow: hidden;padding: 0;position: absolute;width: 1px;}#sk-container-id-3 div.sk-estimator {font-family: monospace;background-color: #f0f8ff;border: 1px dotted black;border-radius: 0.25em;box-sizing: border-box;margin-bottom: 0.5em;}#sk-container-id-3 div.sk-estimator:hover {background-color: #d4ebff;}#sk-container-id-3 div.sk-parallel-item::after {content: \"\";width: 100%;border-bottom: 1px solid gray;flex-grow: 1;}#sk-container-id-3 div.sk-label:hover label.sk-toggleable__label {background-color: #d4ebff;}#sk-container-id-3 div.sk-serial::before {content: \"\";position: absolute;border-left: 1px solid gray;box-sizing: border-box;top: 0;bottom: 0;left: 50%;z-index: 0;}#sk-container-id-3 div.sk-serial {display: flex;flex-direction: column;align-items: center;background-color: white;padding-right: 0.2em;padding-left: 0.2em;position: relative;}#sk-container-id-3 div.sk-item {position: relative;z-index: 1;}#sk-container-id-3 div.sk-parallel {display: flex;align-items: stretch;justify-content: center;background-color: white;position: relative;}#sk-container-id-3 div.sk-item::before, #sk-container-id-3 div.sk-parallel-item::before {content: \"\";position: absolute;border-left: 1px solid gray;box-sizing: border-box;top: 0;bottom: 0;left: 50%;z-index: -1;}#sk-container-id-3 div.sk-parallel-item {display: flex;flex-direction: column;z-index: 1;position: relative;background-color: white;}#sk-container-id-3 div.sk-parallel-item:first-child::after {align-self: flex-end;width: 50%;}#sk-container-id-3 div.sk-parallel-item:last-child::after {align-self: flex-start;width: 50%;}#sk-container-id-3 div.sk-parallel-item:only-child::after {width: 0;}#sk-container-id-3 div.sk-dashed-wrapped {border: 1px dashed gray;margin: 0 0.4em 0.5em 0.4em;box-sizing: border-box;padding-bottom: 0.4em;background-color: white;}#sk-container-id-3 div.sk-label label {font-family: monospace;font-weight: bold;display: inline-block;line-height: 1.2em;}#sk-container-id-3 div.sk-label-container {text-align: center;}#sk-container-id-3 div.sk-container {/* jupyter's `normalize.less` sets `[hidden] { display: none; }` but bootstrap.min.css set `[hidden] { display: none !important; }` so we also need the `!important` here to be able to override the default hidden behavior on the sphinx rendered scikit-learn.org. See: https://github.com/scikit-learn/scikit-learn/issues/21755 */display: inline-block !important;position: relative;}#sk-container-id-3 div.sk-text-repr-fallback {display: none;}</style><div id=\"sk-container-id-3\" class=\"sk-top-container\"><div class=\"sk-text-repr-fallback\"><pre>MLPClassifier(hidden_layer_sizes=(100, 50, 30), max_iter=1000)</pre><b>In a Jupyter environment, please rerun this cell to show the HTML representation or trust the notebook. <br />On GitHub, the HTML representation is unable to render, please try loading this page with nbviewer.org.</b></div><div class=\"sk-container\" hidden><div class=\"sk-item\"><div class=\"sk-estimator sk-toggleable\"><input class=\"sk-toggleable__control sk-hidden--visually\" id=\"sk-estimator-id-3\" type=\"checkbox\" checked><label for=\"sk-estimator-id-3\" class=\"sk-toggleable__label sk-toggleable__label-arrow\">MLPClassifier</label><div class=\"sk-toggleable__content\"><pre>MLPClassifier(hidden_layer_sizes=(100, 50, 30), max_iter=1000)</pre></div></div></div></div></div>"
            ]
          },
          "metadata": {},
          "execution_count": 64
        }
      ],
      "source": [
        "mlp.fit(X_train, y_train)"
      ]
    },
    {
      "cell_type": "code",
      "execution_count": 65,
      "metadata": {
        "colab": {
          "base_uri": "https://localhost:8080/"
        },
        "id": "W-v08Tl788qg",
        "outputId": "2d4e0373-d016-4ac9-a64e-fb44858394a9"
      },
      "outputs": [
        {
          "output_type": "stream",
          "name": "stdout",
          "text": [
            "0.8702380412751656\n",
            "              precision    recall  f1-score   support\n",
            "\n",
            "           0       0.99      0.99      0.99      3394\n",
            "           1       0.86      0.75      0.80       182\n",
            "\n",
            "    accuracy                           0.98      3576\n",
            "   macro avg       0.92      0.87      0.89      3576\n",
            "weighted avg       0.98      0.98      0.98      3576\n",
            "\n"
          ]
        }
      ],
      "source": [
        "mlp_pred = mlp.predict(X_test)\n",
        "\n",
        "#Printing out our evaluation metrics\n",
        "print(roc_auc_score(y_test, mlp_pred))\n",
        "print(classification_report(y_test, mlp_pred))"
      ]
    },
    {
      "cell_type": "code",
      "source": [
        "accuracy = accuracy_score(y_test, mlp_pred)\n",
        "\n",
        "print(f'Accuracy: {accuracy:.2%}')"
      ],
      "metadata": {
        "colab": {
          "base_uri": "https://localhost:8080/"
        },
        "id": "wJbeml5UCNEk",
        "outputId": "6575e413-c98a-40c5-9d24-1bf53bdd23f1"
      },
      "execution_count": 66,
      "outputs": [
        {
          "output_type": "stream",
          "name": "stdout",
          "text": [
            "Accuracy: 98.07%\n"
          ]
        }
      ]
    },
    {
      "cell_type": "code",
      "source": [
        "print(job_data.shape)"
      ],
      "metadata": {
        "colab": {
          "base_uri": "https://localhost:8080/"
        },
        "id": "Nr7M4eU0NJPl",
        "outputId": "01027d65-2738-427f-eeb4-67a385a4b5ec"
      },
      "execution_count": 67,
      "outputs": [
        {
          "output_type": "stream",
          "name": "stdout",
          "text": [
            "(17879, 20)\n"
          ]
        }
      ]
    },
    {
      "cell_type": "code",
      "source": [
        "print(X.shape)"
      ],
      "metadata": {
        "colab": {
          "base_uri": "https://localhost:8080/"
        },
        "id": "Z23s6PLRNMR5",
        "outputId": "ff7161ae-72b4-49bf-d441-a093eb41423b"
      },
      "execution_count": 68,
      "outputs": [
        {
          "output_type": "stream",
          "name": "stdout",
          "text": [
            "(17879, 5000)\n"
          ]
        }
      ]
    },
    {
      "cell_type": "markdown",
      "source": [
        "#### Implementing search query by finding the cosine similarity"
      ],
      "metadata": {
        "id": "1Y9fumrT2R-1"
      }
    },
    {
      "cell_type": "code",
      "source": [
        "# Count occurrences of \" \" for each column\n",
        "empty_string_values_per_column = (job_data == \" \").sum()\n",
        "\n",
        "# Display the result\n",
        "print(empty_string_values_per_column)"
      ],
      "metadata": {
        "colab": {
          "base_uri": "https://localhost:8080/"
        },
        "id": "x-ORfpzWO0uI",
        "outputId": "d34b3748-9242-45b4-9abb-e6e502a889b1"
      },
      "execution_count": 69,
      "outputs": [
        {
          "output_type": "stream",
          "name": "stdout",
          "text": [
            "job_id                     0\n",
            "title                      0\n",
            "location                   0\n",
            "department             11552\n",
            "salary_range           15011\n",
            "company_profile            0\n",
            "description                0\n",
            "requirements               0\n",
            "benefits                7209\n",
            "telecommuting              0\n",
            "has_company_logo           0\n",
            "has_questions              0\n",
            "employment_type         3470\n",
            "required_experience     7049\n",
            "required_education      8104\n",
            "industry                4902\n",
            "function                6454\n",
            "fraudulent                 0\n",
            "country                    0\n",
            "job_text_info              0\n",
            "dtype: int64\n"
          ]
        }
      ]
    },
    {
      "cell_type": "code",
      "source": [
        "from sklearn.metrics.pairwise import cosine_similarity\n",
        "import string\n",
        "\n",
        "def search_for_jobs(query, data, vectorizer, job_data):\n",
        "    # Preprocess the query\n",
        "    query = query.lower()\n",
        "    query = query.translate(str.maketrans('', '', string.punctuation))\n",
        "    query = word_tokenize(query)\n",
        "    query = [word for word in query if word not in stop_words]\n",
        "    query = [lemmatizer.lemmatize(word) for word in query]\n",
        "    query = ' '.join(query)\n",
        "\n",
        "    # Vectorize the query\n",
        "    query_vector = vectorizer.transform([query])\n",
        "\n",
        "    # Compute cosine similarity between the query and job descriptions\n",
        "    similarities = cosine_similarity(query_vector, data)\n",
        "\n",
        "    # Get indices of jobs sorted by similarity (descending order)\n",
        "    indices = similarities.argsort()[0][::-1]\n",
        "    indices = indices[:20]\n",
        "    selected_rows = job_data.loc[indices]\n",
        "\n",
        "    # Return the indices of relevant jobs\n",
        "    return selected_rows\n",
        "\n",
        "# Example usage\n",
        "user_query = \"interested in finance\"\n",
        "result_indices = search_for_jobs(user_query, X, vectorizer, job_data)\n",
        "\n",
        "# Display the indices\n",
        "result_indices\n"
      ],
      "metadata": {
        "colab": {
          "base_uri": "https://localhost:8080/",
          "height": 1000
        },
        "id": "od-9ZeClNnet",
        "outputId": "0fda2a89-cda7-4397-e960-c0dd9691aa9a"
      },
      "execution_count": 70,
      "outputs": [
        {
          "output_type": "execute_result",
          "data": {
            "text/plain": [
              "       job_id                                            title  \\\n",
              "17719   17720                             CUSTOMER SERVICE REP   \n",
              "7830     7831                       Position Finance Assistant   \n",
              "12721   12722            Finance Analyst (Fixed term contract)   \n",
              "9618     9619                   Finance and Accounting Analyst   \n",
              "1448     1449                                  Finance Manager   \n",
              "7642     7643                     Banking and Finance Attorney   \n",
              "4237     4238    Senior Associate Corporate Finance & Planning   \n",
              "12461   12462                              Executive Assistant   \n",
              "4671     4672   Assistant Manager Corporate Finance & Planning   \n",
              "16392   16393  Business Development Manager (Bridging Finance)   \n",
              "13610   13611                                    Head of Sales   \n",
              "14947   14948                      Freelance Writer -- Finance   \n",
              "2091     2092                                         Attorney   \n",
              "7197     7198                                         Attorney   \n",
              "7695     7696                                         Attorney   \n",
              "7097     7098                                         Attorney   \n",
              "7366     7367                                         Attorney   \n",
              "8504     8505                                         Attorney   \n",
              "11906   11907                              Front End Developer   \n",
              "15164   15165                       Sales Associate Internship   \n",
              "\n",
              "                     location  department salary_range  \\\n",
              "17719          US, TX, DALLAS                            \n",
              "7830       AU, VIC, Melbourne              25000-30000   \n",
              "12721     GB, LND, Shoreditch     Finance                \n",
              "9618        BR, SP, São Paulo                            \n",
              "1448          GB, LND, London    Accounts  22000-30000   \n",
              "7642        US, NC, Charlotte       Legal                \n",
              "4237        PK, IS, Islamabad     Finance                \n",
              "12461            GB, , London                            \n",
              "4671        PK, IS, Islamabad                            \n",
              "16392            GB, , London                            \n",
              "13610            GB, , London                            \n",
              "14947                  US, ,      Content                \n",
              "2091   US, VA, Virginia Beach                            \n",
              "7197   US, VA, Virginia Beach                            \n",
              "7695   US, VA, Virginia Beach                            \n",
              "7097        US, NV, Las Vegas                            \n",
              "7366   US, VA, Virginia Beach                            \n",
              "8504        US, NV, Las Vegas                            \n",
              "11906         GB, GBN, London  Technology  41000-50000   \n",
              "15164                                                    \n",
              "\n",
              "                                         company_profile  \\\n",
              "17719                                                      \n",
              "7830                                                       \n",
              "12721  ustwo offers you the opportunity to be yoursel...   \n",
              "9618   Nubank is an early stage, technology-driven fi...   \n",
              "1448   Wedo is a collection of niched e-commerce stor...   \n",
              "7642                                                       \n",
              "4237                                                       \n",
              "12461  At LendInvest fundamentally changing the way p...   \n",
              "4671                                                       \n",
              "16392  At LendInvest fundamentally changing the way p...   \n",
              "13610  At LendInvest fundamentally changing the way p...   \n",
              "14947  ConsumerTrack is a technology-centric internet...   \n",
              "2091   Tidewater Finance Co. was established in 1992 ...   \n",
              "7197   Tidewater Finance Co. was established in 1992 ...   \n",
              "7695   Tidewater Finance Co. was established in 1992 ...   \n",
              "7097   Tidewater Finance Co. was established in 1992 ...   \n",
              "7366   Tidewater Finance Co. was established in 1992 ...   \n",
              "8504   Tidewater Finance Co. was established in 1992 ...   \n",
              "11906  MarketInvoice is one of the most high-profile ...   \n",
              "15164  TalkLocal is seeking to bring together the bri...   \n",
              "\n",
              "                                             description  \\\n",
              "17719  DescriptionJob Title: Customer Service Represe...   \n",
              "7830   We have positions available for confident, out...   \n",
              "12721  Ustwo London are looking for an experienced Fi...   \n",
              "9618   Why is the Finance &amp; Accounting Analyst po...   \n",
              "1448   About us:Wedo is a curated collection of niche...   \n",
              "7642   Special Counsel’s Charlotte office is searchin...   \n",
              "4237   Position Title: Senior Associate Corporate Fin...   \n",
              "12461  LendInvest is looking for an administrative as...   \n",
              "4671   Position Title: Assistant Manager Corporate Fi...   \n",
              "16392  We are looking for experienced business develo...   \n",
              "13610  We are looking for an experienced business dev...   \n",
              "14947  Have you written extensively on finance or per...   \n",
              "2091   Tidewater Finance Company, an industry leader ...   \n",
              "7197   Tidewater Finance Company, an industry leader ...   \n",
              "7695   Tidewater Finance Company, an industry leader ...   \n",
              "7097   Tidewater Finance Company, an industry leader ...   \n",
              "7366   Tidewater Finance Company, an industry leader ...   \n",
              "8504   Tidewater Finance Company, an industry leader ...   \n",
              "11906  We’re hoping to meet a talented and curious fr...   \n",
              "15164  Interested in gaining experience with a hot ne...   \n",
              "\n",
              "                                            requirements  \\\n",
              "17719                                HIGH SCHOOL DIPLOMA   \n",
              "7830   Personal attributes would include: • Intermedi...   \n",
              "12721  Technical requirements/skillsBring numbers to ...   \n",
              "9618   This kind of experience/background is relevant...   \n",
              "1448   Qualifications:Currently studying towards AAT,...   \n",
              "7642                                                       \n",
              "4237   Essential Requirements:-- Experience in IPP (I...   \n",
              "12461  Well presented, courteous and friendly attitud...   \n",
              "4671   Essential Requirements (by Career Pakistan): S...   \n",
              "16392  The successful candidates will have:relevant m...   \n",
              "13610  The successful candidates will have:relevant m...   \n",
              "14947  Previous freelance writing experience (samples...   \n",
              "2091   Required Education, Experience and SkillsBache...   \n",
              "7197   Required Education, Experience and SkillsBache...   \n",
              "7695   Required Education, Experience and SkillsBache...   \n",
              "7097   Required Education, Experience and SkillsBache...   \n",
              "7366   Required Education, Experience and SkillsBache...   \n",
              "8504    Required Education, Experience and SkillsBach...   \n",
              "11906  An enthusiastic hacker, skilled in using HTML5...   \n",
              "15164  Strong organizational skillsStrong communicati...   \n",
              "\n",
              "                                                benefits  telecommuting  \\\n",
              "17719  HEALTH,DENTAL INSURANCE , 401K , STOCK PLAN FO...              0   \n",
              "7830   Benefits include: · Base wage of $450 per week...              0   \n",
              "12721  Above anything we are people centred company t...              0   \n",
              "9618   Competitive compensation packageHealth, dental...              0   \n",
              "1448   Salary: £22,000- 30,000 p/a depending on exper...              0   \n",
              "7642                                                                  0   \n",
              "4237                                                                  0   \n",
              "12461  Lots of new projects to get involved inFully s...              0   \n",
              "4671                                                                  0   \n",
              "16392  All business related expenses will be reimburs...              0   \n",
              "13610  All business related expenses will be reimburs...              0   \n",
              "14947                                                                 1   \n",
              "2091   Our company offers a competitive salary plus B...              0   \n",
              "7197   Our company offers a competitive salary plus B...              0   \n",
              "7695   Our company offers a competitive salary plus B...              0   \n",
              "7097   Our company offers a competitive salary plus B...              0   \n",
              "7366   Our company offers a competitive salary plus B...              0   \n",
              "8504   Our company offers a competitive salary plus B...              0   \n",
              "11906  Competitive Salary Healthcare cover and other ...              0   \n",
              "15164  Hands-on work experience with an internet star...              0   \n",
              "\n",
              "       has_company_logo  has_questions employment_type required_experience  \\\n",
              "17719                 0              0       Full-time           Associate   \n",
              "7830                  0              0       Part-time                       \n",
              "12721                 1              0        Contract    Mid-Senior level   \n",
              "9618                  1              1       Full-time                       \n",
              "1448                  1              1       Full-time    Mid-Senior level   \n",
              "7642                  1              1                                       \n",
              "4237                  0              1                                       \n",
              "12461                 1              0       Full-time         Entry level   \n",
              "4671                  0              1                                       \n",
              "16392                 1              0       Full-time    Mid-Senior level   \n",
              "13610                 1              0       Full-time    Mid-Senior level   \n",
              "14947                 1              1                                       \n",
              "2091                  1              0       Full-time    Mid-Senior level   \n",
              "7197                  1              1       Full-time    Mid-Senior level   \n",
              "7695                  1              1       Full-time    Mid-Senior level   \n",
              "7097                  1              1       Full-time    Mid-Senior level   \n",
              "7366                  1              1       Full-time    Mid-Senior level   \n",
              "8504                  1              1       Full-time    Mid-Senior level   \n",
              "11906                 1              1       Full-time           Associate   \n",
              "15164                 1              0           Other          Internship   \n",
              "\n",
              "              required_education            industry                function  \\\n",
              "17719  High School or equivalent   Consumer Services        Customer Service   \n",
              "7830                                         Banking                 Finance   \n",
              "12721                                                                Finance   \n",
              "9618                              Financial Services                           \n",
              "1448           Bachelor's Degree            Internet                 Finance   \n",
              "7642                                                                           \n",
              "4237                                                                           \n",
              "12461                             Financial Services          Administrative   \n",
              "4671                                                                           \n",
              "16392                             Financial Services                   Sales   \n",
              "13610                             Financial Services                   Sales   \n",
              "14947                                                                          \n",
              "2091           Bachelor's Degree  Financial Services                   Legal   \n",
              "7197           Bachelor's Degree  Financial Services                   Legal   \n",
              "7695           Bachelor's Degree  Financial Services                   Legal   \n",
              "7097           Bachelor's Degree  Financial Services                   Legal   \n",
              "7366           Bachelor's Degree  Financial Services                   Legal   \n",
              "8504           Bachelor's Degree  Financial Services                   Legal   \n",
              "11906                Unspecified  Financial Services  Information Technology   \n",
              "15164                                                                          \n",
              "\n",
              "       fraudulent country                                      job_text_info  \n",
              "17719           1      US  customer service rep descriptionjob title cust...  \n",
              "7830            1      AU  position finance assistant position available ...  \n",
              "12721           0      GB  finance analyst fixed term contract ustwo lond...  \n",
              "9618            0      BR  finance accounting analyst finance amp account...  \n",
              "1448            0      GB  finance manager uswedo curated collection nich...  \n",
              "7642            0      US  banking finance attorney special counsel ’ cha...  \n",
              "4237            0      PK  senior associate corporate finance planning po...  \n",
              "12461           0      GB  executive assistant lendinvest looking adminis...  \n",
              "4671            0      PK  assistant manager corporate finance planning p...  \n",
              "16392           0      GB  business development manager bridging finance ...  \n",
              "13610           0      GB  head sale looking experienced business develop...  \n",
              "14947           0      US  freelance writer finance written extensively f...  \n",
              "2091            0      US  attorney tidewater finance company industry le...  \n",
              "7197            0      US  attorney tidewater finance company industry le...  \n",
              "7695            0      US  attorney tidewater finance company industry le...  \n",
              "7097            0      US  attorney tidewater finance company industry le...  \n",
              "7366            0      US  attorney tidewater finance company industry le...  \n",
              "8504            0      US  attorney tidewater finance company industry le...  \n",
              "11906           0      GB  front end developer ’ hoping meet talented cur...  \n",
              "15164           0          sale associate internship interested gaining e...  "
            ],
            "text/html": [
              "\n",
              "  <div id=\"df-97f57c0f-0f72-4c33-b97a-8af26b8e58c5\" class=\"colab-df-container\">\n",
              "    <div>\n",
              "<style scoped>\n",
              "    .dataframe tbody tr th:only-of-type {\n",
              "        vertical-align: middle;\n",
              "    }\n",
              "\n",
              "    .dataframe tbody tr th {\n",
              "        vertical-align: top;\n",
              "    }\n",
              "\n",
              "    .dataframe thead th {\n",
              "        text-align: right;\n",
              "    }\n",
              "</style>\n",
              "<table border=\"1\" class=\"dataframe\">\n",
              "  <thead>\n",
              "    <tr style=\"text-align: right;\">\n",
              "      <th></th>\n",
              "      <th>job_id</th>\n",
              "      <th>title</th>\n",
              "      <th>location</th>\n",
              "      <th>department</th>\n",
              "      <th>salary_range</th>\n",
              "      <th>company_profile</th>\n",
              "      <th>description</th>\n",
              "      <th>requirements</th>\n",
              "      <th>benefits</th>\n",
              "      <th>telecommuting</th>\n",
              "      <th>has_company_logo</th>\n",
              "      <th>has_questions</th>\n",
              "      <th>employment_type</th>\n",
              "      <th>required_experience</th>\n",
              "      <th>required_education</th>\n",
              "      <th>industry</th>\n",
              "      <th>function</th>\n",
              "      <th>fraudulent</th>\n",
              "      <th>country</th>\n",
              "      <th>job_text_info</th>\n",
              "    </tr>\n",
              "  </thead>\n",
              "  <tbody>\n",
              "    <tr>\n",
              "      <th>17719</th>\n",
              "      <td>17720</td>\n",
              "      <td>CUSTOMER SERVICE REP</td>\n",
              "      <td>US, TX, DALLAS</td>\n",
              "      <td></td>\n",
              "      <td></td>\n",
              "      <td></td>\n",
              "      <td>DescriptionJob Title: Customer Service Represe...</td>\n",
              "      <td>HIGH SCHOOL DIPLOMA</td>\n",
              "      <td>HEALTH,DENTAL INSURANCE , 401K , STOCK PLAN FO...</td>\n",
              "      <td>0</td>\n",
              "      <td>0</td>\n",
              "      <td>0</td>\n",
              "      <td>Full-time</td>\n",
              "      <td>Associate</td>\n",
              "      <td>High School or equivalent</td>\n",
              "      <td>Consumer Services</td>\n",
              "      <td>Customer Service</td>\n",
              "      <td>1</td>\n",
              "      <td>US</td>\n",
              "      <td>customer service rep descriptionjob title cust...</td>\n",
              "    </tr>\n",
              "    <tr>\n",
              "      <th>7830</th>\n",
              "      <td>7831</td>\n",
              "      <td>Position Finance Assistant</td>\n",
              "      <td>AU, VIC, Melbourne</td>\n",
              "      <td></td>\n",
              "      <td>25000-30000</td>\n",
              "      <td></td>\n",
              "      <td>We have positions available for confident, out...</td>\n",
              "      <td>Personal attributes would include: • Intermedi...</td>\n",
              "      <td>Benefits include: · Base wage of $450 per week...</td>\n",
              "      <td>0</td>\n",
              "      <td>0</td>\n",
              "      <td>0</td>\n",
              "      <td>Part-time</td>\n",
              "      <td></td>\n",
              "      <td></td>\n",
              "      <td>Banking</td>\n",
              "      <td>Finance</td>\n",
              "      <td>1</td>\n",
              "      <td>AU</td>\n",
              "      <td>position finance assistant position available ...</td>\n",
              "    </tr>\n",
              "    <tr>\n",
              "      <th>12721</th>\n",
              "      <td>12722</td>\n",
              "      <td>Finance Analyst (Fixed term contract)</td>\n",
              "      <td>GB, LND, Shoreditch</td>\n",
              "      <td>Finance</td>\n",
              "      <td></td>\n",
              "      <td>ustwo offers you the opportunity to be yoursel...</td>\n",
              "      <td>Ustwo London are looking for an experienced Fi...</td>\n",
              "      <td>Technical requirements/skillsBring numbers to ...</td>\n",
              "      <td>Above anything we are people centred company t...</td>\n",
              "      <td>0</td>\n",
              "      <td>1</td>\n",
              "      <td>0</td>\n",
              "      <td>Contract</td>\n",
              "      <td>Mid-Senior level</td>\n",
              "      <td></td>\n",
              "      <td></td>\n",
              "      <td>Finance</td>\n",
              "      <td>0</td>\n",
              "      <td>GB</td>\n",
              "      <td>finance analyst fixed term contract ustwo lond...</td>\n",
              "    </tr>\n",
              "    <tr>\n",
              "      <th>9618</th>\n",
              "      <td>9619</td>\n",
              "      <td>Finance and Accounting Analyst</td>\n",
              "      <td>BR, SP, São Paulo</td>\n",
              "      <td></td>\n",
              "      <td></td>\n",
              "      <td>Nubank is an early stage, technology-driven fi...</td>\n",
              "      <td>Why is the Finance &amp;amp; Accounting Analyst po...</td>\n",
              "      <td>This kind of experience/background is relevant...</td>\n",
              "      <td>Competitive compensation packageHealth, dental...</td>\n",
              "      <td>0</td>\n",
              "      <td>1</td>\n",
              "      <td>1</td>\n",
              "      <td>Full-time</td>\n",
              "      <td></td>\n",
              "      <td></td>\n",
              "      <td>Financial Services</td>\n",
              "      <td></td>\n",
              "      <td>0</td>\n",
              "      <td>BR</td>\n",
              "      <td>finance accounting analyst finance amp account...</td>\n",
              "    </tr>\n",
              "    <tr>\n",
              "      <th>1448</th>\n",
              "      <td>1449</td>\n",
              "      <td>Finance Manager</td>\n",
              "      <td>GB, LND, London</td>\n",
              "      <td>Accounts</td>\n",
              "      <td>22000-30000</td>\n",
              "      <td>Wedo is a collection of niched e-commerce stor...</td>\n",
              "      <td>About us:Wedo is a curated collection of niche...</td>\n",
              "      <td>Qualifications:Currently studying towards AAT,...</td>\n",
              "      <td>Salary: £22,000- 30,000 p/a depending on exper...</td>\n",
              "      <td>0</td>\n",
              "      <td>1</td>\n",
              "      <td>1</td>\n",
              "      <td>Full-time</td>\n",
              "      <td>Mid-Senior level</td>\n",
              "      <td>Bachelor's Degree</td>\n",
              "      <td>Internet</td>\n",
              "      <td>Finance</td>\n",
              "      <td>0</td>\n",
              "      <td>GB</td>\n",
              "      <td>finance manager uswedo curated collection nich...</td>\n",
              "    </tr>\n",
              "    <tr>\n",
              "      <th>7642</th>\n",
              "      <td>7643</td>\n",
              "      <td>Banking and Finance Attorney</td>\n",
              "      <td>US, NC, Charlotte</td>\n",
              "      <td>Legal</td>\n",
              "      <td></td>\n",
              "      <td></td>\n",
              "      <td>Special Counsel’s Charlotte office is searchin...</td>\n",
              "      <td></td>\n",
              "      <td></td>\n",
              "      <td>0</td>\n",
              "      <td>1</td>\n",
              "      <td>1</td>\n",
              "      <td></td>\n",
              "      <td></td>\n",
              "      <td></td>\n",
              "      <td></td>\n",
              "      <td></td>\n",
              "      <td>0</td>\n",
              "      <td>US</td>\n",
              "      <td>banking finance attorney special counsel ’ cha...</td>\n",
              "    </tr>\n",
              "    <tr>\n",
              "      <th>4237</th>\n",
              "      <td>4238</td>\n",
              "      <td>Senior Associate Corporate Finance &amp; Planning</td>\n",
              "      <td>PK, IS, Islamabad</td>\n",
              "      <td>Finance</td>\n",
              "      <td></td>\n",
              "      <td></td>\n",
              "      <td>Position Title: Senior Associate Corporate Fin...</td>\n",
              "      <td>Essential Requirements:-- Experience in IPP (I...</td>\n",
              "      <td></td>\n",
              "      <td>0</td>\n",
              "      <td>0</td>\n",
              "      <td>1</td>\n",
              "      <td></td>\n",
              "      <td></td>\n",
              "      <td></td>\n",
              "      <td></td>\n",
              "      <td></td>\n",
              "      <td>0</td>\n",
              "      <td>PK</td>\n",
              "      <td>senior associate corporate finance planning po...</td>\n",
              "    </tr>\n",
              "    <tr>\n",
              "      <th>12461</th>\n",
              "      <td>12462</td>\n",
              "      <td>Executive Assistant</td>\n",
              "      <td>GB, , London</td>\n",
              "      <td></td>\n",
              "      <td></td>\n",
              "      <td>At LendInvest fundamentally changing the way p...</td>\n",
              "      <td>LendInvest is looking for an administrative as...</td>\n",
              "      <td>Well presented, courteous and friendly attitud...</td>\n",
              "      <td>Lots of new projects to get involved inFully s...</td>\n",
              "      <td>0</td>\n",
              "      <td>1</td>\n",
              "      <td>0</td>\n",
              "      <td>Full-time</td>\n",
              "      <td>Entry level</td>\n",
              "      <td></td>\n",
              "      <td>Financial Services</td>\n",
              "      <td>Administrative</td>\n",
              "      <td>0</td>\n",
              "      <td>GB</td>\n",
              "      <td>executive assistant lendinvest looking adminis...</td>\n",
              "    </tr>\n",
              "    <tr>\n",
              "      <th>4671</th>\n",
              "      <td>4672</td>\n",
              "      <td>Assistant Manager Corporate Finance &amp; Planning</td>\n",
              "      <td>PK, IS, Islamabad</td>\n",
              "      <td></td>\n",
              "      <td></td>\n",
              "      <td></td>\n",
              "      <td>Position Title: Assistant Manager Corporate Fi...</td>\n",
              "      <td>Essential Requirements (by Career Pakistan): S...</td>\n",
              "      <td></td>\n",
              "      <td>0</td>\n",
              "      <td>0</td>\n",
              "      <td>1</td>\n",
              "      <td></td>\n",
              "      <td></td>\n",
              "      <td></td>\n",
              "      <td></td>\n",
              "      <td></td>\n",
              "      <td>0</td>\n",
              "      <td>PK</td>\n",
              "      <td>assistant manager corporate finance planning p...</td>\n",
              "    </tr>\n",
              "    <tr>\n",
              "      <th>16392</th>\n",
              "      <td>16393</td>\n",
              "      <td>Business Development Manager (Bridging Finance)</td>\n",
              "      <td>GB, , London</td>\n",
              "      <td></td>\n",
              "      <td></td>\n",
              "      <td>At LendInvest fundamentally changing the way p...</td>\n",
              "      <td>We are looking for experienced business develo...</td>\n",
              "      <td>The successful candidates will have:relevant m...</td>\n",
              "      <td>All business related expenses will be reimburs...</td>\n",
              "      <td>0</td>\n",
              "      <td>1</td>\n",
              "      <td>0</td>\n",
              "      <td>Full-time</td>\n",
              "      <td>Mid-Senior level</td>\n",
              "      <td></td>\n",
              "      <td>Financial Services</td>\n",
              "      <td>Sales</td>\n",
              "      <td>0</td>\n",
              "      <td>GB</td>\n",
              "      <td>business development manager bridging finance ...</td>\n",
              "    </tr>\n",
              "    <tr>\n",
              "      <th>13610</th>\n",
              "      <td>13611</td>\n",
              "      <td>Head of Sales</td>\n",
              "      <td>GB, , London</td>\n",
              "      <td></td>\n",
              "      <td></td>\n",
              "      <td>At LendInvest fundamentally changing the way p...</td>\n",
              "      <td>We are looking for an experienced business dev...</td>\n",
              "      <td>The successful candidates will have:relevant m...</td>\n",
              "      <td>All business related expenses will be reimburs...</td>\n",
              "      <td>0</td>\n",
              "      <td>1</td>\n",
              "      <td>0</td>\n",
              "      <td>Full-time</td>\n",
              "      <td>Mid-Senior level</td>\n",
              "      <td></td>\n",
              "      <td>Financial Services</td>\n",
              "      <td>Sales</td>\n",
              "      <td>0</td>\n",
              "      <td>GB</td>\n",
              "      <td>head sale looking experienced business develop...</td>\n",
              "    </tr>\n",
              "    <tr>\n",
              "      <th>14947</th>\n",
              "      <td>14948</td>\n",
              "      <td>Freelance Writer -- Finance</td>\n",
              "      <td>US, ,</td>\n",
              "      <td>Content</td>\n",
              "      <td></td>\n",
              "      <td>ConsumerTrack is a technology-centric internet...</td>\n",
              "      <td>Have you written extensively on finance or per...</td>\n",
              "      <td>Previous freelance writing experience (samples...</td>\n",
              "      <td></td>\n",
              "      <td>1</td>\n",
              "      <td>1</td>\n",
              "      <td>1</td>\n",
              "      <td></td>\n",
              "      <td></td>\n",
              "      <td></td>\n",
              "      <td></td>\n",
              "      <td></td>\n",
              "      <td>0</td>\n",
              "      <td>US</td>\n",
              "      <td>freelance writer finance written extensively f...</td>\n",
              "    </tr>\n",
              "    <tr>\n",
              "      <th>2091</th>\n",
              "      <td>2092</td>\n",
              "      <td>Attorney</td>\n",
              "      <td>US, VA, Virginia Beach</td>\n",
              "      <td></td>\n",
              "      <td></td>\n",
              "      <td>Tidewater Finance Co. was established in 1992 ...</td>\n",
              "      <td>Tidewater Finance Company, an industry leader ...</td>\n",
              "      <td>Required Education, Experience and SkillsBache...</td>\n",
              "      <td>Our company offers a competitive salary plus B...</td>\n",
              "      <td>0</td>\n",
              "      <td>1</td>\n",
              "      <td>0</td>\n",
              "      <td>Full-time</td>\n",
              "      <td>Mid-Senior level</td>\n",
              "      <td>Bachelor's Degree</td>\n",
              "      <td>Financial Services</td>\n",
              "      <td>Legal</td>\n",
              "      <td>0</td>\n",
              "      <td>US</td>\n",
              "      <td>attorney tidewater finance company industry le...</td>\n",
              "    </tr>\n",
              "    <tr>\n",
              "      <th>7197</th>\n",
              "      <td>7198</td>\n",
              "      <td>Attorney</td>\n",
              "      <td>US, VA, Virginia Beach</td>\n",
              "      <td></td>\n",
              "      <td></td>\n",
              "      <td>Tidewater Finance Co. was established in 1992 ...</td>\n",
              "      <td>Tidewater Finance Company, an industry leader ...</td>\n",
              "      <td>Required Education, Experience and SkillsBache...</td>\n",
              "      <td>Our company offers a competitive salary plus B...</td>\n",
              "      <td>0</td>\n",
              "      <td>1</td>\n",
              "      <td>1</td>\n",
              "      <td>Full-time</td>\n",
              "      <td>Mid-Senior level</td>\n",
              "      <td>Bachelor's Degree</td>\n",
              "      <td>Financial Services</td>\n",
              "      <td>Legal</td>\n",
              "      <td>0</td>\n",
              "      <td>US</td>\n",
              "      <td>attorney tidewater finance company industry le...</td>\n",
              "    </tr>\n",
              "    <tr>\n",
              "      <th>7695</th>\n",
              "      <td>7696</td>\n",
              "      <td>Attorney</td>\n",
              "      <td>US, VA, Virginia Beach</td>\n",
              "      <td></td>\n",
              "      <td></td>\n",
              "      <td>Tidewater Finance Co. was established in 1992 ...</td>\n",
              "      <td>Tidewater Finance Company, an industry leader ...</td>\n",
              "      <td>Required Education, Experience and SkillsBache...</td>\n",
              "      <td>Our company offers a competitive salary plus B...</td>\n",
              "      <td>0</td>\n",
              "      <td>1</td>\n",
              "      <td>1</td>\n",
              "      <td>Full-time</td>\n",
              "      <td>Mid-Senior level</td>\n",
              "      <td>Bachelor's Degree</td>\n",
              "      <td>Financial Services</td>\n",
              "      <td>Legal</td>\n",
              "      <td>0</td>\n",
              "      <td>US</td>\n",
              "      <td>attorney tidewater finance company industry le...</td>\n",
              "    </tr>\n",
              "    <tr>\n",
              "      <th>7097</th>\n",
              "      <td>7098</td>\n",
              "      <td>Attorney</td>\n",
              "      <td>US, NV, Las Vegas</td>\n",
              "      <td></td>\n",
              "      <td></td>\n",
              "      <td>Tidewater Finance Co. was established in 1992 ...</td>\n",
              "      <td>Tidewater Finance Company, an industry leader ...</td>\n",
              "      <td>Required Education, Experience and SkillsBache...</td>\n",
              "      <td>Our company offers a competitive salary plus B...</td>\n",
              "      <td>0</td>\n",
              "      <td>1</td>\n",
              "      <td>1</td>\n",
              "      <td>Full-time</td>\n",
              "      <td>Mid-Senior level</td>\n",
              "      <td>Bachelor's Degree</td>\n",
              "      <td>Financial Services</td>\n",
              "      <td>Legal</td>\n",
              "      <td>0</td>\n",
              "      <td>US</td>\n",
              "      <td>attorney tidewater finance company industry le...</td>\n",
              "    </tr>\n",
              "    <tr>\n",
              "      <th>7366</th>\n",
              "      <td>7367</td>\n",
              "      <td>Attorney</td>\n",
              "      <td>US, VA, Virginia Beach</td>\n",
              "      <td></td>\n",
              "      <td></td>\n",
              "      <td>Tidewater Finance Co. was established in 1992 ...</td>\n",
              "      <td>Tidewater Finance Company, an industry leader ...</td>\n",
              "      <td>Required Education, Experience and SkillsBache...</td>\n",
              "      <td>Our company offers a competitive salary plus B...</td>\n",
              "      <td>0</td>\n",
              "      <td>1</td>\n",
              "      <td>1</td>\n",
              "      <td>Full-time</td>\n",
              "      <td>Mid-Senior level</td>\n",
              "      <td>Bachelor's Degree</td>\n",
              "      <td>Financial Services</td>\n",
              "      <td>Legal</td>\n",
              "      <td>0</td>\n",
              "      <td>US</td>\n",
              "      <td>attorney tidewater finance company industry le...</td>\n",
              "    </tr>\n",
              "    <tr>\n",
              "      <th>8504</th>\n",
              "      <td>8505</td>\n",
              "      <td>Attorney</td>\n",
              "      <td>US, NV, Las Vegas</td>\n",
              "      <td></td>\n",
              "      <td></td>\n",
              "      <td>Tidewater Finance Co. was established in 1992 ...</td>\n",
              "      <td>Tidewater Finance Company, an industry leader ...</td>\n",
              "      <td>Required Education, Experience and SkillsBach...</td>\n",
              "      <td>Our company offers a competitive salary plus B...</td>\n",
              "      <td>0</td>\n",
              "      <td>1</td>\n",
              "      <td>1</td>\n",
              "      <td>Full-time</td>\n",
              "      <td>Mid-Senior level</td>\n",
              "      <td>Bachelor's Degree</td>\n",
              "      <td>Financial Services</td>\n",
              "      <td>Legal</td>\n",
              "      <td>0</td>\n",
              "      <td>US</td>\n",
              "      <td>attorney tidewater finance company industry le...</td>\n",
              "    </tr>\n",
              "    <tr>\n",
              "      <th>11906</th>\n",
              "      <td>11907</td>\n",
              "      <td>Front End Developer</td>\n",
              "      <td>GB, GBN, London</td>\n",
              "      <td>Technology</td>\n",
              "      <td>41000-50000</td>\n",
              "      <td>MarketInvoice is one of the most high-profile ...</td>\n",
              "      <td>We’re hoping to meet a talented and curious fr...</td>\n",
              "      <td>An enthusiastic hacker, skilled in using HTML5...</td>\n",
              "      <td>Competitive Salary Healthcare cover and other ...</td>\n",
              "      <td>0</td>\n",
              "      <td>1</td>\n",
              "      <td>1</td>\n",
              "      <td>Full-time</td>\n",
              "      <td>Associate</td>\n",
              "      <td>Unspecified</td>\n",
              "      <td>Financial Services</td>\n",
              "      <td>Information Technology</td>\n",
              "      <td>0</td>\n",
              "      <td>GB</td>\n",
              "      <td>front end developer ’ hoping meet talented cur...</td>\n",
              "    </tr>\n",
              "    <tr>\n",
              "      <th>15164</th>\n",
              "      <td>15165</td>\n",
              "      <td>Sales Associate Internship</td>\n",
              "      <td></td>\n",
              "      <td></td>\n",
              "      <td></td>\n",
              "      <td>TalkLocal is seeking to bring together the bri...</td>\n",
              "      <td>Interested in gaining experience with a hot ne...</td>\n",
              "      <td>Strong organizational skillsStrong communicati...</td>\n",
              "      <td>Hands-on work experience with an internet star...</td>\n",
              "      <td>0</td>\n",
              "      <td>1</td>\n",
              "      <td>0</td>\n",
              "      <td>Other</td>\n",
              "      <td>Internship</td>\n",
              "      <td></td>\n",
              "      <td></td>\n",
              "      <td></td>\n",
              "      <td>0</td>\n",
              "      <td></td>\n",
              "      <td>sale associate internship interested gaining e...</td>\n",
              "    </tr>\n",
              "  </tbody>\n",
              "</table>\n",
              "</div>\n",
              "    <div class=\"colab-df-buttons\">\n",
              "\n",
              "  <div class=\"colab-df-container\">\n",
              "    <button class=\"colab-df-convert\" onclick=\"convertToInteractive('df-97f57c0f-0f72-4c33-b97a-8af26b8e58c5')\"\n",
              "            title=\"Convert this dataframe to an interactive table.\"\n",
              "            style=\"display:none;\">\n",
              "\n",
              "  <svg xmlns=\"http://www.w3.org/2000/svg\" height=\"24px\" viewBox=\"0 -960 960 960\">\n",
              "    <path d=\"M120-120v-720h720v720H120Zm60-500h600v-160H180v160Zm220 220h160v-160H400v160Zm0 220h160v-160H400v160ZM180-400h160v-160H180v160Zm440 0h160v-160H620v160ZM180-180h160v-160H180v160Zm440 0h160v-160H620v160Z\"/>\n",
              "  </svg>\n",
              "    </button>\n",
              "\n",
              "  <style>\n",
              "    .colab-df-container {\n",
              "      display:flex;\n",
              "      gap: 12px;\n",
              "    }\n",
              "\n",
              "    .colab-df-convert {\n",
              "      background-color: #E8F0FE;\n",
              "      border: none;\n",
              "      border-radius: 50%;\n",
              "      cursor: pointer;\n",
              "      display: none;\n",
              "      fill: #1967D2;\n",
              "      height: 32px;\n",
              "      padding: 0 0 0 0;\n",
              "      width: 32px;\n",
              "    }\n",
              "\n",
              "    .colab-df-convert:hover {\n",
              "      background-color: #E2EBFA;\n",
              "      box-shadow: 0px 1px 2px rgba(60, 64, 67, 0.3), 0px 1px 3px 1px rgba(60, 64, 67, 0.15);\n",
              "      fill: #174EA6;\n",
              "    }\n",
              "\n",
              "    .colab-df-buttons div {\n",
              "      margin-bottom: 4px;\n",
              "    }\n",
              "\n",
              "    [theme=dark] .colab-df-convert {\n",
              "      background-color: #3B4455;\n",
              "      fill: #D2E3FC;\n",
              "    }\n",
              "\n",
              "    [theme=dark] .colab-df-convert:hover {\n",
              "      background-color: #434B5C;\n",
              "      box-shadow: 0px 1px 3px 1px rgba(0, 0, 0, 0.15);\n",
              "      filter: drop-shadow(0px 1px 2px rgba(0, 0, 0, 0.3));\n",
              "      fill: #FFFFFF;\n",
              "    }\n",
              "  </style>\n",
              "\n",
              "    <script>\n",
              "      const buttonEl =\n",
              "        document.querySelector('#df-97f57c0f-0f72-4c33-b97a-8af26b8e58c5 button.colab-df-convert');\n",
              "      buttonEl.style.display =\n",
              "        google.colab.kernel.accessAllowed ? 'block' : 'none';\n",
              "\n",
              "      async function convertToInteractive(key) {\n",
              "        const element = document.querySelector('#df-97f57c0f-0f72-4c33-b97a-8af26b8e58c5');\n",
              "        const dataTable =\n",
              "          await google.colab.kernel.invokeFunction('convertToInteractive',\n",
              "                                                    [key], {});\n",
              "        if (!dataTable) return;\n",
              "\n",
              "        const docLinkHtml = 'Like what you see? Visit the ' +\n",
              "          '<a target=\"_blank\" href=https://colab.research.google.com/notebooks/data_table.ipynb>data table notebook</a>'\n",
              "          + ' to learn more about interactive tables.';\n",
              "        element.innerHTML = '';\n",
              "        dataTable['output_type'] = 'display_data';\n",
              "        await google.colab.output.renderOutput(dataTable, element);\n",
              "        const docLink = document.createElement('div');\n",
              "        docLink.innerHTML = docLinkHtml;\n",
              "        element.appendChild(docLink);\n",
              "      }\n",
              "    </script>\n",
              "  </div>\n",
              "\n",
              "\n",
              "<div id=\"df-a67a3f8e-6341-45ba-9cff-4d150a98d18a\">\n",
              "  <button class=\"colab-df-quickchart\" onclick=\"quickchart('df-a67a3f8e-6341-45ba-9cff-4d150a98d18a')\"\n",
              "            title=\"Suggest charts\"\n",
              "            style=\"display:none;\">\n",
              "\n",
              "<svg xmlns=\"http://www.w3.org/2000/svg\" height=\"24px\"viewBox=\"0 0 24 24\"\n",
              "     width=\"24px\">\n",
              "    <g>\n",
              "        <path d=\"M19 3H5c-1.1 0-2 .9-2 2v14c0 1.1.9 2 2 2h14c1.1 0 2-.9 2-2V5c0-1.1-.9-2-2-2zM9 17H7v-7h2v7zm4 0h-2V7h2v10zm4 0h-2v-4h2v4z\"/>\n",
              "    </g>\n",
              "</svg>\n",
              "  </button>\n",
              "\n",
              "<style>\n",
              "  .colab-df-quickchart {\n",
              "      --bg-color: #E8F0FE;\n",
              "      --fill-color: #1967D2;\n",
              "      --hover-bg-color: #E2EBFA;\n",
              "      --hover-fill-color: #174EA6;\n",
              "      --disabled-fill-color: #AAA;\n",
              "      --disabled-bg-color: #DDD;\n",
              "  }\n",
              "\n",
              "  [theme=dark] .colab-df-quickchart {\n",
              "      --bg-color: #3B4455;\n",
              "      --fill-color: #D2E3FC;\n",
              "      --hover-bg-color: #434B5C;\n",
              "      --hover-fill-color: #FFFFFF;\n",
              "      --disabled-bg-color: #3B4455;\n",
              "      --disabled-fill-color: #666;\n",
              "  }\n",
              "\n",
              "  .colab-df-quickchart {\n",
              "    background-color: var(--bg-color);\n",
              "    border: none;\n",
              "    border-radius: 50%;\n",
              "    cursor: pointer;\n",
              "    display: none;\n",
              "    fill: var(--fill-color);\n",
              "    height: 32px;\n",
              "    padding: 0;\n",
              "    width: 32px;\n",
              "  }\n",
              "\n",
              "  .colab-df-quickchart:hover {\n",
              "    background-color: var(--hover-bg-color);\n",
              "    box-shadow: 0 1px 2px rgba(60, 64, 67, 0.3), 0 1px 3px 1px rgba(60, 64, 67, 0.15);\n",
              "    fill: var(--button-hover-fill-color);\n",
              "  }\n",
              "\n",
              "  .colab-df-quickchart-complete:disabled,\n",
              "  .colab-df-quickchart-complete:disabled:hover {\n",
              "    background-color: var(--disabled-bg-color);\n",
              "    fill: var(--disabled-fill-color);\n",
              "    box-shadow: none;\n",
              "  }\n",
              "\n",
              "  .colab-df-spinner {\n",
              "    border: 2px solid var(--fill-color);\n",
              "    border-color: transparent;\n",
              "    border-bottom-color: var(--fill-color);\n",
              "    animation:\n",
              "      spin 1s steps(1) infinite;\n",
              "  }\n",
              "\n",
              "  @keyframes spin {\n",
              "    0% {\n",
              "      border-color: transparent;\n",
              "      border-bottom-color: var(--fill-color);\n",
              "      border-left-color: var(--fill-color);\n",
              "    }\n",
              "    20% {\n",
              "      border-color: transparent;\n",
              "      border-left-color: var(--fill-color);\n",
              "      border-top-color: var(--fill-color);\n",
              "    }\n",
              "    30% {\n",
              "      border-color: transparent;\n",
              "      border-left-color: var(--fill-color);\n",
              "      border-top-color: var(--fill-color);\n",
              "      border-right-color: var(--fill-color);\n",
              "    }\n",
              "    40% {\n",
              "      border-color: transparent;\n",
              "      border-right-color: var(--fill-color);\n",
              "      border-top-color: var(--fill-color);\n",
              "    }\n",
              "    60% {\n",
              "      border-color: transparent;\n",
              "      border-right-color: var(--fill-color);\n",
              "    }\n",
              "    80% {\n",
              "      border-color: transparent;\n",
              "      border-right-color: var(--fill-color);\n",
              "      border-bottom-color: var(--fill-color);\n",
              "    }\n",
              "    90% {\n",
              "      border-color: transparent;\n",
              "      border-bottom-color: var(--fill-color);\n",
              "    }\n",
              "  }\n",
              "</style>\n",
              "\n",
              "  <script>\n",
              "    async function quickchart(key) {\n",
              "      const quickchartButtonEl =\n",
              "        document.querySelector('#' + key + ' button');\n",
              "      quickchartButtonEl.disabled = true;  // To prevent multiple clicks.\n",
              "      quickchartButtonEl.classList.add('colab-df-spinner');\n",
              "      try {\n",
              "        const charts = await google.colab.kernel.invokeFunction(\n",
              "            'suggestCharts', [key], {});\n",
              "      } catch (error) {\n",
              "        console.error('Error during call to suggestCharts:', error);\n",
              "      }\n",
              "      quickchartButtonEl.classList.remove('colab-df-spinner');\n",
              "      quickchartButtonEl.classList.add('colab-df-quickchart-complete');\n",
              "    }\n",
              "    (() => {\n",
              "      let quickchartButtonEl =\n",
              "        document.querySelector('#df-a67a3f8e-6341-45ba-9cff-4d150a98d18a button');\n",
              "      quickchartButtonEl.style.display =\n",
              "        google.colab.kernel.accessAllowed ? 'block' : 'none';\n",
              "    })();\n",
              "  </script>\n",
              "</div>\n",
              "    </div>\n",
              "  </div>\n"
            ]
          },
          "metadata": {},
          "execution_count": 70
        }
      ]
    },
    {
      "cell_type": "code",
      "source": [
        "# from sklearn.metrics.pairwise import cosine_similarity\n",
        "# import string\n",
        "\n",
        "# def search_for_jobs(query, data, vectorizer, job_data):\n",
        "#     # Preprocess the query\n",
        "#     query = query.lower()\n",
        "#     query = query.translate(str.maketrans('', '', string.punctuation))\n",
        "#     query = word_tokenize(query)\n",
        "#     query = [word for word in query if word not in stop_words]\n",
        "#     query = [lemmatizer.lemmatize(word) for word in query]\n",
        "#     query = ' '.join(query)\n",
        "\n",
        "#     # Vectorize the query\n",
        "#     query_vector = vectorizer.transform([query])\n",
        "\n",
        "#     # Compute cosine similarity between the query and job descriptions\n",
        "#     similarities = cosine_similarity(query_vector, data)\n",
        "\n",
        "#     # Get indices of jobs sorted by similarity (descending order)\n",
        "#     indices = similarities.argsort()[0][::-1]\n",
        "\n",
        "#     # Return the list of jobs with reset index\n",
        "#     result = job_data.loc[indices, 'job_text_info'].reset_index(drop=True)\n",
        "#     return result\n",
        "\n",
        "# # Example usage\n",
        "# user_query = \"interested in finance\"\n",
        "# result = search_for_jobs(user_query, X, vectorizer, job_data)\n",
        "\n",
        "# # Display the result\n",
        "# print(result)\n"
      ],
      "metadata": {
        "id": "JvPsQuwKNB9W"
      },
      "execution_count": 72,
      "outputs": []
    }
  ],
  "metadata": {
    "colab": {
      "provenance": [],
      "gpuType": "T4"
    },
    "kernelspec": {
      "display_name": "Python 3",
      "name": "python3"
    },
    "language_info": {
      "codemirror_mode": {
        "name": "ipython",
        "version": 3
      },
      "file_extension": ".py",
      "mimetype": "text/x-python",
      "name": "python",
      "nbconvert_exporter": "python",
      "pygments_lexer": "ipython3",
      "version": "3.9.12"
    },
    "accelerator": "GPU"
>>>>>>> 42d2bee3be0fce1053d0d402fd5b04845789fd6e
  },
  "nbformat": 4,
  "nbformat_minor": 0
}