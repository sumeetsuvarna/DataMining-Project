{
  "cells": [
    {
      "cell_type": "markdown",
      "metadata": {
        "id": "2uBF2tZiYMVd"
      },
      "source": [
        "# INTEGRATED JOB POST VERIFICATION ND PERSONALIZED JOB RECOMMENDATION SYSTEM\n",
        "\n",
        "## STEP-1 Data Collection"
      ]
    },
    {
      "cell_type": "code",
      "execution_count": 1,
      "metadata": {
        "id": "dxZ0KePtKrL7"
      },
      "outputs": [],
      "source": [
        "#importing the modules\n",
        "import pandas as pd\n",
        "import numpy as np\n",
        "import seaborn as sns\n",
        "import matplotlib.pyplot as plt"
      ]
    },
    {
      "cell_type": "code",
      "execution_count": 2,
      "metadata": {
        "id": "3vaeV4zw8INP"
      },
      "outputs": [],
      "source": [
        "#collected the data from kaggle and converting the csv file to dataframe\n",
        "job_data = pd.read_csv(\"fake_job_postings.csv\")"
      ]
    },
    {
      "cell_type": "code",
      "execution_count": 3,
      "metadata": {
        "id": "zSV9qaGr8NfR",
        "colab": {
          "base_uri": "https://localhost:8080/"
        },
        "outputId": "485a44ed-7246-41e2-9403-f3f432a65128"
      },
      "outputs": [
        {
          "output_type": "stream",
          "name": "stdout",
          "text": [
            "<class 'pandas.core.frame.DataFrame'>\n",
            "RangeIndex: 17880 entries, 0 to 17879\n",
            "Data columns (total 18 columns):\n",
            " #   Column               Non-Null Count  Dtype \n",
            "---  ------               --------------  ----- \n",
            " 0   job_id               17880 non-null  int64 \n",
            " 1   title                17880 non-null  object\n",
            " 2   location             17534 non-null  object\n",
            " 3   department           6333 non-null   object\n",
            " 4   salary_range         2868 non-null   object\n",
            " 5   company_profile      14572 non-null  object\n",
            " 6   description          17879 non-null  object\n",
            " 7   requirements         15185 non-null  object\n",
            " 8   benefits             10670 non-null  object\n",
            " 9   telecommuting        17880 non-null  int64 \n",
            " 10  has_company_logo     17880 non-null  int64 \n",
            " 11  has_questions        17880 non-null  int64 \n",
            " 12  employment_type      14409 non-null  object\n",
            " 13  required_experience  10830 non-null  object\n",
            " 14  required_education   9775 non-null   object\n",
            " 15  industry             12977 non-null  object\n",
            " 16  function             11425 non-null  object\n",
            " 17  fraudulent           17880 non-null  int64 \n",
            "dtypes: int64(5), object(13)\n",
            "memory usage: 2.5+ MB\n"
          ]
        }
      ],
      "source": [
        "#extracting information about the data\n",
        "job_data.info()"
      ]
    },
    {
      "cell_type": "code",
      "execution_count": 4,
      "metadata": {
        "colab": {
          "base_uri": "https://localhost:8080/"
        },
        "id": "h7TeA9IyvtCx",
        "outputId": "6aef0ed5-2d2f-44ff-9d2d-5ea169b238f7"
      },
      "outputs": [
        {
          "output_type": "stream",
          "name": "stdout",
          "text": [
            "             job_id  telecommuting  has_company_logo  has_questions  \\\n",
            "count  17880.000000   17880.000000      17880.000000   17880.000000   \n",
            "mean    8940.500000       0.042897          0.795302       0.491723   \n",
            "std     5161.655742       0.202631          0.403492       0.499945   \n",
            "min        1.000000       0.000000          0.000000       0.000000   \n",
            "25%     4470.750000       0.000000          1.000000       0.000000   \n",
            "50%     8940.500000       0.000000          1.000000       0.000000   \n",
            "75%    13410.250000       0.000000          1.000000       1.000000   \n",
            "max    17880.000000       1.000000          1.000000       1.000000   \n",
            "\n",
            "         fraudulent  \n",
            "count  17880.000000  \n",
            "mean       0.048434  \n",
            "std        0.214688  \n",
            "min        0.000000  \n",
            "25%        0.000000  \n",
            "50%        0.000000  \n",
            "75%        0.000000  \n",
            "max        1.000000  \n"
          ]
        }
      ],
      "source": [
        "# Display summary statistics for numerical columns\n",
        "print(job_data.describe())"
      ]
    },
    {
      "cell_type": "code",
      "execution_count": 5,
      "metadata": {
        "colab": {
          "base_uri": "https://localhost:8080/"
        },
        "id": "SBK6bBef91do",
        "outputId": "0b5df1a8-6205-4ea5-8287-7e73beb4c216"
      },
      "outputs": [
        {
          "output_type": "execute_result",
          "data": {
            "text/plain": [
              "(17880, 18)"
            ]
          },
          "metadata": {},
          "execution_count": 5
        }
      ],
      "source": [
        "#dimensions of the data\n",
        "job_data.shape"
      ]
    },
    {
      "cell_type": "markdown",
      "source": [
        "~ We can see that there are\n",
        "* Total 17880 rows\n",
        "* And 18 columns"
      ],
      "metadata": {
        "id": "8vLBNcNFwsxW"
      }
    },
    {
      "cell_type": "code",
      "execution_count": 6,
      "metadata": {
        "colab": {
          "base_uri": "https://localhost:8080/",
          "height": 556
        },
        "id": "-CT2Ckcx8uMr",
        "outputId": "1d2f1389-a703-42be-eb37-6eac702b165b"
      },
      "outputs": [
        {
          "output_type": "execute_result",
          "data": {
            "text/plain": [
              "   job_id                                      title            location  \\\n",
              "0       1                           Marketing Intern    US, NY, New York   \n",
              "1       2  Customer Service - Cloud Video Production      NZ, , Auckland   \n",
              "2       3    Commissioning Machinery Assistant (CMA)       US, IA, Wever   \n",
              "3       4          Account Executive - Washington DC  US, DC, Washington   \n",
              "4       5                        Bill Review Manager  US, FL, Fort Worth   \n",
              "\n",
              "  department salary_range                                    company_profile  \\\n",
              "0  Marketing          NaN  We're Food52, and we've created a groundbreaki...   \n",
              "1    Success          NaN  90 Seconds, the worlds Cloud Video Production ...   \n",
              "2        NaN          NaN  Valor Services provides Workforce Solutions th...   \n",
              "3      Sales          NaN  Our passion for improving quality of life thro...   \n",
              "4        NaN          NaN  SpotSource Solutions LLC is a Global Human Cap...   \n",
              "\n",
              "                                         description  \\\n",
              "0  Food52, a fast-growing, James Beard Award-winn...   \n",
              "1  Organised - Focused - Vibrant - Awesome!Do you...   \n",
              "2  Our client, located in Houston, is actively se...   \n",
              "3  THE COMPANY: ESRI – Environmental Systems Rese...   \n",
              "4  JOB TITLE: Itemization Review ManagerLOCATION:...   \n",
              "\n",
              "                                        requirements  \\\n",
              "0  Experience with content management systems a m...   \n",
              "1  What we expect from you:Your key responsibilit...   \n",
              "2  Implement pre-commissioning and commissioning ...   \n",
              "3  EDUCATION: Bachelor’s or Master’s in GIS, busi...   \n",
              "4  QUALIFICATIONS:RN license in the State of Texa...   \n",
              "\n",
              "                                            benefits  telecommuting  \\\n",
              "0                                                NaN              0   \n",
              "1  What you will get from usThrough being part of...              0   \n",
              "2                                                NaN              0   \n",
              "3  Our culture is anything but corporate—we have ...              0   \n",
              "4                              Full Benefits Offered              0   \n",
              "\n",
              "   has_company_logo  has_questions employment_type required_experience  \\\n",
              "0                 1              0           Other          Internship   \n",
              "1                 1              0       Full-time      Not Applicable   \n",
              "2                 1              0             NaN                 NaN   \n",
              "3                 1              0       Full-time    Mid-Senior level   \n",
              "4                 1              1       Full-time    Mid-Senior level   \n",
              "\n",
              "  required_education                   industry              function  \\\n",
              "0                NaN                        NaN             Marketing   \n",
              "1                NaN  Marketing and Advertising      Customer Service   \n",
              "2                NaN                        NaN                   NaN   \n",
              "3  Bachelor's Degree          Computer Software                 Sales   \n",
              "4  Bachelor's Degree     Hospital & Health Care  Health Care Provider   \n",
              "\n",
              "   fraudulent  \n",
              "0           0  \n",
              "1           0  \n",
              "2           0  \n",
              "3           0  \n",
              "4           0  "
            ],
            "text/html": [
              "\n",
              "  <div id=\"df-18f03674-8472-46c2-8c4b-fcea4f425813\" class=\"colab-df-container\">\n",
              "    <div>\n",
              "<style scoped>\n",
              "    .dataframe tbody tr th:only-of-type {\n",
              "        vertical-align: middle;\n",
              "    }\n",
              "\n",
              "    .dataframe tbody tr th {\n",
              "        vertical-align: top;\n",
              "    }\n",
              "\n",
              "    .dataframe thead th {\n",
              "        text-align: right;\n",
              "    }\n",
              "</style>\n",
              "<table border=\"1\" class=\"dataframe\">\n",
              "  <thead>\n",
              "    <tr style=\"text-align: right;\">\n",
              "      <th></th>\n",
              "      <th>job_id</th>\n",
              "      <th>title</th>\n",
              "      <th>location</th>\n",
              "      <th>department</th>\n",
              "      <th>salary_range</th>\n",
              "      <th>company_profile</th>\n",
              "      <th>description</th>\n",
              "      <th>requirements</th>\n",
              "      <th>benefits</th>\n",
              "      <th>telecommuting</th>\n",
              "      <th>has_company_logo</th>\n",
              "      <th>has_questions</th>\n",
              "      <th>employment_type</th>\n",
              "      <th>required_experience</th>\n",
              "      <th>required_education</th>\n",
              "      <th>industry</th>\n",
              "      <th>function</th>\n",
              "      <th>fraudulent</th>\n",
              "    </tr>\n",
              "  </thead>\n",
              "  <tbody>\n",
              "    <tr>\n",
              "      <th>0</th>\n",
              "      <td>1</td>\n",
              "      <td>Marketing Intern</td>\n",
              "      <td>US, NY, New York</td>\n",
              "      <td>Marketing</td>\n",
              "      <td>NaN</td>\n",
              "      <td>We're Food52, and we've created a groundbreaki...</td>\n",
              "      <td>Food52, a fast-growing, James Beard Award-winn...</td>\n",
              "      <td>Experience with content management systems a m...</td>\n",
              "      <td>NaN</td>\n",
              "      <td>0</td>\n",
              "      <td>1</td>\n",
              "      <td>0</td>\n",
              "      <td>Other</td>\n",
              "      <td>Internship</td>\n",
              "      <td>NaN</td>\n",
              "      <td>NaN</td>\n",
              "      <td>Marketing</td>\n",
              "      <td>0</td>\n",
              "    </tr>\n",
              "    <tr>\n",
              "      <th>1</th>\n",
              "      <td>2</td>\n",
              "      <td>Customer Service - Cloud Video Production</td>\n",
              "      <td>NZ, , Auckland</td>\n",
              "      <td>Success</td>\n",
              "      <td>NaN</td>\n",
              "      <td>90 Seconds, the worlds Cloud Video Production ...</td>\n",
              "      <td>Organised - Focused - Vibrant - Awesome!Do you...</td>\n",
              "      <td>What we expect from you:Your key responsibilit...</td>\n",
              "      <td>What you will get from usThrough being part of...</td>\n",
              "      <td>0</td>\n",
              "      <td>1</td>\n",
              "      <td>0</td>\n",
              "      <td>Full-time</td>\n",
              "      <td>Not Applicable</td>\n",
              "      <td>NaN</td>\n",
              "      <td>Marketing and Advertising</td>\n",
              "      <td>Customer Service</td>\n",
              "      <td>0</td>\n",
              "    </tr>\n",
              "    <tr>\n",
              "      <th>2</th>\n",
              "      <td>3</td>\n",
              "      <td>Commissioning Machinery Assistant (CMA)</td>\n",
              "      <td>US, IA, Wever</td>\n",
              "      <td>NaN</td>\n",
              "      <td>NaN</td>\n",
              "      <td>Valor Services provides Workforce Solutions th...</td>\n",
              "      <td>Our client, located in Houston, is actively se...</td>\n",
              "      <td>Implement pre-commissioning and commissioning ...</td>\n",
              "      <td>NaN</td>\n",
              "      <td>0</td>\n",
              "      <td>1</td>\n",
              "      <td>0</td>\n",
              "      <td>NaN</td>\n",
              "      <td>NaN</td>\n",
              "      <td>NaN</td>\n",
              "      <td>NaN</td>\n",
              "      <td>NaN</td>\n",
              "      <td>0</td>\n",
              "    </tr>\n",
              "    <tr>\n",
              "      <th>3</th>\n",
              "      <td>4</td>\n",
              "      <td>Account Executive - Washington DC</td>\n",
              "      <td>US, DC, Washington</td>\n",
              "      <td>Sales</td>\n",
              "      <td>NaN</td>\n",
              "      <td>Our passion for improving quality of life thro...</td>\n",
              "      <td>THE COMPANY: ESRI – Environmental Systems Rese...</td>\n",
              "      <td>EDUCATION: Bachelor’s or Master’s in GIS, busi...</td>\n",
              "      <td>Our culture is anything but corporate—we have ...</td>\n",
              "      <td>0</td>\n",
              "      <td>1</td>\n",
              "      <td>0</td>\n",
              "      <td>Full-time</td>\n",
              "      <td>Mid-Senior level</td>\n",
              "      <td>Bachelor's Degree</td>\n",
              "      <td>Computer Software</td>\n",
              "      <td>Sales</td>\n",
              "      <td>0</td>\n",
              "    </tr>\n",
              "    <tr>\n",
              "      <th>4</th>\n",
              "      <td>5</td>\n",
              "      <td>Bill Review Manager</td>\n",
              "      <td>US, FL, Fort Worth</td>\n",
              "      <td>NaN</td>\n",
              "      <td>NaN</td>\n",
              "      <td>SpotSource Solutions LLC is a Global Human Cap...</td>\n",
              "      <td>JOB TITLE: Itemization Review ManagerLOCATION:...</td>\n",
              "      <td>QUALIFICATIONS:RN license in the State of Texa...</td>\n",
              "      <td>Full Benefits Offered</td>\n",
              "      <td>0</td>\n",
              "      <td>1</td>\n",
              "      <td>1</td>\n",
              "      <td>Full-time</td>\n",
              "      <td>Mid-Senior level</td>\n",
              "      <td>Bachelor's Degree</td>\n",
              "      <td>Hospital &amp; Health Care</td>\n",
              "      <td>Health Care Provider</td>\n",
              "      <td>0</td>\n",
              "    </tr>\n",
              "  </tbody>\n",
              "</table>\n",
              "</div>\n",
              "    <div class=\"colab-df-buttons\">\n",
              "\n",
              "  <div class=\"colab-df-container\">\n",
              "    <button class=\"colab-df-convert\" onclick=\"convertToInteractive('df-18f03674-8472-46c2-8c4b-fcea4f425813')\"\n",
              "            title=\"Convert this dataframe to an interactive table.\"\n",
              "            style=\"display:none;\">\n",
              "\n",
              "  <svg xmlns=\"http://www.w3.org/2000/svg\" height=\"24px\" viewBox=\"0 -960 960 960\">\n",
              "    <path d=\"M120-120v-720h720v720H120Zm60-500h600v-160H180v160Zm220 220h160v-160H400v160Zm0 220h160v-160H400v160ZM180-400h160v-160H180v160Zm440 0h160v-160H620v160ZM180-180h160v-160H180v160Zm440 0h160v-160H620v160Z\"/>\n",
              "  </svg>\n",
              "    </button>\n",
              "\n",
              "  <style>\n",
              "    .colab-df-container {\n",
              "      display:flex;\n",
              "      gap: 12px;\n",
              "    }\n",
              "\n",
              "    .colab-df-convert {\n",
              "      background-color: #E8F0FE;\n",
              "      border: none;\n",
              "      border-radius: 50%;\n",
              "      cursor: pointer;\n",
              "      display: none;\n",
              "      fill: #1967D2;\n",
              "      height: 32px;\n",
              "      padding: 0 0 0 0;\n",
              "      width: 32px;\n",
              "    }\n",
              "\n",
              "    .colab-df-convert:hover {\n",
              "      background-color: #E2EBFA;\n",
              "      box-shadow: 0px 1px 2px rgba(60, 64, 67, 0.3), 0px 1px 3px 1px rgba(60, 64, 67, 0.15);\n",
              "      fill: #174EA6;\n",
              "    }\n",
              "\n",
              "    .colab-df-buttons div {\n",
              "      margin-bottom: 4px;\n",
              "    }\n",
              "\n",
              "    [theme=dark] .colab-df-convert {\n",
              "      background-color: #3B4455;\n",
              "      fill: #D2E3FC;\n",
              "    }\n",
              "\n",
              "    [theme=dark] .colab-df-convert:hover {\n",
              "      background-color: #434B5C;\n",
              "      box-shadow: 0px 1px 3px 1px rgba(0, 0, 0, 0.15);\n",
              "      filter: drop-shadow(0px 1px 2px rgba(0, 0, 0, 0.3));\n",
              "      fill: #FFFFFF;\n",
              "    }\n",
              "  </style>\n",
              "\n",
              "    <script>\n",
              "      const buttonEl =\n",
              "        document.querySelector('#df-18f03674-8472-46c2-8c4b-fcea4f425813 button.colab-df-convert');\n",
              "      buttonEl.style.display =\n",
              "        google.colab.kernel.accessAllowed ? 'block' : 'none';\n",
              "\n",
              "      async function convertToInteractive(key) {\n",
              "        const element = document.querySelector('#df-18f03674-8472-46c2-8c4b-fcea4f425813');\n",
              "        const dataTable =\n",
              "          await google.colab.kernel.invokeFunction('convertToInteractive',\n",
              "                                                    [key], {});\n",
              "        if (!dataTable) return;\n",
              "\n",
              "        const docLinkHtml = 'Like what you see? Visit the ' +\n",
              "          '<a target=\"_blank\" href=https://colab.research.google.com/notebooks/data_table.ipynb>data table notebook</a>'\n",
              "          + ' to learn more about interactive tables.';\n",
              "        element.innerHTML = '';\n",
              "        dataTable['output_type'] = 'display_data';\n",
              "        await google.colab.output.renderOutput(dataTable, element);\n",
              "        const docLink = document.createElement('div');\n",
              "        docLink.innerHTML = docLinkHtml;\n",
              "        element.appendChild(docLink);\n",
              "      }\n",
              "    </script>\n",
              "  </div>\n",
              "\n",
              "\n",
              "<div id=\"df-63f0ad4c-6511-427f-8755-f3ce99b1bf02\">\n",
              "  <button class=\"colab-df-quickchart\" onclick=\"quickchart('df-63f0ad4c-6511-427f-8755-f3ce99b1bf02')\"\n",
              "            title=\"Suggest charts\"\n",
              "            style=\"display:none;\">\n",
              "\n",
              "<svg xmlns=\"http://www.w3.org/2000/svg\" height=\"24px\"viewBox=\"0 0 24 24\"\n",
              "     width=\"24px\">\n",
              "    <g>\n",
              "        <path d=\"M19 3H5c-1.1 0-2 .9-2 2v14c0 1.1.9 2 2 2h14c1.1 0 2-.9 2-2V5c0-1.1-.9-2-2-2zM9 17H7v-7h2v7zm4 0h-2V7h2v10zm4 0h-2v-4h2v4z\"/>\n",
              "    </g>\n",
              "</svg>\n",
              "  </button>\n",
              "\n",
              "<style>\n",
              "  .colab-df-quickchart {\n",
              "      --bg-color: #E8F0FE;\n",
              "      --fill-color: #1967D2;\n",
              "      --hover-bg-color: #E2EBFA;\n",
              "      --hover-fill-color: #174EA6;\n",
              "      --disabled-fill-color: #AAA;\n",
              "      --disabled-bg-color: #DDD;\n",
              "  }\n",
              "\n",
              "  [theme=dark] .colab-df-quickchart {\n",
              "      --bg-color: #3B4455;\n",
              "      --fill-color: #D2E3FC;\n",
              "      --hover-bg-color: #434B5C;\n",
              "      --hover-fill-color: #FFFFFF;\n",
              "      --disabled-bg-color: #3B4455;\n",
              "      --disabled-fill-color: #666;\n",
              "  }\n",
              "\n",
              "  .colab-df-quickchart {\n",
              "    background-color: var(--bg-color);\n",
              "    border: none;\n",
              "    border-radius: 50%;\n",
              "    cursor: pointer;\n",
              "    display: none;\n",
              "    fill: var(--fill-color);\n",
              "    height: 32px;\n",
              "    padding: 0;\n",
              "    width: 32px;\n",
              "  }\n",
              "\n",
              "  .colab-df-quickchart:hover {\n",
              "    background-color: var(--hover-bg-color);\n",
              "    box-shadow: 0 1px 2px rgba(60, 64, 67, 0.3), 0 1px 3px 1px rgba(60, 64, 67, 0.15);\n",
              "    fill: var(--button-hover-fill-color);\n",
              "  }\n",
              "\n",
              "  .colab-df-quickchart-complete:disabled,\n",
              "  .colab-df-quickchart-complete:disabled:hover {\n",
              "    background-color: var(--disabled-bg-color);\n",
              "    fill: var(--disabled-fill-color);\n",
              "    box-shadow: none;\n",
              "  }\n",
              "\n",
              "  .colab-df-spinner {\n",
              "    border: 2px solid var(--fill-color);\n",
              "    border-color: transparent;\n",
              "    border-bottom-color: var(--fill-color);\n",
              "    animation:\n",
              "      spin 1s steps(1) infinite;\n",
              "  }\n",
              "\n",
              "  @keyframes spin {\n",
              "    0% {\n",
              "      border-color: transparent;\n",
              "      border-bottom-color: var(--fill-color);\n",
              "      border-left-color: var(--fill-color);\n",
              "    }\n",
              "    20% {\n",
              "      border-color: transparent;\n",
              "      border-left-color: var(--fill-color);\n",
              "      border-top-color: var(--fill-color);\n",
              "    }\n",
              "    30% {\n",
              "      border-color: transparent;\n",
              "      border-left-color: var(--fill-color);\n",
              "      border-top-color: var(--fill-color);\n",
              "      border-right-color: var(--fill-color);\n",
              "    }\n",
              "    40% {\n",
              "      border-color: transparent;\n",
              "      border-right-color: var(--fill-color);\n",
              "      border-top-color: var(--fill-color);\n",
              "    }\n",
              "    60% {\n",
              "      border-color: transparent;\n",
              "      border-right-color: var(--fill-color);\n",
              "    }\n",
              "    80% {\n",
              "      border-color: transparent;\n",
              "      border-right-color: var(--fill-color);\n",
              "      border-bottom-color: var(--fill-color);\n",
              "    }\n",
              "    90% {\n",
              "      border-color: transparent;\n",
              "      border-bottom-color: var(--fill-color);\n",
              "    }\n",
              "  }\n",
              "</style>\n",
              "\n",
              "  <script>\n",
              "    async function quickchart(key) {\n",
              "      const quickchartButtonEl =\n",
              "        document.querySelector('#' + key + ' button');\n",
              "      quickchartButtonEl.disabled = true;  // To prevent multiple clicks.\n",
              "      quickchartButtonEl.classList.add('colab-df-spinner');\n",
              "      try {\n",
              "        const charts = await google.colab.kernel.invokeFunction(\n",
              "            'suggestCharts', [key], {});\n",
              "      } catch (error) {\n",
              "        console.error('Error during call to suggestCharts:', error);\n",
              "      }\n",
              "      quickchartButtonEl.classList.remove('colab-df-spinner');\n",
              "      quickchartButtonEl.classList.add('colab-df-quickchart-complete');\n",
              "    }\n",
              "    (() => {\n",
              "      let quickchartButtonEl =\n",
              "        document.querySelector('#df-63f0ad4c-6511-427f-8755-f3ce99b1bf02 button');\n",
              "      quickchartButtonEl.style.display =\n",
              "        google.colab.kernel.accessAllowed ? 'block' : 'none';\n",
              "    })();\n",
              "  </script>\n",
              "</div>\n",
              "    </div>\n",
              "  </div>\n"
            ]
          },
          "metadata": {},
          "execution_count": 6
        }
      ],
      "source": [
        "job_data.head()"
      ]
    },
    {
      "cell_type": "code",
      "execution_count": 7,
      "metadata": {
        "colab": {
          "base_uri": "https://localhost:8080/"
        },
        "id": "DpU7IE_i8-e-",
        "outputId": "bb797caf-181d-47fa-aee5-3d1c691c7071"
      },
      "outputs": [
        {
          "output_type": "stream",
          "name": "stdout",
          "text": [
            "job_id                     0\n",
            "title                      0\n",
            "location                 346\n",
            "department             11547\n",
            "salary_range           15012\n",
            "company_profile         3308\n",
            "description                1\n",
            "requirements            2695\n",
            "benefits                7210\n",
            "telecommuting              0\n",
            "has_company_logo           0\n",
            "has_questions              0\n",
            "employment_type         3471\n",
            "required_experience     7050\n",
            "required_education      8105\n",
            "industry                4903\n",
            "function                6455\n",
            "fraudulent                 0\n",
            "dtype: int64\n"
          ]
        }
      ],
      "source": [
        "# counting the number of nan values in each columns\n",
        "nan_count_per_column = job_data.isna().sum()\n",
        "\n",
        "#and printing the result\n",
        "print(nan_count_per_column)"
      ]
    },
    {
      "cell_type": "markdown",
      "source": [
        "~ From the above information we can see that there are number of columns which have nan value except few."
      ],
      "metadata": {
        "id": "SmnhO00Mw-Hf"
      }
    },
    {
      "cell_type": "markdown",
      "source": [
        "## Step -2 Starting with data preprocessing and EDA"
      ],
      "metadata": {
        "id": "qRtp3rU2xhaE"
      }
    },
    {
      "cell_type": "code",
      "execution_count": 8,
      "metadata": {
        "colab": {
          "base_uri": "https://localhost:8080/",
          "height": 472
        },
        "id": "MeSgZoe_wENW",
        "outputId": "d0f64448-0092-4370-aa2a-3faf7797ec93"
      },
      "outputs": [
        {
          "output_type": "display_data",
          "data": {
            "text/plain": [
              "<Figure size 640x480 with 1 Axes>"
            ],
            "image/png": "[encoded data removed]"
          },
          "metadata": {}
        }
      ],
      "source": [
        "# Visualization of the distribution for the target variable which fradulent\n",
        "sns.countplot(x='fraudulent', data=job_data)\n",
        "plt.title('Visualization of the Target Variable (Fradulent)')\n",
        "plt.show()"
      ]
    },
    {
      "cell_type": "markdown",
      "metadata": {
        "id": "8-YcRlZ3we4h"
      },
      "source": [
        "This code employs the seaborn library to generate a count plot illustrating the distribution of the target variable, \"fraudulent.\" This visualization aids in assessing the balance or imbalance between job descriptions classified as fraudulent and those categorized as non-fraudulent."
      ]
    },
    {
      "cell_type": "markdown",
      "metadata": {
        "id": "0EoU1sFsw38d"
      },
      "source": [
        "### **Exploring Some Categorical Variables**"
      ]
    },
    {
      "cell_type": "markdown",
      "metadata": {
        "id": "SycriHi72C38"
      },
      "source": [
        "This code offers an understanding of the distinct values present in each categorical column along with their respective frequencies."
      ]
    },
    {
      "cell_type": "code",
      "execution_count": 9,
      "metadata": {
        "colab": {
          "base_uri": "https://localhost:8080/"
        },
        "id": "bgi3E0J6wVUv",
        "outputId": "4855fd61-2b96-439f-9d3e-3fc79cacd22b"
      },
      "outputs": [
        {
          "output_type": "stream",
          "name": "stdout",
          "text": [
            "The number of unique value counts in title:\n",
            "English Teacher Abroad                                         311\n",
            "Customer Service Associate                                     146\n",
            "Graduates: English Teacher Abroad (Conversational)             144\n",
            "English Teacher Abroad                                          95\n",
            "Software Engineer                                               86\n",
            "                                                              ... \n",
            "West Coast Regional Channel Manager (RCM)                        1\n",
            "BI Practice Manager                                              1\n",
            "Community Coordinator- Ambassador Programme                      1\n",
            "Senior Traffic Engineer                                          1\n",
            "Project Cost Control Staff Engineer - Cost Control Exp - TX      1\n",
            "Name: title, Length: 11231, dtype: int64\n",
            "\n",
            "\n",
            "\n",
            "The number of unique value counts in location:\n",
            "GB, LND, London          718\n",
            "US, NY, New York         658\n",
            "US, CA, San Francisco    472\n",
            "GR, I, Athens            464\n",
            "US, ,                    339\n",
            "                        ... \n",
            "GB, SFK, Leiston           1\n",
            "GB, LND, Hammersmith       1\n",
            "US, WA, Seattle            1\n",
            "BE                         1\n",
            "GB, WSX, Chichester        1\n",
            "Name: location, Length: 3105, dtype: int64\n",
            "\n",
            "\n",
            "\n",
            "The number of unique value counts in department:\n",
            "Sales                                          551\n",
            "Engineering                                    487\n",
            "Marketing                                      401\n",
            "Operations                                     270\n",
            "IT                                             225\n",
            "                                              ... \n",
            "Commercial Management / Contract Management      1\n",
            "Exec                                             1\n",
            "Marcomm                                          1\n",
            "CRM                                              1\n",
            "Hospitality                                      1\n",
            "Name: department, Length: 1337, dtype: int64\n",
            "\n",
            "\n",
            "\n",
            "The number of unique value counts in employment_type:\n",
            "Full-time    11620\n",
            "Contract      1524\n",
            "Part-time      797\n",
            "Temporary      241\n",
            "Other          227\n",
            "Name: employment_type, dtype: int64\n",
            "\n",
            "\n",
            "\n",
            "The number of unique value counts in required_experience:\n",
            "Mid-Senior level    3809\n",
            "Entry level         2697\n",
            "Associate           2297\n",
            "Not Applicable      1116\n",
            "Director             389\n",
            "Internship           381\n",
            "Executive            141\n",
            "Name: required_experience, dtype: int64\n",
            "\n",
            "\n",
            "\n",
            "The number of unique value counts in required_education:\n",
            "Bachelor's Degree                    5145\n",
            "High School or equivalent            2080\n",
            "Unspecified                          1397\n",
            "Master's Degree                       416\n",
            "Associate Degree                      274\n",
            "Certification                         170\n",
            "Some College Coursework Completed     102\n",
            "Professional                           74\n",
            "Vocational                             49\n",
            "Some High School Coursework            27\n",
            "Doctorate                              26\n",
            "Vocational - HS Diploma                 9\n",
            "Vocational - Degree                     6\n",
            "Name: required_education, dtype: int64\n",
            "\n",
            "\n",
            "\n",
            "The number of unique value counts in industry:\n",
            "Information Technology and Services    1734\n",
            "Computer Software                      1376\n",
            "Internet                               1062\n",
            "Marketing and Advertising               828\n",
            "Education Management                    822\n",
            "                                       ... \n",
            "Shipbuilding                              1\n",
            "Sporting Goods                            1\n",
            "Museums and Institutions                  1\n",
            "Wine and Spirits                          1\n",
            "Ranching                                  1\n",
            "Name: industry, Length: 131, dtype: int64\n",
            "\n",
            "\n",
            "\n",
            "The number of unique value counts in function:\n",
            "Information Technology    1749\n",
            "Sales                     1468\n",
            "Engineering               1348\n",
            "Customer Service          1229\n",
            "Marketing                  830\n",
            "Administrative             630\n",
            "Design                     340\n",
            "Health Care Provider       338\n",
            "Other                      325\n",
            "Education                  325\n",
            "Management                 317\n",
            "Business Development       228\n",
            "Accounting/Auditing        212\n",
            "Human Resources            205\n",
            "Project Management         183\n",
            "Finance                    172\n",
            "Consulting                 144\n",
            "Writing/Editing            132\n",
            "Art/Creative               132\n",
            "Production                 116\n",
            "Product Management         114\n",
            "Quality Assurance          111\n",
            "Advertising                 90\n",
            "Business Analyst            84\n",
            "Data Analyst                82\n",
            "Public Relations            76\n",
            "Manufacturing               74\n",
            "General Business            68\n",
            "Research                    50\n",
            "Legal                       47\n",
            "Strategy/Planning           46\n",
            "Training                    38\n",
            "Supply Chain                36\n",
            "Financial Analyst           33\n",
            "Distribution                24\n",
            "Purchasing                  15\n",
            "Science                     14\n",
            "Name: function, dtype: int64\n",
            "\n",
            "\n",
            "\n"
          ]
        }
      ],
      "source": [
        "#finding the unique value in each categorical columns\n",
        "job_data_categorical = ['title', 'location','department', 'employment_type', 'required_experience', 'required_education', 'industry', 'function']\n",
        "\n",
        "for job_c in job_data_categorical:\n",
        "    print(\"The number of unique value counts in {}:\\n{}\\n\".format(job_c, job_data[job_c].value_counts()))\n",
        "    print(\"\\n\")\n",
        "\n"
      ]
    },
    {
      "cell_type": "code",
      "execution_count": 10,
      "metadata": {
        "colab": {
          "base_uri": "https://localhost:8080/",
          "height": 472
        },
        "id": "8-HwYxnP3D-T",
        "outputId": "c05946d6-c8bd-4f1c-c459-4fbf2ccef763"
      },
      "outputs": [
        {
          "output_type": "display_data",
          "data": {
            "text/plain": [
              "<Figure size 640x480 with 1 Axes>"
            ],
            "image/png": "[encoded data removed]"
          },
          "metadata": {}
        }
      ],
      "source": [
        "# visualization between the fraudulent job and employment_type\n",
        "sns.countplot(x='employment_type', hue='fraudulent', data=job_data)\n",
        "plt.title('Relationship between fraudulent job and Employment type')\n",
        "#showing the plot\n",
        "plt.show()\n"
      ]
    },
    {
      "cell_type": "markdown",
      "source": [
        "~From the above visualization we can see that the fulltime have maxiumum number of jobs both fradulent and non-fradulent"
      ],
      "metadata": {
        "id": "stX4YYWO0dpK"
      }
    },
    {
      "cell_type": "code",
      "execution_count": 11,
      "metadata": {
        "colab": {
          "base_uri": "https://localhost:8080/",
          "height": 718
        },
        "id": "M-S7ha2c3OHd",
        "outputId": "9b2ab7dc-f0f1-4101-b333-1021dc2a9793"
      },
      "outputs": [
        {
          "output_type": "display_data",
          "data": {
            "text/plain": [
              "<Figure size 1200x800 with 1 Axes>"
            ],
            "image/png": "[encoded data removed]"
          },
          "metadata": {}
        }
      ],
      "source": [
        "# visualization between the fraudulent job and Required Experience\n",
        "plt.figure(figsize=(12, 8))\n",
        "sns.countplot(x='required_experience', hue='fraudulent', data=job_data)\n",
        "plt.title('Relationship between fraudulent job and Requried Experience')\n",
        "#showing the plot\n",
        "plt.show()"
      ]
    },
    {
      "cell_type": "markdown",
      "source": [
        "~ From the above graph we can see\n",
        "* that maximum number of jobs required mid-senior experience in non-fradulent job posting\n",
        "* Also the maximum number of jobs required entry level in fradulent job posting"
      ],
      "metadata": {
        "id": "UiE7tdr209kr"
      }
    },
    {
      "cell_type": "code",
      "execution_count": 12,
      "metadata": {
        "colab": {
          "base_uri": "https://localhost:8080/",
          "height": 900
        },
        "id": "WvkxmEdVBWEI",
        "outputId": "97b3d881-5bd4-4b2a-ba11-73eb85d88a01"
      },
      "outputs": [
        {
          "output_type": "display_data",
          "data": {
            "text/plain": [
              "<Figure size 1200x800 with 1 Axes>"
            ],
            "image/png": "[encoded data removed]"
          },
          "metadata": {}
        }
      ],
      "source": [
        "# Here we are seting the dimensions of our ploy\n",
        "plt.figure(figsize=(12, 8))\n",
        "#visualization between the fraudulent job and requried_education\n",
        "ax = sns.countplot(x='required_education', hue='fraudulent', data=job_data)\n",
        "ax.set_xticklabels(ax.get_xticklabels(), rotation=45, ha='right')\n",
        "plt.title('Relationship between Fraudulent Job and required education')\n",
        "#displaying the plot\n",
        "plt.show()\n"
      ]
    },
    {
      "cell_type": "markdown",
      "source": [
        "~From the above graph we can see\n",
        "* that the maximum job which is not fradulent posting require Bachelor' Degree\n",
        "* The maximum job which is fradulent posting require High School or equilavent Degree"
      ],
      "metadata": {
        "id": "f5HS8ZSr2ZdH"
      }
    },
    {
      "cell_type": "code",
      "execution_count": 13,
      "metadata": {
        "id": "xLhaWiwGXZq3"
      },
      "outputs": [],
      "source": [
        "# Filling the missing value in location, company_profile, and requirements with ''.\n",
        "\n",
        "# job_data['location'].fillna('', inplace=True)\n",
        "\n",
        "# job_data['company_profile'].fillna('', inplace=True)\n",
        "\n",
        "# job_data['requirements'].fillna('', inplace=True)"
      ]
    },
    {
      "cell_type": "code",
      "execution_count": 14,
      "metadata": {
        "colab": {
          "base_uri": "https://localhost:8080/"
        },
        "id": "nZqoCFwu88qX",
        "outputId": "8566d323-d7fe-43b8-bafe-51b673c21145"
      },
      "outputs": [
        {
          "output_type": "stream",
          "name": "stdout",
          "text": [
            "['title', 'location', 'department', 'salary_range', 'company_profile', 'description', 'requirements', 'benefits', 'employment_type', 'required_experience', 'required_education', 'industry', 'function']\n"
          ]
        }
      ],
      "source": [
        "#Extracting only those columns which have the datatype as object\n",
        "# and getting there names\n",
        "columns_jobtext_data = job_data.select_dtypes(include='object').columns.tolist()\n",
        "\n",
        "# printing them\n",
        "print(columns_jobtext_data)"
      ]
    },
    {
      "cell_type": "code",
      "execution_count": 15,
      "metadata": {
        "id": "XOH6TV1x88qX"
      },
      "outputs": [],
      "source": [
        "#filling nan value with ''\n",
        "job_data[columns_jobtext_data] = job_data[columns_jobtext_data].fillna(' ')\n"
      ]
    },
    {
      "cell_type": "code",
      "execution_count": 16,
      "metadata": {
        "colab": {
          "base_uri": "https://localhost:8080/",
          "height": 556
        },
        "id": "eb4Nw5Q188qX",
        "outputId": "e563341e-c408-43f1-df8c-e1ab5a940402"
      },
      "outputs": [
        {
          "output_type": "execute_result",
          "data": {
            "text/plain": [
              "   job_id                                      title            location  \\\n",
              "0       1                           Marketing Intern    US, NY, New York   \n",
              "1       2  Customer Service - Cloud Video Production      NZ, , Auckland   \n",
              "2       3    Commissioning Machinery Assistant (CMA)       US, IA, Wever   \n",
              "3       4          Account Executive - Washington DC  US, DC, Washington   \n",
              "4       5                        Bill Review Manager  US, FL, Fort Worth   \n",
              "\n",
              "  department salary_range                                    company_profile  \\\n",
              "0  Marketing               We're Food52, and we've created a groundbreaki...   \n",
              "1    Success               90 Seconds, the worlds Cloud Video Production ...   \n",
              "2                          Valor Services provides Workforce Solutions th...   \n",
              "3      Sales               Our passion for improving quality of life thro...   \n",
              "4                          SpotSource Solutions LLC is a Global Human Cap...   \n",
              "\n",
              "                                         description  \\\n",
              "0  Food52, a fast-growing, James Beard Award-winn...   \n",
              "1  Organised - Focused - Vibrant - Awesome!Do you...   \n",
              "2  Our client, located in Houston, is actively se...   \n",
              "3  THE COMPANY: ESRI – Environmental Systems Rese...   \n",
              "4  JOB TITLE: Itemization Review ManagerLOCATION:...   \n",
              "\n",
              "                                        requirements  \\\n",
              "0  Experience with content management systems a m...   \n",
              "1  What we expect from you:Your key responsibilit...   \n",
              "2  Implement pre-commissioning and commissioning ...   \n",
              "3  EDUCATION: Bachelor’s or Master’s in GIS, busi...   \n",
              "4  QUALIFICATIONS:RN license in the State of Texa...   \n",
              "\n",
              "                                            benefits  telecommuting  \\\n",
              "0                                                                 0   \n",
              "1  What you will get from usThrough being part of...              0   \n",
              "2                                                                 0   \n",
              "3  Our culture is anything but corporate—we have ...              0   \n",
              "4                              Full Benefits Offered              0   \n",
              "\n",
              "   has_company_logo  has_questions employment_type required_experience  \\\n",
              "0                 1              0           Other          Internship   \n",
              "1                 1              0       Full-time      Not Applicable   \n",
              "2                 1              0                                       \n",
              "3                 1              0       Full-time    Mid-Senior level   \n",
              "4                 1              1       Full-time    Mid-Senior level   \n",
              "\n",
              "  required_education                   industry              function  \\\n",
              "0                                                           Marketing   \n",
              "1                     Marketing and Advertising      Customer Service   \n",
              "2                                                                       \n",
              "3  Bachelor's Degree          Computer Software                 Sales   \n",
              "4  Bachelor's Degree     Hospital & Health Care  Health Care Provider   \n",
              "\n",
              "   fraudulent  \n",
              "0           0  \n",
              "1           0  \n",
              "2           0  \n",
              "3           0  \n",
              "4           0  "
            ],
            "text/html": [
              "\n",
              "  <div id=\"df-0ff2bc64-8fcf-470b-8de4-957656527e36\" class=\"colab-df-container\">\n",
              "    <div>\n",
              "<style scoped>\n",
              "    .dataframe tbody tr th:only-of-type {\n",
              "        vertical-align: middle;\n",
              "    }\n",
              "\n",
              "    .dataframe tbody tr th {\n",
              "        vertical-align: top;\n",
              "    }\n",
              "\n",
              "    .dataframe thead th {\n",
              "        text-align: right;\n",
              "    }\n",
              "</style>\n",
              "<table border=\"1\" class=\"dataframe\">\n",
              "  <thead>\n",
              "    <tr style=\"text-align: right;\">\n",
              "      <th></th>\n",
              "      <th>job_id</th>\n",
              "      <th>title</th>\n",
              "      <th>location</th>\n",
              "      <th>department</th>\n",
              "      <th>salary_range</th>\n",
              "      <th>company_profile</th>\n",
              "      <th>description</th>\n",
              "      <th>requirements</th>\n",
              "      <th>benefits</th>\n",
              "      <th>telecommuting</th>\n",
              "      <th>has_company_logo</th>\n",
              "      <th>has_questions</th>\n",
              "      <th>employment_type</th>\n",
              "      <th>required_experience</th>\n",
              "      <th>required_education</th>\n",
              "      <th>industry</th>\n",
              "      <th>function</th>\n",
              "      <th>fraudulent</th>\n",
              "    </tr>\n",
              "  </thead>\n",
              "  <tbody>\n",
              "    <tr>\n",
              "      <th>0</th>\n",
              "      <td>1</td>\n",
              "      <td>Marketing Intern</td>\n",
              "      <td>US, NY, New York</td>\n",
              "      <td>Marketing</td>\n",
              "      <td></td>\n",
              "      <td>We're Food52, and we've created a groundbreaki...</td>\n",
              "      <td>Food52, a fast-growing, James Beard Award-winn...</td>\n",
              "      <td>Experience with content management systems a m...</td>\n",
              "      <td></td>\n",
              "      <td>0</td>\n",
              "      <td>1</td>\n",
              "      <td>0</td>\n",
              "      <td>Other</td>\n",
              "      <td>Internship</td>\n",
              "      <td></td>\n",
              "      <td></td>\n",
              "      <td>Marketing</td>\n",
              "      <td>0</td>\n",
              "    </tr>\n",
              "    <tr>\n",
              "      <th>1</th>\n",
              "      <td>2</td>\n",
              "      <td>Customer Service - Cloud Video Production</td>\n",
              "      <td>NZ, , Auckland</td>\n",
              "      <td>Success</td>\n",
              "      <td></td>\n",
              "      <td>90 Seconds, the worlds Cloud Video Production ...</td>\n",
              "      <td>Organised - Focused - Vibrant - Awesome!Do you...</td>\n",
              "      <td>What we expect from you:Your key responsibilit...</td>\n",
              "      <td>What you will get from usThrough being part of...</td>\n",
              "      <td>0</td>\n",
              "      <td>1</td>\n",
              "      <td>0</td>\n",
              "      <td>Full-time</td>\n",
              "      <td>Not Applicable</td>\n",
              "      <td></td>\n",
              "      <td>Marketing and Advertising</td>\n",
              "      <td>Customer Service</td>\n",
              "      <td>0</td>\n",
              "    </tr>\n",
              "    <tr>\n",
              "      <th>2</th>\n",
              "      <td>3</td>\n",
              "      <td>Commissioning Machinery Assistant (CMA)</td>\n",
              "      <td>US, IA, Wever</td>\n",
              "      <td></td>\n",
              "      <td></td>\n",
              "      <td>Valor Services provides Workforce Solutions th...</td>\n",
              "      <td>Our client, located in Houston, is actively se...</td>\n",
              "      <td>Implement pre-commissioning and commissioning ...</td>\n",
              "      <td></td>\n",
              "      <td>0</td>\n",
              "      <td>1</td>\n",
              "      <td>0</td>\n",
              "      <td></td>\n",
              "      <td></td>\n",
              "      <td></td>\n",
              "      <td></td>\n",
              "      <td></td>\n",
              "      <td>0</td>\n",
              "    </tr>\n",
              "    <tr>\n",
              "      <th>3</th>\n",
              "      <td>4</td>\n",
              "      <td>Account Executive - Washington DC</td>\n",
              "      <td>US, DC, Washington</td>\n",
              "      <td>Sales</td>\n",
              "      <td></td>\n",
              "      <td>Our passion for improving quality of life thro...</td>\n",
              "      <td>THE COMPANY: ESRI – Environmental Systems Rese...</td>\n",
              "      <td>EDUCATION: Bachelor’s or Master’s in GIS, busi...</td>\n",
              "      <td>Our culture is anything but corporate—we have ...</td>\n",
              "      <td>0</td>\n",
              "      <td>1</td>\n",
              "      <td>0</td>\n",
              "      <td>Full-time</td>\n",
              "      <td>Mid-Senior level</td>\n",
              "      <td>Bachelor's Degree</td>\n",
              "      <td>Computer Software</td>\n",
              "      <td>Sales</td>\n",
              "      <td>0</td>\n",
              "    </tr>\n",
              "    <tr>\n",
              "      <th>4</th>\n",
              "      <td>5</td>\n",
              "      <td>Bill Review Manager</td>\n",
              "      <td>US, FL, Fort Worth</td>\n",
              "      <td></td>\n",
              "      <td></td>\n",
              "      <td>SpotSource Solutions LLC is a Global Human Cap...</td>\n",
              "      <td>JOB TITLE: Itemization Review ManagerLOCATION:...</td>\n",
              "      <td>QUALIFICATIONS:RN license in the State of Texa...</td>\n",
              "      <td>Full Benefits Offered</td>\n",
              "      <td>0</td>\n",
              "      <td>1</td>\n",
              "      <td>1</td>\n",
              "      <td>Full-time</td>\n",
              "      <td>Mid-Senior level</td>\n",
              "      <td>Bachelor's Degree</td>\n",
              "      <td>Hospital &amp; Health Care</td>\n",
              "      <td>Health Care Provider</td>\n",
              "      <td>0</td>\n",
              "    </tr>\n",
              "  </tbody>\n",
              "</table>\n",
              "</div>\n",
              "    <div class=\"colab-df-buttons\">\n",
              "\n",
              "  <div class=\"colab-df-container\">\n",
              "    <button class=\"colab-df-convert\" onclick=\"convertToInteractive('df-0ff2bc64-8fcf-470b-8de4-957656527e36')\"\n",
              "            title=\"Convert this dataframe to an interactive table.\"\n",
              "            style=\"display:none;\">\n",
              "\n",
              "  <svg xmlns=\"http://www.w3.org/2000/svg\" height=\"24px\" viewBox=\"0 -960 960 960\">\n",
              "    <path d=\"M120-120v-720h720v720H120Zm60-500h600v-160H180v160Zm220 220h160v-160H400v160Zm0 220h160v-160H400v160ZM180-400h160v-160H180v160Zm440 0h160v-160H620v160ZM180-180h160v-160H180v160Zm440 0h160v-160H620v160Z\"/>\n",
              "  </svg>\n",
              "    </button>\n",
              "\n",
              "  <style>\n",
              "    .colab-df-container {\n",
              "      display:flex;\n",
              "      gap: 12px;\n",
              "    }\n",
              "\n",
              "    .colab-df-convert {\n",
              "      background-color: #E8F0FE;\n",
              "      border: none;\n",
              "      border-radius: 50%;\n",
              "      cursor: pointer;\n",
              "      display: none;\n",
              "      fill: #1967D2;\n",
              "      height: 32px;\n",
              "      padding: 0 0 0 0;\n",
              "      width: 32px;\n",
              "    }\n",
              "\n",
              "    .colab-df-convert:hover {\n",
              "      background-color: #E2EBFA;\n",
              "      box-shadow: 0px 1px 2px rgba(60, 64, 67, 0.3), 0px 1px 3px 1px rgba(60, 64, 67, 0.15);\n",
              "      fill: #174EA6;\n",
              "    }\n",
              "\n",
              "    .colab-df-buttons div {\n",
              "      margin-bottom: 4px;\n",
              "    }\n",
              "\n",
              "    [theme=dark] .colab-df-convert {\n",
              "      background-color: #3B4455;\n",
              "      fill: #D2E3FC;\n",
              "    }\n",
              "\n",
              "    [theme=dark] .colab-df-convert:hover {\n",
              "      background-color: #434B5C;\n",
              "      box-shadow: 0px 1px 3px 1px rgba(0, 0, 0, 0.15);\n",
              "      filter: drop-shadow(0px 1px 2px rgba(0, 0, 0, 0.3));\n",
              "      fill: #FFFFFF;\n",
              "    }\n",
              "  </style>\n",
              "\n",
              "    <script>\n",
              "      const buttonEl =\n",
              "        document.querySelector('#df-0ff2bc64-8fcf-470b-8de4-957656527e36 button.colab-df-convert');\n",
              "      buttonEl.style.display =\n",
              "        google.colab.kernel.accessAllowed ? 'block' : 'none';\n",
              "\n",
              "      async function convertToInteractive(key) {\n",
              "        const element = document.querySelector('#df-0ff2bc64-8fcf-470b-8de4-957656527e36');\n",
              "        const dataTable =\n",
              "          await google.colab.kernel.invokeFunction('convertToInteractive',\n",
              "                                                    [key], {});\n",
              "        if (!dataTable) return;\n",
              "\n",
              "        const docLinkHtml = 'Like what you see? Visit the ' +\n",
              "          '<a target=\"_blank\" href=https://colab.research.google.com/notebooks/data_table.ipynb>data table notebook</a>'\n",
              "          + ' to learn more about interactive tables.';\n",
              "        element.innerHTML = '';\n",
              "        dataTable['output_type'] = 'display_data';\n",
              "        await google.colab.output.renderOutput(dataTable, element);\n",
              "        const docLink = document.createElement('div');\n",
              "        docLink.innerHTML = docLinkHtml;\n",
              "        element.appendChild(docLink);\n",
              "      }\n",
              "    </script>\n",
              "  </div>\n",
              "\n",
              "\n",
              "<div id=\"df-fe92ea29-4cd9-41f3-aa48-5e06e96b3936\">\n",
              "  <button class=\"colab-df-quickchart\" onclick=\"quickchart('df-fe92ea29-4cd9-41f3-aa48-5e06e96b3936')\"\n",
              "            title=\"Suggest charts\"\n",
              "            style=\"display:none;\">\n",
              "\n",
              "<svg xmlns=\"http://www.w3.org/2000/svg\" height=\"24px\"viewBox=\"0 0 24 24\"\n",
              "     width=\"24px\">\n",
              "    <g>\n",
              "        <path d=\"M19 3H5c-1.1 0-2 .9-2 2v14c0 1.1.9 2 2 2h14c1.1 0 2-.9 2-2V5c0-1.1-.9-2-2-2zM9 17H7v-7h2v7zm4 0h-2V7h2v10zm4 0h-2v-4h2v4z\"/>\n",
              "    </g>\n",
              "</svg>\n",
              "  </button>\n",
              "\n",
              "<style>\n",
              "  .colab-df-quickchart {\n",
              "      --bg-color: #E8F0FE;\n",
              "      --fill-color: #1967D2;\n",
              "      --hover-bg-color: #E2EBFA;\n",
              "      --hover-fill-color: #174EA6;\n",
              "      --disabled-fill-color: #AAA;\n",
              "      --disabled-bg-color: #DDD;\n",
              "  }\n",
              "\n",
              "  [theme=dark] .colab-df-quickchart {\n",
              "      --bg-color: #3B4455;\n",
              "      --fill-color: #D2E3FC;\n",
              "      --hover-bg-color: #434B5C;\n",
              "      --hover-fill-color: #FFFFFF;\n",
              "      --disabled-bg-color: #3B4455;\n",
              "      --disabled-fill-color: #666;\n",
              "  }\n",
              "\n",
              "  .colab-df-quickchart {\n",
              "    background-color: var(--bg-color);\n",
              "    border: none;\n",
              "    border-radius: 50%;\n",
              "    cursor: pointer;\n",
              "    display: none;\n",
              "    fill: var(--fill-color);\n",
              "    height: 32px;\n",
              "    padding: 0;\n",
              "    width: 32px;\n",
              "  }\n",
              "\n",
              "  .colab-df-quickchart:hover {\n",
              "    background-color: var(--hover-bg-color);\n",
              "    box-shadow: 0 1px 2px rgba(60, 64, 67, 0.3), 0 1px 3px 1px rgba(60, 64, 67, 0.15);\n",
              "    fill: var(--button-hover-fill-color);\n",
              "  }\n",
              "\n",
              "  .colab-df-quickchart-complete:disabled,\n",
              "  .colab-df-quickchart-complete:disabled:hover {\n",
              "    background-color: var(--disabled-bg-color);\n",
              "    fill: var(--disabled-fill-color);\n",
              "    box-shadow: none;\n",
              "  }\n",
              "\n",
              "  .colab-df-spinner {\n",
              "    border: 2px solid var(--fill-color);\n",
              "    border-color: transparent;\n",
              "    border-bottom-color: var(--fill-color);\n",
              "    animation:\n",
              "      spin 1s steps(1) infinite;\n",
              "  }\n",
              "\n",
              "  @keyframes spin {\n",
              "    0% {\n",
              "      border-color: transparent;\n",
              "      border-bottom-color: var(--fill-color);\n",
              "      border-left-color: var(--fill-color);\n",
              "    }\n",
              "    20% {\n",
              "      border-color: transparent;\n",
              "      border-left-color: var(--fill-color);\n",
              "      border-top-color: var(--fill-color);\n",
              "    }\n",
              "    30% {\n",
              "      border-color: transparent;\n",
              "      border-left-color: var(--fill-color);\n",
              "      border-top-color: var(--fill-color);\n",
              "      border-right-color: var(--fill-color);\n",
              "    }\n",
              "    40% {\n",
              "      border-color: transparent;\n",
              "      border-right-color: var(--fill-color);\n",
              "      border-top-color: var(--fill-color);\n",
              "    }\n",
              "    60% {\n",
              "      border-color: transparent;\n",
              "      border-right-color: var(--fill-color);\n",
              "    }\n",
              "    80% {\n",
              "      border-color: transparent;\n",
              "      border-right-color: var(--fill-color);\n",
              "      border-bottom-color: var(--fill-color);\n",
              "    }\n",
              "    90% {\n",
              "      border-color: transparent;\n",
              "      border-bottom-color: var(--fill-color);\n",
              "    }\n",
              "  }\n",
              "</style>\n",
              "\n",
              "  <script>\n",
              "    async function quickchart(key) {\n",
              "      const quickchartButtonEl =\n",
              "        document.querySelector('#' + key + ' button');\n",
              "      quickchartButtonEl.disabled = true;  // To prevent multiple clicks.\n",
              "      quickchartButtonEl.classList.add('colab-df-spinner');\n",
              "      try {\n",
              "        const charts = await google.colab.kernel.invokeFunction(\n",
              "            'suggestCharts', [key], {});\n",
              "      } catch (error) {\n",
              "        console.error('Error during call to suggestCharts:', error);\n",
              "      }\n",
              "      quickchartButtonEl.classList.remove('colab-df-spinner');\n",
              "      quickchartButtonEl.classList.add('colab-df-quickchart-complete');\n",
              "    }\n",
              "    (() => {\n",
              "      let quickchartButtonEl =\n",
              "        document.querySelector('#df-fe92ea29-4cd9-41f3-aa48-5e06e96b3936 button');\n",
              "      quickchartButtonEl.style.display =\n",
              "        google.colab.kernel.accessAllowed ? 'block' : 'none';\n",
              "    })();\n",
              "  </script>\n",
              "</div>\n",
              "    </div>\n",
              "  </div>\n"
            ]
          },
          "metadata": {},
          "execution_count": 16
        }
      ],
      "source": [
        "job_data.head()"
      ]
    },
    {
      "cell_type": "code",
      "execution_count": 17,
      "metadata": {
        "colab": {
          "base_uri": "https://localhost:8080/"
        },
        "id": "UyZyp74UnjKo",
        "outputId": "c02ec20a-54d4-47f1-86de-4555c38a0b6f"
      },
      "outputs": [
        {
          "output_type": "execute_result",
          "data": {
            "text/plain": [
              "0            US, NY, New York\n",
              "1              NZ, , Auckland\n",
              "2               US, IA, Wever\n",
              "3          US, DC, Washington\n",
              "4          US, FL, Fort Worth\n",
              "                 ...         \n",
              "17875         CA, ON, Toronto\n",
              "17876    US, PA, Philadelphia\n",
              "17877         US, TX, Houston\n",
              "17878           NG, LA, Lagos\n",
              "17879       NZ, N, Wellington\n",
              "Name: location, Length: 17880, dtype: object"
            ]
          },
          "metadata": {},
          "execution_count": 17
        }
      ],
      "source": [
        "job_data['location']"
      ]
    },
    {
      "cell_type": "markdown",
      "source": [
        "\n",
        "* In the location column we see that it consist of country followed by state and then specific location in that state.\n",
        "* We will just extract the country"
      ],
      "metadata": {
        "id": "SRI3ON_w30li"
      }
    },
    {
      "cell_type": "code",
      "execution_count": 18,
      "metadata": {
        "colab": {
          "base_uri": "https://localhost:8080/"
        },
        "id": "3JYACpFQ88qX",
        "outputId": "817a6b46-ab9f-4c97-a54a-0b0d72c5630e"
      },
      "outputs": [
        {
          "output_type": "execute_result",
          "data": {
            "text/plain": [
              "0        US\n",
              "1        NZ\n",
              "2        US\n",
              "3        US\n",
              "4        US\n",
              "         ..\n",
              "17875    CA\n",
              "17876    US\n",
              "17877    US\n",
              "17878    NG\n",
              "17879    NZ\n",
              "Name: country, Length: 17880, dtype: object"
            ]
          },
          "metadata": {},
          "execution_count": 18
        }
      ],
      "source": [
        "# Spliting the location column to extract only the country\n",
        "job_data['country'] = job_data['location'].str.split(',').str[0]\n",
        "\n",
        "#printing the result\n",
        "job_data['country']"
      ]
    },
    {
      "cell_type": "code",
      "execution_count": 19,
      "metadata": {
        "colab": {
          "base_uri": "https://localhost:8080/",
          "height": 549
        },
        "id": "8Vs_cwVA88qY",
        "outputId": "c4eb8500-a4bb-40e6-c533-9fcc4b3a92e9"
      },
      "outputs": [
        {
          "output_type": "display_data",
          "data": {
            "text/plain": [
              "<Figure size 2000x1000 with 1 Axes>"
            ],
            "image/png": "[encoded data removed]"
          },
          "metadata": {}
        }
      ],
      "source": [
        "#counting number of jobs in each country\n",
        "count_job_per_country = job_data['country'].value_counts()[:10]\n",
        "\n",
        "#creating the bar chart\n",
        "plt.figure(figsize=(20, 10))\n",
        "count_job_per_country.plot(kind='bar', color='skyblue')\n",
        "plt.title('Number of Jobs in each Country')\n",
        "plt.xlabel('Country')\n",
        "plt.ylabel('Number of Jobs')\n",
        "plt.show()"
      ]
    },
    {
      "cell_type": "markdown",
      "source": [
        "~Here we can see US have the maximum number of Job posting"
      ],
      "metadata": {
        "id": "zWqXCCJB5W4X"
      }
    },
    {
      "cell_type": "code",
      "execution_count": 20,
      "metadata": {
        "id": "gbdqIyTpvsHG",
        "outputId": "cf43bdb4-13f3-4fe9-f3b7-f02317625f06",
        "colab": {
          "base_uri": "https://localhost:8080/",
          "height": 741
        }
      },
      "outputs": [
        {
          "output_type": "display_data",
          "data": {
            "text/plain": [
              "<Figure size 1200x600 with 1 Axes>"
            ],
            "image/png": "[encoded data removed]"
          },
          "metadata": {}
        }
      ],
      "source": [
        "## Visualizing the highest number of fraudulent jobs based on the industries\n",
        "ind_high = job_data[job_data['fraudulent'] == 1]['industry'].value_counts().nlargest(10)\n",
        "plt.figure(figsize=(12, 6))\n",
        "sns.barplot(x=ind_high.index, y=ind_high.values, palette='viridis')\n",
        "plt.title('Industries with most number of Fraudulent Job Postings')\n",
        "plt.xlabel('Industry')\n",
        "plt.ylabel('Number of Fraudulent Job Postings')\n",
        "plt.xticks(rotation=45, ha='right')\n",
        "plt.show()"
      ]
    },
    {
      "cell_type": "markdown",
      "source": [
        "~From the above visualization we can see\n",
        "* Oil and Energy Industry has maximum number of fradulent Job posting.\n",
        "* Real Estate have least number of fradulent Job posting."
      ],
      "metadata": {
        "id": "HXdC9Rcg49PN"
      }
    },
    {
      "cell_type": "code",
      "execution_count": 21,
      "metadata": {
        "id": "M20cA6N0vsHG",
        "outputId": "61803e90-ff0e-4cf5-de77-c09400931742",
        "colab": {
          "base_uri": "https://localhost:8080/",
          "height": 829
        }
      },
      "outputs": [
        {
          "output_type": "display_data",
          "data": {
            "text/plain": [
              "<Figure size 1000x1000 with 1 Axes>"
            ],
            "image/png": "[encoded data removed]"
          },
          "metadata": {}
        }
      ],
      "source": [
        "## Visualizing the number of fraudulent jobs based on the required experience in %\n",
        "req_exp_cnt_frd = job_data[job_data['fraudulent'] == 1]['required_experience'].value_counts()\n",
        "custom_colors = ['#7FB3D5', '#C1DAD6', '#FAD02E', '#FFB347', '#BCE55C', '#95A3B3', '#C4C4C4']\n",
        "plt.figure(figsize=(10, 10))\n",
        "plt.pie(req_exp_cnt_frd, labels=req_exp_cnt_frd.index, autopct='%1.1f%%', startangle=140, colors=custom_colors)\n",
        "plt.title('Distribution of fraudulent % in Required Experience')\n",
        "plt.show()"
      ]
    },
    {
      "cell_type": "markdown",
      "metadata": {
        "id": "a4K50HmE88qg"
      },
      "source": [
        "## Step -3 and 4 Applying Various Modules on our Dataset and Testing the model through Model Evaluation\n",
        "\n",
        "#####MODEL- 1 LOGISTIC REGRESSION"
      ]
    },
    {
      "cell_type": "code",
      "execution_count": 22,
      "metadata": {
        "id": "Lw9ZKytVZK2J"
      },
      "outputs": [],
      "source": [
        "#Importing various libraries\n",
        "from sklearn.model_selection import train_test_split\n",
        "from sklearn.linear_model import LogisticRegression\n",
        "from sklearn.metrics import classification_report, confusion_matrix\n",
        "from sklearn.feature_extraction.text import TfidfVectorizer\n",
        "from sklearn.model_selection import train_test_split\n",
        "from sklearn.metrics import accuracy_score\n",
        "from sklearn.metrics import confusion_matrix\n",
        "from sklearn.metrics import classification_report\n",
        "from sklearn.metrics import roc_auc_score\n"
      ]
    },
    {
      "cell_type": "code",
      "execution_count": 23,
      "metadata": {
        "id": "GRcszBrjNUCT"
      },
      "outputs": [],
      "source": [
        "#dropping the columns and creating new dataset\n",
        "job_data_new = job_data.drop(['job_id','requirements','benefits','description','location','country'], axis=1)"
      ]
    },
    {
      "cell_type": "code",
      "execution_count": 24,
      "metadata": {
        "id": "37QoliwFNVuZ"
      },
      "outputs": [],
      "source": [
        "#converting the  nan column in salary_range with average values\n",
        "#job_data_new['salary_range'] = job_data_new['salary_range'].apply(lambda x: np.nan if pd.isna(x) else (sum(map(int, x.split('-'))) / 2))\n",
        "def process_salary_range(x):\n",
        "    try:\n",
        "        if pd.isna(x) or ' ' in x:\n",
        "            return np.nan\n",
        "        return sum(map(int, x.split('-'))) / 2\n",
        "    except ValueError:\n",
        "        return np.nan\n",
        "\n",
        "job_data_new['salary_range'] = job_data_new['salary_range'].apply(process_salary_range)"
      ]
    },
    {
      "cell_type": "markdown",
      "metadata": {
        "id": "Rn_3EsEZzxOt"
      },
      "source": [
        "#### Performing Feature Engineering required for Logistic Regression approach"
      ]
    },
    {
      "cell_type": "code",
      "execution_count": 25,
      "metadata": {
        "id": "xHokkgyUzvHh"
      },
      "outputs": [],
      "source": [
        "#doing tfidf on company profile\n",
        "tfidf_vectorizer = TfidfVectorizer(max_features=5000)\n",
        "company_profile_tfidf = tfidf_vectorizer.fit_transform(job_data['company_profile'])\n",
        "company_profile_df = pd.DataFrame(company_profile_tfidf.toarray(), columns=tfidf_vectorizer.get_feature_names_out())"
      ]
    },
    {
      "cell_type": "code",
      "execution_count": 26,
      "metadata": {
        "id": "PO_82W2aNeXC"
      },
      "outputs": [],
      "source": [
        "#applying one hot encoding on the title and department columns\n",
        "features = pd.get_dummies(job_data_new, columns=['title','department'])\n"
      ]
    },
    {
      "cell_type": "code",
      "source": [
        "features.columns"
      ],
      "metadata": {
        "colab": {
          "base_uri": "https://localhost:8080/"
        },
        "id": "7ZXx390jZf8C",
        "outputId": "5b5ef40f-f3d6-4de7-fa0c-43e4e8c5563c"
      },
      "execution_count": 27,
      "outputs": [
        {
          "output_type": "execute_result",
          "data": {
            "text/plain": [
              "Index(['salary_range', 'company_profile', 'telecommuting', 'has_company_logo',\n",
              "       'has_questions', 'employment_type', 'required_experience',\n",
              "       'required_education', 'industry', 'function',\n",
              "       ...\n",
              "       'department_service', 'department_software', 'department_tech',\n",
              "       'department_utilities', 'department_videographer',\n",
              "       'department_warehouse', 'department_web development',\n",
              "       'department_Área Comercial', 'department_ΕΜΠΟΡΙΚΟ',\n",
              "       'department_ΠΛΗΡΟΦΟΡΙΚΗ'],\n",
              "      dtype='object', length=12579)"
            ]
          },
          "metadata": {},
          "execution_count": 27
        }
      ]
    },
    {
      "cell_type": "code",
      "execution_count": 28,
      "metadata": {
        "colab": {
          "base_uri": "https://localhost:8080/",
          "height": 548
        },
        "id": "-q0ghnOfNgVU",
        "outputId": "b3c770d2-5750-4852-d670-3c7348944aac"
      },
      "outputs": [
        {
          "output_type": "execute_result",
          "data": {
            "text/plain": [
              "       telecommuting  has_company_logo  has_questions  fraudulent  \\\n",
              "0                  0                 1              0           0   \n",
              "1                  0                 1              0           0   \n",
              "2                  0                 1              0           0   \n",
              "3                  0                 1              0           0   \n",
              "4                  0                 1              1           0   \n",
              "...              ...               ...            ...         ...   \n",
              "17875              0                 1              1           0   \n",
              "17876              0                 1              1           0   \n",
              "17877              0                 0              0           0   \n",
              "17878              0                 0              1           0   \n",
              "17879              0                 1              1           0   \n",
              "\n",
              "       title_   Electrician   title_   Environmental Technician I  \\\n",
              "0                          0                                    0   \n",
              "1                          0                                    0   \n",
              "2                          0                                    0   \n",
              "3                          0                                    0   \n",
              "4                          0                                    0   \n",
              "...                      ...                                  ...   \n",
              "17875                      0                                    0   \n",
              "17876                      0                                    0   \n",
              "17877                      0                                    0   \n",
              "17878                      0                                    0   \n",
              "17879                      0                                    0   \n",
              "\n",
              "       title_   Piping Material Engineer  \\\n",
              "0                                      0   \n",
              "1                                      0   \n",
              "2                                      0   \n",
              "3                                      0   \n",
              "4                                      0   \n",
              "...                                  ...   \n",
              "17875                                  0   \n",
              "17876                                  0   \n",
              "17877                                  0   \n",
              "17878                                  0   \n",
              "17879                                  0   \n",
              "\n",
              "       title_  Discipline Manager Civil, Structural, Marine, Architectural  \\\n",
              "0                                                      0                     \n",
              "1                                                      0                     \n",
              "2                                                      0                     \n",
              "3                                                      0                     \n",
              "4                                                      0                     \n",
              "...                                                  ...                     \n",
              "17875                                                  0                     \n",
              "17876                                                  0                     \n",
              "17877                                                  0                     \n",
              "17878                                                  0                     \n",
              "17879                                                  0                     \n",
              "\n",
              "       title_  FEA Senior engineer  \\\n",
              "0                                0   \n",
              "1                                0   \n",
              "2                                0   \n",
              "3                                0   \n",
              "4                                0   \n",
              "...                            ...   \n",
              "17875                            0   \n",
              "17876                            0   \n",
              "17877                            0   \n",
              "17878                            0   \n",
              "17879                            0   \n",
              "\n",
              "       title_  Manager of Project Management Organization - Engineering  ...  \\\n",
              "0                                                      0                 ...   \n",
              "1                                                      0                 ...   \n",
              "2                                                      0                 ...   \n",
              "3                                                      0                 ...   \n",
              "4                                                      0                 ...   \n",
              "...                                                  ...                 ...   \n",
              "17875                                                  0                 ...   \n",
              "17876                                                  0                 ...   \n",
              "17877                                                  0                 ...   \n",
              "17878                                                  0                 ...   \n",
              "17879                                                  0                 ...   \n",
              "\n",
              "       department_service  department_software  department_tech  \\\n",
              "0                       0                    0                0   \n",
              "1                       0                    0                0   \n",
              "2                       0                    0                0   \n",
              "3                       0                    0                0   \n",
              "4                       0                    0                0   \n",
              "...                   ...                  ...              ...   \n",
              "17875                   0                    0                0   \n",
              "17876                   0                    0                0   \n",
              "17877                   0                    0                0   \n",
              "17878                   0                    0                0   \n",
              "17879                   0                    0                0   \n",
              "\n",
              "       department_utilities  department_videographer  department_warehouse  \\\n",
              "0                         0                        0                     0   \n",
              "1                         0                        0                     0   \n",
              "2                         0                        0                     0   \n",
              "3                         0                        0                     0   \n",
              "4                         0                        0                     0   \n",
              "...                     ...                      ...                   ...   \n",
              "17875                     0                        0                     0   \n",
              "17876                     0                        0                     0   \n",
              "17877                     0                        0                     0   \n",
              "17878                     0                        0                     0   \n",
              "17879                     0                        0                     0   \n",
              "\n",
              "       department_web development  department_Área Comercial  \\\n",
              "0                               0                          0   \n",
              "1                               0                          0   \n",
              "2                               0                          0   \n",
              "3                               0                          0   \n",
              "4                               0                          0   \n",
              "...                           ...                        ...   \n",
              "17875                           0                          0   \n",
              "17876                           0                          0   \n",
              "17877                           0                          0   \n",
              "17878                           0                          0   \n",
              "17879                           0                          0   \n",
              "\n",
              "       department_ΕΜΠΟΡΙΚΟ  department_ΠΛΗΡΟΦΟΡΙΚΗ  \n",
              "0                        0                       0  \n",
              "1                        0                       0  \n",
              "2                        0                       0  \n",
              "3                        0                       0  \n",
              "4                        0                       0  \n",
              "...                    ...                     ...  \n",
              "17875                    0                       0  \n",
              "17876                    0                       0  \n",
              "17877                    0                       0  \n",
              "17878                    0                       0  \n",
              "17879                    0                       0  \n",
              "\n",
              "[17880 rows x 12572 columns]"
            ],
            "text/html": [
              "\n",
              "  <div id=\"df-52021ae4-4315-4cd6-b95e-504a16ca0b7a\" class=\"colab-df-container\">\n",
              "    <div>\n",
              "<style scoped>\n",
              "    .dataframe tbody tr th:only-of-type {\n",
              "        vertical-align: middle;\n",
              "    }\n",
              "\n",
              "    .dataframe tbody tr th {\n",
              "        vertical-align: top;\n",
              "    }\n",
              "\n",
              "    .dataframe thead th {\n",
              "        text-align: right;\n",
              "    }\n",
              "</style>\n",
              "<table border=\"1\" class=\"dataframe\">\n",
              "  <thead>\n",
              "    <tr style=\"text-align: right;\">\n",
              "      <th></th>\n",
              "      <th>telecommuting</th>\n",
              "      <th>has_company_logo</th>\n",
              "      <th>has_questions</th>\n",
              "      <th>fraudulent</th>\n",
              "      <th>title_   Electrician</th>\n",
              "      <th>title_   Environmental Technician I</th>\n",
              "      <th>title_   Piping Material Engineer</th>\n",
              "      <th>title_  Discipline Manager Civil, Structural, Marine, Architectural</th>\n",
              "      <th>title_  FEA Senior engineer</th>\n",
              "      <th>title_  Manager of Project Management Organization - Engineering</th>\n",
              "      <th>...</th>\n",
              "      <th>department_service</th>\n",
              "      <th>department_software</th>\n",
              "      <th>department_tech</th>\n",
              "      <th>department_utilities</th>\n",
              "      <th>department_videographer</th>\n",
              "      <th>department_warehouse</th>\n",
              "      <th>department_web development</th>\n",
              "      <th>department_Área Comercial</th>\n",
              "      <th>department_ΕΜΠΟΡΙΚΟ</th>\n",
              "      <th>department_ΠΛΗΡΟΦΟΡΙΚΗ</th>\n",
              "    </tr>\n",
              "  </thead>\n",
              "  <tbody>\n",
              "    <tr>\n",
              "      <th>0</th>\n",
              "      <td>0</td>\n",
              "      <td>1</td>\n",
              "      <td>0</td>\n",
              "      <td>0</td>\n",
              "      <td>0</td>\n",
              "      <td>0</td>\n",
              "      <td>0</td>\n",
              "      <td>0</td>\n",
              "      <td>0</td>\n",
              "      <td>0</td>\n",
              "      <td>...</td>\n",
              "      <td>0</td>\n",
              "      <td>0</td>\n",
              "      <td>0</td>\n",
              "      <td>0</td>\n",
              "      <td>0</td>\n",
              "      <td>0</td>\n",
              "      <td>0</td>\n",
              "      <td>0</td>\n",
              "      <td>0</td>\n",
              "      <td>0</td>\n",
              "    </tr>\n",
              "    <tr>\n",
              "      <th>1</th>\n",
              "      <td>0</td>\n",
              "      <td>1</td>\n",
              "      <td>0</td>\n",
              "      <td>0</td>\n",
              "      <td>0</td>\n",
              "      <td>0</td>\n",
              "      <td>0</td>\n",
              "      <td>0</td>\n",
              "      <td>0</td>\n",
              "      <td>0</td>\n",
              "      <td>...</td>\n",
              "      <td>0</td>\n",
              "      <td>0</td>\n",
              "      <td>0</td>\n",
              "      <td>0</td>\n",
              "      <td>0</td>\n",
              "      <td>0</td>\n",
              "      <td>0</td>\n",
              "      <td>0</td>\n",
              "      <td>0</td>\n",
              "      <td>0</td>\n",
              "    </tr>\n",
              "    <tr>\n",
              "      <th>2</th>\n",
              "      <td>0</td>\n",
              "      <td>1</td>\n",
              "      <td>0</td>\n",
              "      <td>0</td>\n",
              "      <td>0</td>\n",
              "      <td>0</td>\n",
              "      <td>0</td>\n",
              "      <td>0</td>\n",
              "      <td>0</td>\n",
              "      <td>0</td>\n",
              "      <td>...</td>\n",
              "      <td>0</td>\n",
              "      <td>0</td>\n",
              "      <td>0</td>\n",
              "      <td>0</td>\n",
              "      <td>0</td>\n",
              "      <td>0</td>\n",
              "      <td>0</td>\n",
              "      <td>0</td>\n",
              "      <td>0</td>\n",
              "      <td>0</td>\n",
              "    </tr>\n",
              "    <tr>\n",
              "      <th>3</th>\n",
              "      <td>0</td>\n",
              "      <td>1</td>\n",
              "      <td>0</td>\n",
              "      <td>0</td>\n",
              "      <td>0</td>\n",
              "      <td>0</td>\n",
              "      <td>0</td>\n",
              "      <td>0</td>\n",
              "      <td>0</td>\n",
              "      <td>0</td>\n",
              "      <td>...</td>\n",
              "      <td>0</td>\n",
              "      <td>0</td>\n",
              "      <td>0</td>\n",
              "      <td>0</td>\n",
              "      <td>0</td>\n",
              "      <td>0</td>\n",
              "      <td>0</td>\n",
              "      <td>0</td>\n",
              "      <td>0</td>\n",
              "      <td>0</td>\n",
              "    </tr>\n",
              "    <tr>\n",
              "      <th>4</th>\n",
              "      <td>0</td>\n",
              "      <td>1</td>\n",
              "      <td>1</td>\n",
              "      <td>0</td>\n",
              "      <td>0</td>\n",
              "      <td>0</td>\n",
              "      <td>0</td>\n",
              "      <td>0</td>\n",
              "      <td>0</td>\n",
              "      <td>0</td>\n",
              "      <td>...</td>\n",
              "      <td>0</td>\n",
              "      <td>0</td>\n",
              "      <td>0</td>\n",
              "      <td>0</td>\n",
              "      <td>0</td>\n",
              "      <td>0</td>\n",
              "      <td>0</td>\n",
              "      <td>0</td>\n",
              "      <td>0</td>\n",
              "      <td>0</td>\n",
              "    </tr>\n",
              "    <tr>\n",
              "      <th>...</th>\n",
              "      <td>...</td>\n",
              "      <td>...</td>\n",
              "      <td>...</td>\n",
              "      <td>...</td>\n",
              "      <td>...</td>\n",
              "      <td>...</td>\n",
              "      <td>...</td>\n",
              "      <td>...</td>\n",
              "      <td>...</td>\n",
              "      <td>...</td>\n",
              "      <td>...</td>\n",
              "      <td>...</td>\n",
              "      <td>...</td>\n",
              "      <td>...</td>\n",
              "      <td>...</td>\n",
              "      <td>...</td>\n",
              "      <td>...</td>\n",
              "      <td>...</td>\n",
              "      <td>...</td>\n",
              "      <td>...</td>\n",
              "      <td>...</td>\n",
              "    </tr>\n",
              "    <tr>\n",
              "      <th>17875</th>\n",
              "      <td>0</td>\n",
              "      <td>1</td>\n",
              "      <td>1</td>\n",
              "      <td>0</td>\n",
              "      <td>0</td>\n",
              "      <td>0</td>\n",
              "      <td>0</td>\n",
              "      <td>0</td>\n",
              "      <td>0</td>\n",
              "      <td>0</td>\n",
              "      <td>...</td>\n",
              "      <td>0</td>\n",
              "      <td>0</td>\n",
              "      <td>0</td>\n",
              "      <td>0</td>\n",
              "      <td>0</td>\n",
              "      <td>0</td>\n",
              "      <td>0</td>\n",
              "      <td>0</td>\n",
              "      <td>0</td>\n",
              "      <td>0</td>\n",
              "    </tr>\n",
              "    <tr>\n",
              "      <th>17876</th>\n",
              "      <td>0</td>\n",
              "      <td>1</td>\n",
              "      <td>1</td>\n",
              "      <td>0</td>\n",
              "      <td>0</td>\n",
              "      <td>0</td>\n",
              "      <td>0</td>\n",
              "      <td>0</td>\n",
              "      <td>0</td>\n",
              "      <td>0</td>\n",
              "      <td>...</td>\n",
              "      <td>0</td>\n",
              "      <td>0</td>\n",
              "      <td>0</td>\n",
              "      <td>0</td>\n",
              "      <td>0</td>\n",
              "      <td>0</td>\n",
              "      <td>0</td>\n",
              "      <td>0</td>\n",
              "      <td>0</td>\n",
              "      <td>0</td>\n",
              "    </tr>\n",
              "    <tr>\n",
              "      <th>17877</th>\n",
              "      <td>0</td>\n",
              "      <td>0</td>\n",
              "      <td>0</td>\n",
              "      <td>0</td>\n",
              "      <td>0</td>\n",
              "      <td>0</td>\n",
              "      <td>0</td>\n",
              "      <td>0</td>\n",
              "      <td>0</td>\n",
              "      <td>0</td>\n",
              "      <td>...</td>\n",
              "      <td>0</td>\n",
              "      <td>0</td>\n",
              "      <td>0</td>\n",
              "      <td>0</td>\n",
              "      <td>0</td>\n",
              "      <td>0</td>\n",
              "      <td>0</td>\n",
              "      <td>0</td>\n",
              "      <td>0</td>\n",
              "      <td>0</td>\n",
              "    </tr>\n",
              "    <tr>\n",
              "      <th>17878</th>\n",
              "      <td>0</td>\n",
              "      <td>0</td>\n",
              "      <td>1</td>\n",
              "      <td>0</td>\n",
              "      <td>0</td>\n",
              "      <td>0</td>\n",
              "      <td>0</td>\n",
              "      <td>0</td>\n",
              "      <td>0</td>\n",
              "      <td>0</td>\n",
              "      <td>...</td>\n",
              "      <td>0</td>\n",
              "      <td>0</td>\n",
              "      <td>0</td>\n",
              "      <td>0</td>\n",
              "      <td>0</td>\n",
              "      <td>0</td>\n",
              "      <td>0</td>\n",
              "      <td>0</td>\n",
              "      <td>0</td>\n",
              "      <td>0</td>\n",
              "    </tr>\n",
              "    <tr>\n",
              "      <th>17879</th>\n",
              "      <td>0</td>\n",
              "      <td>1</td>\n",
              "      <td>1</td>\n",
              "      <td>0</td>\n",
              "      <td>0</td>\n",
              "      <td>0</td>\n",
              "      <td>0</td>\n",
              "      <td>0</td>\n",
              "      <td>0</td>\n",
              "      <td>0</td>\n",
              "      <td>...</td>\n",
              "      <td>0</td>\n",
              "      <td>0</td>\n",
              "      <td>0</td>\n",
              "      <td>0</td>\n",
              "      <td>0</td>\n",
              "      <td>0</td>\n",
              "      <td>0</td>\n",
              "      <td>0</td>\n",
              "      <td>0</td>\n",
              "      <td>0</td>\n",
              "    </tr>\n",
              "  </tbody>\n",
              "</table>\n",
              "<p>17880 rows × 12572 columns</p>\n",
              "</div>\n",
              "    <div class=\"colab-df-buttons\">\n",
              "\n",
              "  <div class=\"colab-df-container\">\n",
              "    <button class=\"colab-df-convert\" onclick=\"convertToInteractive('df-52021ae4-4315-4cd6-b95e-504a16ca0b7a')\"\n",
              "            title=\"Convert this dataframe to an interactive table.\"\n",
              "            style=\"display:none;\">\n",
              "\n",
              "  <svg xmlns=\"http://www.w3.org/2000/svg\" height=\"24px\" viewBox=\"0 -960 960 960\">\n",
              "    <path d=\"M120-120v-720h720v720H120Zm60-500h600v-160H180v160Zm220 220h160v-160H400v160Zm0 220h160v-160H400v160ZM180-400h160v-160H180v160Zm440 0h160v-160H620v160ZM180-180h160v-160H180v160Zm440 0h160v-160H620v160Z\"/>\n",
              "  </svg>\n",
              "    </button>\n",
              "\n",
              "  <style>\n",
              "    .colab-df-container {\n",
              "      display:flex;\n",
              "      gap: 12px;\n",
              "    }\n",
              "\n",
              "    .colab-df-convert {\n",
              "      background-color: #E8F0FE;\n",
              "      border: none;\n",
              "      border-radius: 50%;\n",
              "      cursor: pointer;\n",
              "      display: none;\n",
              "      fill: #1967D2;\n",
              "      height: 32px;\n",
              "      padding: 0 0 0 0;\n",
              "      width: 32px;\n",
              "    }\n",
              "\n",
              "    .colab-df-convert:hover {\n",
              "      background-color: #E2EBFA;\n",
              "      box-shadow: 0px 1px 2px rgba(60, 64, 67, 0.3), 0px 1px 3px 1px rgba(60, 64, 67, 0.15);\n",
              "      fill: #174EA6;\n",
              "    }\n",
              "\n",
              "    .colab-df-buttons div {\n",
              "      margin-bottom: 4px;\n",
              "    }\n",
              "\n",
              "    [theme=dark] .colab-df-convert {\n",
              "      background-color: #3B4455;\n",
              "      fill: #D2E3FC;\n",
              "    }\n",
              "\n",
              "    [theme=dark] .colab-df-convert:hover {\n",
              "      background-color: #434B5C;\n",
              "      box-shadow: 0px 1px 3px 1px rgba(0, 0, 0, 0.15);\n",
              "      filter: drop-shadow(0px 1px 2px rgba(0, 0, 0, 0.3));\n",
              "      fill: #FFFFFF;\n",
              "    }\n",
              "  </style>\n",
              "\n",
              "    <script>\n",
              "      const buttonEl =\n",
              "        document.querySelector('#df-52021ae4-4315-4cd6-b95e-504a16ca0b7a button.colab-df-convert');\n",
              "      buttonEl.style.display =\n",
              "        google.colab.kernel.accessAllowed ? 'block' : 'none';\n",
              "\n",
              "      async function convertToInteractive(key) {\n",
              "        const element = document.querySelector('#df-52021ae4-4315-4cd6-b95e-504a16ca0b7a');\n",
              "        const dataTable =\n",
              "          await google.colab.kernel.invokeFunction('convertToInteractive',\n",
              "                                                    [key], {});\n",
              "        if (!dataTable) return;\n",
              "\n",
              "        const docLinkHtml = 'Like what you see? Visit the ' +\n",
              "          '<a target=\"_blank\" href=https://colab.research.google.com/notebooks/data_table.ipynb>data table notebook</a>'\n",
              "          + ' to learn more about interactive tables.';\n",
              "        element.innerHTML = '';\n",
              "        dataTable['output_type'] = 'display_data';\n",
              "        await google.colab.output.renderOutput(dataTable, element);\n",
              "        const docLink = document.createElement('div');\n",
              "        docLink.innerHTML = docLinkHtml;\n",
              "        element.appendChild(docLink);\n",
              "      }\n",
              "    </script>\n",
              "  </div>\n",
              "\n",
              "\n",
              "<div id=\"df-ffbd686d-2e1c-4ec4-932a-a3dc63d626e6\">\n",
              "  <button class=\"colab-df-quickchart\" onclick=\"quickchart('df-ffbd686d-2e1c-4ec4-932a-a3dc63d626e6')\"\n",
              "            title=\"Suggest charts\"\n",
              "            style=\"display:none;\">\n",
              "\n",
              "<svg xmlns=\"http://www.w3.org/2000/svg\" height=\"24px\"viewBox=\"0 0 24 24\"\n",
              "     width=\"24px\">\n",
              "    <g>\n",
              "        <path d=\"M19 3H5c-1.1 0-2 .9-2 2v14c0 1.1.9 2 2 2h14c1.1 0 2-.9 2-2V5c0-1.1-.9-2-2-2zM9 17H7v-7h2v7zm4 0h-2V7h2v10zm4 0h-2v-4h2v4z\"/>\n",
              "    </g>\n",
              "</svg>\n",
              "  </button>\n",
              "\n",
              "<style>\n",
              "  .colab-df-quickchart {\n",
              "      --bg-color: #E8F0FE;\n",
              "      --fill-color: #1967D2;\n",
              "      --hover-bg-color: #E2EBFA;\n",
              "      --hover-fill-color: #174EA6;\n",
              "      --disabled-fill-color: #AAA;\n",
              "      --disabled-bg-color: #DDD;\n",
              "  }\n",
              "\n",
              "  [theme=dark] .colab-df-quickchart {\n",
              "      --bg-color: #3B4455;\n",
              "      --fill-color: #D2E3FC;\n",
              "      --hover-bg-color: #434B5C;\n",
              "      --hover-fill-color: #FFFFFF;\n",
              "      --disabled-bg-color: #3B4455;\n",
              "      --disabled-fill-color: #666;\n",
              "  }\n",
              "\n",
              "  .colab-df-quickchart {\n",
              "    background-color: var(--bg-color);\n",
              "    border: none;\n",
              "    border-radius: 50%;\n",
              "    cursor: pointer;\n",
              "    display: none;\n",
              "    fill: var(--fill-color);\n",
              "    height: 32px;\n",
              "    padding: 0;\n",
              "    width: 32px;\n",
              "  }\n",
              "\n",
              "  .colab-df-quickchart:hover {\n",
              "    background-color: var(--hover-bg-color);\n",
              "    box-shadow: 0 1px 2px rgba(60, 64, 67, 0.3), 0 1px 3px 1px rgba(60, 64, 67, 0.15);\n",
              "    fill: var(--button-hover-fill-color);\n",
              "  }\n",
              "\n",
              "  .colab-df-quickchart-complete:disabled,\n",
              "  .colab-df-quickchart-complete:disabled:hover {\n",
              "    background-color: var(--disabled-bg-color);\n",
              "    fill: var(--disabled-fill-color);\n",
              "    box-shadow: none;\n",
              "  }\n",
              "\n",
              "  .colab-df-spinner {\n",
              "    border: 2px solid var(--fill-color);\n",
              "    border-color: transparent;\n",
              "    border-bottom-color: var(--fill-color);\n",
              "    animation:\n",
              "      spin 1s steps(1) infinite;\n",
              "  }\n",
              "\n",
              "  @keyframes spin {\n",
              "    0% {\n",
              "      border-color: transparent;\n",
              "      border-bottom-color: var(--fill-color);\n",
              "      border-left-color: var(--fill-color);\n",
              "    }\n",
              "    20% {\n",
              "      border-color: transparent;\n",
              "      border-left-color: var(--fill-color);\n",
              "      border-top-color: var(--fill-color);\n",
              "    }\n",
              "    30% {\n",
              "      border-color: transparent;\n",
              "      border-left-color: var(--fill-color);\n",
              "      border-top-color: var(--fill-color);\n",
              "      border-right-color: var(--fill-color);\n",
              "    }\n",
              "    40% {\n",
              "      border-color: transparent;\n",
              "      border-right-color: var(--fill-color);\n",
              "      border-top-color: var(--fill-color);\n",
              "    }\n",
              "    60% {\n",
              "      border-color: transparent;\n",
              "      border-right-color: var(--fill-color);\n",
              "    }\n",
              "    80% {\n",
              "      border-color: transparent;\n",
              "      border-right-color: var(--fill-color);\n",
              "      border-bottom-color: var(--fill-color);\n",
              "    }\n",
              "    90% {\n",
              "      border-color: transparent;\n",
              "      border-bottom-color: var(--fill-color);\n",
              "    }\n",
              "  }\n",
              "</style>\n",
              "\n",
              "  <script>\n",
              "    async function quickchart(key) {\n",
              "      const quickchartButtonEl =\n",
              "        document.querySelector('#' + key + ' button');\n",
              "      quickchartButtonEl.disabled = true;  // To prevent multiple clicks.\n",
              "      quickchartButtonEl.classList.add('colab-df-spinner');\n",
              "      try {\n",
              "        const charts = await google.colab.kernel.invokeFunction(\n",
              "            'suggestCharts', [key], {});\n",
              "      } catch (error) {\n",
              "        console.error('Error during call to suggestCharts:', error);\n",
              "      }\n",
              "      quickchartButtonEl.classList.remove('colab-df-spinner');\n",
              "      quickchartButtonEl.classList.add('colab-df-quickchart-complete');\n",
              "    }\n",
              "    (() => {\n",
              "      let quickchartButtonEl =\n",
              "        document.querySelector('#df-ffbd686d-2e1c-4ec4-932a-a3dc63d626e6 button');\n",
              "      quickchartButtonEl.style.display =\n",
              "        google.colab.kernel.accessAllowed ? 'block' : 'none';\n",
              "    })();\n",
              "  </script>\n",
              "</div>\n",
              "    </div>\n",
              "  </div>\n"
            ]
          },
          "metadata": {},
          "execution_count": 28
        }
      ],
      "source": [
        "# after dropping the columns from the dataset\n",
        "new_features = features.drop(['salary_range','company_profile', 'employment_type', 'required_experience', 'required_education', 'industry', 'function'], axis=1)\n",
        "new_features"
      ]
    },
    {
      "cell_type": "code",
      "execution_count": 29,
      "metadata": {
        "id": "y7crY53BNiBZ"
      },
      "outputs": [],
      "source": [
        "# Concatenate the TF-IDF features and one-hot encoded features\n",
        "final_features = pd.concat([new_features, company_profile_df], axis=1)"
      ]
    },
    {
      "cell_type": "code",
      "execution_count": 30,
      "metadata": {
        "colab": {
          "base_uri": "https://localhost:8080/",
          "height": 75
        },
        "id": "ZuTdIKSFNjZJ",
        "outputId": "593af6de-d269-425f-871c-23e34d2d4652"
      },
      "outputs": [
        {
          "output_type": "execute_result",
          "data": {
            "text/plain": [
              "LogisticRegression()"
            ],
            "text/html": [
              "<style>#sk-container-id-1 {color: black;background-color: white;}#sk-container-id-1 pre{padding: 0;}#sk-container-id-1 div.sk-toggleable {background-color: white;}#sk-container-id-1 label.sk-toggleable__label {cursor: pointer;display: block;width: 100%;margin-bottom: 0;padding: 0.3em;box-sizing: border-box;text-align: center;}#sk-container-id-1 label.sk-toggleable__label-arrow:before {content: \"▸\";float: left;margin-right: 0.25em;color: #696969;}#sk-container-id-1 label.sk-toggleable__label-arrow:hover:before {color: black;}#sk-container-id-1 div.sk-estimator:hover label.sk-toggleable__label-arrow:before {color: black;}#sk-container-id-1 div.sk-toggleable__content {max-height: 0;max-width: 0;overflow: hidden;text-align: left;background-color: #f0f8ff;}#sk-container-id-1 div.sk-toggleable__content pre {margin: 0.2em;color: black;border-radius: 0.25em;background-color: #f0f8ff;}#sk-container-id-1 input.sk-toggleable__control:checked~div.sk-toggleable__content {max-height: 200px;max-width: 100%;overflow: auto;}#sk-container-id-1 input.sk-toggleable__control:checked~label.sk-toggleable__label-arrow:before {content: \"▾\";}#sk-container-id-1 div.sk-estimator input.sk-toggleable__control:checked~label.sk-toggleable__label {background-color: #d4ebff;}#sk-container-id-1 div.sk-label input.sk-toggleable__control:checked~label.sk-toggleable__label {background-color: #d4ebff;}#sk-container-id-1 input.sk-hidden--visually {border: 0;clip: rect(1px 1px 1px 1px);clip: rect(1px, 1px, 1px, 1px);height: 1px;margin: -1px;overflow: hidden;padding: 0;position: absolute;width: 1px;}#sk-container-id-1 div.sk-estimator {font-family: monospace;background-color: #f0f8ff;border: 1px dotted black;border-radius: 0.25em;box-sizing: border-box;margin-bottom: 0.5em;}#sk-container-id-1 div.sk-estimator:hover {background-color: #d4ebff;}#sk-container-id-1 div.sk-parallel-item::after {content: \"\";width: 100%;border-bottom: 1px solid gray;flex-grow: 1;}#sk-container-id-1 div.sk-label:hover label.sk-toggleable__label {background-color: #d4ebff;}#sk-container-id-1 div.sk-serial::before {content: \"\";position: absolute;border-left: 1px solid gray;box-sizing: border-box;top: 0;bottom: 0;left: 50%;z-index: 0;}#sk-container-id-1 div.sk-serial {display: flex;flex-direction: column;align-items: center;background-color: white;padding-right: 0.2em;padding-left: 0.2em;position: relative;}#sk-container-id-1 div.sk-item {position: relative;z-index: 1;}#sk-container-id-1 div.sk-parallel {display: flex;align-items: stretch;justify-content: center;background-color: white;position: relative;}#sk-container-id-1 div.sk-item::before, #sk-container-id-1 div.sk-parallel-item::before {content: \"\";position: absolute;border-left: 1px solid gray;box-sizing: border-box;top: 0;bottom: 0;left: 50%;z-index: -1;}#sk-container-id-1 div.sk-parallel-item {display: flex;flex-direction: column;z-index: 1;position: relative;background-color: white;}#sk-container-id-1 div.sk-parallel-item:first-child::after {align-self: flex-end;width: 50%;}#sk-container-id-1 div.sk-parallel-item:last-child::after {align-self: flex-start;width: 50%;}#sk-container-id-1 div.sk-parallel-item:only-child::after {width: 0;}#sk-container-id-1 div.sk-dashed-wrapped {border: 1px dashed gray;margin: 0 0.4em 0.5em 0.4em;box-sizing: border-box;padding-bottom: 0.4em;background-color: white;}#sk-container-id-1 div.sk-label label {font-family: monospace;font-weight: bold;display: inline-block;line-height: 1.2em;}#sk-container-id-1 div.sk-label-container {text-align: center;}#sk-container-id-1 div.sk-container {/* jupyter's `normalize.less` sets `[hidden] { display: none; }` but bootstrap.min.css set `[hidden] { display: none !important; }` so we also need the `!important` here to be able to override the default hidden behavior on the sphinx rendered scikit-learn.org. See: https://github.com/scikit-learn/scikit-learn/issues/21755 */display: inline-block !important;position: relative;}#sk-container-id-1 div.sk-text-repr-fallback {display: none;}</style><div id=\"sk-container-id-1\" class=\"sk-top-container\"><div class=\"sk-text-repr-fallback\"><pre>LogisticRegression()</pre><b>In a Jupyter environment, please rerun this cell to show the HTML representation or trust the notebook. <br />On GitHub, the HTML representation is unable to render, please try loading this page with nbviewer.org.</b></div><div class=\"sk-container\" hidden><div class=\"sk-item\"><div class=\"sk-estimator sk-toggleable\"><input class=\"sk-toggleable__control sk-hidden--visually\" id=\"sk-estimator-id-1\" type=\"checkbox\" checked><label for=\"sk-estimator-id-1\" class=\"sk-toggleable__label sk-toggleable__label-arrow\">LogisticRegression</label><div class=\"sk-toggleable__content\"><pre>LogisticRegression()</pre></div></div></div></div></div>"
            ]
          },
          "metadata": {},
          "execution_count": 30
        }
      ],
      "source": [
        "# Split the data into features and target label\n",
        "features = final_features.drop('fraudulent', axis=1)\n",
        "target = final_features['fraudulent']\n",
        "\n",
        "X_train_LR, X_test_LR, y_train_LR, y_test_LR = train_test_split(features, target, test_size=0.2, random_state=42)\n",
        "\n",
        "model_LR = LogisticRegression()\n",
        "model_LR.fit(X_train_LR, y_train_LR)"
      ]
    },
    {
      "cell_type": "code",
      "execution_count": 31,
      "metadata": {
        "colab": {
          "base_uri": "https://localhost:8080/"
        },
        "id": "NeELSKneNli7",
        "outputId": "a85ed2b1-8d20-40bb-8e07-ebb9207c1552"
      },
      "outputs": [
        {
          "output_type": "stream",
          "name": "stdout",
          "text": [
            "Accuracy: 0.9681208053691275\n"
          ]
        }
      ],
      "source": [
        "y_pred_LR = model_LR.predict(X_test_LR)\n",
        "accuracy = accuracy_score(y_test_LR, y_pred_LR)\n",
        "print(f\"Accuracy: {accuracy}\")"
      ]
    },
    {
      "cell_type": "code",
      "execution_count": 32,
      "metadata": {
        "colab": {
          "base_uri": "https://localhost:8080/"
        },
        "id": "50F5CFvwNnM6",
        "outputId": "431398c2-d67c-4924-d9c6-a2b56a7e0838"
      },
      "outputs": [
        {
          "output_type": "stream",
          "name": "stdout",
          "text": [
            "Confusion Matrix:\n",
            "[[3394    1]\n",
            " [ 113   68]]\n"
          ]
        }
      ],
      "source": [
        "conf_matrix = confusion_matrix(y_test_LR, y_pred_LR)\n",
        "print(\"Confusion Matrix:\")\n",
        "print(conf_matrix)"
      ]
    },
    {
      "cell_type": "code",
      "execution_count": 33,
      "metadata": {
        "colab": {
          "base_uri": "https://localhost:8080/"
        },
        "id": "0Y2oXm2sNpCm",
        "outputId": "e085c1a1-0234-453c-ac7f-ab29b71c6400"
      },
      "outputs": [
        {
          "output_type": "stream",
          "name": "stdout",
          "text": [
            "Classification Report:\n",
            "              precision    recall  f1-score   support\n",
            "\n",
            "           0       0.97      1.00      0.98      3395\n",
            "           1       0.99      0.38      0.54       181\n",
            "\n",
            "    accuracy                           0.97      3576\n",
            "   macro avg       0.98      0.69      0.76      3576\n",
            "weighted avg       0.97      0.97      0.96      3576\n",
            "\n"
          ]
        }
      ],
      "source": [
        "class_report = classification_report(y_test_LR, y_pred_LR)\n",
        "print(\"Classification Report:\")\n",
        "print(class_report)"
      ]
    },
    {
      "cell_type": "code",
      "execution_count": 34,
      "metadata": {
        "colab": {
          "base_uri": "https://localhost:8080/"
        },
        "id": "qm94Pnf-NqxT",
        "outputId": "5abbd57f-21ba-4047-811b-eb832385c34a"
      },
      "outputs": [
        {
          "output_type": "stream",
          "name": "stdout",
          "text": [
            "ROC AUC Score: 0.9773521346796964\n"
          ]
        }
      ],
      "source": [
        "roc_auc = roc_auc_score(y_test_LR, model_LR.predict_proba(X_test_LR)[:, 1])\n",
        "print(f\"ROC AUC Score: {roc_auc}\")\n"
      ]
    },
    {
      "cell_type": "markdown",
      "metadata": {
        "id": "X5ViR8JKZu0e"
      },
      "source": [
        "#### MODEL - 2 KNN\n"
      ]
    },
    {
      "cell_type": "code",
      "execution_count": 35,
      "metadata": {
        "id": "ggFlf4fG88qg"
      },
      "outputs": [],
      "source": [
        "#importing the required modules\n",
        "from sklearn.model_selection import train_test_split\n",
        "from sklearn.ensemble import RandomForestClassifier\n",
        "from sklearn.neighbors import KNeighborsClassifier\n",
        "from sklearn.metrics import accuracy_score, classification_report, confusion_matrix\n",
        "from sklearn.preprocessing import LabelEncoder\n",
        "from sklearn.model_selection import cross_val_score\n",
        "from sklearn.metrics import roc_auc_score"
      ]
    },
    {
      "cell_type": "code",
      "execution_count": 36,
      "metadata": {
        "id": "bM1cU_Oj88qg"
      },
      "outputs": [],
      "source": [
        "#creating the features variable and target variables\n",
        "feature_vars = job_data.drop(['fraudulent'], axis=1)\n",
        "target_vars = job_data['fraudulent']"
      ]
    },
    {
      "cell_type": "code",
      "execution_count": 37,
      "metadata": {
        "id": "FE65xC_K88qh"
      },
      "outputs": [],
      "source": [
        "#creating the label encoder for the features variable\n",
        "le = LabelEncoder()\n",
        "for col in ['location', 'department', 'company_profile', 'description', 'requirements', 'benefits', 'industry', 'function']:\n",
        "    feature_vars[col] = le.fit_transform(feature_vars[col])"
      ]
    },
    {
      "cell_type": "code",
      "execution_count": 38,
      "metadata": {
        "id": "xmMR5liR88qh"
      },
      "outputs": [],
      "source": [
        "#creating the dummy variable for the target variable\n",
        "job_data_dummy = pd.get_dummies(feature_vars)"
      ]
    },
    {
      "cell_type": "code",
      "execution_count": 39,
      "metadata": {
        "id": "CPMjgKci88qh"
      },
      "outputs": [],
      "source": [
        "#creating the training and testing dataset\n",
        "X_train, X_test, y_train, y_test = train_test_split(job_data_dummy, target_vars, test_size=0.2, random_state=42)"
      ]
    },
    {
      "cell_type": "code",
      "execution_count": 40,
      "metadata": {
        "colab": {
          "base_uri": "https://localhost:8080/",
          "height": 75
        },
        "id": "nvqbiTlSTS-9",
        "outputId": "abe5e3d9-5f09-44e9-c568-f2f61e56a1c0"
      },
      "outputs": [
        {
          "output_type": "execute_result",
          "data": {
            "text/plain": [
              "KNeighborsClassifier()"
            ],
            "text/html": [
              "<style>#sk-container-id-2 {color: black;background-color: white;}#sk-container-id-2 pre{padding: 0;}#sk-container-id-2 div.sk-toggleable {background-color: white;}#sk-container-id-2 label.sk-toggleable__label {cursor: pointer;display: block;width: 100%;margin-bottom: 0;padding: 0.3em;box-sizing: border-box;text-align: center;}#sk-container-id-2 label.sk-toggleable__label-arrow:before {content: \"▸\";float: left;margin-right: 0.25em;color: #696969;}#sk-container-id-2 label.sk-toggleable__label-arrow:hover:before {color: black;}#sk-container-id-2 div.sk-estimator:hover label.sk-toggleable__label-arrow:before {color: black;}#sk-container-id-2 div.sk-toggleable__content {max-height: 0;max-width: 0;overflow: hidden;text-align: left;background-color: #f0f8ff;}#sk-container-id-2 div.sk-toggleable__content pre {margin: 0.2em;color: black;border-radius: 0.25em;background-color: #f0f8ff;}#sk-container-id-2 input.sk-toggleable__control:checked~div.sk-toggleable__content {max-height: 200px;max-width: 100%;overflow: auto;}#sk-container-id-2 input.sk-toggleable__control:checked~label.sk-toggleable__label-arrow:before {content: \"▾\";}#sk-container-id-2 div.sk-estimator input.sk-toggleable__control:checked~label.sk-toggleable__label {background-color: #d4ebff;}#sk-container-id-2 div.sk-label input.sk-toggleable__control:checked~label.sk-toggleable__label {background-color: #d4ebff;}#sk-container-id-2 input.sk-hidden--visually {border: 0;clip: rect(1px 1px 1px 1px);clip: rect(1px, 1px, 1px, 1px);height: 1px;margin: -1px;overflow: hidden;padding: 0;position: absolute;width: 1px;}#sk-container-id-2 div.sk-estimator {font-family: monospace;background-color: #f0f8ff;border: 1px dotted black;border-radius: 0.25em;box-sizing: border-box;margin-bottom: 0.5em;}#sk-container-id-2 div.sk-estimator:hover {background-color: #d4ebff;}#sk-container-id-2 div.sk-parallel-item::after {content: \"\";width: 100%;border-bottom: 1px solid gray;flex-grow: 1;}#sk-container-id-2 div.sk-label:hover label.sk-toggleable__label {background-color: #d4ebff;}#sk-container-id-2 div.sk-serial::before {content: \"\";position: absolute;border-left: 1px solid gray;box-sizing: border-box;top: 0;bottom: 0;left: 50%;z-index: 0;}#sk-container-id-2 div.sk-serial {display: flex;flex-direction: column;align-items: center;background-color: white;padding-right: 0.2em;padding-left: 0.2em;position: relative;}#sk-container-id-2 div.sk-item {position: relative;z-index: 1;}#sk-container-id-2 div.sk-parallel {display: flex;align-items: stretch;justify-content: center;background-color: white;position: relative;}#sk-container-id-2 div.sk-item::before, #sk-container-id-2 div.sk-parallel-item::before {content: \"\";position: absolute;border-left: 1px solid gray;box-sizing: border-box;top: 0;bottom: 0;left: 50%;z-index: -1;}#sk-container-id-2 div.sk-parallel-item {display: flex;flex-direction: column;z-index: 1;position: relative;background-color: white;}#sk-container-id-2 div.sk-parallel-item:first-child::after {align-self: flex-end;width: 50%;}#sk-container-id-2 div.sk-parallel-item:last-child::after {align-self: flex-start;width: 50%;}#sk-container-id-2 div.sk-parallel-item:only-child::after {width: 0;}#sk-container-id-2 div.sk-dashed-wrapped {border: 1px dashed gray;margin: 0 0.4em 0.5em 0.4em;box-sizing: border-box;padding-bottom: 0.4em;background-color: white;}#sk-container-id-2 div.sk-label label {font-family: monospace;font-weight: bold;display: inline-block;line-height: 1.2em;}#sk-container-id-2 div.sk-label-container {text-align: center;}#sk-container-id-2 div.sk-container {/* jupyter's `normalize.less` sets `[hidden] { display: none; }` but bootstrap.min.css set `[hidden] { display: none !important; }` so we also need the `!important` here to be able to override the default hidden behavior on the sphinx rendered scikit-learn.org. See: https://github.com/scikit-learn/scikit-learn/issues/21755 */display: inline-block !important;position: relative;}#sk-container-id-2 div.sk-text-repr-fallback {display: none;}</style><div id=\"sk-container-id-2\" class=\"sk-top-container\"><div class=\"sk-text-repr-fallback\"><pre>KNeighborsClassifier()</pre><b>In a Jupyter environment, please rerun this cell to show the HTML representation or trust the notebook. <br />On GitHub, the HTML representation is unable to render, please try loading this page with nbviewer.org.</b></div><div class=\"sk-container\" hidden><div class=\"sk-item\"><div class=\"sk-estimator sk-toggleable\"><input class=\"sk-toggleable__control sk-hidden--visually\" id=\"sk-estimator-id-2\" type=\"checkbox\" checked><label for=\"sk-estimator-id-2\" class=\"sk-toggleable__label sk-toggleable__label-arrow\">KNeighborsClassifier</label><div class=\"sk-toggleable__content\"><pre>KNeighborsClassifier()</pre></div></div></div></div></div>"
            ]
          },
          "metadata": {},
          "execution_count": 40
        }
      ],
      "source": [
        "#creating the KNN model\n",
        "knn_cls = KNeighborsClassifier(n_neighbors=5)\n",
        "knn_cls.fit(X_train, y_train)"
      ]
    },
    {
      "cell_type": "code",
      "execution_count": 41,
      "metadata": {
        "id": "jce99hbUTV0-"
      },
      "outputs": [],
      "source": [
        "#finding the predictors\n",
        "knn_preds = knn_cls.predict(X_test)"
      ]
    },
    {
      "cell_type": "code",
      "execution_count": 42,
      "metadata": {
        "colab": {
          "base_uri": "https://localhost:8080/"
        },
        "id": "-88sIQaaTXhk",
        "outputId": "6d1bc6e5-f00b-482e-97e1-c22e601c40ac"
      },
      "outputs": [
        {
          "output_type": "stream",
          "name": "stdout",
          "text": [
            "Accuracy Score of KNN Classifier: 0.9630872483221476\n"
          ]
        }
      ],
      "source": [
        "#finding the accuracy of the model\n",
        "accuracy_score_knn = accuracy_score(y_test, knn_preds)\n",
        "print(\"Accuracy Score of KNN Classifier:\", accuracy_score_knn)"
      ]
    },
    {
      "cell_type": "code",
      "execution_count": 43,
      "metadata": {
        "colab": {
          "base_uri": "https://localhost:8080/"
        },
        "id": "9cgifx9ATbGu",
        "outputId": "95921903-6fc7-4d36-9d25-a485aa9cf1a5"
      },
      "outputs": [
        {
          "output_type": "stream",
          "name": "stdout",
          "text": [
            "Confusion Matrix of KNN Classifier: [[3364   31]\n",
            " [ 101   80]]\n"
          ]
        }
      ],
      "source": [
        "#defining the confusion matrix and creating it\n",
        "confusion_matrix_knn = confusion_matrix(y_test, knn_preds)\n",
        "print(\"Confusion Matrix of KNN Classifier:\",confusion_matrix_knn)"
      ]
    },
    {
      "cell_type": "code",
      "execution_count": 44,
      "metadata": {
        "colab": {
          "base_uri": "https://localhost:8080/"
        },
        "id": "LyMQwr3cTbxs",
        "outputId": "b8dd01a8-524b-4ca1-d721-99389ff843e1"
      },
      "outputs": [
        {
          "output_type": "stream",
          "name": "stdout",
          "text": [
            "Classification Report of KNN Classifier:               precision    recall  f1-score   support\n",
            "\n",
            "           0       0.97      0.99      0.98      3395\n",
            "           1       0.72      0.44      0.55       181\n",
            "\n",
            "    accuracy                           0.96      3576\n",
            "   macro avg       0.85      0.72      0.76      3576\n",
            "weighted avg       0.96      0.96      0.96      3576\n",
            "\n"
          ]
        }
      ],
      "source": [
        "#creating the report for knn\n",
        "classification_report_knn = classification_report(y_test, knn_preds)\n",
        "print(\"Classification Report of KNN Classifier:\",classification_report_knn)"
      ]
    },
    {
      "cell_type": "code",
      "execution_count": 45,
      "metadata": {
        "colab": {
          "base_uri": "https://localhost:8080/"
        },
        "id": "Iq7zm1jUTgh2",
        "outputId": "856773d7-1f07-4d4c-db76-a7af186a1afd"
      },
      "outputs": [
        {
          "output_type": "stream",
          "name": "stdout",
          "text": [
            "ROC-AUC Score for KNN Classifier:: 0.7164289375828933\n"
          ]
        }
      ],
      "source": [
        "#defining the roc-auc score\n",
        "roc_auc_knn = roc_auc_score(y_test, knn_preds)\n",
        "print(\"ROC-AUC Score for KNN Classifier::\", roc_auc_knn)"
      ]
    },
    {
      "cell_type": "markdown",
      "metadata": {
        "id": "n7o0clcUZL1d"
      },
      "source": [
        "#### MODEL - 3 RANDOM FOREST"
      ]
    },
    {
      "cell_type": "code",
      "execution_count": 46,
      "metadata": {
        "colab": {
          "base_uri": "https://localhost:8080/",
          "height": 75
        },
        "id": "fljn2E2f88qh",
        "outputId": "8281e2e9-22e6-4e45-868a-bab9d96e15e0"
      },
      "outputs": [
        {
          "output_type": "execute_result",
          "data": {
            "text/plain": [
              "RandomForestClassifier(random_state=42)"
            ],
            "text/html": [
              "<style>#sk-container-id-3 {color: black;background-color: white;}#sk-container-id-3 pre{padding: 0;}#sk-container-id-3 div.sk-toggleable {background-color: white;}#sk-container-id-3 label.sk-toggleable__label {cursor: pointer;display: block;width: 100%;margin-bottom: 0;padding: 0.3em;box-sizing: border-box;text-align: center;}#sk-container-id-3 label.sk-toggleable__label-arrow:before {content: \"▸\";float: left;margin-right: 0.25em;color: #696969;}#sk-container-id-3 label.sk-toggleable__label-arrow:hover:before {color: black;}#sk-container-id-3 div.sk-estimator:hover label.sk-toggleable__label-arrow:before {color: black;}#sk-container-id-3 div.sk-toggleable__content {max-height: 0;max-width: 0;overflow: hidden;text-align: left;background-color: #f0f8ff;}#sk-container-id-3 div.sk-toggleable__content pre {margin: 0.2em;color: black;border-radius: 0.25em;background-color: #f0f8ff;}#sk-container-id-3 input.sk-toggleable__control:checked~div.sk-toggleable__content {max-height: 200px;max-width: 100%;overflow: auto;}#sk-container-id-3 input.sk-toggleable__control:checked~label.sk-toggleable__label-arrow:before {content: \"▾\";}#sk-container-id-3 div.sk-estimator input.sk-toggleable__control:checked~label.sk-toggleable__label {background-color: #d4ebff;}#sk-container-id-3 div.sk-label input.sk-toggleable__control:checked~label.sk-toggleable__label {background-color: #d4ebff;}#sk-container-id-3 input.sk-hidden--visually {border: 0;clip: rect(1px 1px 1px 1px);clip: rect(1px, 1px, 1px, 1px);height: 1px;margin: -1px;overflow: hidden;padding: 0;position: absolute;width: 1px;}#sk-container-id-3 div.sk-estimator {font-family: monospace;background-color: #f0f8ff;border: 1px dotted black;border-radius: 0.25em;box-sizing: border-box;margin-bottom: 0.5em;}#sk-container-id-3 div.sk-estimator:hover {background-color: #d4ebff;}#sk-container-id-3 div.sk-parallel-item::after {content: \"\";width: 100%;border-bottom: 1px solid gray;flex-grow: 1;}#sk-container-id-3 div.sk-label:hover label.sk-toggleable__label {background-color: #d4ebff;}#sk-container-id-3 div.sk-serial::before {content: \"\";position: absolute;border-left: 1px solid gray;box-sizing: border-box;top: 0;bottom: 0;left: 50%;z-index: 0;}#sk-container-id-3 div.sk-serial {display: flex;flex-direction: column;align-items: center;background-color: white;padding-right: 0.2em;padding-left: 0.2em;position: relative;}#sk-container-id-3 div.sk-item {position: relative;z-index: 1;}#sk-container-id-3 div.sk-parallel {display: flex;align-items: stretch;justify-content: center;background-color: white;position: relative;}#sk-container-id-3 div.sk-item::before, #sk-container-id-3 div.sk-parallel-item::before {content: \"\";position: absolute;border-left: 1px solid gray;box-sizing: border-box;top: 0;bottom: 0;left: 50%;z-index: -1;}#sk-container-id-3 div.sk-parallel-item {display: flex;flex-direction: column;z-index: 1;position: relative;background-color: white;}#sk-container-id-3 div.sk-parallel-item:first-child::after {align-self: flex-end;width: 50%;}#sk-container-id-3 div.sk-parallel-item:last-child::after {align-self: flex-start;width: 50%;}#sk-container-id-3 div.sk-parallel-item:only-child::after {width: 0;}#sk-container-id-3 div.sk-dashed-wrapped {border: 1px dashed gray;margin: 0 0.4em 0.5em 0.4em;box-sizing: border-box;padding-bottom: 0.4em;background-color: white;}#sk-container-id-3 div.sk-label label {font-family: monospace;font-weight: bold;display: inline-block;line-height: 1.2em;}#sk-container-id-3 div.sk-label-container {text-align: center;}#sk-container-id-3 div.sk-container {/* jupyter's `normalize.less` sets `[hidden] { display: none; }` but bootstrap.min.css set `[hidden] { display: none !important; }` so we also need the `!important` here to be able to override the default hidden behavior on the sphinx rendered scikit-learn.org. See: https://github.com/scikit-learn/scikit-learn/issues/21755 */display: inline-block !important;position: relative;}#sk-container-id-3 div.sk-text-repr-fallback {display: none;}</style><div id=\"sk-container-id-3\" class=\"sk-top-container\"><div class=\"sk-text-repr-fallback\"><pre>RandomForestClassifier(random_state=42)</pre><b>In a Jupyter environment, please rerun this cell to show the HTML representation or trust the notebook. <br />On GitHub, the HTML representation is unable to render, please try loading this page with nbviewer.org.</b></div><div class=\"sk-container\" hidden><div class=\"sk-item\"><div class=\"sk-estimator sk-toggleable\"><input class=\"sk-toggleable__control sk-hidden--visually\" id=\"sk-estimator-id-3\" type=\"checkbox\" checked><label for=\"sk-estimator-id-3\" class=\"sk-toggleable__label sk-toggleable__label-arrow\">RandomForestClassifier</label><div class=\"sk-toggleable__content\"><pre>RandomForestClassifier(random_state=42)</pre></div></div></div></div></div>"
            ]
          },
          "metadata": {},
          "execution_count": 46
        }
      ],
      "source": [
        "#creating the random forest variables\n",
        "random_forest_cls = RandomForestClassifier(n_estimators=100, random_state=42)\n",
        "random_forest_cls.fit(X_train, y_train)"
      ]
    },
    {
      "cell_type": "code",
      "execution_count": 47,
      "metadata": {
        "id": "Xf26Y68m88qh"
      },
      "outputs": [],
      "source": [
        "#predicting the values for test variable\n",
        "random_forest_preds = random_forest_cls.predict(X_test)"
      ]
    },
    {
      "cell_type": "code",
      "execution_count": 48,
      "metadata": {
        "colab": {
          "base_uri": "https://localhost:8080/"
        },
        "id": "hCh8J2lp88qh",
        "outputId": "8b6e38c0-bd5e-4f44-a285-97b43321f368"
      },
      "outputs": [
        {
          "output_type": "stream",
          "name": "stdout",
          "text": [
            "Accuracy Score of Random Forest Classifier: 0.9832214765100671\n"
          ]
        }
      ],
      "source": [
        "#finding the accuracy of random forest\n",
        "accuracy_score_rf = accuracy_score(y_test, random_forest_preds)\n",
        "print(\"Accuracy Score of Random Forest Classifier:\", accuracy_score_rf)"
      ]
    },
    {
      "cell_type": "code",
      "execution_count": 49,
      "metadata": {
        "colab": {
          "base_uri": "https://localhost:8080/"
        },
        "id": "y6dAjS-C88qh",
        "outputId": "9da0509f-e8d3-40c4-e001-ae5547dd1598"
      },
      "outputs": [
        {
          "output_type": "stream",
          "name": "stdout",
          "text": [
            "Confusion Matrix of Random Forest Classifier: [[3395    0]\n",
            " [  60  121]]\n"
          ]
        }
      ],
      "source": [
        "#creating the confusion matrix\n",
        "confusion_matrix_rf = confusion_matrix(y_test, random_forest_preds)\n",
        "print(\"Confusion Matrix of Random Forest Classifier:\",confusion_matrix_rf)"
      ]
    },
    {
      "cell_type": "code",
      "execution_count": 50,
      "metadata": {
        "colab": {
          "base_uri": "https://localhost:8080/"
        },
        "id": "sZb-15Tl88qh",
        "outputId": "f8bca0b0-4871-40dc-e082-b0bf5a31eaf2"
      },
      "outputs": [
        {
          "output_type": "stream",
          "name": "stdout",
          "text": [
            "Classification Report of Random Forest Classifier:               precision    recall  f1-score   support\n",
            "\n",
            "           0       0.98      1.00      0.99      3395\n",
            "           1       1.00      0.67      0.80       181\n",
            "\n",
            "    accuracy                           0.98      3576\n",
            "   macro avg       0.99      0.83      0.90      3576\n",
            "weighted avg       0.98      0.98      0.98      3576\n",
            "\n"
          ]
        }
      ],
      "source": [
        "#defining the report for the rf model\n",
        "classification_report_rf = classification_report(y_test, random_forest_preds)\n",
        "print(\"Classification Report of Random Forest Classifier:\",classification_report_rf)"
      ]
    },
    {
      "cell_type": "code",
      "execution_count": 51,
      "metadata": {
        "colab": {
          "base_uri": "https://localhost:8080/"
        },
        "id": "ijJCcG0vCw7C",
        "outputId": "6d286767-885a-48bd-8b15-b6ac3aed6a80"
      },
      "outputs": [
        {
          "output_type": "stream",
          "name": "stdout",
          "text": [
            "ROC-AUC Score of Random Forest Classifier: 0.8342541436464088\n"
          ]
        }
      ],
      "source": [
        "# Assuming y_test and random_forest_preds are your true labels and predicted labels, respectively\n",
        "roc_score_rf = roc_auc_score(y_test, random_forest_preds)\n",
        "print(\"ROC-AUC Score of Random Forest Classifier:\", roc_score_rf)\n"
      ]
    },
    {
      "cell_type": "markdown",
      "metadata": {
        "id": "6hkPAdD2ntlq"
      },
      "source": [
        "~ We tried 3 different models.\n",
        "* So we will move forward with more complex model (DEEP LEARNING).\n",
        "* AS we can that the dataset columns which have textual information so first we will do Text Preprocessing using NLP\n",
        "* After that we will implement Deep Learning model\n",
        "\n",
        "\n",
        "### Text Preprocessing\n",
        "\n"
      ]
    },
    {
      "cell_type": "markdown",
      "metadata": {
        "id": "H6NrVeR_88qY"
      },
      "source": [
        "~ We will be doing text processing on description column so first check number of null values for discription"
      ]
    },
    {
      "cell_type": "code",
      "execution_count": 52,
      "metadata": {
        "colab": {
          "base_uri": "https://localhost:8080/",
          "height": 118
        },
        "id": "f6TTyv-288qY",
        "outputId": "6ce925e9-dedb-47cb-9301-3ac5128ecc0d"
      },
      "outputs": [
        {
          "output_type": "execute_result",
          "data": {
            "text/plain": [
              "       job_id           title        location department salary_range  \\\n",
              "17513   17514  Office Manager  PL, MZ, Warsaw                           \n",
              "\n",
              "      company_profile description requirements benefits  telecommuting  \\\n",
              "17513                                                                0   \n",
              "\n",
              "       has_company_logo  has_questions employment_type required_experience  \\\n",
              "17513                 0              0                                       \n",
              "\n",
              "      required_education industry function  fraudulent country  \n",
              "17513                                                1      PL  "
            ],
            "text/html": [
              "\n",
              "  <div id=\"df-388d4f16-9a52-4a0e-a946-2f1bc328f3ef\" class=\"colab-df-container\">\n",
              "    <div>\n",
              "<style scoped>\n",
              "    .dataframe tbody tr th:only-of-type {\n",
              "        vertical-align: middle;\n",
              "    }\n",
              "\n",
              "    .dataframe tbody tr th {\n",
              "        vertical-align: top;\n",
              "    }\n",
              "\n",
              "    .dataframe thead th {\n",
              "        text-align: right;\n",
              "    }\n",
              "</style>\n",
              "<table border=\"1\" class=\"dataframe\">\n",
              "  <thead>\n",
              "    <tr style=\"text-align: right;\">\n",
              "      <th></th>\n",
              "      <th>job_id</th>\n",
              "      <th>title</th>\n",
              "      <th>location</th>\n",
              "      <th>department</th>\n",
              "      <th>salary_range</th>\n",
              "      <th>company_profile</th>\n",
              "      <th>description</th>\n",
              "      <th>requirements</th>\n",
              "      <th>benefits</th>\n",
              "      <th>telecommuting</th>\n",
              "      <th>has_company_logo</th>\n",
              "      <th>has_questions</th>\n",
              "      <th>employment_type</th>\n",
              "      <th>required_experience</th>\n",
              "      <th>required_education</th>\n",
              "      <th>industry</th>\n",
              "      <th>function</th>\n",
              "      <th>fraudulent</th>\n",
              "      <th>country</th>\n",
              "    </tr>\n",
              "  </thead>\n",
              "  <tbody>\n",
              "    <tr>\n",
              "      <th>17513</th>\n",
              "      <td>17514</td>\n",
              "      <td>Office Manager</td>\n",
              "      <td>PL, MZ, Warsaw</td>\n",
              "      <td></td>\n",
              "      <td></td>\n",
              "      <td></td>\n",
              "      <td></td>\n",
              "      <td></td>\n",
              "      <td></td>\n",
              "      <td>0</td>\n",
              "      <td>0</td>\n",
              "      <td>0</td>\n",
              "      <td></td>\n",
              "      <td></td>\n",
              "      <td></td>\n",
              "      <td></td>\n",
              "      <td></td>\n",
              "      <td>1</td>\n",
              "      <td>PL</td>\n",
              "    </tr>\n",
              "  </tbody>\n",
              "</table>\n",
              "</div>\n",
              "    <div class=\"colab-df-buttons\">\n",
              "\n",
              "  <div class=\"colab-df-container\">\n",
              "    <button class=\"colab-df-convert\" onclick=\"convertToInteractive('df-388d4f16-9a52-4a0e-a946-2f1bc328f3ef')\"\n",
              "            title=\"Convert this dataframe to an interactive table.\"\n",
              "            style=\"display:none;\">\n",
              "\n",
              "  <svg xmlns=\"http://www.w3.org/2000/svg\" height=\"24px\" viewBox=\"0 -960 960 960\">\n",
              "    <path d=\"M120-120v-720h720v720H120Zm60-500h600v-160H180v160Zm220 220h160v-160H400v160Zm0 220h160v-160H400v160ZM180-400h160v-160H180v160Zm440 0h160v-160H620v160ZM180-180h160v-160H180v160Zm440 0h160v-160H620v160Z\"/>\n",
              "  </svg>\n",
              "    </button>\n",
              "\n",
              "  <style>\n",
              "    .colab-df-container {\n",
              "      display:flex;\n",
              "      gap: 12px;\n",
              "    }\n",
              "\n",
              "    .colab-df-convert {\n",
              "      background-color: #E8F0FE;\n",
              "      border: none;\n",
              "      border-radius: 50%;\n",
              "      cursor: pointer;\n",
              "      display: none;\n",
              "      fill: #1967D2;\n",
              "      height: 32px;\n",
              "      padding: 0 0 0 0;\n",
              "      width: 32px;\n",
              "    }\n",
              "\n",
              "    .colab-df-convert:hover {\n",
              "      background-color: #E2EBFA;\n",
              "      box-shadow: 0px 1px 2px rgba(60, 64, 67, 0.3), 0px 1px 3px 1px rgba(60, 64, 67, 0.15);\n",
              "      fill: #174EA6;\n",
              "    }\n",
              "\n",
              "    .colab-df-buttons div {\n",
              "      margin-bottom: 4px;\n",
              "    }\n",
              "\n",
              "    [theme=dark] .colab-df-convert {\n",
              "      background-color: #3B4455;\n",
              "      fill: #D2E3FC;\n",
              "    }\n",
              "\n",
              "    [theme=dark] .colab-df-convert:hover {\n",
              "      background-color: #434B5C;\n",
              "      box-shadow: 0px 1px 3px 1px rgba(0, 0, 0, 0.15);\n",
              "      filter: drop-shadow(0px 1px 2px rgba(0, 0, 0, 0.3));\n",
              "      fill: #FFFFFF;\n",
              "    }\n",
              "  </style>\n",
              "\n",
              "    <script>\n",
              "      const buttonEl =\n",
              "        document.querySelector('#df-388d4f16-9a52-4a0e-a946-2f1bc328f3ef button.colab-df-convert');\n",
              "      buttonEl.style.display =\n",
              "        google.colab.kernel.accessAllowed ? 'block' : 'none';\n",
              "\n",
              "      async function convertToInteractive(key) {\n",
              "        const element = document.querySelector('#df-388d4f16-9a52-4a0e-a946-2f1bc328f3ef');\n",
              "        const dataTable =\n",
              "          await google.colab.kernel.invokeFunction('convertToInteractive',\n",
              "                                                    [key], {});\n",
              "        if (!dataTable) return;\n",
              "\n",
              "        const docLinkHtml = 'Like what you see? Visit the ' +\n",
              "          '<a target=\"_blank\" href=https://colab.research.google.com/notebooks/data_table.ipynb>data table notebook</a>'\n",
              "          + ' to learn more about interactive tables.';\n",
              "        element.innerHTML = '';\n",
              "        dataTable['output_type'] = 'display_data';\n",
              "        await google.colab.output.renderOutput(dataTable, element);\n",
              "        const docLink = document.createElement('div');\n",
              "        docLink.innerHTML = docLinkHtml;\n",
              "        element.appendChild(docLink);\n",
              "      }\n",
              "    </script>\n",
              "  </div>\n",
              "\n",
              "    </div>\n",
              "  </div>\n"
            ]
          },
          "metadata": {},
          "execution_count": 52
        }
      ],
      "source": [
        "#we will first find how many description have just blank value\n",
        "empty_description = job_data['description'] == \" \"\n",
        "\n",
        "# Print rows where 'description' is an empty string\n",
        "job_data[empty_description]"
      ]
    },
    {
      "cell_type": "markdown",
      "metadata": {
        "id": "HXb9A7uE88qY"
      },
      "source": [
        "~as there is only one row so we will remove that row"
      ]
    },
    {
      "cell_type": "code",
      "execution_count": 53,
      "metadata": {
        "colab": {
          "base_uri": "https://localhost:8080/"
        },
        "id": "xNYKc-9088qY",
        "outputId": "9871fe86-4964-482e-c0e2-5a0fe07640d8"
      },
      "outputs": [
        {
          "output_type": "execute_result",
          "data": {
            "text/plain": [
              "(17879, 19)"
            ]
          },
          "metadata": {},
          "execution_count": 53
        }
      ],
      "source": [
        "#deleting that particular row\n",
        "job_data = job_data[~empty_description]\n",
        "\n",
        "job_data.shape"
      ]
    },
    {
      "cell_type": "code",
      "execution_count": 54,
      "metadata": {
        "colab": {
          "base_uri": "https://localhost:8080/",
          "height": 573
        },
        "id": "92G-gaZo88qY",
        "outputId": "bec15628-6149-48d2-9302-8bbb733cd659"
      },
      "outputs": [
        {
          "output_type": "execute_result",
          "data": {
            "text/plain": [
              "   job_id                                      title            location  \\\n",
              "0       1                           Marketing Intern    US, NY, New York   \n",
              "1       2  Customer Service - Cloud Video Production      NZ, , Auckland   \n",
              "2       3    Commissioning Machinery Assistant (CMA)       US, IA, Wever   \n",
              "3       4          Account Executive - Washington DC  US, DC, Washington   \n",
              "4       5                        Bill Review Manager  US, FL, Fort Worth   \n",
              "\n",
              "  department salary_range                                    company_profile  \\\n",
              "0  Marketing               We're Food52, and we've created a groundbreaki...   \n",
              "1    Success               90 Seconds, the worlds Cloud Video Production ...   \n",
              "2                          Valor Services provides Workforce Solutions th...   \n",
              "3      Sales               Our passion for improving quality of life thro...   \n",
              "4                          SpotSource Solutions LLC is a Global Human Cap...   \n",
              "\n",
              "                                         description  \\\n",
              "0  Food52, a fast-growing, James Beard Award-winn...   \n",
              "1  Organised - Focused - Vibrant - Awesome!Do you...   \n",
              "2  Our client, located in Houston, is actively se...   \n",
              "3  THE COMPANY: ESRI – Environmental Systems Rese...   \n",
              "4  JOB TITLE: Itemization Review ManagerLOCATION:...   \n",
              "\n",
              "                                        requirements  \\\n",
              "0  Experience with content management systems a m...   \n",
              "1  What we expect from you:Your key responsibilit...   \n",
              "2  Implement pre-commissioning and commissioning ...   \n",
              "3  EDUCATION: Bachelor’s or Master’s in GIS, busi...   \n",
              "4  QUALIFICATIONS:RN license in the State of Texa...   \n",
              "\n",
              "                                            benefits  telecommuting  \\\n",
              "0                                                                 0   \n",
              "1  What you will get from usThrough being part of...              0   \n",
              "2                                                                 0   \n",
              "3  Our culture is anything but corporate—we have ...              0   \n",
              "4                              Full Benefits Offered              0   \n",
              "\n",
              "   has_company_logo  has_questions employment_type required_experience  \\\n",
              "0                 1              0           Other          Internship   \n",
              "1                 1              0       Full-time      Not Applicable   \n",
              "2                 1              0                                       \n",
              "3                 1              0       Full-time    Mid-Senior level   \n",
              "4                 1              1       Full-time    Mid-Senior level   \n",
              "\n",
              "  required_education                   industry              function  \\\n",
              "0                                                           Marketing   \n",
              "1                     Marketing and Advertising      Customer Service   \n",
              "2                                                                       \n",
              "3  Bachelor's Degree          Computer Software                 Sales   \n",
              "4  Bachelor's Degree     Hospital & Health Care  Health Care Provider   \n",
              "\n",
              "   fraudulent country                                      job_text_info  \n",
              "0           0      US  Marketing Intern Food52, a fast-growing, James...  \n",
              "1           0      NZ  Customer Service - Cloud Video Production Orga...  \n",
              "2           0      US  Commissioning Machinery Assistant (CMA) Our cl...  \n",
              "3           0      US  Account Executive - Washington DC THE COMPANY:...  \n",
              "4           0      US  Bill Review Manager JOB TITLE: Itemization Rev...  "
            ],
            "text/html": [
              "\n",
              "  <div id=\"df-a847a4c9-1ee0-4b97-a275-8764d8884b6c\" class=\"colab-df-container\">\n",
              "    <div>\n",
              "<style scoped>\n",
              "    .dataframe tbody tr th:only-of-type {\n",
              "        vertical-align: middle;\n",
              "    }\n",
              "\n",
              "    .dataframe tbody tr th {\n",
              "        vertical-align: top;\n",
              "    }\n",
              "\n",
              "    .dataframe thead th {\n",
              "        text-align: right;\n",
              "    }\n",
              "</style>\n",
              "<table border=\"1\" class=\"dataframe\">\n",
              "  <thead>\n",
              "    <tr style=\"text-align: right;\">\n",
              "      <th></th>\n",
              "      <th>job_id</th>\n",
              "      <th>title</th>\n",
              "      <th>location</th>\n",
              "      <th>department</th>\n",
              "      <th>salary_range</th>\n",
              "      <th>company_profile</th>\n",
              "      <th>description</th>\n",
              "      <th>requirements</th>\n",
              "      <th>benefits</th>\n",
              "      <th>telecommuting</th>\n",
              "      <th>has_company_logo</th>\n",
              "      <th>has_questions</th>\n",
              "      <th>employment_type</th>\n",
              "      <th>required_experience</th>\n",
              "      <th>required_education</th>\n",
              "      <th>industry</th>\n",
              "      <th>function</th>\n",
              "      <th>fraudulent</th>\n",
              "      <th>country</th>\n",
              "      <th>job_text_info</th>\n",
              "    </tr>\n",
              "  </thead>\n",
              "  <tbody>\n",
              "    <tr>\n",
              "      <th>0</th>\n",
              "      <td>1</td>\n",
              "      <td>Marketing Intern</td>\n",
              "      <td>US, NY, New York</td>\n",
              "      <td>Marketing</td>\n",
              "      <td></td>\n",
              "      <td>We're Food52, and we've created a groundbreaki...</td>\n",
              "      <td>Food52, a fast-growing, James Beard Award-winn...</td>\n",
              "      <td>Experience with content management systems a m...</td>\n",
              "      <td></td>\n",
              "      <td>0</td>\n",
              "      <td>1</td>\n",
              "      <td>0</td>\n",
              "      <td>Other</td>\n",
              "      <td>Internship</td>\n",
              "      <td></td>\n",
              "      <td></td>\n",
              "      <td>Marketing</td>\n",
              "      <td>0</td>\n",
              "      <td>US</td>\n",
              "      <td>Marketing Intern Food52, a fast-growing, James...</td>\n",
              "    </tr>\n",
              "    <tr>\n",
              "      <th>1</th>\n",
              "      <td>2</td>\n",
              "      <td>Customer Service - Cloud Video Production</td>\n",
              "      <td>NZ, , Auckland</td>\n",
              "      <td>Success</td>\n",
              "      <td></td>\n",
              "      <td>90 Seconds, the worlds Cloud Video Production ...</td>\n",
              "      <td>Organised - Focused - Vibrant - Awesome!Do you...</td>\n",
              "      <td>What we expect from you:Your key responsibilit...</td>\n",
              "      <td>What you will get from usThrough being part of...</td>\n",
              "      <td>0</td>\n",
              "      <td>1</td>\n",
              "      <td>0</td>\n",
              "      <td>Full-time</td>\n",
              "      <td>Not Applicable</td>\n",
              "      <td></td>\n",
              "      <td>Marketing and Advertising</td>\n",
              "      <td>Customer Service</td>\n",
              "      <td>0</td>\n",
              "      <td>NZ</td>\n",
              "      <td>Customer Service - Cloud Video Production Orga...</td>\n",
              "    </tr>\n",
              "    <tr>\n",
              "      <th>2</th>\n",
              "      <td>3</td>\n",
              "      <td>Commissioning Machinery Assistant (CMA)</td>\n",
              "      <td>US, IA, Wever</td>\n",
              "      <td></td>\n",
              "      <td></td>\n",
              "      <td>Valor Services provides Workforce Solutions th...</td>\n",
              "      <td>Our client, located in Houston, is actively se...</td>\n",
              "      <td>Implement pre-commissioning and commissioning ...</td>\n",
              "      <td></td>\n",
              "      <td>0</td>\n",
              "      <td>1</td>\n",
              "      <td>0</td>\n",
              "      <td></td>\n",
              "      <td></td>\n",
              "      <td></td>\n",
              "      <td></td>\n",
              "      <td></td>\n",
              "      <td>0</td>\n",
              "      <td>US</td>\n",
              "      <td>Commissioning Machinery Assistant (CMA) Our cl...</td>\n",
              "    </tr>\n",
              "    <tr>\n",
              "      <th>3</th>\n",
              "      <td>4</td>\n",
              "      <td>Account Executive - Washington DC</td>\n",
              "      <td>US, DC, Washington</td>\n",
              "      <td>Sales</td>\n",
              "      <td></td>\n",
              "      <td>Our passion for improving quality of life thro...</td>\n",
              "      <td>THE COMPANY: ESRI – Environmental Systems Rese...</td>\n",
              "      <td>EDUCATION: Bachelor’s or Master’s in GIS, busi...</td>\n",
              "      <td>Our culture is anything but corporate—we have ...</td>\n",
              "      <td>0</td>\n",
              "      <td>1</td>\n",
              "      <td>0</td>\n",
              "      <td>Full-time</td>\n",
              "      <td>Mid-Senior level</td>\n",
              "      <td>Bachelor's Degree</td>\n",
              "      <td>Computer Software</td>\n",
              "      <td>Sales</td>\n",
              "      <td>0</td>\n",
              "      <td>US</td>\n",
              "      <td>Account Executive - Washington DC THE COMPANY:...</td>\n",
              "    </tr>\n",
              "    <tr>\n",
              "      <th>4</th>\n",
              "      <td>5</td>\n",
              "      <td>Bill Review Manager</td>\n",
              "      <td>US, FL, Fort Worth</td>\n",
              "      <td></td>\n",
              "      <td></td>\n",
              "      <td>SpotSource Solutions LLC is a Global Human Cap...</td>\n",
              "      <td>JOB TITLE: Itemization Review ManagerLOCATION:...</td>\n",
              "      <td>QUALIFICATIONS:RN license in the State of Texa...</td>\n",
              "      <td>Full Benefits Offered</td>\n",
              "      <td>0</td>\n",
              "      <td>1</td>\n",
              "      <td>1</td>\n",
              "      <td>Full-time</td>\n",
              "      <td>Mid-Senior level</td>\n",
              "      <td>Bachelor's Degree</td>\n",
              "      <td>Hospital &amp; Health Care</td>\n",
              "      <td>Health Care Provider</td>\n",
              "      <td>0</td>\n",
              "      <td>US</td>\n",
              "      <td>Bill Review Manager JOB TITLE: Itemization Rev...</td>\n",
              "    </tr>\n",
              "  </tbody>\n",
              "</table>\n",
              "</div>\n",
              "    <div class=\"colab-df-buttons\">\n",
              "\n",
              "  <div class=\"colab-df-container\">\n",
              "    <button class=\"colab-df-convert\" onclick=\"convertToInteractive('df-a847a4c9-1ee0-4b97-a275-8764d8884b6c')\"\n",
              "            title=\"Convert this dataframe to an interactive table.\"\n",
              "            style=\"display:none;\">\n",
              "\n",
              "  <svg xmlns=\"http://www.w3.org/2000/svg\" height=\"24px\" viewBox=\"0 -960 960 960\">\n",
              "    <path d=\"M120-120v-720h720v720H120Zm60-500h600v-160H180v160Zm220 220h160v-160H400v160Zm0 220h160v-160H400v160ZM180-400h160v-160H180v160Zm440 0h160v-160H620v160ZM180-180h160v-160H180v160Zm440 0h160v-160H620v160Z\"/>\n",
              "  </svg>\n",
              "    </button>\n",
              "\n",
              "  <style>\n",
              "    .colab-df-container {\n",
              "      display:flex;\n",
              "      gap: 12px;\n",
              "    }\n",
              "\n",
              "    .colab-df-convert {\n",
              "      background-color: #E8F0FE;\n",
              "      border: none;\n",
              "      border-radius: 50%;\n",
              "      cursor: pointer;\n",
              "      display: none;\n",
              "      fill: #1967D2;\n",
              "      height: 32px;\n",
              "      padding: 0 0 0 0;\n",
              "      width: 32px;\n",
              "    }\n",
              "\n",
              "    .colab-df-convert:hover {\n",
              "      background-color: #E2EBFA;\n",
              "      box-shadow: 0px 1px 2px rgba(60, 64, 67, 0.3), 0px 1px 3px 1px rgba(60, 64, 67, 0.15);\n",
              "      fill: #174EA6;\n",
              "    }\n",
              "\n",
              "    .colab-df-buttons div {\n",
              "      margin-bottom: 4px;\n",
              "    }\n",
              "\n",
              "    [theme=dark] .colab-df-convert {\n",
              "      background-color: #3B4455;\n",
              "      fill: #D2E3FC;\n",
              "    }\n",
              "\n",
              "    [theme=dark] .colab-df-convert:hover {\n",
              "      background-color: #434B5C;\n",
              "      box-shadow: 0px 1px 3px 1px rgba(0, 0, 0, 0.15);\n",
              "      filter: drop-shadow(0px 1px 2px rgba(0, 0, 0, 0.3));\n",
              "      fill: #FFFFFF;\n",
              "    }\n",
              "  </style>\n",
              "\n",
              "    <script>\n",
              "      const buttonEl =\n",
              "        document.querySelector('#df-a847a4c9-1ee0-4b97-a275-8764d8884b6c button.colab-df-convert');\n",
              "      buttonEl.style.display =\n",
              "        google.colab.kernel.accessAllowed ? 'block' : 'none';\n",
              "\n",
              "      async function convertToInteractive(key) {\n",
              "        const element = document.querySelector('#df-a847a4c9-1ee0-4b97-a275-8764d8884b6c');\n",
              "        const dataTable =\n",
              "          await google.colab.kernel.invokeFunction('convertToInteractive',\n",
              "                                                    [key], {});\n",
              "        if (!dataTable) return;\n",
              "\n",
              "        const docLinkHtml = 'Like what you see? Visit the ' +\n",
              "          '<a target=\"_blank\" href=https://colab.research.google.com/notebooks/data_table.ipynb>data table notebook</a>'\n",
              "          + ' to learn more about interactive tables.';\n",
              "        element.innerHTML = '';\n",
              "        dataTable['output_type'] = 'display_data';\n",
              "        await google.colab.output.renderOutput(dataTable, element);\n",
              "        const docLink = document.createElement('div');\n",
              "        docLink.innerHTML = docLinkHtml;\n",
              "        element.appendChild(docLink);\n",
              "      }\n",
              "    </script>\n",
              "  </div>\n",
              "\n",
              "\n",
              "<div id=\"df-02bcae7e-76c5-42b3-b109-5af5eb64970c\">\n",
              "  <button class=\"colab-df-quickchart\" onclick=\"quickchart('df-02bcae7e-76c5-42b3-b109-5af5eb64970c')\"\n",
              "            title=\"Suggest charts\"\n",
              "            style=\"display:none;\">\n",
              "\n",
              "<svg xmlns=\"http://www.w3.org/2000/svg\" height=\"24px\"viewBox=\"0 0 24 24\"\n",
              "     width=\"24px\">\n",
              "    <g>\n",
              "        <path d=\"M19 3H5c-1.1 0-2 .9-2 2v14c0 1.1.9 2 2 2h14c1.1 0 2-.9 2-2V5c0-1.1-.9-2-2-2zM9 17H7v-7h2v7zm4 0h-2V7h2v10zm4 0h-2v-4h2v4z\"/>\n",
              "    </g>\n",
              "</svg>\n",
              "  </button>\n",
              "\n",
              "<style>\n",
              "  .colab-df-quickchart {\n",
              "      --bg-color: #E8F0FE;\n",
              "      --fill-color: #1967D2;\n",
              "      --hover-bg-color: #E2EBFA;\n",
              "      --hover-fill-color: #174EA6;\n",
              "      --disabled-fill-color: #AAA;\n",
              "      --disabled-bg-color: #DDD;\n",
              "  }\n",
              "\n",
              "  [theme=dark] .colab-df-quickchart {\n",
              "      --bg-color: #3B4455;\n",
              "      --fill-color: #D2E3FC;\n",
              "      --hover-bg-color: #434B5C;\n",
              "      --hover-fill-color: #FFFFFF;\n",
              "      --disabled-bg-color: #3B4455;\n",
              "      --disabled-fill-color: #666;\n",
              "  }\n",
              "\n",
              "  .colab-df-quickchart {\n",
              "    background-color: var(--bg-color);\n",
              "    border: none;\n",
              "    border-radius: 50%;\n",
              "    cursor: pointer;\n",
              "    display: none;\n",
              "    fill: var(--fill-color);\n",
              "    height: 32px;\n",
              "    padding: 0;\n",
              "    width: 32px;\n",
              "  }\n",
              "\n",
              "  .colab-df-quickchart:hover {\n",
              "    background-color: var(--hover-bg-color);\n",
              "    box-shadow: 0 1px 2px rgba(60, 64, 67, 0.3), 0 1px 3px 1px rgba(60, 64, 67, 0.15);\n",
              "    fill: var(--button-hover-fill-color);\n",
              "  }\n",
              "\n",
              "  .colab-df-quickchart-complete:disabled,\n",
              "  .colab-df-quickchart-complete:disabled:hover {\n",
              "    background-color: var(--disabled-bg-color);\n",
              "    fill: var(--disabled-fill-color);\n",
              "    box-shadow: none;\n",
              "  }\n",
              "\n",
              "  .colab-df-spinner {\n",
              "    border: 2px solid var(--fill-color);\n",
              "    border-color: transparent;\n",
              "    border-bottom-color: var(--fill-color);\n",
              "    animation:\n",
              "      spin 1s steps(1) infinite;\n",
              "  }\n",
              "\n",
              "  @keyframes spin {\n",
              "    0% {\n",
              "      border-color: transparent;\n",
              "      border-bottom-color: var(--fill-color);\n",
              "      border-left-color: var(--fill-color);\n",
              "    }\n",
              "    20% {\n",
              "      border-color: transparent;\n",
              "      border-left-color: var(--fill-color);\n",
              "      border-top-color: var(--fill-color);\n",
              "    }\n",
              "    30% {\n",
              "      border-color: transparent;\n",
              "      border-left-color: var(--fill-color);\n",
              "      border-top-color: var(--fill-color);\n",
              "      border-right-color: var(--fill-color);\n",
              "    }\n",
              "    40% {\n",
              "      border-color: transparent;\n",
              "      border-right-color: var(--fill-color);\n",
              "      border-top-color: var(--fill-color);\n",
              "    }\n",
              "    60% {\n",
              "      border-color: transparent;\n",
              "      border-right-color: var(--fill-color);\n",
              "    }\n",
              "    80% {\n",
              "      border-color: transparent;\n",
              "      border-right-color: var(--fill-color);\n",
              "      border-bottom-color: var(--fill-color);\n",
              "    }\n",
              "    90% {\n",
              "      border-color: transparent;\n",
              "      border-bottom-color: var(--fill-color);\n",
              "    }\n",
              "  }\n",
              "</style>\n",
              "\n",
              "  <script>\n",
              "    async function quickchart(key) {\n",
              "      const quickchartButtonEl =\n",
              "        document.querySelector('#' + key + ' button');\n",
              "      quickchartButtonEl.disabled = true;  // To prevent multiple clicks.\n",
              "      quickchartButtonEl.classList.add('colab-df-spinner');\n",
              "      try {\n",
              "        const charts = await google.colab.kernel.invokeFunction(\n",
              "            'suggestCharts', [key], {});\n",
              "      } catch (error) {\n",
              "        console.error('Error during call to suggestCharts:', error);\n",
              "      }\n",
              "      quickchartButtonEl.classList.remove('colab-df-spinner');\n",
              "      quickchartButtonEl.classList.add('colab-df-quickchart-complete');\n",
              "    }\n",
              "    (() => {\n",
              "      let quickchartButtonEl =\n",
              "        document.querySelector('#df-02bcae7e-76c5-42b3-b109-5af5eb64970c button');\n",
              "      quickchartButtonEl.style.display =\n",
              "        google.colab.kernel.accessAllowed ? 'block' : 'none';\n",
              "    })();\n",
              "  </script>\n",
              "</div>\n",
              "    </div>\n",
              "  </div>\n"
            ]
          },
          "metadata": {},
          "execution_count": 54
        }
      ],
      "source": [
        "# for query search and  text preprocessing we will be combining the title, description and title column\n",
        "job_data['job_text_info'] = job_data['title'] + ' ' + job_data['description'] + ' ' + job_data['company_profile']\n",
        "# Print the resulting DataFrame\n",
        "job_data.head()"
      ]
    },
    {
      "cell_type": "code",
      "execution_count": 55,
      "metadata": {
        "id": "hMxX_gmW88qY"
      },
      "outputs": [],
      "source": [
        "#lowercasing the values\n",
        "job_data['job_text_info'] = job_data['job_text_info'].str.lower()\n"
      ]
    },
    {
      "cell_type": "code",
      "execution_count": 56,
      "metadata": {
        "id": "P2I6Vofn88qY"
      },
      "outputs": [],
      "source": [
        "#we will be removing the punctuations\n",
        "import string\n",
        "\n",
        "# here we are converting the 'job_text_info' to type str\n",
        "job_data['job_text_info'] = job_data['job_text_info'].astype(str)\n",
        "\n",
        "#here we are removing the punctuations\n",
        "job_data['job_text_info'] = job_data['job_text_info'].str.translate(str.maketrans('', '', string.punctuation))\n",
        "\n"
      ]
    },
    {
      "cell_type": "code",
      "execution_count": 57,
      "metadata": {
        "colab": {
          "base_uri": "https://localhost:8080/"
        },
        "id": "Dp2dGYZv88qY",
        "outputId": "624f706a-c919-4ba9-d29c-ad40e3cd786d"
      },
      "outputs": [
        {
          "output_type": "stream",
          "name": "stderr",
          "text": [
            "[nltk_data] Downloading package punkt to /root/nltk_data...\n",
            "[nltk_data]   Unzipping tokenizers/punkt.zip.\n"
          ]
        }
      ],
      "source": [
        "#importing the modules\n",
        "import nltk\n",
        "nltk.download('punkt')\n",
        "from nltk.tokenize import word_tokenize\n",
        "#applying tokenization\n",
        "job_data['job_text_info'] = job_data['job_text_info'].apply(word_tokenize)\n"
      ]
    },
    {
      "cell_type": "code",
      "execution_count": 58,
      "metadata": {
        "colab": {
          "base_uri": "https://localhost:8080/"
        },
        "id": "vcrDSZCg88qe",
        "outputId": "d2e79957-a4f4-4687-a64c-7435fa1a412a"
      },
      "outputs": [
        {
          "output_type": "stream",
          "name": "stderr",
          "text": [
            "[nltk_data] Downloading package stopwords to /root/nltk_data...\n",
            "[nltk_data]   Unzipping corpora/stopwords.zip.\n"
          ]
        }
      ],
      "source": [
        "#importing the modules required for stopwords\n",
        "import nltk\n",
        "nltk.download('stopwords')\n",
        "from nltk.corpus import stopwords\n",
        "#defining the stop_words\n",
        "stop_words = set(stopwords.words('english'))\n",
        "#removing stop_words\n",
        "job_data['job_text_info'] = job_data['job_text_info'].apply(lambda x: [word for word in x if word not in stop_words])\n"
      ]
    },
    {
      "cell_type": "code",
      "execution_count": 59,
      "metadata": {
        "colab": {
          "base_uri": "https://localhost:8080/"
        },
        "id": "QO2xYJp288qe",
        "outputId": "25bb07ba-4ad1-4040-b24d-d4a58f7c43f1"
      },
      "outputs": [
        {
          "output_type": "stream",
          "name": "stderr",
          "text": [
            "[nltk_data] Downloading package omw-1.4 to /root/nltk_data...\n"
          ]
        },
        {
          "output_type": "execute_result",
          "data": {
            "text/plain": [
              "True"
            ]
          },
          "metadata": {},
          "execution_count": 59
        }
      ],
      "source": [
        "#downloading the modules\n",
        "nltk.download('omw-1.4')"
      ]
    },
    {
      "cell_type": "code",
      "execution_count": 60,
      "metadata": {
        "colab": {
          "base_uri": "https://localhost:8080/"
        },
        "id": "GHVrmjFr88qf",
        "outputId": "4c961a3b-e7ad-4018-c4c7-369a4565de7f"
      },
      "outputs": [
        {
          "output_type": "stream",
          "name": "stderr",
          "text": [
            "[nltk_data] Downloading package wordnet to /root/nltk_data...\n"
          ]
        }
      ],
      "source": [
        "#importing the modules for lemmatization\n",
        "import nltk\n",
        "nltk.download('wordnet')\n",
        "from nltk.stem import WordNetLemmatizer\n",
        "\n",
        "#creating a lemmatizer\n",
        "lemmatizer = WordNetLemmatizer()\n",
        "#defining the lemmatzation\n",
        "job_data['job_text_info'] = job_data['job_text_info'].apply(lambda x: [lemmatizer.lemmatize(word) for word in x])\n"
      ]
    },
    {
      "cell_type": "code",
      "execution_count": 61,
      "metadata": {
        "id": "ffnUSs4188qf"
      },
      "outputs": [],
      "source": [
        "#joining the string which is comma seperated\n",
        "job_data['job_text_info'] = job_data['job_text_info'].apply(lambda x: ' '.join(x))"
      ]
    },
    {
      "cell_type": "code",
      "execution_count": 62,
      "metadata": {
        "colab": {
          "base_uri": "https://localhost:8080/"
        },
        "id": "43fAUu0pFYaN",
        "outputId": "68977ddd-488b-4047-8aca-c820320659b4"
      },
      "outputs": [
        {
          "output_type": "execute_result",
          "data": {
            "text/plain": [
              "0    marketing intern food52 fastgrowing james bear...\n",
              "1    customer service cloud video production organi...\n",
              "2    commissioning machinery assistant cma client l...\n",
              "3    account executive washington dc company esri –...\n",
              "4    bill review manager job title itemization revi...\n",
              "Name: job_text_info, dtype: object"
            ]
          },
          "metadata": {},
          "execution_count": 62
        }
      ],
      "source": [
        "#reading the job_text_info columns\n",
        "job_data['job_text_info'].head(5)"
      ]
    },
    {
      "cell_type": "code",
      "execution_count": 63,
      "metadata": {
        "id": "DQ0GzuM588qf"
      },
      "outputs": [],
      "source": [
        "#performing the Tfidf\n",
        "from sklearn.feature_extraction.text import TfidfVectorizer\n",
        "\n",
        "# defining the vectorizer to perform Tfid\n",
        "vectorizer = TfidfVectorizer(max_features=9000)\n",
        "job_text_x = vectorizer.fit_transform(job_data['job_text_info'])\n"
      ]
    },
    {
      "cell_type": "code",
      "execution_count": 64,
      "metadata": {
        "id": "O03a_qic88qf"
      },
      "outputs": [],
      "source": [
        "from sklearn.model_selection import train_test_split\n",
        "#creating the training and testing dataset\n",
        "X_train_NN, X_test_NN, y_train_NN, y_test_NN = train_test_split(job_text_x, job_data['fraudulent'], test_size=0.2, random_state=42)\n"
      ]
    },
    {
      "cell_type": "markdown",
      "metadata": {
        "id": "eSorABCtbYfQ"
      },
      "source": [
        "#### MODEL - 4 Neural Network"
      ]
    },
    {
      "cell_type": "code",
      "execution_count": 65,
      "metadata": {
        "id": "Bw5jKqMg88qg"
      },
      "outputs": [],
      "source": [
        "#importing the modules required for MLPclassifier\n",
        "from sklearn.neural_network import MLPClassifier\n",
        "from sklearn.metrics import accuracy_score\n",
        "from sklearn.metrics import confusion_matrix\n",
        "from sklearn.metrics import classification_report\n",
        "from sklearn.metrics import roc_auc_score"
      ]
    },
    {
      "cell_type": "code",
      "execution_count": 66,
      "metadata": {
        "id": "MKyfETVg88qg"
      },
      "outputs": [],
      "source": [
        "# #Instatiatie our MLPClassifier\n",
        "solver_param = 'adam'\n",
        "activation_param = 'relu'\n",
        "model_mlp = MLPClassifier(solver=solver_param,\n",
        "                    activation = activation_param,\n",
        "                   hidden_layer_sizes = (100,50,30),\n",
        "                    max_iter = 1000)"
      ]
    },
    {
      "cell_type": "code",
      "execution_count": 67,
      "metadata": {
        "colab": {
          "base_uri": "https://localhost:8080/",
          "height": 75
        },
        "id": "VuVzH-7V88qg",
        "outputId": "df8dbe0c-9672-4654-a676-1928323e20fa",
        "scrolled": false
      },
      "outputs": [
        {
          "output_type": "execute_result",
          "data": {
            "text/plain": [
              "MLPClassifier(hidden_layer_sizes=(100, 50, 30), max_iter=1000)"
            ],
            "text/html": [
              "<style>#sk-container-id-4 {color: black;background-color: white;}#sk-container-id-4 pre{padding: 0;}#sk-container-id-4 div.sk-toggleable {background-color: white;}#sk-container-id-4 label.sk-toggleable__label {cursor: pointer;display: block;width: 100%;margin-bottom: 0;padding: 0.3em;box-sizing: border-box;text-align: center;}#sk-container-id-4 label.sk-toggleable__label-arrow:before {content: \"▸\";float: left;margin-right: 0.25em;color: #696969;}#sk-container-id-4 label.sk-toggleable__label-arrow:hover:before {color: black;}#sk-container-id-4 div.sk-estimator:hover label.sk-toggleable__label-arrow:before {color: black;}#sk-container-id-4 div.sk-toggleable__content {max-height: 0;max-width: 0;overflow: hidden;text-align: left;background-color: #f0f8ff;}#sk-container-id-4 div.sk-toggleable__content pre {margin: 0.2em;color: black;border-radius: 0.25em;background-color: #f0f8ff;}#sk-container-id-4 input.sk-toggleable__control:checked~div.sk-toggleable__content {max-height: 200px;max-width: 100%;overflow: auto;}#sk-container-id-4 input.sk-toggleable__control:checked~label.sk-toggleable__label-arrow:before {content: \"▾\";}#sk-container-id-4 div.sk-estimator input.sk-toggleable__control:checked~label.sk-toggleable__label {background-color: #d4ebff;}#sk-container-id-4 div.sk-label input.sk-toggleable__control:checked~label.sk-toggleable__label {background-color: #d4ebff;}#sk-container-id-4 input.sk-hidden--visually {border: 0;clip: rect(1px 1px 1px 1px);clip: rect(1px, 1px, 1px, 1px);height: 1px;margin: -1px;overflow: hidden;padding: 0;position: absolute;width: 1px;}#sk-container-id-4 div.sk-estimator {font-family: monospace;background-color: #f0f8ff;border: 1px dotted black;border-radius: 0.25em;box-sizing: border-box;margin-bottom: 0.5em;}#sk-container-id-4 div.sk-estimator:hover {background-color: #d4ebff;}#sk-container-id-4 div.sk-parallel-item::after {content: \"\";width: 100%;border-bottom: 1px solid gray;flex-grow: 1;}#sk-container-id-4 div.sk-label:hover label.sk-toggleable__label {background-color: #d4ebff;}#sk-container-id-4 div.sk-serial::before {content: \"\";position: absolute;border-left: 1px solid gray;box-sizing: border-box;top: 0;bottom: 0;left: 50%;z-index: 0;}#sk-container-id-4 div.sk-serial {display: flex;flex-direction: column;align-items: center;background-color: white;padding-right: 0.2em;padding-left: 0.2em;position: relative;}#sk-container-id-4 div.sk-item {position: relative;z-index: 1;}#sk-container-id-4 div.sk-parallel {display: flex;align-items: stretch;justify-content: center;background-color: white;position: relative;}#sk-container-id-4 div.sk-item::before, #sk-container-id-4 div.sk-parallel-item::before {content: \"\";position: absolute;border-left: 1px solid gray;box-sizing: border-box;top: 0;bottom: 0;left: 50%;z-index: -1;}#sk-container-id-4 div.sk-parallel-item {display: flex;flex-direction: column;z-index: 1;position: relative;background-color: white;}#sk-container-id-4 div.sk-parallel-item:first-child::after {align-self: flex-end;width: 50%;}#sk-container-id-4 div.sk-parallel-item:last-child::after {align-self: flex-start;width: 50%;}#sk-container-id-4 div.sk-parallel-item:only-child::after {width: 0;}#sk-container-id-4 div.sk-dashed-wrapped {border: 1px dashed gray;margin: 0 0.4em 0.5em 0.4em;box-sizing: border-box;padding-bottom: 0.4em;background-color: white;}#sk-container-id-4 div.sk-label label {font-family: monospace;font-weight: bold;display: inline-block;line-height: 1.2em;}#sk-container-id-4 div.sk-label-container {text-align: center;}#sk-container-id-4 div.sk-container {/* jupyter's `normalize.less` sets `[hidden] { display: none; }` but bootstrap.min.css set `[hidden] { display: none !important; }` so we also need the `!important` here to be able to override the default hidden behavior on the sphinx rendered scikit-learn.org. See: https://github.com/scikit-learn/scikit-learn/issues/21755 */display: inline-block !important;position: relative;}#sk-container-id-4 div.sk-text-repr-fallback {display: none;}</style><div id=\"sk-container-id-4\" class=\"sk-top-container\"><div class=\"sk-text-repr-fallback\"><pre>MLPClassifier(hidden_layer_sizes=(100, 50, 30), max_iter=1000)</pre><b>In a Jupyter environment, please rerun this cell to show the HTML representation or trust the notebook. <br />On GitHub, the HTML representation is unable to render, please try loading this page with nbviewer.org.</b></div><div class=\"sk-container\" hidden><div class=\"sk-item\"><div class=\"sk-estimator sk-toggleable\"><input class=\"sk-toggleable__control sk-hidden--visually\" id=\"sk-estimator-id-4\" type=\"checkbox\" checked><label for=\"sk-estimator-id-4\" class=\"sk-toggleable__label sk-toggleable__label-arrow\">MLPClassifier</label><div class=\"sk-toggleable__content\"><pre>MLPClassifier(hidden_layer_sizes=(100, 50, 30), max_iter=1000)</pre></div></div></div></div></div>"
            ]
          },
          "metadata": {},
          "execution_count": 67
        }
      ],
      "source": [
        "#performing the fit on the model\n",
        "model_mlp.fit(X_train_NN, y_train_NN)"
      ]
    },
    {
      "cell_type": "code",
      "execution_count": 68,
      "metadata": {
        "colab": {
          "base_uri": "https://localhost:8080/"
        },
        "id": "W-v08Tl788qg",
        "outputId": "437ab5c5-ad32-4145-8199-579245f57757"
      },
      "outputs": [
        {
          "output_type": "stream",
          "name": "stdout",
          "text": [
            "The ROC-AUC score is 0.8740165256075686\n",
            "\n",
            "The Classification report is               precision    recall  f1-score   support\n",
            "\n",
            "           0       0.99      1.00      0.99      3394\n",
            "           1       0.90      0.75      0.82       182\n",
            "\n",
            "    accuracy                           0.98      3576\n",
            "   macro avg       0.94      0.87      0.90      3576\n",
            "weighted avg       0.98      0.98      0.98      3576\n",
            "\n"
          ]
        }
      ],
      "source": [
        "#making prediction using mlpClassifier\n",
        "mlp_pred = model_mlp.predict(X_test_NN)\n",
        "\n",
        "#Printing the roc_score\n",
        "print(\"The ROC-AUC score is {}\".format(roc_auc_score(y_test_NN, mlp_pred)))\n",
        "#printing the classification_report\n",
        "print()\n",
        "print(\"The Classification report is {}\".format(classification_report(y_test_NN, mlp_pred)))"
      ]
    },
    {
      "cell_type": "code",
      "execution_count": 69,
      "metadata": {
        "colab": {
          "base_uri": "https://localhost:8080/"
        },
        "id": "wJbeml5UCNEk",
        "outputId": "a08c17bf-89af-465b-a6f2-fc47db314873"
      },
      "outputs": [
        {
          "output_type": "stream",
          "name": "stdout",
          "text": [
            "Accuracy: 98.29%\n"
          ]
        }
      ],
      "source": [
        "#finding the accuracy of the mlp classifier\n",
        "accuracy_mlpC = accuracy_score(y_test_NN, mlp_pred)\n",
        "#priniting the result\n",
        "print(f'Accuracy: {accuracy_mlpC:.2%}')"
      ]
    },
    {
      "cell_type": "code",
      "execution_count": 70,
      "metadata": {
        "colab": {
          "base_uri": "https://localhost:8080/"
        },
        "id": "Nr7M4eU0NJPl",
        "outputId": "eaf0b5dc-81e5-4c20-cae0-f105e65b3922"
      },
      "outputs": [
        {
          "output_type": "stream",
          "name": "stdout",
          "text": [
            "(17879, 20)\n"
          ]
        }
      ],
      "source": [
        "#printing the shape of the job_data\n",
        "print(job_data.shape)"
      ]
    },
    {
      "cell_type": "markdown",
      "source": [
        "~ We can see that there are total\n",
        "* 17879 rows\n",
        "* and 20 columns"
      ],
      "metadata": {
        "id": "y21pwRsS2OUc"
      }
    },
    {
      "cell_type": "code",
      "execution_count": 71,
      "metadata": {
        "colab": {
          "base_uri": "https://localhost:8080/"
        },
        "id": "Z23s6PLRNMR5",
        "outputId": "2adc3bde-a841-421e-b9f8-bbc001fdc807"
      },
      "outputs": [
        {
          "output_type": "stream",
          "name": "stdout",
          "text": [
            "(17879, 9000)\n"
          ]
        }
      ],
      "source": [
        "print(job_text_x.shape)"
      ]
    },
    {
      "cell_type": "markdown",
      "metadata": {
        "id": "1Y9fumrT2R-1"
      },
      "source": [
        "#### Implementing search query by finding the cosine similarity"
      ]
    },
    {
      "cell_type": "code",
      "execution_count": 72,
      "metadata": {
        "colab": {
          "base_uri": "https://localhost:8080/"
        },
        "id": "x-ORfpzWO0uI",
        "outputId": "11a02159-feb2-46e0-bb69-36aa4bca7731"
      },
      "outputs": [
        {
          "output_type": "stream",
          "name": "stdout",
          "text": [
            "job_id                     0\n",
            "title                      0\n",
            "location                 346\n",
            "department             11552\n",
            "salary_range           15011\n",
            "company_profile         3307\n",
            "description                0\n",
            "requirements            2694\n",
            "benefits                7209\n",
            "telecommuting              0\n",
            "has_company_logo           0\n",
            "has_questions              0\n",
            "employment_type         3470\n",
            "required_experience     7049\n",
            "required_education      8104\n",
            "industry                4902\n",
            "function                6454\n",
            "fraudulent                 0\n",
            "country                  346\n",
            "job_text_info              0\n",
            "dtype: int64\n"
          ]
        }
      ],
      "source": [
        "# Count occurrences of \" \" for each column\n",
        "empty_string_values_per_column = (job_data == \" \").sum()\n",
        "\n",
        "# Display the result\n",
        "print(empty_string_values_per_column)"
      ]
    },
    {
      "cell_type": "code",
      "source": [
        "#importing the required modules\n",
        "from sklearn.metrics.pairwise import cosine_similarity\n",
        "import string"
      ],
      "metadata": {
        "id": "3ij7y8WUbINI"
      },
      "execution_count": 73,
      "outputs": []
    },
    {
      "cell_type": "code",
      "execution_count": 74,
      "metadata": {
        "id": "od-9ZeClNnet"
      },
      "outputs": [],
      "source": [
        "#definig the method\n",
        "def search_for_jobs(job_query, data, vectorizer, job_data):\n",
        "\n",
        "    #processing the queries\n",
        "    job_query = job_query.lower()\n",
        "    job_query = job_query.translate(str.maketrans('', '', string.punctuation))\n",
        "    job_query = word_tokenize(job_query)\n",
        "    job_query = [word for word in job_query if word not in stop_words]\n",
        "    job_query = [lemmatizer.lemmatize(word) for word in job_query]\n",
        "    job_query = ' '.join(job_query)\n",
        "\n",
        "    #creating the vector for the job query\n",
        "    job_query_vector = vectorizer.transform([job_query])\n",
        "\n",
        "    #computing the similarities between job vector and the description\n",
        "    similarities_job = cosine_similarity(job_query_vector, data)\n",
        "\n",
        "    # Get indices of jobs sorted by similarity (descending order)\n",
        "    indices_job = similarities_job.argsort()[0][::-1]\n",
        "    indices_job = indices_job[:20]\n",
        "    selected_job_rows = job_data.loc[indices_job]\n",
        "\n",
        "    # Return the indices of relevant jobs\n",
        "    return selected_job_rows\n"
      ]
    },
    {
      "cell_type": "code",
      "source": [
        "# Example usage\n",
        "user_query = \"interested in finance\"\n",
        "result_indices = search_for_jobs(user_query, job_text_x, vectorizer, job_data)\n",
        "\n",
        "# Display the indices\n",
        "result_indices\n"
      ],
      "metadata": {
        "colab": {
          "base_uri": "https://localhost:8080/",
          "height": 1000
        },
        "id": "WsBrwCcncUgh",
        "outputId": "a581e724-9d5c-463a-99b8-92c84047e595"
      },
      "execution_count": 75,
      "outputs": [
        {
          "output_type": "execute_result",
          "data": {
            "text/plain": [
              "       job_id                                             title  \\\n",
              "17719   17720                              CUSTOMER SERVICE REP   \n",
              "7830     7831                        Position Finance Assistant   \n",
              "12721   12722             Finance Analyst (Fixed term contract)   \n",
              "7642     7643                      Banking and Finance Attorney   \n",
              "4237     4238     Senior Associate Corporate Finance & Planning   \n",
              "4671     4672    Assistant Manager Corporate Finance & Planning   \n",
              "1448     1449                                   Finance Manager   \n",
              "9618     9619                    Finance and Accounting Analyst   \n",
              "14947   14948                       Freelance Writer -- Finance   \n",
              "8504     8505                                          Attorney   \n",
              "2091     2092                                          Attorney   \n",
              "7695     7696                                          Attorney   \n",
              "7097     7098                                          Attorney   \n",
              "7366     7367                                          Attorney   \n",
              "7197     7198                                          Attorney   \n",
              "12461   12462                               Executive Assistant   \n",
              "11906   11907                               Front End Developer   \n",
              "927       928  Sub-prime Automotive Finance Analyst/Underwriter   \n",
              "17483   17484  Sub-prime Automotive Finance Analyst/Underwriter   \n",
              "1156     1157                                 Finance Assistant   \n",
              "\n",
              "                     location  department salary_range  \\\n",
              "17719          US, TX, DALLAS                            \n",
              "7830       AU, VIC, Melbourne              25000-30000   \n",
              "12721     GB, LND, Shoreditch     Finance                \n",
              "7642        US, NC, Charlotte       Legal                \n",
              "4237        PK, IS, Islamabad     Finance                \n",
              "4671        PK, IS, Islamabad                            \n",
              "1448          GB, LND, London    Accounts  22000-30000   \n",
              "9618        BR, SP, São Paulo                            \n",
              "14947                  US, ,      Content                \n",
              "8504        US, NV, Las Vegas                            \n",
              "2091   US, VA, Virginia Beach                            \n",
              "7695   US, VA, Virginia Beach                            \n",
              "7097        US, NV, Las Vegas                            \n",
              "7366   US, VA, Virginia Beach                            \n",
              "7197   US, VA, Virginia Beach                            \n",
              "12461            GB, , London                            \n",
              "11906         GB, GBN, London  Technology  41000-50000   \n",
              "927         US, NV, Las Vegas                            \n",
              "17483       US, NV, Las Vegas                            \n",
              "1156          AU, NSW, Sydney     finance                \n",
              "\n",
              "                                         company_profile  \\\n",
              "17719                                                      \n",
              "7830                                                       \n",
              "12721  ustwo offers you the opportunity to be yoursel...   \n",
              "7642                                                       \n",
              "4237                                                       \n",
              "4671                                                       \n",
              "1448   Wedo is a collection of niched e-commerce stor...   \n",
              "9618   Nubank is an early stage, technology-driven fi...   \n",
              "14947  ConsumerTrack is a technology-centric internet...   \n",
              "8504   Tidewater Finance Co. was established in 1992 ...   \n",
              "2091   Tidewater Finance Co. was established in 1992 ...   \n",
              "7695   Tidewater Finance Co. was established in 1992 ...   \n",
              "7097   Tidewater Finance Co. was established in 1992 ...   \n",
              "7366   Tidewater Finance Co. was established in 1992 ...   \n",
              "7197   Tidewater Finance Co. was established in 1992 ...   \n",
              "12461  At LendInvest fundamentally changing the way p...   \n",
              "11906  MarketInvoice is one of the most high-profile ...   \n",
              "927    Tidewater Finance Co. was established in 1992 ...   \n",
              "17483  Tidewater Finance Co. was established in 1992 ...   \n",
              "1156                                                       \n",
              "\n",
              "                                             description  \\\n",
              "17719  DescriptionJob Title: Customer Service Represe...   \n",
              "7830   We have positions available for confident, out...   \n",
              "12721  Ustwo London are looking for an experienced Fi...   \n",
              "7642   Special Counsel’s Charlotte office is searchin...   \n",
              "4237   Position Title: Senior Associate Corporate Fin...   \n",
              "4671   Position Title: Assistant Manager Corporate Fi...   \n",
              "1448   About us:Wedo is a curated collection of niche...   \n",
              "9618   Why is the Finance &amp; Accounting Analyst po...   \n",
              "14947  Have you written extensively on finance or per...   \n",
              "8504   Tidewater Finance Company, an industry leader ...   \n",
              "2091   Tidewater Finance Company, an industry leader ...   \n",
              "7695   Tidewater Finance Company, an industry leader ...   \n",
              "7097   Tidewater Finance Company, an industry leader ...   \n",
              "7366   Tidewater Finance Company, an industry leader ...   \n",
              "7197   Tidewater Finance Company, an industry leader ...   \n",
              "12461  LendInvest is looking for an administrative as...   \n",
              "11906  We’re hoping to meet a talented and curious fr...   \n",
              "927    West Coast Service Center Sub-prime Automotive...   \n",
              "17483  West Coast Service Center Sub-prime Automotive...   \n",
              "1156   Our Company has a new position available for a...   \n",
              "\n",
              "                                            requirements  \\\n",
              "17719                                HIGH SCHOOL DIPLOMA   \n",
              "7830   Personal attributes would include: • Intermedi...   \n",
              "12721  Technical requirements/skillsBring numbers to ...   \n",
              "7642                                                       \n",
              "4237   Essential Requirements:-- Experience in IPP (I...   \n",
              "4671   Essential Requirements (by Career Pakistan): S...   \n",
              "1448   Qualifications:Currently studying towards AAT,...   \n",
              "9618   This kind of experience/background is relevant...   \n",
              "14947  Previous freelance writing experience (samples...   \n",
              "8504    Required Education, Experience and SkillsBach...   \n",
              "2091   Required Education, Experience and SkillsBache...   \n",
              "7695   Required Education, Experience and SkillsBache...   \n",
              "7097   Required Education, Experience and SkillsBache...   \n",
              "7366   Required Education, Experience and SkillsBache...   \n",
              "7197   Required Education, Experience and SkillsBache...   \n",
              "12461  Well presented, courteous and friendly attitud...   \n",
              "11906  An enthusiastic hacker, skilled in using HTML5...   \n",
              "927    The job requirements for this position include...   \n",
              "17483   The job requirements for this position includ...   \n",
              "1156   Coinciding with your previous background as a ...   \n",
              "\n",
              "                                                benefits  telecommuting  \\\n",
              "17719  HEALTH,DENTAL INSURANCE , 401K , STOCK PLAN FO...              0   \n",
              "7830   Benefits include: · Base wage of $450 per week...              0   \n",
              "12721  Above anything we are people centred company t...              0   \n",
              "7642                                                                  0   \n",
              "4237                                                                  0   \n",
              "4671                                                                  0   \n",
              "1448   Salary: £22,000- 30,000 p/a depending on exper...              0   \n",
              "9618   Competitive compensation packageHealth, dental...              0   \n",
              "14947                                                                 1   \n",
              "8504   Our company offers a competitive salary plus B...              0   \n",
              "2091   Our company offers a competitive salary plus B...              0   \n",
              "7695   Our company offers a competitive salary plus B...              0   \n",
              "7097   Our company offers a competitive salary plus B...              0   \n",
              "7366   Our company offers a competitive salary plus B...              0   \n",
              "7197   Our company offers a competitive salary plus B...              0   \n",
              "12461  Lots of new projects to get involved inFully s...              0   \n",
              "11906  Competitive Salary Healthcare cover and other ...              0   \n",
              "927     We offer a competitive salary and a comprehen...              0   \n",
              "17483  Our company offers a competitive salary plus B...              0   \n",
              "1156                                                                  0   \n",
              "\n",
              "       has_company_logo  has_questions employment_type required_experience  \\\n",
              "17719                 0              0       Full-time           Associate   \n",
              "7830                  0              0       Part-time                       \n",
              "12721                 1              0        Contract    Mid-Senior level   \n",
              "7642                  1              1                                       \n",
              "4237                  0              1                                       \n",
              "4671                  0              1                                       \n",
              "1448                  1              1       Full-time    Mid-Senior level   \n",
              "9618                  1              1       Full-time                       \n",
              "14947                 1              1                                       \n",
              "8504                  1              1       Full-time    Mid-Senior level   \n",
              "2091                  1              0       Full-time    Mid-Senior level   \n",
              "7695                  1              1       Full-time    Mid-Senior level   \n",
              "7097                  1              1       Full-time    Mid-Senior level   \n",
              "7366                  1              1       Full-time    Mid-Senior level   \n",
              "7197                  1              1       Full-time    Mid-Senior level   \n",
              "12461                 1              0       Full-time         Entry level   \n",
              "11906                 1              1       Full-time           Associate   \n",
              "927                   1              1       Full-time           Associate   \n",
              "17483                 1              1       Full-time    Mid-Senior level   \n",
              "1156                  0              0                                       \n",
              "\n",
              "              required_education            industry                function  \\\n",
              "17719  High School or equivalent   Consumer Services        Customer Service   \n",
              "7830                                         Banking                 Finance   \n",
              "12721                                                                Finance   \n",
              "7642                                                                           \n",
              "4237                                                                           \n",
              "4671                                                                           \n",
              "1448           Bachelor's Degree            Internet                 Finance   \n",
              "9618                              Financial Services                           \n",
              "14947                                                                          \n",
              "8504           Bachelor's Degree  Financial Services                   Legal   \n",
              "2091           Bachelor's Degree  Financial Services                   Legal   \n",
              "7695           Bachelor's Degree  Financial Services                   Legal   \n",
              "7097           Bachelor's Degree  Financial Services                   Legal   \n",
              "7366           Bachelor's Degree  Financial Services                   Legal   \n",
              "7197           Bachelor's Degree  Financial Services                   Legal   \n",
              "12461                             Financial Services          Administrative   \n",
              "11906                Unspecified  Financial Services  Information Technology   \n",
              "927                  Unspecified  Financial Services                 Finance   \n",
              "17483                Unspecified  Financial Services       Financial Analyst   \n",
              "1156                                                                           \n",
              "\n",
              "       fraudulent country                                      job_text_info  \n",
              "17719           1      US  customer service rep descriptionjob title cust...  \n",
              "7830            1      AU  position finance assistant position available ...  \n",
              "12721           0      GB  finance analyst fixed term contract ustwo lond...  \n",
              "7642            0      US  banking finance attorney special counsel ’ cha...  \n",
              "4237            0      PK  senior associate corporate finance planning po...  \n",
              "4671            0      PK  assistant manager corporate finance planning p...  \n",
              "1448            0      GB  finance manager uswedo curated collection nich...  \n",
              "9618            0      BR  finance accounting analyst finance amp account...  \n",
              "14947           0      US  freelance writer finance written extensively f...  \n",
              "8504            0      US  attorney tidewater finance company industry le...  \n",
              "2091            0      US  attorney tidewater finance company industry le...  \n",
              "7695            0      US  attorney tidewater finance company industry le...  \n",
              "7097            0      US  attorney tidewater finance company industry le...  \n",
              "7366            0      US  attorney tidewater finance company industry le...  \n",
              "7197            0      US  attorney tidewater finance company industry le...  \n",
              "12461           0      GB  executive assistant lendinvest looking adminis...  \n",
              "11906           0      GB  front end developer ’ hoping meet talented cur...  \n",
              "927             0      US  subprime automotive finance analystunderwriter...  \n",
              "17483           0      US  subprime automotive finance analystunderwriter...  \n",
              "1156            0      AU  finance assistant company new position availab...  "
            ],
            "text/html": [
              "\n",
              "  <div id=\"df-d8f5c5fc-86b9-4cdd-b5ca-d211bafbcdc7\" class=\"colab-df-container\">\n",
              "    <div>\n",
              "<style scoped>\n",
              "    .dataframe tbody tr th:only-of-type {\n",
              "        vertical-align: middle;\n",
              "    }\n",
              "\n",
              "    .dataframe tbody tr th {\n",
              "        vertical-align: top;\n",
              "    }\n",
              "\n",
              "    .dataframe thead th {\n",
              "        text-align: right;\n",
              "    }\n",
              "</style>\n",
              "<table border=\"1\" class=\"dataframe\">\n",
              "  <thead>\n",
              "    <tr style=\"text-align: right;\">\n",
              "      <th></th>\n",
              "      <th>job_id</th>\n",
              "      <th>title</th>\n",
              "      <th>location</th>\n",
              "      <th>department</th>\n",
              "      <th>salary_range</th>\n",
              "      <th>company_profile</th>\n",
              "      <th>description</th>\n",
              "      <th>requirements</th>\n",
              "      <th>benefits</th>\n",
              "      <th>telecommuting</th>\n",
              "      <th>has_company_logo</th>\n",
              "      <th>has_questions</th>\n",
              "      <th>employment_type</th>\n",
              "      <th>required_experience</th>\n",
              "      <th>required_education</th>\n",
              "      <th>industry</th>\n",
              "      <th>function</th>\n",
              "      <th>fraudulent</th>\n",
              "      <th>country</th>\n",
              "      <th>job_text_info</th>\n",
              "    </tr>\n",
              "  </thead>\n",
              "  <tbody>\n",
              "    <tr>\n",
              "      <th>17719</th>\n",
              "      <td>17720</td>\n",
              "      <td>CUSTOMER SERVICE REP</td>\n",
              "      <td>US, TX, DALLAS</td>\n",
              "      <td></td>\n",
              "      <td></td>\n",
              "      <td></td>\n",
              "      <td>DescriptionJob Title: Customer Service Represe...</td>\n",
              "      <td>HIGH SCHOOL DIPLOMA</td>\n",
              "      <td>HEALTH,DENTAL INSURANCE , 401K , STOCK PLAN FO...</td>\n",
              "      <td>0</td>\n",
              "      <td>0</td>\n",
              "      <td>0</td>\n",
              "      <td>Full-time</td>\n",
              "      <td>Associate</td>\n",
              "      <td>High School or equivalent</td>\n",
              "      <td>Consumer Services</td>\n",
              "      <td>Customer Service</td>\n",
              "      <td>1</td>\n",
              "      <td>US</td>\n",
              "      <td>customer service rep descriptionjob title cust...</td>\n",
              "    </tr>\n",
              "    <tr>\n",
              "      <th>7830</th>\n",
              "      <td>7831</td>\n",
              "      <td>Position Finance Assistant</td>\n",
              "      <td>AU, VIC, Melbourne</td>\n",
              "      <td></td>\n",
              "      <td>25000-30000</td>\n",
              "      <td></td>\n",
              "      <td>We have positions available for confident, out...</td>\n",
              "      <td>Personal attributes would include: • Intermedi...</td>\n",
              "      <td>Benefits include: · Base wage of $450 per week...</td>\n",
              "      <td>0</td>\n",
              "      <td>0</td>\n",
              "      <td>0</td>\n",
              "      <td>Part-time</td>\n",
              "      <td></td>\n",
              "      <td></td>\n",
              "      <td>Banking</td>\n",
              "      <td>Finance</td>\n",
              "      <td>1</td>\n",
              "      <td>AU</td>\n",
              "      <td>position finance assistant position available ...</td>\n",
              "    </tr>\n",
              "    <tr>\n",
              "      <th>12721</th>\n",
              "      <td>12722</td>\n",
              "      <td>Finance Analyst (Fixed term contract)</td>\n",
              "      <td>GB, LND, Shoreditch</td>\n",
              "      <td>Finance</td>\n",
              "      <td></td>\n",
              "      <td>ustwo offers you the opportunity to be yoursel...</td>\n",
              "      <td>Ustwo London are looking for an experienced Fi...</td>\n",
              "      <td>Technical requirements/skillsBring numbers to ...</td>\n",
              "      <td>Above anything we are people centred company t...</td>\n",
              "      <td>0</td>\n",
              "      <td>1</td>\n",
              "      <td>0</td>\n",
              "      <td>Contract</td>\n",
              "      <td>Mid-Senior level</td>\n",
              "      <td></td>\n",
              "      <td></td>\n",
              "      <td>Finance</td>\n",
              "      <td>0</td>\n",
              "      <td>GB</td>\n",
              "      <td>finance analyst fixed term contract ustwo lond...</td>\n",
              "    </tr>\n",
              "    <tr>\n",
              "      <th>7642</th>\n",
              "      <td>7643</td>\n",
              "      <td>Banking and Finance Attorney</td>\n",
              "      <td>US, NC, Charlotte</td>\n",
              "      <td>Legal</td>\n",
              "      <td></td>\n",
              "      <td></td>\n",
              "      <td>Special Counsel’s Charlotte office is searchin...</td>\n",
              "      <td></td>\n",
              "      <td></td>\n",
              "      <td>0</td>\n",
              "      <td>1</td>\n",
              "      <td>1</td>\n",
              "      <td></td>\n",
              "      <td></td>\n",
              "      <td></td>\n",
              "      <td></td>\n",
              "      <td></td>\n",
              "      <td>0</td>\n",
              "      <td>US</td>\n",
              "      <td>banking finance attorney special counsel ’ cha...</td>\n",
              "    </tr>\n",
              "    <tr>\n",
              "      <th>4237</th>\n",
              "      <td>4238</td>\n",
              "      <td>Senior Associate Corporate Finance &amp; Planning</td>\n",
              "      <td>PK, IS, Islamabad</td>\n",
              "      <td>Finance</td>\n",
              "      <td></td>\n",
              "      <td></td>\n",
              "      <td>Position Title: Senior Associate Corporate Fin...</td>\n",
              "      <td>Essential Requirements:-- Experience in IPP (I...</td>\n",
              "      <td></td>\n",
              "      <td>0</td>\n",
              "      <td>0</td>\n",
              "      <td>1</td>\n",
              "      <td></td>\n",
              "      <td></td>\n",
              "      <td></td>\n",
              "      <td></td>\n",
              "      <td></td>\n",
              "      <td>0</td>\n",
              "      <td>PK</td>\n",
              "      <td>senior associate corporate finance planning po...</td>\n",
              "    </tr>\n",
              "    <tr>\n",
              "      <th>4671</th>\n",
              "      <td>4672</td>\n",
              "      <td>Assistant Manager Corporate Finance &amp; Planning</td>\n",
              "      <td>PK, IS, Islamabad</td>\n",
              "      <td></td>\n",
              "      <td></td>\n",
              "      <td></td>\n",
              "      <td>Position Title: Assistant Manager Corporate Fi...</td>\n",
              "      <td>Essential Requirements (by Career Pakistan): S...</td>\n",
              "      <td></td>\n",
              "      <td>0</td>\n",
              "      <td>0</td>\n",
              "      <td>1</td>\n",
              "      <td></td>\n",
              "      <td></td>\n",
              "      <td></td>\n",
              "      <td></td>\n",
              "      <td></td>\n",
              "      <td>0</td>\n",
              "      <td>PK</td>\n",
              "      <td>assistant manager corporate finance planning p...</td>\n",
              "    </tr>\n",
              "    <tr>\n",
              "      <th>1448</th>\n",
              "      <td>1449</td>\n",
              "      <td>Finance Manager</td>\n",
              "      <td>GB, LND, London</td>\n",
              "      <td>Accounts</td>\n",
              "      <td>22000-30000</td>\n",
              "      <td>Wedo is a collection of niched e-commerce stor...</td>\n",
              "      <td>About us:Wedo is a curated collection of niche...</td>\n",
              "      <td>Qualifications:Currently studying towards AAT,...</td>\n",
              "      <td>Salary: £22,000- 30,000 p/a depending on exper...</td>\n",
              "      <td>0</td>\n",
              "      <td>1</td>\n",
              "      <td>1</td>\n",
              "      <td>Full-time</td>\n",
              "      <td>Mid-Senior level</td>\n",
              "      <td>Bachelor's Degree</td>\n",
              "      <td>Internet</td>\n",
              "      <td>Finance</td>\n",
              "      <td>0</td>\n",
              "      <td>GB</td>\n",
              "      <td>finance manager uswedo curated collection nich...</td>\n",
              "    </tr>\n",
              "    <tr>\n",
              "      <th>9618</th>\n",
              "      <td>9619</td>\n",
              "      <td>Finance and Accounting Analyst</td>\n",
              "      <td>BR, SP, São Paulo</td>\n",
              "      <td></td>\n",
              "      <td></td>\n",
              "      <td>Nubank is an early stage, technology-driven fi...</td>\n",
              "      <td>Why is the Finance &amp;amp; Accounting Analyst po...</td>\n",
              "      <td>This kind of experience/background is relevant...</td>\n",
              "      <td>Competitive compensation packageHealth, dental...</td>\n",
              "      <td>0</td>\n",
              "      <td>1</td>\n",
              "      <td>1</td>\n",
              "      <td>Full-time</td>\n",
              "      <td></td>\n",
              "      <td></td>\n",
              "      <td>Financial Services</td>\n",
              "      <td></td>\n",
              "      <td>0</td>\n",
              "      <td>BR</td>\n",
              "      <td>finance accounting analyst finance amp account...</td>\n",
              "    </tr>\n",
              "    <tr>\n",
              "      <th>14947</th>\n",
              "      <td>14948</td>\n",
              "      <td>Freelance Writer -- Finance</td>\n",
              "      <td>US, ,</td>\n",
              "      <td>Content</td>\n",
              "      <td></td>\n",
              "      <td>ConsumerTrack is a technology-centric internet...</td>\n",
              "      <td>Have you written extensively on finance or per...</td>\n",
              "      <td>Previous freelance writing experience (samples...</td>\n",
              "      <td></td>\n",
              "      <td>1</td>\n",
              "      <td>1</td>\n",
              "      <td>1</td>\n",
              "      <td></td>\n",
              "      <td></td>\n",
              "      <td></td>\n",
              "      <td></td>\n",
              "      <td></td>\n",
              "      <td>0</td>\n",
              "      <td>US</td>\n",
              "      <td>freelance writer finance written extensively f...</td>\n",
              "    </tr>\n",
              "    <tr>\n",
              "      <th>8504</th>\n",
              "      <td>8505</td>\n",
              "      <td>Attorney</td>\n",
              "      <td>US, NV, Las Vegas</td>\n",
              "      <td></td>\n",
              "      <td></td>\n",
              "      <td>Tidewater Finance Co. was established in 1992 ...</td>\n",
              "      <td>Tidewater Finance Company, an industry leader ...</td>\n",
              "      <td>Required Education, Experience and SkillsBach...</td>\n",
              "      <td>Our company offers a competitive salary plus B...</td>\n",
              "      <td>0</td>\n",
              "      <td>1</td>\n",
              "      <td>1</td>\n",
              "      <td>Full-time</td>\n",
              "      <td>Mid-Senior level</td>\n",
              "      <td>Bachelor's Degree</td>\n",
              "      <td>Financial Services</td>\n",
              "      <td>Legal</td>\n",
              "      <td>0</td>\n",
              "      <td>US</td>\n",
              "      <td>attorney tidewater finance company industry le...</td>\n",
              "    </tr>\n",
              "    <tr>\n",
              "      <th>2091</th>\n",
              "      <td>2092</td>\n",
              "      <td>Attorney</td>\n",
              "      <td>US, VA, Virginia Beach</td>\n",
              "      <td></td>\n",
              "      <td></td>\n",
              "      <td>Tidewater Finance Co. was established in 1992 ...</td>\n",
              "      <td>Tidewater Finance Company, an industry leader ...</td>\n",
              "      <td>Required Education, Experience and SkillsBache...</td>\n",
              "      <td>Our company offers a competitive salary plus B...</td>\n",
              "      <td>0</td>\n",
              "      <td>1</td>\n",
              "      <td>0</td>\n",
              "      <td>Full-time</td>\n",
              "      <td>Mid-Senior level</td>\n",
              "      <td>Bachelor's Degree</td>\n",
              "      <td>Financial Services</td>\n",
              "      <td>Legal</td>\n",
              "      <td>0</td>\n",
              "      <td>US</td>\n",
              "      <td>attorney tidewater finance company industry le...</td>\n",
              "    </tr>\n",
              "    <tr>\n",
              "      <th>7695</th>\n",
              "      <td>7696</td>\n",
              "      <td>Attorney</td>\n",
              "      <td>US, VA, Virginia Beach</td>\n",
              "      <td></td>\n",
              "      <td></td>\n",
              "      <td>Tidewater Finance Co. was established in 1992 ...</td>\n",
              "      <td>Tidewater Finance Company, an industry leader ...</td>\n",
              "      <td>Required Education, Experience and SkillsBache...</td>\n",
              "      <td>Our company offers a competitive salary plus B...</td>\n",
              "      <td>0</td>\n",
              "      <td>1</td>\n",
              "      <td>1</td>\n",
              "      <td>Full-time</td>\n",
              "      <td>Mid-Senior level</td>\n",
              "      <td>Bachelor's Degree</td>\n",
              "      <td>Financial Services</td>\n",
              "      <td>Legal</td>\n",
              "      <td>0</td>\n",
              "      <td>US</td>\n",
              "      <td>attorney tidewater finance company industry le...</td>\n",
              "    </tr>\n",
              "    <tr>\n",
              "      <th>7097</th>\n",
              "      <td>7098</td>\n",
              "      <td>Attorney</td>\n",
              "      <td>US, NV, Las Vegas</td>\n",
              "      <td></td>\n",
              "      <td></td>\n",
              "      <td>Tidewater Finance Co. was established in 1992 ...</td>\n",
              "      <td>Tidewater Finance Company, an industry leader ...</td>\n",
              "      <td>Required Education, Experience and SkillsBache...</td>\n",
              "      <td>Our company offers a competitive salary plus B...</td>\n",
              "      <td>0</td>\n",
              "      <td>1</td>\n",
              "      <td>1</td>\n",
              "      <td>Full-time</td>\n",
              "      <td>Mid-Senior level</td>\n",
              "      <td>Bachelor's Degree</td>\n",
              "      <td>Financial Services</td>\n",
              "      <td>Legal</td>\n",
              "      <td>0</td>\n",
              "      <td>US</td>\n",
              "      <td>attorney tidewater finance company industry le...</td>\n",
              "    </tr>\n",
              "    <tr>\n",
              "      <th>7366</th>\n",
              "      <td>7367</td>\n",
              "      <td>Attorney</td>\n",
              "      <td>US, VA, Virginia Beach</td>\n",
              "      <td></td>\n",
              "      <td></td>\n",
              "      <td>Tidewater Finance Co. was established in 1992 ...</td>\n",
              "      <td>Tidewater Finance Company, an industry leader ...</td>\n",
              "      <td>Required Education, Experience and SkillsBache...</td>\n",
              "      <td>Our company offers a competitive salary plus B...</td>\n",
              "      <td>0</td>\n",
              "      <td>1</td>\n",
              "      <td>1</td>\n",
              "      <td>Full-time</td>\n",
              "      <td>Mid-Senior level</td>\n",
              "      <td>Bachelor's Degree</td>\n",
              "      <td>Financial Services</td>\n",
              "      <td>Legal</td>\n",
              "      <td>0</td>\n",
              "      <td>US</td>\n",
              "      <td>attorney tidewater finance company industry le...</td>\n",
              "    </tr>\n",
              "    <tr>\n",
              "      <th>7197</th>\n",
              "      <td>7198</td>\n",
              "      <td>Attorney</td>\n",
              "      <td>US, VA, Virginia Beach</td>\n",
              "      <td></td>\n",
              "      <td></td>\n",
              "      <td>Tidewater Finance Co. was established in 1992 ...</td>\n",
              "      <td>Tidewater Finance Company, an industry leader ...</td>\n",
              "      <td>Required Education, Experience and SkillsBache...</td>\n",
              "      <td>Our company offers a competitive salary plus B...</td>\n",
              "      <td>0</td>\n",
              "      <td>1</td>\n",
              "      <td>1</td>\n",
              "      <td>Full-time</td>\n",
              "      <td>Mid-Senior level</td>\n",
              "      <td>Bachelor's Degree</td>\n",
              "      <td>Financial Services</td>\n",
              "      <td>Legal</td>\n",
              "      <td>0</td>\n",
              "      <td>US</td>\n",
              "      <td>attorney tidewater finance company industry le...</td>\n",
              "    </tr>\n",
              "    <tr>\n",
              "      <th>12461</th>\n",
              "      <td>12462</td>\n",
              "      <td>Executive Assistant</td>\n",
              "      <td>GB, , London</td>\n",
              "      <td></td>\n",
              "      <td></td>\n",
              "      <td>At LendInvest fundamentally changing the way p...</td>\n",
              "      <td>LendInvest is looking for an administrative as...</td>\n",
              "      <td>Well presented, courteous and friendly attitud...</td>\n",
              "      <td>Lots of new projects to get involved inFully s...</td>\n",
              "      <td>0</td>\n",
              "      <td>1</td>\n",
              "      <td>0</td>\n",
              "      <td>Full-time</td>\n",
              "      <td>Entry level</td>\n",
              "      <td></td>\n",
              "      <td>Financial Services</td>\n",
              "      <td>Administrative</td>\n",
              "      <td>0</td>\n",
              "      <td>GB</td>\n",
              "      <td>executive assistant lendinvest looking adminis...</td>\n",
              "    </tr>\n",
              "    <tr>\n",
              "      <th>11906</th>\n",
              "      <td>11907</td>\n",
              "      <td>Front End Developer</td>\n",
              "      <td>GB, GBN, London</td>\n",
              "      <td>Technology</td>\n",
              "      <td>41000-50000</td>\n",
              "      <td>MarketInvoice is one of the most high-profile ...</td>\n",
              "      <td>We’re hoping to meet a talented and curious fr...</td>\n",
              "      <td>An enthusiastic hacker, skilled in using HTML5...</td>\n",
              "      <td>Competitive Salary Healthcare cover and other ...</td>\n",
              "      <td>0</td>\n",
              "      <td>1</td>\n",
              "      <td>1</td>\n",
              "      <td>Full-time</td>\n",
              "      <td>Associate</td>\n",
              "      <td>Unspecified</td>\n",
              "      <td>Financial Services</td>\n",
              "      <td>Information Technology</td>\n",
              "      <td>0</td>\n",
              "      <td>GB</td>\n",
              "      <td>front end developer ’ hoping meet talented cur...</td>\n",
              "    </tr>\n",
              "    <tr>\n",
              "      <th>927</th>\n",
              "      <td>928</td>\n",
              "      <td>Sub-prime Automotive Finance Analyst/Underwriter</td>\n",
              "      <td>US, NV, Las Vegas</td>\n",
              "      <td></td>\n",
              "      <td></td>\n",
              "      <td>Tidewater Finance Co. was established in 1992 ...</td>\n",
              "      <td>West Coast Service Center Sub-prime Automotive...</td>\n",
              "      <td>The job requirements for this position include...</td>\n",
              "      <td>We offer a competitive salary and a comprehen...</td>\n",
              "      <td>0</td>\n",
              "      <td>1</td>\n",
              "      <td>1</td>\n",
              "      <td>Full-time</td>\n",
              "      <td>Associate</td>\n",
              "      <td>Unspecified</td>\n",
              "      <td>Financial Services</td>\n",
              "      <td>Finance</td>\n",
              "      <td>0</td>\n",
              "      <td>US</td>\n",
              "      <td>subprime automotive finance analystunderwriter...</td>\n",
              "    </tr>\n",
              "    <tr>\n",
              "      <th>17483</th>\n",
              "      <td>17484</td>\n",
              "      <td>Sub-prime Automotive Finance Analyst/Underwriter</td>\n",
              "      <td>US, NV, Las Vegas</td>\n",
              "      <td></td>\n",
              "      <td></td>\n",
              "      <td>Tidewater Finance Co. was established in 1992 ...</td>\n",
              "      <td>West Coast Service Center Sub-prime Automotive...</td>\n",
              "      <td>The job requirements for this position includ...</td>\n",
              "      <td>Our company offers a competitive salary plus B...</td>\n",
              "      <td>0</td>\n",
              "      <td>1</td>\n",
              "      <td>1</td>\n",
              "      <td>Full-time</td>\n",
              "      <td>Mid-Senior level</td>\n",
              "      <td>Unspecified</td>\n",
              "      <td>Financial Services</td>\n",
              "      <td>Financial Analyst</td>\n",
              "      <td>0</td>\n",
              "      <td>US</td>\n",
              "      <td>subprime automotive finance analystunderwriter...</td>\n",
              "    </tr>\n",
              "    <tr>\n",
              "      <th>1156</th>\n",
              "      <td>1157</td>\n",
              "      <td>Finance Assistant</td>\n",
              "      <td>AU, NSW, Sydney</td>\n",
              "      <td>finance</td>\n",
              "      <td></td>\n",
              "      <td></td>\n",
              "      <td>Our Company has a new position available for a...</td>\n",
              "      <td>Coinciding with your previous background as a ...</td>\n",
              "      <td></td>\n",
              "      <td>0</td>\n",
              "      <td>0</td>\n",
              "      <td>0</td>\n",
              "      <td></td>\n",
              "      <td></td>\n",
              "      <td></td>\n",
              "      <td></td>\n",
              "      <td></td>\n",
              "      <td>0</td>\n",
              "      <td>AU</td>\n",
              "      <td>finance assistant company new position availab...</td>\n",
              "    </tr>\n",
              "  </tbody>\n",
              "</table>\n",
              "</div>\n",
              "    <div class=\"colab-df-buttons\">\n",
              "\n",
              "  <div class=\"colab-df-container\">\n",
              "    <button class=\"colab-df-convert\" onclick=\"convertToInteractive('df-d8f5c5fc-86b9-4cdd-b5ca-d211bafbcdc7')\"\n",
              "            title=\"Convert this dataframe to an interactive table.\"\n",
              "            style=\"display:none;\">\n",
              "\n",
              "  <svg xmlns=\"http://www.w3.org/2000/svg\" height=\"24px\" viewBox=\"0 -960 960 960\">\n",
              "    <path d=\"M120-120v-720h720v720H120Zm60-500h600v-160H180v160Zm220 220h160v-160H400v160Zm0 220h160v-160H400v160ZM180-400h160v-160H180v160Zm440 0h160v-160H620v160ZM180-180h160v-160H180v160Zm440 0h160v-160H620v160Z\"/>\n",
              "  </svg>\n",
              "    </button>\n",
              "\n",
              "  <style>\n",
              "    .colab-df-container {\n",
              "      display:flex;\n",
              "      gap: 12px;\n",
              "    }\n",
              "\n",
              "    .colab-df-convert {\n",
              "      background-color: #E8F0FE;\n",
              "      border: none;\n",
              "      border-radius: 50%;\n",
              "      cursor: pointer;\n",
              "      display: none;\n",
              "      fill: #1967D2;\n",
              "      height: 32px;\n",
              "      padding: 0 0 0 0;\n",
              "      width: 32px;\n",
              "    }\n",
              "\n",
              "    .colab-df-convert:hover {\n",
              "      background-color: #E2EBFA;\n",
              "      box-shadow: 0px 1px 2px rgba(60, 64, 67, 0.3), 0px 1px 3px 1px rgba(60, 64, 67, 0.15);\n",
              "      fill: #174EA6;\n",
              "    }\n",
              "\n",
              "    .colab-df-buttons div {\n",
              "      margin-bottom: 4px;\n",
              "    }\n",
              "\n",
              "    [theme=dark] .colab-df-convert {\n",
              "      background-color: #3B4455;\n",
              "      fill: #D2E3FC;\n",
              "    }\n",
              "\n",
              "    [theme=dark] .colab-df-convert:hover {\n",
              "      background-color: #434B5C;\n",
              "      box-shadow: 0px 1px 3px 1px rgba(0, 0, 0, 0.15);\n",
              "      filter: drop-shadow(0px 1px 2px rgba(0, 0, 0, 0.3));\n",
              "      fill: #FFFFFF;\n",
              "    }\n",
              "  </style>\n",
              "\n",
              "    <script>\n",
              "      const buttonEl =\n",
              "        document.querySelector('#df-d8f5c5fc-86b9-4cdd-b5ca-d211bafbcdc7 button.colab-df-convert');\n",
              "      buttonEl.style.display =\n",
              "        google.colab.kernel.accessAllowed ? 'block' : 'none';\n",
              "\n",
              "      async function convertToInteractive(key) {\n",
              "        const element = document.querySelector('#df-d8f5c5fc-86b9-4cdd-b5ca-d211bafbcdc7');\n",
              "        const dataTable =\n",
              "          await google.colab.kernel.invokeFunction('convertToInteractive',\n",
              "                                                    [key], {});\n",
              "        if (!dataTable) return;\n",
              "\n",
              "        const docLinkHtml = 'Like what you see? Visit the ' +\n",
              "          '<a target=\"_blank\" href=https://colab.research.google.com/notebooks/data_table.ipynb>data table notebook</a>'\n",
              "          + ' to learn more about interactive tables.';\n",
              "        element.innerHTML = '';\n",
              "        dataTable['output_type'] = 'display_data';\n",
              "        await google.colab.output.renderOutput(dataTable, element);\n",
              "        const docLink = document.createElement('div');\n",
              "        docLink.innerHTML = docLinkHtml;\n",
              "        element.appendChild(docLink);\n",
              "      }\n",
              "    </script>\n",
              "  </div>\n",
              "\n",
              "\n",
              "<div id=\"df-4800f7af-c890-4f5d-a9bd-6f23893f313a\">\n",
              "  <button class=\"colab-df-quickchart\" onclick=\"quickchart('df-4800f7af-c890-4f5d-a9bd-6f23893f313a')\"\n",
              "            title=\"Suggest charts\"\n",
              "            style=\"display:none;\">\n",
              "\n",
              "<svg xmlns=\"http://www.w3.org/2000/svg\" height=\"24px\"viewBox=\"0 0 24 24\"\n",
              "     width=\"24px\">\n",
              "    <g>\n",
              "        <path d=\"M19 3H5c-1.1 0-2 .9-2 2v14c0 1.1.9 2 2 2h14c1.1 0 2-.9 2-2V5c0-1.1-.9-2-2-2zM9 17H7v-7h2v7zm4 0h-2V7h2v10zm4 0h-2v-4h2v4z\"/>\n",
              "    </g>\n",
              "</svg>\n",
              "  </button>\n",
              "\n",
              "<style>\n",
              "  .colab-df-quickchart {\n",
              "      --bg-color: #E8F0FE;\n",
              "      --fill-color: #1967D2;\n",
              "      --hover-bg-color: #E2EBFA;\n",
              "      --hover-fill-color: #174EA6;\n",
              "      --disabled-fill-color: #AAA;\n",
              "      --disabled-bg-color: #DDD;\n",
              "  }\n",
              "\n",
              "  [theme=dark] .colab-df-quickchart {\n",
              "      --bg-color: #3B4455;\n",
              "      --fill-color: #D2E3FC;\n",
              "      --hover-bg-color: #434B5C;\n",
              "      --hover-fill-color: #FFFFFF;\n",
              "      --disabled-bg-color: #3B4455;\n",
              "      --disabled-fill-color: #666;\n",
              "  }\n",
              "\n",
              "  .colab-df-quickchart {\n",
              "    background-color: var(--bg-color);\n",
              "    border: none;\n",
              "    border-radius: 50%;\n",
              "    cursor: pointer;\n",
              "    display: none;\n",
              "    fill: var(--fill-color);\n",
              "    height: 32px;\n",
              "    padding: 0;\n",
              "    width: 32px;\n",
              "  }\n",
              "\n",
              "  .colab-df-quickchart:hover {\n",
              "    background-color: var(--hover-bg-color);\n",
              "    box-shadow: 0 1px 2px rgba(60, 64, 67, 0.3), 0 1px 3px 1px rgba(60, 64, 67, 0.15);\n",
              "    fill: var(--button-hover-fill-color);\n",
              "  }\n",
              "\n",
              "  .colab-df-quickchart-complete:disabled,\n",
              "  .colab-df-quickchart-complete:disabled:hover {\n",
              "    background-color: var(--disabled-bg-color);\n",
              "    fill: var(--disabled-fill-color);\n",
              "    box-shadow: none;\n",
              "  }\n",
              "\n",
              "  .colab-df-spinner {\n",
              "    border: 2px solid var(--fill-color);\n",
              "    border-color: transparent;\n",
              "    border-bottom-color: var(--fill-color);\n",
              "    animation:\n",
              "      spin 1s steps(1) infinite;\n",
              "  }\n",
              "\n",
              "  @keyframes spin {\n",
              "    0% {\n",
              "      border-color: transparent;\n",
              "      border-bottom-color: var(--fill-color);\n",
              "      border-left-color: var(--fill-color);\n",
              "    }\n",
              "    20% {\n",
              "      border-color: transparent;\n",
              "      border-left-color: var(--fill-color);\n",
              "      border-top-color: var(--fill-color);\n",
              "    }\n",
              "    30% {\n",
              "      border-color: transparent;\n",
              "      border-left-color: var(--fill-color);\n",
              "      border-top-color: var(--fill-color);\n",
              "      border-right-color: var(--fill-color);\n",
              "    }\n",
              "    40% {\n",
              "      border-color: transparent;\n",
              "      border-right-color: var(--fill-color);\n",
              "      border-top-color: var(--fill-color);\n",
              "    }\n",
              "    60% {\n",
              "      border-color: transparent;\n",
              "      border-right-color: var(--fill-color);\n",
              "    }\n",
              "    80% {\n",
              "      border-color: transparent;\n",
              "      border-right-color: var(--fill-color);\n",
              "      border-bottom-color: var(--fill-color);\n",
              "    }\n",
              "    90% {\n",
              "      border-color: transparent;\n",
              "      border-bottom-color: var(--fill-color);\n",
              "    }\n",
              "  }\n",
              "</style>\n",
              "\n",
              "  <script>\n",
              "    async function quickchart(key) {\n",
              "      const quickchartButtonEl =\n",
              "        document.querySelector('#' + key + ' button');\n",
              "      quickchartButtonEl.disabled = true;  // To prevent multiple clicks.\n",
              "      quickchartButtonEl.classList.add('colab-df-spinner');\n",
              "      try {\n",
              "        const charts = await google.colab.kernel.invokeFunction(\n",
              "            'suggestCharts', [key], {});\n",
              "      } catch (error) {\n",
              "        console.error('Error during call to suggestCharts:', error);\n",
              "      }\n",
              "      quickchartButtonEl.classList.remove('colab-df-spinner');\n",
              "      quickchartButtonEl.classList.add('colab-df-quickchart-complete');\n",
              "    }\n",
              "    (() => {\n",
              "      let quickchartButtonEl =\n",
              "        document.querySelector('#df-4800f7af-c890-4f5d-a9bd-6f23893f313a button');\n",
              "      quickchartButtonEl.style.display =\n",
              "        google.colab.kernel.accessAllowed ? 'block' : 'none';\n",
              "    })();\n",
              "  </script>\n",
              "</div>\n",
              "    </div>\n",
              "  </div>\n"
            ]
          },
          "metadata": {},
          "execution_count": 75
        }
      ]
    }
  ],
  "metadata": {
    "accelerator": "GPU",
    "colab": {
      "gpuType": "T4",
      "provenance": []
    },
    "kernelspec": {
      "display_name": "Python 3 (ipykernel)",
      "language": "python",
      "name": "python3"
    },
    "language_info": {
      "codemirror_mode": {
        "name": "ipython",
        "version": 3
      },
      "file_extension": ".py",
      "mimetype": "text/x-python",
      "name": "python",
      "nbconvert_exporter": "python",
      "pygments_lexer": "ipython3",
      "version": "3.11.3"
    }
  },
  "nbformat": 4,
  "nbformat_minor": 0
}